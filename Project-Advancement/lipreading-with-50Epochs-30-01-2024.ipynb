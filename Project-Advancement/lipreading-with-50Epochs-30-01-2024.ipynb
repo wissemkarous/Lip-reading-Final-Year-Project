{
 "cells": [
  {
   "cell_type": "markdown",
   "id": "bdd3502b",
   "metadata": {
    "papermill": {
     "duration": 0.012031,
     "end_time": "2024-01-31T04:33:29.018501",
     "exception": false,
     "start_time": "2024-01-31T04:33:29.006470",
     "status": "completed"
    },
    "tags": []
   },
   "source": [
    "بسم الله "
   ]
  },
  {
   "cell_type": "markdown",
   "id": "b4a2e388",
   "metadata": {
    "papermill": {
     "duration": 0.010828,
     "end_time": "2024-01-31T04:33:29.040160",
     "exception": false,
     "start_time": "2024-01-31T04:33:29.029332",
     "status": "completed"
    },
    "tags": []
   },
   "source": [
    "** Importing liberies and frameworks **"
   ]
  },
  {
   "cell_type": "code",
   "execution_count": 1,
   "id": "f9be22ea",
   "metadata": {
    "execution": {
     "iopub.execute_input": "2024-01-31T04:33:29.062978Z",
     "iopub.status.busy": "2024-01-31T04:33:29.062604Z",
     "iopub.status.idle": "2024-01-31T04:33:42.252617Z",
     "shell.execute_reply": "2024-01-31T04:33:42.251696Z"
    },
    "papermill": {
     "duration": 13.204434,
     "end_time": "2024-01-31T04:33:42.255301",
     "exception": false,
     "start_time": "2024-01-31T04:33:29.050867",
     "status": "completed"
    },
    "tags": []
   },
   "outputs": [
    {
     "name": "stderr",
     "output_type": "stream",
     "text": [
      "/opt/conda/lib/python3.10/site-packages/scipy/__init__.py:146: UserWarning: A NumPy version >=1.16.5 and <1.23.0 is required for this version of SciPy (detected version 1.24.3\n",
      "  warnings.warn(f\"A NumPy version >={np_minversion} and <{np_maxversion}\"\n"
     ]
    }
   ],
   "source": [
    "import os\n",
    "import cv2\n",
    "import tensorflow as tf\n",
    "import numpy as np\n",
    "from typing import List\n",
    "from matplotlib import pyplot as plt\n",
    "import imageio"
   ]
  },
  {
   "cell_type": "markdown",
   "id": "fd0f337e",
   "metadata": {
    "papermill": {
     "duration": 0.011858,
     "end_time": "2024-01-31T04:33:42.279841",
     "exception": false,
     "start_time": "2024-01-31T04:33:42.267983",
     "status": "completed"
    },
    "tags": []
   },
   "source": [
    "**Load videos and Preprocessing : ** defines a function load_video that takes a path to a video file as input and returns a preprocessed version of the video frames as a list of TensorFlow tensors lets eplain this with a simple graphe *"
   ]
  },
  {
   "cell_type": "markdown",
   "id": "5cbc1c4f",
   "metadata": {
    "papermill": {
     "duration": 0.011867,
     "end_time": "2024-01-31T04:33:42.303667",
     "exception": false,
     "start_time": "2024-01-31T04:33:42.291800",
     "status": "completed"
    },
    "tags": []
   },
   "source": [
    "Test the function (LOad_video)"
   ]
  },
  {
   "cell_type": "code",
   "execution_count": 2,
   "id": "52241d1a",
   "metadata": {
    "execution": {
     "iopub.execute_input": "2024-01-31T04:33:42.328283Z",
     "iopub.status.busy": "2024-01-31T04:33:42.327397Z",
     "iopub.status.idle": "2024-01-31T04:33:42.334923Z",
     "shell.execute_reply": "2024-01-31T04:33:42.334018Z"
    },
    "papermill": {
     "duration": 0.021966,
     "end_time": "2024-01-31T04:33:42.337012",
     "exception": false,
     "start_time": "2024-01-31T04:33:42.315046",
     "status": "completed"
    },
    "tags": []
   },
   "outputs": [],
   "source": [
    "def load_video(path:str) -> List[float]:\n",
    "    cap=cv2.VideoCapture(path)\n",
    "    frames=[]\n",
    "    for _ in range(int(cap.get(cv2.CAP_PROP_FRAME_COUNT))):\n",
    "        ret, frame = cap.read()\n",
    "        frame=tf.image.rgb_to_grayscale(frame)\n",
    "        frames.append(frame[190:236,80:220,:])\n",
    "    cap.release()\n",
    "    \n",
    "    mean=tf.math.reduce_mean(frames)\n",
    "    std=tf.math.reduce_std(tf.cast(frames,tf.float32))\n",
    "    return tf.cast((frames-mean),tf.float32)/std"
   ]
  },
  {
   "cell_type": "code",
   "execution_count": 3,
   "id": "9e38f99d",
   "metadata": {
    "execution": {
     "iopub.execute_input": "2024-01-31T04:33:42.361087Z",
     "iopub.status.busy": "2024-01-31T04:33:42.360360Z",
     "iopub.status.idle": "2024-01-31T04:33:44.653926Z",
     "shell.execute_reply": "2024-01-31T04:33:44.652910Z"
    },
    "papermill": {
     "duration": 2.307883,
     "end_time": "2024-01-31T04:33:44.656192",
     "exception": false,
     "start_time": "2024-01-31T04:33:42.348309",
     "status": "completed"
    },
    "tags": []
   },
   "outputs": [
    {
     "data": {
      "text/plain": [
       "<tf.Tensor: shape=(75, 46, 140, 1), dtype=float32, numpy=\n",
       "array([[[[1.4991664 ],\n",
       "         [1.4991664 ],\n",
       "         [1.4616872 ],\n",
       "         ...,\n",
       "         [0.41227075],\n",
       "         [0.41227075],\n",
       "         [0.41227075]],\n",
       "\n",
       "        [[1.4991664 ],\n",
       "         [1.4991664 ],\n",
       "         [1.4616872 ],\n",
       "         ...,\n",
       "         [0.41227075],\n",
       "         [0.41227075],\n",
       "         [0.41227075]],\n",
       "\n",
       "        [[1.4616872 ],\n",
       "         [1.4616872 ],\n",
       "         [1.4991664 ],\n",
       "         ...,\n",
       "         [0.33731243],\n",
       "         [0.33731243],\n",
       "         [0.33731243]],\n",
       "\n",
       "        ...,\n",
       "\n",
       "        [[1.0494164 ],\n",
       "         [1.0494164 ],\n",
       "         [1.0119373 ],\n",
       "         ...,\n",
       "         [0.11243747],\n",
       "         [0.11243747],\n",
       "         [0.07495832]],\n",
       "\n",
       "        [[1.0494164 ],\n",
       "         [1.0494164 ],\n",
       "         [1.0119373 ],\n",
       "         ...,\n",
       "         [0.11243747],\n",
       "         [0.07495832],\n",
       "         [0.07495832]],\n",
       "\n",
       "        [[1.0494164 ],\n",
       "         [1.0494164 ],\n",
       "         [1.0119373 ],\n",
       "         ...,\n",
       "         [0.07495832],\n",
       "         [0.07495832],\n",
       "         [0.03747916]]],\n",
       "\n",
       "\n",
       "       [[[1.424208  ],\n",
       "         [1.424208  ],\n",
       "         [1.424208  ],\n",
       "         ...,\n",
       "         [0.33731243],\n",
       "         [0.33731243],\n",
       "         [0.33731243]],\n",
       "\n",
       "        [[1.424208  ],\n",
       "         [1.424208  ],\n",
       "         [1.424208  ],\n",
       "         ...,\n",
       "         [0.33731243],\n",
       "         [0.33731243],\n",
       "         [0.33731243]],\n",
       "\n",
       "        [[1.424208  ],\n",
       "         [1.424208  ],\n",
       "         [1.424208  ],\n",
       "         ...,\n",
       "         [0.29983327],\n",
       "         [0.29983327],\n",
       "         [0.29983327]],\n",
       "\n",
       "        ...,\n",
       "\n",
       "        [[1.0494164 ],\n",
       "         [1.0494164 ],\n",
       "         [1.0119373 ],\n",
       "         ...,\n",
       "         [0.11243747],\n",
       "         [0.11243747],\n",
       "         [0.07495832]],\n",
       "\n",
       "        [[1.0494164 ],\n",
       "         [1.0494164 ],\n",
       "         [1.0119373 ],\n",
       "         ...,\n",
       "         [0.11243747],\n",
       "         [0.07495832],\n",
       "         [0.07495832]],\n",
       "\n",
       "        [[1.0494164 ],\n",
       "         [1.0494164 ],\n",
       "         [1.0119373 ],\n",
       "         ...,\n",
       "         [0.07495832],\n",
       "         [0.07495832],\n",
       "         [0.03747916]]],\n",
       "\n",
       "\n",
       "       [[[1.3492497 ],\n",
       "         [1.3492497 ],\n",
       "         [1.3492497 ],\n",
       "         ...,\n",
       "         [0.33731243],\n",
       "         [0.33731243],\n",
       "         [0.33731243]],\n",
       "\n",
       "        [[1.3492497 ],\n",
       "         [1.3492497 ],\n",
       "         [1.3492497 ],\n",
       "         ...,\n",
       "         [0.33731243],\n",
       "         [0.33731243],\n",
       "         [0.33731243]],\n",
       "\n",
       "        [[1.424208  ],\n",
       "         [1.424208  ],\n",
       "         [1.3867289 ],\n",
       "         ...,\n",
       "         [0.2623541 ],\n",
       "         [0.29983327],\n",
       "         [0.29983327]],\n",
       "\n",
       "        ...,\n",
       "\n",
       "        [[0.9744581 ],\n",
       "         [0.9744581 ],\n",
       "         [0.93697894],\n",
       "         ...,\n",
       "         [0.11243747],\n",
       "         [0.11243747],\n",
       "         [0.07495832]],\n",
       "\n",
       "        [[0.9744581 ],\n",
       "         [0.9744581 ],\n",
       "         [0.93697894],\n",
       "         ...,\n",
       "         [0.11243747],\n",
       "         [0.07495832],\n",
       "         [0.07495832]],\n",
       "\n",
       "        [[0.9744581 ],\n",
       "         [0.9744581 ],\n",
       "         [0.93697894],\n",
       "         ...,\n",
       "         [0.07495832],\n",
       "         [0.07495832],\n",
       "         [0.03747916]]],\n",
       "\n",
       "\n",
       "       ...,\n",
       "\n",
       "\n",
       "       [[[1.4991664 ],\n",
       "         [1.4991664 ],\n",
       "         [1.4991664 ],\n",
       "         ...,\n",
       "         [0.29983327],\n",
       "         [0.29983327],\n",
       "         [0.29983327]],\n",
       "\n",
       "        [[1.424208  ],\n",
       "         [1.424208  ],\n",
       "         [1.424208  ],\n",
       "         ...,\n",
       "         [0.29983327],\n",
       "         [0.29983327],\n",
       "         [0.29983327]],\n",
       "\n",
       "        [[1.4616872 ],\n",
       "         [1.4616872 ],\n",
       "         [1.424208  ],\n",
       "         ...,\n",
       "         [0.29983327],\n",
       "         [0.2623541 ],\n",
       "         [0.2623541 ]],\n",
       "\n",
       "        ...,\n",
       "\n",
       "        [[1.0868956 ],\n",
       "         [1.0494164 ],\n",
       "         [1.0494164 ],\n",
       "         ...,\n",
       "         [0.07495832],\n",
       "         [0.07495832],\n",
       "         [0.07495832]],\n",
       "\n",
       "        [[1.0494164 ],\n",
       "         [1.0494164 ],\n",
       "         [1.0494164 ],\n",
       "         ...,\n",
       "         [0.07495832],\n",
       "         [0.07495832],\n",
       "         [0.07495832]],\n",
       "\n",
       "        [[1.0494164 ],\n",
       "         [1.0494164 ],\n",
       "         [1.0494164 ],\n",
       "         ...,\n",
       "         [0.07495832],\n",
       "         [0.07495832],\n",
       "         [0.03747916]]],\n",
       "\n",
       "\n",
       "       [[[1.4991664 ],\n",
       "         [1.4991664 ],\n",
       "         [1.5366455 ],\n",
       "         ...,\n",
       "         [0.33731243],\n",
       "         [0.29983327],\n",
       "         [0.29983327]],\n",
       "\n",
       "        [[1.424208  ],\n",
       "         [1.424208  ],\n",
       "         [1.4616872 ],\n",
       "         ...,\n",
       "         [0.33731243],\n",
       "         [0.29983327],\n",
       "         [0.29983327]],\n",
       "\n",
       "        [[1.4616872 ],\n",
       "         [1.4616872 ],\n",
       "         [1.424208  ],\n",
       "         ...,\n",
       "         [0.2623541 ],\n",
       "         [0.29983327],\n",
       "         [0.29983327]],\n",
       "\n",
       "        ...,\n",
       "\n",
       "        [[1.0494164 ],\n",
       "         [1.0119373 ],\n",
       "         [1.0119373 ],\n",
       "         ...,\n",
       "         [0.03747916],\n",
       "         [0.03747916],\n",
       "         [0.03747916]],\n",
       "\n",
       "        [[1.0494164 ],\n",
       "         [1.0119373 ],\n",
       "         [1.0119373 ],\n",
       "         ...,\n",
       "         [0.03747916],\n",
       "         [0.03747916],\n",
       "         [0.03747916]],\n",
       "\n",
       "        [[1.0119373 ],\n",
       "         [1.0119373 ],\n",
       "         [0.9744581 ],\n",
       "         ...,\n",
       "         [0.03747916],\n",
       "         [0.03747916],\n",
       "         [0.        ]]],\n",
       "\n",
       "\n",
       "       [[[1.4616872 ],\n",
       "         [1.4616872 ],\n",
       "         [1.4616872 ],\n",
       "         ...,\n",
       "         [0.29983327],\n",
       "         [0.29983327],\n",
       "         [0.29983327]],\n",
       "\n",
       "        [[1.4616872 ],\n",
       "         [1.4616872 ],\n",
       "         [1.4616872 ],\n",
       "         ...,\n",
       "         [0.29983327],\n",
       "         [0.29983327],\n",
       "         [0.29983327]],\n",
       "\n",
       "        [[1.424208  ],\n",
       "         [1.424208  ],\n",
       "         [1.3867289 ],\n",
       "         ...,\n",
       "         [0.29983327],\n",
       "         [0.29983327],\n",
       "         [0.29983327]],\n",
       "\n",
       "        ...,\n",
       "\n",
       "        [[1.0494164 ],\n",
       "         [1.0119373 ],\n",
       "         [1.0119373 ],\n",
       "         ...,\n",
       "         [0.03747916],\n",
       "         [0.03747916],\n",
       "         [0.03747916]],\n",
       "\n",
       "        [[0.9744581 ],\n",
       "         [0.93697894],\n",
       "         [0.9744581 ],\n",
       "         ...,\n",
       "         [0.03747916],\n",
       "         [0.03747916],\n",
       "         [0.03747916]],\n",
       "\n",
       "        [[0.9744581 ],\n",
       "         [0.93697894],\n",
       "         [0.9744581 ],\n",
       "         ...,\n",
       "         [0.03747916],\n",
       "         [0.03747916],\n",
       "         [0.        ]]]], dtype=float32)>"
      ]
     },
     "execution_count": 3,
     "metadata": {},
     "output_type": "execute_result"
    }
   ],
   "source": [
    "path=\"/kaggle/input/lipreading/data/s1/bbaf2n.mpg\"\n",
    "value=load_video(path)\n",
    "value"
   ]
  },
  {
   "cell_type": "markdown",
   "id": "1935c21b",
   "metadata": {
    "papermill": {
     "duration": 0.010922,
     "end_time": "2024-01-31T04:33:44.678547",
     "exception": false,
     "start_time": "2024-01-31T04:33:44.667625",
     "status": "completed"
    },
    "tags": []
   },
   "source": [
    "**Extracts information from files, and compiles a vocabulary list**"
   ]
  },
  {
   "cell_type": "code",
   "execution_count": 4,
   "id": "83b96fbf",
   "metadata": {
    "execution": {
     "iopub.execute_input": "2024-01-31T04:33:44.702658Z",
     "iopub.status.busy": "2024-01-31T04:33:44.701959Z",
     "iopub.status.idle": "2024-01-31T04:33:44.708281Z",
     "shell.execute_reply": "2024-01-31T04:33:44.707382Z"
    },
    "papermill": {
     "duration": 0.020702,
     "end_time": "2024-01-31T04:33:44.710330",
     "exception": false,
     "start_time": "2024-01-31T04:33:44.689628",
     "status": "completed"
    },
    "tags": []
   },
   "outputs": [],
   "source": [
    "#ADDITIONAL FUNCTION I MADE TO GET vocab WHICH IS A PARAMETER FOR THE CHAR_TO_NUM FUNCTION\n",
    "def get_vocab():\n",
    "    vocab=[]\n",
    "    directory=\"/kaggle/input/lipreading/data/alignments/s1\"\n",
    "    for file in os.listdir(directory):\n",
    "        file_path = os.path.join(directory, file)\n",
    "        with open(file_path, 'r') as f:\n",
    "            lines=f.readlines()\n",
    "            for line in lines:\n",
    "                line=line.split()\n",
    "                vocab.append(line[2])\n",
    "    return vocab       "
   ]
  },
  {
   "cell_type": "code",
   "execution_count": 5,
   "id": "ec055d6f",
   "metadata": {
    "execution": {
     "iopub.execute_input": "2024-01-31T04:33:44.734884Z",
     "iopub.status.busy": "2024-01-31T04:33:44.734001Z",
     "iopub.status.idle": "2024-01-31T04:33:47.774961Z",
     "shell.execute_reply": "2024-01-31T04:33:47.773910Z"
    },
    "papermill": {
     "duration": 3.05584,
     "end_time": "2024-01-31T04:33:47.777471",
     "exception": false,
     "start_time": "2024-01-31T04:33:44.721631",
     "status": "completed"
    },
    "tags": []
   },
   "outputs": [],
   "source": [
    "vocab=np.unique(get_vocab())"
   ]
  },
  {
   "cell_type": "code",
   "execution_count": 6,
   "id": "e740b371",
   "metadata": {
    "execution": {
     "iopub.execute_input": "2024-01-31T04:33:47.802976Z",
     "iopub.status.busy": "2024-01-31T04:33:47.802314Z",
     "iopub.status.idle": "2024-01-31T04:33:47.807723Z",
     "shell.execute_reply": "2024-01-31T04:33:47.806834Z"
    },
    "papermill": {
     "duration": 0.020422,
     "end_time": "2024-01-31T04:33:47.809758",
     "exception": false,
     "start_time": "2024-01-31T04:33:47.789336",
     "status": "completed"
    },
    "tags": []
   },
   "outputs": [
    {
     "name": "stdout",
     "output_type": "stream",
     "text": [
      "['a' 'again' 'at' 'b' 'bin' 'blue' 'by' 'c' 'd' 'e' 'eight' 'f' 'five'\n",
      " 'four' 'g' 'green' 'h' 'i' 'in' 'j' 'k' 'l' 'lay' 'm' 'n' 'nine' 'now'\n",
      " 'o' 'one' 'p' 'place' 'please' 'q' 'r' 'red' 's' 'set' 'seven' 'sil'\n",
      " 'six' 'soon' 'sp' 't' 'three' 'two' 'u' 'v' 'white' 'with' 'x' 'y' 'z'\n",
      " 'zero']\n"
     ]
    }
   ],
   "source": [
    "print(vocab)"
   ]
  },
  {
   "cell_type": "markdown",
   "id": "2f0273f8",
   "metadata": {
    "papermill": {
     "duration": 0.011351,
     "end_time": "2024-01-31T04:33:47.833096",
     "exception": false,
     "start_time": "2024-01-31T04:33:47.821745",
     "status": "completed"
    },
    "tags": []
   },
   "source": [
    "> Create a Mapping layers for preprocessing using tensorflow Stringlookup :tf.keras.layers.StringLookup"
   ]
  },
  {
   "cell_type": "code",
   "execution_count": 7,
   "id": "9ea1657b",
   "metadata": {
    "execution": {
     "iopub.execute_input": "2024-01-31T04:33:47.858441Z",
     "iopub.status.busy": "2024-01-31T04:33:47.857735Z",
     "iopub.status.idle": "2024-01-31T04:33:48.021966Z",
     "shell.execute_reply": "2024-01-31T04:33:48.021140Z"
    },
    "papermill": {
     "duration": 0.179536,
     "end_time": "2024-01-31T04:33:48.024491",
     "exception": false,
     "start_time": "2024-01-31T04:33:47.844955",
     "status": "completed"
    },
    "tags": []
   },
   "outputs": [],
   "source": [
    "char_to_num= tf.keras.layers.StringLookup(vocabulary=vocab, oov_token=\"\")\n",
    "num_to_char=tf.keras.layers.StringLookup(vocabulary=char_to_num.get_vocabulary(), oov_token=\"\",invert=True)"
   ]
  },
  {
   "cell_type": "markdown",
   "id": "b8a1b342",
   "metadata": {
    "papermill": {
     "duration": 0.011281,
     "end_time": "2024-01-31T04:33:48.047509",
     "exception": false,
     "start_time": "2024-01-31T04:33:48.036228",
     "status": "completed"
    },
    "tags": []
   },
   "source": [
    "> char_to_num StringLookup Layer:\n",
    "> \n",
    "> tf.keras.layers.StringLookup is used to create a layer that maps characters to numerical indices.\n",
    "> The vocabulary parameter is set to your vocab, which is the list of characters obtained from your get_vocab function.\n",
    "> oov_token stands for \"out-of-vocabulary\" token and is set to an empty string (\"\"). This token is used for unseen characters during inference.\n",
    "> num_to_char StringLookup Layer:\n",
    "> \n",
    "> Another StringLookup layer is created to map numerical indices back to characters.\n",
    "> The vocabulary parameter is set to the vocabulary obtained from the char_to_num layer using char_to_num.get_vocabulary().\n",
    "> oov_token is also set to an empty string (\"\"), and invert is set to True, indicating that this layer should perform an inverse mapping."
   ]
  },
  {
   "cell_type": "markdown",
   "id": "5d1251da",
   "metadata": {
    "papermill": {
     "duration": 0.010978,
     "end_time": "2024-01-31T04:33:48.070647",
     "exception": false,
     "start_time": "2024-01-31T04:33:48.059669",
     "status": "completed"
    },
    "tags": []
   },
   "source": [
    "> *After convert the alignments to a num (Conversion to Numerical Indices) ---> reshape the tensor to one dim tensor*"
   ]
  },
  {
   "cell_type": "code",
   "execution_count": 8,
   "id": "cf7fe8a7",
   "metadata": {
    "execution": {
     "iopub.execute_input": "2024-01-31T04:33:48.096608Z",
     "iopub.status.busy": "2024-01-31T04:33:48.095881Z",
     "iopub.status.idle": "2024-01-31T04:33:48.102257Z",
     "shell.execute_reply": "2024-01-31T04:33:48.101371Z"
    },
    "papermill": {
     "duration": 0.020938,
     "end_time": "2024-01-31T04:33:48.104162",
     "exception": false,
     "start_time": "2024-01-31T04:33:48.083224",
     "status": "completed"
    },
    "tags": []
   },
   "outputs": [],
   "source": [
    "def load_alignments(path:str) -> List[str]:\n",
    "    with open(path, 'r') as f:\n",
    "        lines=f.readlines()\n",
    "        \n",
    "            \n",
    "        \n",
    "    tokens=[]\n",
    "    for line in lines:\n",
    "        line=line.split()\n",
    "        if line[2]!= 'sil':\n",
    "            tokens= [*tokens,' ',line[2]]\n",
    "        \n",
    "    return char_to_num(tf.reshape(tf.strings.unicode_split(tokens,input_encoding='UTF-8'),(-1)))[1:]"
   ]
  },
  {
   "cell_type": "code",
   "execution_count": 9,
   "id": "96771c46",
   "metadata": {
    "execution": {
     "iopub.execute_input": "2024-01-31T04:33:48.188635Z",
     "iopub.status.busy": "2024-01-31T04:33:48.187739Z",
     "iopub.status.idle": "2024-01-31T04:33:48.227244Z",
     "shell.execute_reply": "2024-01-31T04:33:48.226234Z"
    },
    "papermill": {
     "duration": 0.054684,
     "end_time": "2024-01-31T04:33:48.229309",
     "exception": false,
     "start_time": "2024-01-31T04:33:48.174625",
     "status": "completed"
    },
    "tags": []
   },
   "outputs": [
    {
     "data": {
      "text/plain": [
       "<tf.Tensor: shape=(21,), dtype=int64, numpy=\n",
       "array([ 4, 18, 25,  0,  4, 22, 46, 10,  0,  1, 43,  0, 12,  0, 43,  0, 28,\n",
       "        0, 25, 28,  0])>"
      ]
     },
     "execution_count": 9,
     "metadata": {},
     "output_type": "execute_result"
    }
   ],
   "source": [
    "path=\"/kaggle/input/lipreading/data/alignments/s1/bbaf2n.align\"\n",
    "load_alignments(path)\n"
   ]
  },
  {
   "cell_type": "code",
   "execution_count": 10,
   "id": "c18c1d11",
   "metadata": {
    "execution": {
     "iopub.execute_input": "2024-01-31T04:33:48.255269Z",
     "iopub.status.busy": "2024-01-31T04:33:48.254884Z",
     "iopub.status.idle": "2024-01-31T04:33:48.260954Z",
     "shell.execute_reply": "2024-01-31T04:33:48.259984Z"
    },
    "papermill": {
     "duration": 0.021419,
     "end_time": "2024-01-31T04:33:48.262933",
     "exception": false,
     "start_time": "2024-01-31T04:33:48.241514",
     "status": "completed"
    },
    "tags": []
   },
   "outputs": [],
   "source": [
    "def load_data(path:str):\n",
    "    path=bytes.decode(path.numpy())\n",
    "    file_name=path.split('/')[-1].split('.')[0]\n",
    "    video_path=os.path.join('/kaggle/input/lipreading/data','s1',f'{file_name}.mpg')\n",
    "    alignment_path=os.path.join('/kaggle/input/lipreading/data','alignments','s1',f'{file_name}.align')\n",
    "    frames=load_video(video_path)\n",
    "    alignments=load_alignments(alignment_path)\n",
    "    \n",
    "    return frames,alignments"
   ]
  },
  {
   "cell_type": "code",
   "execution_count": 11,
   "id": "81ae85b8",
   "metadata": {
    "execution": {
     "iopub.execute_input": "2024-01-31T04:33:48.287465Z",
     "iopub.status.busy": "2024-01-31T04:33:48.287060Z",
     "iopub.status.idle": "2024-01-31T04:33:48.554675Z",
     "shell.execute_reply": "2024-01-31T04:33:48.553705Z"
    },
    "papermill": {
     "duration": 0.282864,
     "end_time": "2024-01-31T04:33:48.557312",
     "exception": false,
     "start_time": "2024-01-31T04:33:48.274448",
     "status": "completed"
    },
    "tags": []
   },
   "outputs": [
    {
     "name": "stdout",
     "output_type": "stream",
     "text": [
      "frames: tf.Tensor(\n",
      "[[[[1.4991664 ]\n",
      "   [1.4991664 ]\n",
      "   [1.4616872 ]\n",
      "   ...\n",
      "   [0.41227075]\n",
      "   [0.41227075]\n",
      "   [0.41227075]]\n",
      "\n",
      "  [[1.4991664 ]\n",
      "   [1.4991664 ]\n",
      "   [1.4616872 ]\n",
      "   ...\n",
      "   [0.41227075]\n",
      "   [0.41227075]\n",
      "   [0.41227075]]\n",
      "\n",
      "  [[1.4616872 ]\n",
      "   [1.4616872 ]\n",
      "   [1.4991664 ]\n",
      "   ...\n",
      "   [0.33731243]\n",
      "   [0.33731243]\n",
      "   [0.33731243]]\n",
      "\n",
      "  ...\n",
      "\n",
      "  [[1.0494164 ]\n",
      "   [1.0494164 ]\n",
      "   [1.0119373 ]\n",
      "   ...\n",
      "   [0.11243747]\n",
      "   [0.11243747]\n",
      "   [0.07495832]]\n",
      "\n",
      "  [[1.0494164 ]\n",
      "   [1.0494164 ]\n",
      "   [1.0119373 ]\n",
      "   ...\n",
      "   [0.11243747]\n",
      "   [0.07495832]\n",
      "   [0.07495832]]\n",
      "\n",
      "  [[1.0494164 ]\n",
      "   [1.0494164 ]\n",
      "   [1.0119373 ]\n",
      "   ...\n",
      "   [0.07495832]\n",
      "   [0.07495832]\n",
      "   [0.03747916]]]\n",
      "\n",
      "\n",
      " [[[1.424208  ]\n",
      "   [1.424208  ]\n",
      "   [1.424208  ]\n",
      "   ...\n",
      "   [0.33731243]\n",
      "   [0.33731243]\n",
      "   [0.33731243]]\n",
      "\n",
      "  [[1.424208  ]\n",
      "   [1.424208  ]\n",
      "   [1.424208  ]\n",
      "   ...\n",
      "   [0.33731243]\n",
      "   [0.33731243]\n",
      "   [0.33731243]]\n",
      "\n",
      "  [[1.424208  ]\n",
      "   [1.424208  ]\n",
      "   [1.424208  ]\n",
      "   ...\n",
      "   [0.29983327]\n",
      "   [0.29983327]\n",
      "   [0.29983327]]\n",
      "\n",
      "  ...\n",
      "\n",
      "  [[1.0494164 ]\n",
      "   [1.0494164 ]\n",
      "   [1.0119373 ]\n",
      "   ...\n",
      "   [0.11243747]\n",
      "   [0.11243747]\n",
      "   [0.07495832]]\n",
      "\n",
      "  [[1.0494164 ]\n",
      "   [1.0494164 ]\n",
      "   [1.0119373 ]\n",
      "   ...\n",
      "   [0.11243747]\n",
      "   [0.07495832]\n",
      "   [0.07495832]]\n",
      "\n",
      "  [[1.0494164 ]\n",
      "   [1.0494164 ]\n",
      "   [1.0119373 ]\n",
      "   ...\n",
      "   [0.07495832]\n",
      "   [0.07495832]\n",
      "   [0.03747916]]]\n",
      "\n",
      "\n",
      " [[[1.3492497 ]\n",
      "   [1.3492497 ]\n",
      "   [1.3492497 ]\n",
      "   ...\n",
      "   [0.33731243]\n",
      "   [0.33731243]\n",
      "   [0.33731243]]\n",
      "\n",
      "  [[1.3492497 ]\n",
      "   [1.3492497 ]\n",
      "   [1.3492497 ]\n",
      "   ...\n",
      "   [0.33731243]\n",
      "   [0.33731243]\n",
      "   [0.33731243]]\n",
      "\n",
      "  [[1.424208  ]\n",
      "   [1.424208  ]\n",
      "   [1.3867289 ]\n",
      "   ...\n",
      "   [0.2623541 ]\n",
      "   [0.29983327]\n",
      "   [0.29983327]]\n",
      "\n",
      "  ...\n",
      "\n",
      "  [[0.9744581 ]\n",
      "   [0.9744581 ]\n",
      "   [0.93697894]\n",
      "   ...\n",
      "   [0.11243747]\n",
      "   [0.11243747]\n",
      "   [0.07495832]]\n",
      "\n",
      "  [[0.9744581 ]\n",
      "   [0.9744581 ]\n",
      "   [0.93697894]\n",
      "   ...\n",
      "   [0.11243747]\n",
      "   [0.07495832]\n",
      "   [0.07495832]]\n",
      "\n",
      "  [[0.9744581 ]\n",
      "   [0.9744581 ]\n",
      "   [0.93697894]\n",
      "   ...\n",
      "   [0.07495832]\n",
      "   [0.07495832]\n",
      "   [0.03747916]]]\n",
      "\n",
      "\n",
      " ...\n",
      "\n",
      "\n",
      " [[[1.4991664 ]\n",
      "   [1.4991664 ]\n",
      "   [1.4991664 ]\n",
      "   ...\n",
      "   [0.29983327]\n",
      "   [0.29983327]\n",
      "   [0.29983327]]\n",
      "\n",
      "  [[1.424208  ]\n",
      "   [1.424208  ]\n",
      "   [1.424208  ]\n",
      "   ...\n",
      "   [0.29983327]\n",
      "   [0.29983327]\n",
      "   [0.29983327]]\n",
      "\n",
      "  [[1.4616872 ]\n",
      "   [1.4616872 ]\n",
      "   [1.424208  ]\n",
      "   ...\n",
      "   [0.29983327]\n",
      "   [0.2623541 ]\n",
      "   [0.2623541 ]]\n",
      "\n",
      "  ...\n",
      "\n",
      "  [[1.0868956 ]\n",
      "   [1.0494164 ]\n",
      "   [1.0494164 ]\n",
      "   ...\n",
      "   [0.07495832]\n",
      "   [0.07495832]\n",
      "   [0.07495832]]\n",
      "\n",
      "  [[1.0494164 ]\n",
      "   [1.0494164 ]\n",
      "   [1.0494164 ]\n",
      "   ...\n",
      "   [0.07495832]\n",
      "   [0.07495832]\n",
      "   [0.07495832]]\n",
      "\n",
      "  [[1.0494164 ]\n",
      "   [1.0494164 ]\n",
      "   [1.0494164 ]\n",
      "   ...\n",
      "   [0.07495832]\n",
      "   [0.07495832]\n",
      "   [0.03747916]]]\n",
      "\n",
      "\n",
      " [[[1.4991664 ]\n",
      "   [1.4991664 ]\n",
      "   [1.5366455 ]\n",
      "   ...\n",
      "   [0.33731243]\n",
      "   [0.29983327]\n",
      "   [0.29983327]]\n",
      "\n",
      "  [[1.424208  ]\n",
      "   [1.424208  ]\n",
      "   [1.4616872 ]\n",
      "   ...\n",
      "   [0.33731243]\n",
      "   [0.29983327]\n",
      "   [0.29983327]]\n",
      "\n",
      "  [[1.4616872 ]\n",
      "   [1.4616872 ]\n",
      "   [1.424208  ]\n",
      "   ...\n",
      "   [0.2623541 ]\n",
      "   [0.29983327]\n",
      "   [0.29983327]]\n",
      "\n",
      "  ...\n",
      "\n",
      "  [[1.0494164 ]\n",
      "   [1.0119373 ]\n",
      "   [1.0119373 ]\n",
      "   ...\n",
      "   [0.03747916]\n",
      "   [0.03747916]\n",
      "   [0.03747916]]\n",
      "\n",
      "  [[1.0494164 ]\n",
      "   [1.0119373 ]\n",
      "   [1.0119373 ]\n",
      "   ...\n",
      "   [0.03747916]\n",
      "   [0.03747916]\n",
      "   [0.03747916]]\n",
      "\n",
      "  [[1.0119373 ]\n",
      "   [1.0119373 ]\n",
      "   [0.9744581 ]\n",
      "   ...\n",
      "   [0.03747916]\n",
      "   [0.03747916]\n",
      "   [0.        ]]]\n",
      "\n",
      "\n",
      " [[[1.4616872 ]\n",
      "   [1.4616872 ]\n",
      "   [1.4616872 ]\n",
      "   ...\n",
      "   [0.29983327]\n",
      "   [0.29983327]\n",
      "   [0.29983327]]\n",
      "\n",
      "  [[1.4616872 ]\n",
      "   [1.4616872 ]\n",
      "   [1.4616872 ]\n",
      "   ...\n",
      "   [0.29983327]\n",
      "   [0.29983327]\n",
      "   [0.29983327]]\n",
      "\n",
      "  [[1.424208  ]\n",
      "   [1.424208  ]\n",
      "   [1.3867289 ]\n",
      "   ...\n",
      "   [0.29983327]\n",
      "   [0.29983327]\n",
      "   [0.29983327]]\n",
      "\n",
      "  ...\n",
      "\n",
      "  [[1.0494164 ]\n",
      "   [1.0119373 ]\n",
      "   [1.0119373 ]\n",
      "   ...\n",
      "   [0.03747916]\n",
      "   [0.03747916]\n",
      "   [0.03747916]]\n",
      "\n",
      "  [[0.9744581 ]\n",
      "   [0.93697894]\n",
      "   [0.9744581 ]\n",
      "   ...\n",
      "   [0.03747916]\n",
      "   [0.03747916]\n",
      "   [0.03747916]]\n",
      "\n",
      "  [[0.9744581 ]\n",
      "   [0.93697894]\n",
      "   [0.9744581 ]\n",
      "   ...\n",
      "   [0.03747916]\n",
      "   [0.03747916]\n",
      "   [0.        ]]]], shape=(75, 46, 140, 1), dtype=float32)\n",
      "alignments: tf.Tensor([ 4 18 25  0  4 22 46 10  0  1 43  0 12  0 43  0 28  0 25 28  0], shape=(21,), dtype=int64)\n"
     ]
    }
   ],
   "source": [
    "#TESTING THE OUTPUT FOR A SAMPLE FILE\n",
    "path=\"/kaggle/input/lipreading/data/s1/bbaf2n.mpg\"\n",
    "frames, alignments=load_data(tf.convert_to_tensor(path))\n",
    "print(\"frames:\",frames)\n",
    "print(\"alignments:\",alignments)"
   ]
  },
  {
   "cell_type": "code",
   "execution_count": 12,
   "id": "3e12a491",
   "metadata": {
    "execution": {
     "iopub.execute_input": "2024-01-31T04:33:48.583655Z",
     "iopub.status.busy": "2024-01-31T04:33:48.582833Z",
     "iopub.status.idle": "2024-01-31T04:33:48.876338Z",
     "shell.execute_reply": "2024-01-31T04:33:48.875297Z"
    },
    "papermill": {
     "duration": 0.308673,
     "end_time": "2024-01-31T04:33:48.878408",
     "exception": false,
     "start_time": "2024-01-31T04:33:48.569735",
     "status": "completed"
    },
    "tags": []
   },
   "outputs": [
    {
     "data": {
      "text/plain": [
       "<matplotlib.image.AxesImage at 0x7f23b3f43220>"
      ]
     },
     "execution_count": 12,
     "metadata": {},
     "output_type": "execute_result"
    },
    {
     "data": {
      "image/png": "[encoded data removed]",
      "text/plain": [
       "<Figure size 640x480 with 1 Axes>"
      ]
     },
     "metadata": {},
     "output_type": "display_data"
    }
   ],
   "source": [
    "plt.imshow(frames[15])"
   ]
  },
  {
   "cell_type": "markdown",
   "id": "007034a8",
   "metadata": {
    "papermill": {
     "duration": 0.012547,
     "end_time": "2024-01-31T04:33:48.903298",
     "exception": false,
     "start_time": "2024-01-31T04:33:48.890751",
     "status": "completed"
    },
    "tags": []
   },
   "source": [
    "**\n",
    "Sets up a TensorFlow data pipeline for loading lipreading data from video file**"
   ]
  },
  {
   "cell_type": "code",
   "execution_count": 13,
   "id": "d2fb1972",
   "metadata": {
    "execution": {
     "iopub.execute_input": "2024-01-31T04:33:48.930241Z",
     "iopub.status.busy": "2024-01-31T04:33:48.929130Z",
     "iopub.status.idle": "2024-01-31T04:33:48.934064Z",
     "shell.execute_reply": "2024-01-31T04:33:48.933310Z"
    },
    "papermill": {
     "duration": 0.020411,
     "end_time": "2024-01-31T04:33:48.936038",
     "exception": false,
     "start_time": "2024-01-31T04:33:48.915627",
     "status": "completed"
    },
    "tags": []
   },
   "outputs": [],
   "source": [
    "def mappable_function(path:str) ->List[str]:\n",
    "    result = tf.py_function(load_data, [path], (tf.float32, tf.int64))\n",
    "    return result"
   ]
  },
  {
   "cell_type": "code",
   "execution_count": 14,
   "id": "1153f79b",
   "metadata": {
    "execution": {
     "iopub.execute_input": "2024-01-31T04:33:48.962448Z",
     "iopub.status.busy": "2024-01-31T04:33:48.961702Z",
     "iopub.status.idle": "2024-01-31T04:33:49.456087Z",
     "shell.execute_reply": "2024-01-31T04:33:49.455145Z"
    },
    "papermill": {
     "duration": 0.510374,
     "end_time": "2024-01-31T04:33:49.458619",
     "exception": false,
     "start_time": "2024-01-31T04:33:48.948245",
     "status": "completed"
    },
    "tags": []
   },
   "outputs": [],
   "source": [
    "data = tf.data.Dataset.list_files('/kaggle/input/lipreading/data/s1/*.mpg')\n",
    "data = data.shuffle(500,reshuffle_each_iteration=False)\n",
    "data = data.map(mappable_function)\n",
    "data = data.padded_batch(2, padded_shapes=([75,None,None,None],[40]))\n",
    "data = data.prefetch(tf.data.AUTOTUNE)\n",
    "# # ADDED DOR SPLIT\n",
    "train = data.take(450)\n",
    "test = data.skip(450)"
   ]
  },
  {
   "cell_type": "code",
   "execution_count": 15,
   "id": "407f635a",
   "metadata": {
    "execution": {
     "iopub.execute_input": "2024-01-31T04:33:49.487244Z",
     "iopub.status.busy": "2024-01-31T04:33:49.486271Z",
     "iopub.status.idle": "2024-01-31T04:33:50.324358Z",
     "shell.execute_reply": "2024-01-31T04:33:50.323241Z"
    },
    "papermill": {
     "duration": 0.854723,
     "end_time": "2024-01-31T04:33:50.326896",
     "exception": false,
     "start_time": "2024-01-31T04:33:49.472173",
     "status": "completed"
    },
    "tags": []
   },
   "outputs": [],
   "source": [
    "frames, alighnments = data.as_numpy_iterator().next()"
   ]
  },
  {
   "cell_type": "code",
   "execution_count": 16,
   "id": "ae244a86",
   "metadata": {
    "execution": {
     "iopub.execute_input": "2024-01-31T04:33:50.354988Z",
     "iopub.status.busy": "2024-01-31T04:33:50.353939Z",
     "iopub.status.idle": "2024-01-31T04:33:50.364400Z",
     "shell.execute_reply": "2024-01-31T04:33:50.363411Z"
    },
    "papermill": {
     "duration": 0.02676,
     "end_time": "2024-01-31T04:33:50.366763",
     "exception": false,
     "start_time": "2024-01-31T04:33:50.340003",
     "status": "completed"
    },
    "tags": []
   },
   "outputs": [],
   "source": [
    "sample = data.as_numpy_iterator()"
   ]
  },
  {
   "cell_type": "code",
   "execution_count": 17,
   "id": "d1ba9ecb",
   "metadata": {
    "execution": {
     "iopub.execute_input": "2024-01-31T04:33:50.394560Z",
     "iopub.status.busy": "2024-01-31T04:33:50.393610Z",
     "iopub.status.idle": "2024-01-31T04:33:50.950341Z",
     "shell.execute_reply": "2024-01-31T04:33:50.949312Z"
    },
    "papermill": {
     "duration": 0.5734,
     "end_time": "2024-01-31T04:33:50.953226",
     "exception": false,
     "start_time": "2024-01-31T04:33:50.379826",
     "status": "completed"
    },
    "tags": []
   },
   "outputs": [
    {
     "data": {
      "text/plain": [
       "array([[[[[1.4938594 ],\n",
       "          [1.4227233 ],\n",
       "          [1.4582913 ],\n",
       "          ...,\n",
       "          [0.35568082],\n",
       "          [0.3912489 ],\n",
       "          [0.3912489 ]],\n",
       "\n",
       "         [[1.3871552 ],\n",
       "          [1.3871552 ],\n",
       "          [1.4582913 ],\n",
       "          ...,\n",
       "          [0.35568082],\n",
       "          [0.3912489 ],\n",
       "          [0.3912489 ]],\n",
       "\n",
       "         [[1.5294275 ],\n",
       "          [1.5294275 ],\n",
       "          [1.5649956 ],\n",
       "          ...,\n",
       "          [0.42681697],\n",
       "          [0.32011274],\n",
       "          [0.32011274]],\n",
       "\n",
       "         ...,\n",
       "\n",
       "         [[1.1026106 ],\n",
       "          [1.0670425 ],\n",
       "          [1.0670425 ],\n",
       "          ...,\n",
       "          [0.10670424],\n",
       "          [0.07113616],\n",
       "          [0.07113616]],\n",
       "\n",
       "         [[1.0670425 ],\n",
       "          [1.0670425 ],\n",
       "          [1.0670425 ],\n",
       "          ...,\n",
       "          [0.07113616],\n",
       "          [0.07113616],\n",
       "          [0.07113616]],\n",
       "\n",
       "         [[1.0670425 ],\n",
       "          [1.0670425 ],\n",
       "          [1.0670425 ],\n",
       "          ...,\n",
       "          [0.03556808],\n",
       "          [0.03556808],\n",
       "          [0.03556808]]],\n",
       "\n",
       "\n",
       "        [[[1.4938594 ],\n",
       "          [1.4582913 ],\n",
       "          [1.5294275 ],\n",
       "          ...,\n",
       "          [0.42681697],\n",
       "          [0.35568082],\n",
       "          [0.35568082]],\n",
       "\n",
       "         [[1.3871552 ],\n",
       "          [1.4582913 ],\n",
       "          [1.4582913 ],\n",
       "          ...,\n",
       "          [0.42681697],\n",
       "          [0.35568082],\n",
       "          [0.35568082]],\n",
       "\n",
       "         [[1.4938594 ],\n",
       "          [1.4938594 ],\n",
       "          [1.4938594 ],\n",
       "          ...,\n",
       "          [0.32011274],\n",
       "          [0.28454465],\n",
       "          [0.28454465]],\n",
       "\n",
       "         ...,\n",
       "\n",
       "         [[1.0670425 ],\n",
       "          [1.0314744 ],\n",
       "          [1.0314744 ],\n",
       "          ...,\n",
       "          [0.10670424],\n",
       "          [0.07113616],\n",
       "          [0.07113616]],\n",
       "\n",
       "         [[1.0314744 ],\n",
       "          [1.0314744 ],\n",
       "          [1.0314744 ],\n",
       "          ...,\n",
       "          [0.        ],\n",
       "          [0.        ],\n",
       "          [0.        ]],\n",
       "\n",
       "         [[1.0314744 ],\n",
       "          [1.0314744 ],\n",
       "          [1.0314744 ],\n",
       "          ...,\n",
       "          [9.034293  ],\n",
       "          [9.034293  ],\n",
       "          [9.034293  ]]],\n",
       "\n",
       "\n",
       "        [[[1.4938594 ],\n",
       "          [1.3871552 ],\n",
       "          [1.5294275 ],\n",
       "          ...,\n",
       "          [0.42681697],\n",
       "          [0.35568082],\n",
       "          [0.35568082]],\n",
       "\n",
       "         [[1.4227233 ],\n",
       "          [1.4227233 ],\n",
       "          [1.5294275 ],\n",
       "          ...,\n",
       "          [0.42681697],\n",
       "          [0.35568082],\n",
       "          [0.35568082]],\n",
       "\n",
       "         [[1.3871552 ],\n",
       "          [1.3871552 ],\n",
       "          [1.4227233 ],\n",
       "          ...,\n",
       "          [0.28454465],\n",
       "          [0.24897657],\n",
       "          [0.24897657]],\n",
       "\n",
       "         ...,\n",
       "\n",
       "         [[1.0670425 ],\n",
       "          [1.0314744 ],\n",
       "          [1.0314744 ],\n",
       "          ...,\n",
       "          [0.10670424],\n",
       "          [0.10670424],\n",
       "          [0.07113616]],\n",
       "\n",
       "         [[1.0314744 ],\n",
       "          [1.0314744 ],\n",
       "          [1.0314744 ],\n",
       "          ...,\n",
       "          [0.03556808],\n",
       "          [0.        ],\n",
       "          [0.        ]],\n",
       "\n",
       "         [[1.0314744 ],\n",
       "          [1.0314744 ],\n",
       "          [1.0314744 ],\n",
       "          ...,\n",
       "          [0.        ],\n",
       "          [0.        ],\n",
       "          [0.        ]]],\n",
       "\n",
       "\n",
       "        ...,\n",
       "\n",
       "\n",
       "        [[[1.3871552 ],\n",
       "          [1.3871552 ],\n",
       "          [1.3871552 ],\n",
       "          ...,\n",
       "          [0.3912489 ],\n",
       "          [0.35568082],\n",
       "          [0.35568082]],\n",
       "\n",
       "         [[1.3871552 ],\n",
       "          [1.351587  ],\n",
       "          [1.4938594 ],\n",
       "          ...,\n",
       "          [0.3912489 ],\n",
       "          [0.35568082],\n",
       "          [0.35568082]],\n",
       "\n",
       "         [[1.4582913 ],\n",
       "          [1.4582913 ],\n",
       "          [1.4227233 ],\n",
       "          ...,\n",
       "          [0.42681697],\n",
       "          [0.35568082],\n",
       "          [0.35568082]],\n",
       "\n",
       "         ...,\n",
       "\n",
       "         [[1.0670425 ],\n",
       "          [1.0670425 ],\n",
       "          [1.0314744 ],\n",
       "          ...,\n",
       "          [0.07113616],\n",
       "          [0.07113616],\n",
       "          [0.07113616]],\n",
       "\n",
       "         [[1.0314744 ],\n",
       "          [1.0314744 ],\n",
       "          [1.0314744 ],\n",
       "          ...,\n",
       "          [0.03556808],\n",
       "          [0.03556808],\n",
       "          [0.03556808]],\n",
       "\n",
       "         [[1.0314744 ],\n",
       "          [1.0314744 ],\n",
       "          [1.0314744 ],\n",
       "          ...,\n",
       "          [9.06986   ],\n",
       "          [9.06986   ],\n",
       "          [9.06986   ]]],\n",
       "\n",
       "\n",
       "        [[[1.4938594 ],\n",
       "          [1.3871552 ],\n",
       "          [1.351587  ],\n",
       "          ...,\n",
       "          [0.35568082],\n",
       "          [0.32011274],\n",
       "          [0.32011274]],\n",
       "\n",
       "         [[1.5649956 ],\n",
       "          [1.351587  ],\n",
       "          [1.316019  ],\n",
       "          ...,\n",
       "          [0.35568082],\n",
       "          [0.32011274],\n",
       "          [0.32011274]],\n",
       "\n",
       "         [[1.4582913 ],\n",
       "          [1.4582913 ],\n",
       "          [1.4582913 ],\n",
       "          ...,\n",
       "          [0.3912489 ],\n",
       "          [0.3912489 ],\n",
       "          [0.35568082]],\n",
       "\n",
       "         ...,\n",
       "\n",
       "         [[1.1026106 ],\n",
       "          [1.1026106 ],\n",
       "          [1.0670425 ],\n",
       "          ...,\n",
       "          [0.10670424],\n",
       "          [0.07113616],\n",
       "          [0.07113616]],\n",
       "\n",
       "         [[1.0670425 ],\n",
       "          [1.0670425 ],\n",
       "          [1.0670425 ],\n",
       "          ...,\n",
       "          [0.03556808],\n",
       "          [0.03556808],\n",
       "          [9.06986   ]],\n",
       "\n",
       "         [[1.0670425 ],\n",
       "          [1.0670425 ],\n",
       "          [1.0670425 ],\n",
       "          ...,\n",
       "          [0.03556808],\n",
       "          [0.03556808],\n",
       "          [0.03556808]]],\n",
       "\n",
       "\n",
       "        [[[1.4582913 ],\n",
       "          [1.351587  ],\n",
       "          [1.351587  ],\n",
       "          ...,\n",
       "          [0.3912489 ],\n",
       "          [0.32011274],\n",
       "          [0.32011274]],\n",
       "\n",
       "         [[1.5294275 ],\n",
       "          [1.3871552 ],\n",
       "          [1.3871552 ],\n",
       "          ...,\n",
       "          [0.3912489 ],\n",
       "          [0.32011274],\n",
       "          [0.32011274]],\n",
       "\n",
       "         [[1.4582913 ],\n",
       "          [1.4582913 ],\n",
       "          [1.4582913 ],\n",
       "          ...,\n",
       "          [0.3912489 ],\n",
       "          [0.3912489 ],\n",
       "          [0.35568082]],\n",
       "\n",
       "         ...,\n",
       "\n",
       "         [[1.0670425 ],\n",
       "          [1.0670425 ],\n",
       "          [1.0314744 ],\n",
       "          ...,\n",
       "          [0.10670424],\n",
       "          [0.10670424],\n",
       "          [0.07113616]],\n",
       "\n",
       "         [[1.0314744 ],\n",
       "          [1.0314744 ],\n",
       "          [1.0314744 ],\n",
       "          ...,\n",
       "          [0.03556808],\n",
       "          [0.03556808],\n",
       "          [0.03556808]],\n",
       "\n",
       "         [[1.0314744 ],\n",
       "          [1.0314744 ],\n",
       "          [1.0314744 ],\n",
       "          ...,\n",
       "          [0.03556808],\n",
       "          [0.03556808],\n",
       "          [9.06986   ]]]],\n",
       "\n",
       "\n",
       "\n",
       "       [[[[1.134991  ],\n",
       "          [1.2132663 ],\n",
       "          [1.134991  ],\n",
       "          ...,\n",
       "          [0.31310096],\n",
       "          [0.31310096],\n",
       "          [0.31310096]],\n",
       "\n",
       "         [[1.0958533 ],\n",
       "          [1.2524039 ],\n",
       "          [1.1741287 ],\n",
       "          ...,\n",
       "          [0.31310096],\n",
       "          [0.31310096],\n",
       "          [0.31310096]],\n",
       "\n",
       "         [[1.0567157 ],\n",
       "          [1.2132663 ],\n",
       "          [1.0175781 ],\n",
       "          ...,\n",
       "          [0.3522386 ],\n",
       "          [0.31310096],\n",
       "          [0.31310096]],\n",
       "\n",
       "         ...,\n",
       "\n",
       "         [[1.134991  ],\n",
       "          [1.134991  ],\n",
       "          [1.134991  ],\n",
       "          ...,\n",
       "          [0.03913762],\n",
       "          [0.03913762],\n",
       "          [0.03913762]],\n",
       "\n",
       "         [[1.134991  ],\n",
       "          [1.134991  ],\n",
       "          [1.0958533 ],\n",
       "          ...,\n",
       "          [0.03913762],\n",
       "          [0.03913762],\n",
       "          [0.03913762]],\n",
       "\n",
       "         [[1.134991  ],\n",
       "          [1.134991  ],\n",
       "          [1.0958533 ],\n",
       "          ...,\n",
       "          [0.03913762],\n",
       "          [0.03913762],\n",
       "          [0.        ]]],\n",
       "\n",
       "\n",
       "        [[[1.2524039 ],\n",
       "          [1.3698168 ],\n",
       "          [1.2915415 ],\n",
       "          ...,\n",
       "          [0.31310096],\n",
       "          [0.23482573],\n",
       "          [0.23482573]],\n",
       "\n",
       "         [[1.1741287 ],\n",
       "          [1.4089544 ],\n",
       "          [1.330679  ],\n",
       "          ...,\n",
       "          [0.31310096],\n",
       "          [0.23482573],\n",
       "          [0.23482573]],\n",
       "\n",
       "         [[1.134991  ],\n",
       "          [1.5263672 ],\n",
       "          [1.2915415 ],\n",
       "          ...,\n",
       "          [0.3522386 ],\n",
       "          [0.31310096],\n",
       "          [0.31310096]],\n",
       "\n",
       "         ...,\n",
       "\n",
       "         [[1.134991  ],\n",
       "          [1.134991  ],\n",
       "          [1.134991  ],\n",
       "          ...,\n",
       "          [0.07827524],\n",
       "          [0.07827524],\n",
       "          [0.07827524]],\n",
       "\n",
       "         [[1.0958533 ],\n",
       "          [1.0958533 ],\n",
       "          [1.0567157 ],\n",
       "          ...,\n",
       "          [0.07827524],\n",
       "          [0.07827524],\n",
       "          [0.07827524]],\n",
       "\n",
       "         [[1.0958533 ],\n",
       "          [1.0958533 ],\n",
       "          [1.0567157 ],\n",
       "          ...,\n",
       "          [0.07827524],\n",
       "          [0.07827524],\n",
       "          [0.03913762]]],\n",
       "\n",
       "\n",
       "        [[[1.2524039 ],\n",
       "          [1.3698168 ],\n",
       "          [1.2915415 ],\n",
       "          ...,\n",
       "          [0.31310096],\n",
       "          [0.23482573],\n",
       "          [0.23482573]],\n",
       "\n",
       "         [[1.1741287 ],\n",
       "          [1.4089544 ],\n",
       "          [1.330679  ],\n",
       "          ...,\n",
       "          [0.31310096],\n",
       "          [0.23482573],\n",
       "          [0.23482573]],\n",
       "\n",
       "         [[1.0958533 ],\n",
       "          [1.5263672 ],\n",
       "          [1.2132663 ],\n",
       "          ...,\n",
       "          [0.3522386 ],\n",
       "          [0.31310096],\n",
       "          [0.31310096]],\n",
       "\n",
       "         ...,\n",
       "\n",
       "         [[1.134991  ],\n",
       "          [1.134991  ],\n",
       "          [1.0958533 ],\n",
       "          ...,\n",
       "          [0.03913762],\n",
       "          [0.03913762],\n",
       "          [0.03913762]],\n",
       "\n",
       "         [[1.0958533 ],\n",
       "          [1.0958533 ],\n",
       "          [1.0567157 ],\n",
       "          ...,\n",
       "          [0.03913762],\n",
       "          [0.03913762],\n",
       "          [0.03913762]],\n",
       "\n",
       "         [[1.0958533 ],\n",
       "          [1.0958533 ],\n",
       "          [1.0567157 ],\n",
       "          ...,\n",
       "          [0.03913762],\n",
       "          [0.03913762],\n",
       "          [0.        ]]],\n",
       "\n",
       "\n",
       "        ...,\n",
       "\n",
       "\n",
       "        [[[1.1741287 ],\n",
       "          [1.2915415 ],\n",
       "          [1.134991  ],\n",
       "          ...,\n",
       "          [0.1956881 ],\n",
       "          [0.1956881 ],\n",
       "          [0.1956881 ]],\n",
       "\n",
       "         [[1.0567157 ],\n",
       "          [1.1741287 ],\n",
       "          [1.0567157 ],\n",
       "          ...,\n",
       "          [0.1956881 ],\n",
       "          [0.1956881 ],\n",
       "          [0.1956881 ]],\n",
       "\n",
       "         [[1.2524039 ],\n",
       "          [1.1741287 ],\n",
       "          [0.82189006],\n",
       "          ...,\n",
       "          [0.31310096],\n",
       "          [0.31310096],\n",
       "          [0.31310096]],\n",
       "\n",
       "         ...,\n",
       "\n",
       "         [[1.0958533 ],\n",
       "          [1.0958533 ],\n",
       "          [1.134991  ],\n",
       "          ...,\n",
       "          [0.        ],\n",
       "          [0.        ],\n",
       "          [0.        ]],\n",
       "\n",
       "         [[1.134991  ],\n",
       "          [1.134991  ],\n",
       "          [1.134991  ],\n",
       "          ...,\n",
       "          [0.        ],\n",
       "          [0.        ],\n",
       "          [0.        ]],\n",
       "\n",
       "         [[1.134991  ],\n",
       "          [1.134991  ],\n",
       "          [1.0958533 ],\n",
       "          ...,\n",
       "          [0.        ],\n",
       "          [0.        ],\n",
       "          [0.        ]]],\n",
       "\n",
       "\n",
       "        [[[1.2132663 ],\n",
       "          [1.2132663 ],\n",
       "          [1.134991  ],\n",
       "          ...,\n",
       "          [0.1956881 ],\n",
       "          [0.1956881 ],\n",
       "          [0.1956881 ]],\n",
       "\n",
       "         [[1.0567157 ],\n",
       "          [1.0958533 ],\n",
       "          [1.0567157 ],\n",
       "          ...,\n",
       "          [0.1956881 ],\n",
       "          [0.1956881 ],\n",
       "          [0.1956881 ]],\n",
       "\n",
       "         [[1.3698168 ],\n",
       "          [1.330679  ],\n",
       "          [0.90016526],\n",
       "          ...,\n",
       "          [0.31310096],\n",
       "          [0.31310096],\n",
       "          [0.31310096]],\n",
       "\n",
       "         ...,\n",
       "\n",
       "         [[1.0958533 ],\n",
       "          [1.0958533 ],\n",
       "          [1.0958533 ],\n",
       "          ...,\n",
       "          [0.        ],\n",
       "          [0.        ],\n",
       "          [0.        ]],\n",
       "\n",
       "         [[1.0958533 ],\n",
       "          [1.0958533 ],\n",
       "          [1.0958533 ],\n",
       "          ...,\n",
       "          [0.        ],\n",
       "          [0.        ],\n",
       "          [0.        ]],\n",
       "\n",
       "         [[1.0958533 ],\n",
       "          [1.0958533 ],\n",
       "          [1.0567157 ],\n",
       "          ...,\n",
       "          [0.        ],\n",
       "          [0.        ],\n",
       "          [0.        ]]],\n",
       "\n",
       "\n",
       "        [[[1.134991  ],\n",
       "          [1.2132663 ],\n",
       "          [1.0958533 ],\n",
       "          ...,\n",
       "          [0.1956881 ],\n",
       "          [0.1956881 ],\n",
       "          [0.1956881 ]],\n",
       "\n",
       "         [[1.134991  ],\n",
       "          [1.2132663 ],\n",
       "          [1.0175781 ],\n",
       "          ...,\n",
       "          [0.1956881 ],\n",
       "          [0.1956881 ],\n",
       "          [0.1956881 ]],\n",
       "\n",
       "         [[1.3698168 ],\n",
       "          [1.3698168 ],\n",
       "          [0.86102766],\n",
       "          ...,\n",
       "          [0.31310096],\n",
       "          [0.27396333],\n",
       "          [0.1956881 ]],\n",
       "\n",
       "         ...,\n",
       "\n",
       "         [[1.134991  ],\n",
       "          [1.134991  ],\n",
       "          [1.134991  ],\n",
       "          ...,\n",
       "          [0.03913762],\n",
       "          [0.03913762],\n",
       "          [0.03913762]],\n",
       "\n",
       "         [[1.134991  ],\n",
       "          [1.134991  ],\n",
       "          [1.134991  ],\n",
       "          ...,\n",
       "          [0.03913762],\n",
       "          [0.03913762],\n",
       "          [0.03913762]],\n",
       "\n",
       "         [[1.134991  ],\n",
       "          [1.134991  ],\n",
       "          [1.0958533 ],\n",
       "          ...,\n",
       "          [0.        ],\n",
       "          [0.        ],\n",
       "          [0.        ]]]]], dtype=float32)"
      ]
     },
     "execution_count": 17,
     "metadata": {},
     "output_type": "execute_result"
    }
   ],
   "source": [
    "val = sample.next();val[0]"
   ]
  },
  {
   "cell_type": "code",
   "execution_count": 18,
   "id": "fdb04ce5",
   "metadata": {
    "execution": {
     "iopub.execute_input": "2024-01-31T04:33:50.995364Z",
     "iopub.status.busy": "2024-01-31T04:33:50.995029Z",
     "iopub.status.idle": "2024-01-31T04:33:51.009308Z",
     "shell.execute_reply": "2024-01-31T04:33:51.006696Z"
    },
    "papermill": {
     "duration": 0.038868,
     "end_time": "2024-01-31T04:33:51.011809",
     "exception": false,
     "start_time": "2024-01-31T04:33:50.972941",
     "status": "completed"
    },
    "tags": []
   },
   "outputs": [],
   "source": [
    "from tensorflow.keras.models import Sequential\n",
    "from tensorflow.keras.layers import Conv3D, LSTM, Dense, Dropout, Bidirectional, MaxPool3D,Activation, Reshape, SpatialDropout3D, BatchNormalization, TimeDistributed, Flatten\n",
    "from tensorflow.keras.optimizers import Adam\n",
    "from tensorflow.keras.callbacks import ModelCheckpoint, LearningRateScheduler"
   ]
  },
  {
   "cell_type": "code",
   "execution_count": 19,
   "id": "0e1afafe",
   "metadata": {
    "execution": {
     "iopub.execute_input": "2024-01-31T04:33:51.040673Z",
     "iopub.status.busy": "2024-01-31T04:33:51.040334Z",
     "iopub.status.idle": "2024-01-31T04:33:52.149651Z",
     "shell.execute_reply": "2024-01-31T04:33:52.148759Z"
    },
    "papermill": {
     "duration": 1.126634,
     "end_time": "2024-01-31T04:33:52.151912",
     "exception": false,
     "start_time": "2024-01-31T04:33:51.025278",
     "status": "completed"
    },
    "tags": []
   },
   "outputs": [
    {
     "data": {
      "text/plain": [
       "(75, 46, 140, 1)"
      ]
     },
     "execution_count": 19,
     "metadata": {},
     "output_type": "execute_result"
    }
   ],
   "source": [
    "data.as_numpy_iterator().next()[0][0].shape"
   ]
  },
  {
   "cell_type": "code",
   "execution_count": 20,
   "id": "e848e802",
   "metadata": {
    "execution": {
     "iopub.execute_input": "2024-01-31T04:33:52.180108Z",
     "iopub.status.busy": "2024-01-31T04:33:52.179502Z",
     "iopub.status.idle": "2024-01-31T04:33:54.842034Z",
     "shell.execute_reply": "2024-01-31T04:33:54.841187Z"
    },
    "papermill": {
     "duration": 2.679503,
     "end_time": "2024-01-31T04:33:54.844639",
     "exception": false,
     "start_time": "2024-01-31T04:33:52.165136",
     "status": "completed"
    },
    "tags": []
   },
   "outputs": [],
   "source": [
    "model = Sequential()\n",
    "model.add(Conv3D(128, 3, input_shape=(75,46,140,1), padding='same'))\n",
    "model.add(Activation('relu'))\n",
    "model.add(MaxPool3D((1,2,2)))\n",
    "\n",
    "model.add(Conv3D(256, 3, padding='same'))\n",
    "model.add(Activation('relu'))\n",
    "model.add(MaxPool3D((1,2,2)))\n",
    "\n",
    "model.add(Conv3D(75, 3, padding='same'))\n",
    "model.add(Activation('relu'))\n",
    "model.add(MaxPool3D((1,2,2)))\n",
    "\n",
    "model.add(TimeDistributed(Flatten()))\n",
    "\n",
    "model.add(Bidirectional(LSTM(128, kernel_initializer='Orthogonal', return_sequences=True)))\n",
    "model.add(Dropout(.5))\n",
    "\n",
    "model.add(Bidirectional(LSTM(128, kernel_initializer='Orthogonal', return_sequences=True)))\n",
    "model.add(Dropout(.5))\n",
    "\n",
    "model.add(Dense(char_to_num.vocabulary_size()+1, kernel_initializer='he_normal', activation='softmax'))"
   ]
  },
  {
   "cell_type": "code",
   "execution_count": 21,
   "id": "979e7cbc",
   "metadata": {
    "execution": {
     "iopub.execute_input": "2024-01-31T04:33:54.874149Z",
     "iopub.status.busy": "2024-01-31T04:33:54.873269Z",
     "iopub.status.idle": "2024-01-31T04:33:54.922850Z",
     "shell.execute_reply": "2024-01-31T04:33:54.921936Z"
    },
    "papermill": {
     "duration": 0.073006,
     "end_time": "2024-01-31T04:33:54.931861",
     "exception": false,
     "start_time": "2024-01-31T04:33:54.858855",
     "status": "completed"
    },
    "tags": []
   },
   "outputs": [
    {
     "name": "stdout",
     "output_type": "stream",
     "text": [
      "Model: \"sequential\"\n",
      "_________________________________________________________________\n",
      " Layer (type)                Output Shape              Param #   \n",
      "=================================================================\n",
      " conv3d (Conv3D)             (None, 75, 46, 140, 128   3584      \n",
      "                             )                                   \n",
      "                                                                 \n",
      " activation (Activation)     (None, 75, 46, 140, 128   0         \n",
      "                             )                                   \n",
      "                                                                 \n",
      " max_pooling3d (MaxPooling3  (None, 75, 23, 70, 128)   0         \n",
      " D)                                                              \n",
      "                                                                 \n",
      " conv3d_1 (Conv3D)           (None, 75, 23, 70, 256)   884992    \n",
      "                                                                 \n",
      " activation_1 (Activation)   (None, 75, 23, 70, 256)   0         \n",
      "                                                                 \n",
      " max_pooling3d_1 (MaxPoolin  (None, 75, 11, 35, 256)   0         \n",
      " g3D)                                                            \n",
      "                                                                 \n",
      " conv3d_2 (Conv3D)           (None, 75, 11, 35, 75)    518475    \n",
      "                                                                 \n",
      " activation_2 (Activation)   (None, 75, 11, 35, 75)    0         \n",
      "                                                                 \n",
      " max_pooling3d_2 (MaxPoolin  (None, 75, 5, 17, 75)     0         \n",
      " g3D)                                                            \n",
      "                                                                 \n",
      " time_distributed (TimeDist  (None, 75, 6375)          0         \n",
      " ributed)                                                        \n",
      "                                                                 \n",
      " bidirectional (Bidirection  (None, 75, 256)           6660096   \n",
      " al)                                                             \n",
      "                                                                 \n",
      " dropout (Dropout)           (None, 75, 256)           0         \n",
      "                                                                 \n",
      " bidirectional_1 (Bidirecti  (None, 75, 256)           394240    \n",
      " onal)                                                           \n",
      "                                                                 \n",
      " dropout_1 (Dropout)         (None, 75, 256)           0         \n",
      "                                                                 \n",
      " dense (Dense)               (None, 75, 55)            14135     \n",
      "                                                                 \n",
      "=================================================================\n",
      "Total params: 8475522 (32.33 MB)\n",
      "Trainable params: 8475522 (32.33 MB)\n",
      "Non-trainable params: 0 (0.00 Byte)\n",
      "_________________________________________________________________\n"
     ]
    }
   ],
   "source": [
    "model.summary()"
   ]
  },
  {
   "cell_type": "code",
   "execution_count": 22,
   "id": "eb558908",
   "metadata": {
    "execution": {
     "iopub.execute_input": "2024-01-31T04:33:54.967509Z",
     "iopub.status.busy": "2024-01-31T04:33:54.966583Z",
     "iopub.status.idle": "2024-01-31T04:33:58.139078Z",
     "shell.execute_reply": "2024-01-31T04:33:58.138257Z"
    },
    "papermill": {
     "duration": 3.192976,
     "end_time": "2024-01-31T04:33:58.141313",
     "exception": false,
     "start_time": "2024-01-31T04:33:54.948337",
     "status": "completed"
    },
    "tags": []
   },
   "outputs": [
    {
     "name": "stdout",
     "output_type": "stream",
     "text": [
      "1/1 [==============================] - 3s 3s/step\n"
     ]
    }
   ],
   "source": [
    "yhat = model.predict(val[0])"
   ]
  },
  {
   "cell_type": "code",
   "execution_count": 23,
   "id": "77ee31a1",
   "metadata": {
    "execution": {
     "iopub.execute_input": "2024-01-31T04:33:58.177725Z",
     "iopub.status.busy": "2024-01-31T04:33:58.177391Z",
     "iopub.status.idle": "2024-01-31T04:33:58.182381Z",
     "shell.execute_reply": "2024-01-31T04:33:58.181489Z"
    },
    "papermill": {
     "duration": 0.02501,
     "end_time": "2024-01-31T04:33:58.184454",
     "exception": false,
     "start_time": "2024-01-31T04:33:58.159444",
     "status": "completed"
    },
    "tags": []
   },
   "outputs": [],
   "source": [
    "def scheduler(epoch, lr):\n",
    "    if epoch < 30:\n",
    "        return lr\n",
    "    else:\n",
    "        return lr * tf.math.exp(-0.1)"
   ]
  },
  {
   "cell_type": "code",
   "execution_count": 24,
   "id": "52958d87",
   "metadata": {
    "execution": {
     "iopub.execute_input": "2024-01-31T04:33:58.221857Z",
     "iopub.status.busy": "2024-01-31T04:33:58.221437Z",
     "iopub.status.idle": "2024-01-31T04:33:58.229993Z",
     "shell.execute_reply": "2024-01-31T04:33:58.229039Z"
    },
    "papermill": {
     "duration": 0.030371,
     "end_time": "2024-01-31T04:33:58.232194",
     "exception": false,
     "start_time": "2024-01-31T04:33:58.201823",
     "status": "completed"
    },
    "tags": []
   },
   "outputs": [],
   "source": [
    "class ProduceExample(tf.keras.callbacks.Callback): \n",
    "    def __init__(self, dataset) -> None: \n",
    "        self.dataset = dataset.as_numpy_iterator()\n",
    "    \n",
    "    def on_epoch_end(self, epoch, logs=None) -> None:\n",
    "        data = self.dataset.next()\n",
    "        yhat = self.model.predict(data[0])\n",
    "        decoded = tf.keras.backend.ctc_decode(yhat, [75,75], greedy=False)[0][0].numpy()\n",
    "        for x in range(len(yhat)):           \n",
    "            print('Original:', tf.strings.reduce_join(num_to_char(data[1][x])).numpy().decode('utf-8'))\n",
    "            print('Prediction:', tf.strings.reduce_join(num_to_char(decoded[x])).numpy().decode('utf-8'))\n",
    "            print('~'*100)"
   ]
  },
  {
   "cell_type": "code",
   "execution_count": null,
   "id": "e14ce61a",
   "metadata": {
    "papermill": {
     "duration": 0.016856,
     "end_time": "2024-01-31T04:33:58.266460",
     "exception": false,
     "start_time": "2024-01-31T04:33:58.249604",
     "status": "completed"
    },
    "tags": []
   },
   "outputs": [],
   "source": []
  },
  {
   "cell_type": "code",
   "execution_count": 25,
   "id": "406f1a51",
   "metadata": {
    "execution": {
     "iopub.execute_input": "2024-01-31T04:33:58.301941Z",
     "iopub.status.busy": "2024-01-31T04:33:58.301548Z",
     "iopub.status.idle": "2024-01-31T04:33:58.308327Z",
     "shell.execute_reply": "2024-01-31T04:33:58.307410Z"
    },
    "papermill": {
     "duration": 0.027368,
     "end_time": "2024-01-31T04:33:58.310529",
     "exception": false,
     "start_time": "2024-01-31T04:33:58.283161",
     "status": "completed"
    },
    "tags": []
   },
   "outputs": [],
   "source": [
    "def CTCLoss(y_true, y_pred):\n",
    "    batch_len = tf.cast(tf.shape(y_true)[0], dtype=\"int64\")\n",
    "    input_length = tf.cast(tf.shape(y_pred)[1], dtype=\"int64\")\n",
    "    label_length = tf.cast(tf.shape(y_true)[1], dtype=\"int64\")\n",
    "\n",
    "    input_length = input_length * tf.ones(shape=(batch_len, 1), dtype=\"int64\")\n",
    "    label_length = label_length * tf.ones(shape=(batch_len, 1), dtype=\"int64\")\n",
    "\n",
    "    loss = tf.keras.backend.ctc_batch_cost(y_true, y_pred, input_length, label_length)\n",
    "    return loss"
   ]
  },
  {
   "cell_type": "code",
   "execution_count": 26,
   "id": "35608a6e",
   "metadata": {
    "execution": {
     "iopub.execute_input": "2024-01-31T04:33:58.346788Z",
     "iopub.status.busy": "2024-01-31T04:33:58.346161Z",
     "iopub.status.idle": "2024-01-31T04:33:58.378754Z",
     "shell.execute_reply": "2024-01-31T04:33:58.377906Z"
    },
    "papermill": {
     "duration": 0.053464,
     "end_time": "2024-01-31T04:33:58.381261",
     "exception": false,
     "start_time": "2024-01-31T04:33:58.327797",
     "status": "completed"
    },
    "tags": []
   },
   "outputs": [],
   "source": [
    "model.compile(optimizer=Adam(learning_rate=0.0001), loss=CTCLoss)\n",
    "checkpoint_callback = ModelCheckpoint(os.path.join('models','checkpoint'), monitor='loss', save_weights_only=True) \n",
    "schedule_callback = LearningRateScheduler(scheduler)\n",
    "example_callback = ProduceExample(test)"
   ]
  },
  {
   "cell_type": "code",
   "execution_count": null,
   "id": "221eeaff",
   "metadata": {
    "papermill": {
     "duration": 0.017557,
     "end_time": "2024-01-31T04:33:58.416968",
     "exception": false,
     "start_time": "2024-01-31T04:33:58.399411",
     "status": "completed"
    },
    "tags": []
   },
   "outputs": [],
   "source": []
  },
  {
   "cell_type": "code",
   "execution_count": null,
   "id": "9e24117c",
   "metadata": {
    "papermill": {
     "duration": 0.017225,
     "end_time": "2024-01-31T04:33:58.452460",
     "exception": false,
     "start_time": "2024-01-31T04:33:58.435235",
     "status": "completed"
    },
    "tags": []
   },
   "outputs": [],
   "source": []
  },
  {
   "cell_type": "code",
   "execution_count": 27,
   "id": "5ef5c122",
   "metadata": {
    "execution": {
     "iopub.execute_input": "2024-01-31T04:33:58.488681Z",
     "iopub.status.busy": "2024-01-31T04:33:58.487707Z",
     "iopub.status.idle": "2024-01-31T12:46:16.364257Z",
     "shell.execute_reply": "2024-01-31T12:46:16.363248Z"
    },
    "papermill": {
     "duration": 29539.610081,
     "end_time": "2024-01-31T12:46:18.079422",
     "exception": false,
     "start_time": "2024-01-31T04:33:58.469341",
     "status": "completed"
    },
    "tags": []
   },
   "outputs": [
    {
     "name": "stdout",
     "output_type": "stream",
     "text": [
      "Epoch 1/50\n",
      "129/450 [=======>......................] - ETA: 4:03 - loss: 99.1300"
     ]
    },
    {
     "name": "stderr",
     "output_type": "stream",
     "text": [
      "[mpeg1video @ 0x7f247c04e880] ac-tex damaged at 22 17\n",
      "[mpeg1video @ 0x7f247c04e880] Warning MVs not available\n"
     ]
    },
    {
     "name": "stdout",
     "output_type": "stream",
     "text": [
      "450/450 [==============================] - ETA: 0s - loss: 83.6291"
     ]
    },
    {
     "name": "stderr",
     "output_type": "stream",
     "text": [
      "[mpeg1video @ 0x7f23280541c0] ac-tex damaged at 22 17\n",
      "[mpeg1video @ 0x7f23280541c0] Warning MVs not available\n",
      "[mpeg1video @ 0x7f1ed8099700] ac-tex damaged at 22 17\n",
      "[mpeg1video @ 0x7f1ed8099700] Warning MVs not available\n"
     ]
    },
    {
     "name": "stdout",
     "output_type": "stream",
     "text": [
      "1/1 [==============================] - 2s 2s/step\n",
      "Original: setgreenithdthreeagain\n",
      "Prediction: leee\n",
      "~~~~~~~~~~~~~~~~~~~~~~~~~~~~~~~~~~~~~~~~~~~~~~~~~~~~~~~~~~~~~~~~~~~~~~~~~~~~~~~~~~~~~~~~~~~~~~~~~~~~\n",
      "Original: placebluebyieightno\n",
      "Prediction: leeee\n",
      "~~~~~~~~~~~~~~~~~~~~~~~~~~~~~~~~~~~~~~~~~~~~~~~~~~~~~~~~~~~~~~~~~~~~~~~~~~~~~~~~~~~~~~~~~~~~~~~~~~~~\n",
      "450/450 [==============================] - 830s 2s/step - loss: 83.6291 - val_loss: 69.6895 - lr: 1.0000e-04\n",
      "Epoch 2/50\n",
      "210/450 [=============>................] - ETA: 3:02 - loss: 72.3929"
     ]
    },
    {
     "name": "stderr",
     "output_type": "stream",
     "text": [
      "[mpeg1video @ 0x7f230c0547c0] ac-tex damaged at 22 17\n",
      "[mpeg1video @ 0x7f230c0547c0] Warning MVs not available\n"
     ]
    },
    {
     "name": "stdout",
     "output_type": "stream",
     "text": [
      "450/450 [==============================] - ETA: 0s - loss: 70.9559"
     ]
    },
    {
     "name": "stderr",
     "output_type": "stream",
     "text": [
      "[mpeg1video @ 0x7f248807be00] ac-tex damaged at 22 17\n",
      "[mpeg1video @ 0x7f248807be00] Warning MVs not available\n"
     ]
    },
    {
     "name": "stdout",
     "output_type": "stream",
     "text": [
      "1/1 [==============================] - 0s 119ms/step\n",
      "Original: setblueinnzeroplease\n",
      "Prediction: laeeeeoo\n",
      "~~~~~~~~~~~~~~~~~~~~~~~~~~~~~~~~~~~~~~~~~~~~~~~~~~~~~~~~~~~~~~~~~~~~~~~~~~~~~~~~~~~~~~~~~~~~~~~~~~~~\n",
      "Original: layredinqeightplease\n",
      "Prediction: laeeeioo\n",
      "~~~~~~~~~~~~~~~~~~~~~~~~~~~~~~~~~~~~~~~~~~~~~~~~~~~~~~~~~~~~~~~~~~~~~~~~~~~~~~~~~~~~~~~~~~~~~~~~~~~~\n",
      "450/450 [==============================] - 603s 1s/step - loss: 70.9559 - val_loss: 65.3851 - lr: 1.0000e-04\n",
      "Epoch 3/50\n",
      "194/450 [===========>..................] - ETA: 3:19 - loss: 67.2484"
     ]
    },
    {
     "name": "stderr",
     "output_type": "stream",
     "text": [
      "[mpeg1video @ 0x7f22e8040000] ac-tex damaged at 22 17\n",
      "[mpeg1video @ 0x7f22e8040000] Warning MVs not available\n"
     ]
    },
    {
     "name": "stdout",
     "output_type": "stream",
     "text": [
      "450/450 [==============================] - ETA: 0s - loss: 66.2786"
     ]
    },
    {
     "name": "stderr",
     "output_type": "stream",
     "text": [
      "[mpeg1video @ 0x7f232c051480] ac-tex damaged at 22 17\n",
      "[mpeg1video @ 0x7f232c051480] Warning MVs not available\n"
     ]
    },
    {
     "name": "stdout",
     "output_type": "stream",
     "text": [
      "1/1 [==============================] - 0s 119ms/step\n",
      "Original: binhiteithnsevensoon\n",
      "Prediction: laeeeea\n",
      "~~~~~~~~~~~~~~~~~~~~~~~~~~~~~~~~~~~~~~~~~~~~~~~~~~~~~~~~~~~~~~~~~~~~~~~~~~~~~~~~~~~~~~~~~~~~~~~~~~~~\n",
      "Original: setgreenatcfourspplease\n",
      "Prediction: laeeee\n",
      "~~~~~~~~~~~~~~~~~~~~~~~~~~~~~~~~~~~~~~~~~~~~~~~~~~~~~~~~~~~~~~~~~~~~~~~~~~~~~~~~~~~~~~~~~~~~~~~~~~~~\n",
      "450/450 [==============================] - 598s 1s/step - loss: 66.2786 - val_loss: 61.1066 - lr: 1.0000e-04\n",
      "Epoch 4/50\n",
      " 78/450 [====>.........................] - ETA: 4:40 - loss: 64.4186"
     ]
    },
    {
     "name": "stderr",
     "output_type": "stream",
     "text": [
      "[mpeg1video @ 0x7f1ee4003a00] ac-tex damaged at 22 17\n",
      "[mpeg1video @ 0x7f1ee4003a00] Warning MVs not available\n"
     ]
    },
    {
     "name": "stdout",
     "output_type": "stream",
     "text": [
      "450/450 [==============================] - ETA: 0s - loss: 63.3018"
     ]
    },
    {
     "name": "stderr",
     "output_type": "stream",
     "text": [
      "[mpeg1video @ 0x7f22f4feec80] ac-tex damaged at 22 17\n",
      "[mpeg1video @ 0x7f22f4feec80] Warning MVs not available\n"
     ]
    },
    {
     "name": "stdout",
     "output_type": "stream",
     "text": [
      "1/1 [==============================] - 0s 131ms/step\n",
      "Original: sethiteithpthreesoon\n",
      "Prediction: laeeteeo\n",
      "~~~~~~~~~~~~~~~~~~~~~~~~~~~~~~~~~~~~~~~~~~~~~~~~~~~~~~~~~~~~~~~~~~~~~~~~~~~~~~~~~~~~~~~~~~~~~~~~~~~~\n",
      "Original: sethiteinhnineagain\n",
      "Prediction: laeeteea\n",
      "~~~~~~~~~~~~~~~~~~~~~~~~~~~~~~~~~~~~~~~~~~~~~~~~~~~~~~~~~~~~~~~~~~~~~~~~~~~~~~~~~~~~~~~~~~~~~~~~~~~~\n",
      "450/450 [==============================] - 599s 1s/step - loss: 63.3018 - val_loss: 59.4550 - lr: 1.0000e-04\n",
      "Epoch 5/50\n",
      "115/450 [======>.......................] - ETA: 4:14 - loss: 61.9095"
     ]
    },
    {
     "name": "stderr",
     "output_type": "stream",
     "text": [
      "[mpeg1video @ 0x7f248c02ca00] ac-tex damaged at 22 17\n",
      "[mpeg1video @ 0x7f248c02ca00] Warning MVs not available\n"
     ]
    },
    {
     "name": "stdout",
     "output_type": "stream",
     "text": [
      "450/450 [==============================] - ETA: 0s - loss: 61.5171"
     ]
    },
    {
     "name": "stderr",
     "output_type": "stream",
     "text": [
      "[mpeg1video @ 0x7f1eec053d80] ac-tex damaged at 22 17\n",
      "[mpeg1video @ 0x7f1eec053d80] Warning MVs not available\n"
     ]
    },
    {
     "name": "stdout",
     "output_type": "stream",
     "text": [
      "1/1 [==============================] - 0s 122ms/step\n",
      "Original: laygreenbyssixno\n",
      "Prediction: laeteea\n",
      "~~~~~~~~~~~~~~~~~~~~~~~~~~~~~~~~~~~~~~~~~~~~~~~~~~~~~~~~~~~~~~~~~~~~~~~~~~~~~~~~~~~~~~~~~~~~~~~~~~~~\n",
      "Original: bingreenithioneagain\n",
      "Prediction: laeteeo\n",
      "~~~~~~~~~~~~~~~~~~~~~~~~~~~~~~~~~~~~~~~~~~~~~~~~~~~~~~~~~~~~~~~~~~~~~~~~~~~~~~~~~~~~~~~~~~~~~~~~~~~~\n",
      "450/450 [==============================] - 612s 1s/step - loss: 61.5171 - val_loss: 56.5051 - lr: 1.0000e-04\n",
      "Epoch 6/50\n",
      " 90/450 [=====>........................] - ETA: 4:41 - loss: 59.9505"
     ]
    },
    {
     "name": "stderr",
     "output_type": "stream",
     "text": [
      "[mpeg1video @ 0x7f23d0052300] ac-tex damaged at 22 17\n",
      "[mpeg1video @ 0x7f23d0052300] Warning MVs not available\n"
     ]
    },
    {
     "name": "stdout",
     "output_type": "stream",
     "text": [
      "450/450 [==============================] - ETA: 0s - loss: 59.4880"
     ]
    },
    {
     "name": "stderr",
     "output_type": "stream",
     "text": [
      "[mpeg1video @ 0x5ce308bdfb00] ac-tex damaged at 22 17\n",
      "[mpeg1video @ 0x5ce308bdfb00] Warning MVs not available\n"
     ]
    },
    {
     "name": "stdout",
     "output_type": "stream",
     "text": [
      "1/1 [==============================] - 0s 119ms/step\n",
      "Original: layblueithynineagain\n",
      "Prediction: laeeo\n",
      "~~~~~~~~~~~~~~~~~~~~~~~~~~~~~~~~~~~~~~~~~~~~~~~~~~~~~~~~~~~~~~~~~~~~~~~~~~~~~~~~~~~~~~~~~~~~~~~~~~~~\n",
      "Original: bingreenathonesoon\n",
      "Prediction: lareeo\n",
      "~~~~~~~~~~~~~~~~~~~~~~~~~~~~~~~~~~~~~~~~~~~~~~~~~~~~~~~~~~~~~~~~~~~~~~~~~~~~~~~~~~~~~~~~~~~~~~~~~~~~\n",
      "450/450 [==============================] - 599s 1s/step - loss: 59.4880 - val_loss: 54.9119 - lr: 1.0000e-04\n",
      "Epoch 7/50\n",
      "421/450 [===========================>..] - ETA: 22s - loss: 55.6094"
     ]
    },
    {
     "name": "stderr",
     "output_type": "stream",
     "text": [
      "[mpeg1video @ 0x7f2328040880] ac-tex damaged at 22 17\n",
      "[mpeg1video @ 0x7f2328040880] Warning MVs not available\n"
     ]
    },
    {
     "name": "stdout",
     "output_type": "stream",
     "text": [
      "450/450 [==============================] - ETA: 0s - loss: 55.6141"
     ]
    },
    {
     "name": "stderr",
     "output_type": "stream",
     "text": [
      "[mpeg1video @ 0x7f24880467c0] ac-tex damaged at 22 17\n",
      "[mpeg1video @ 0x7f24880467c0] Warning MVs not available\n"
     ]
    },
    {
     "name": "stdout",
     "output_type": "stream",
     "text": [
      "1/1 [==============================] - 0s 118ms/step\n",
      "Original: placeredatcsevensoon\n",
      "Prediction: lareteea\n",
      "~~~~~~~~~~~~~~~~~~~~~~~~~~~~~~~~~~~~~~~~~~~~~~~~~~~~~~~~~~~~~~~~~~~~~~~~~~~~~~~~~~~~~~~~~~~~~~~~~~~~\n",
      "Original: placegreenithrfivesoon\n",
      "Prediction: lareea\n",
      "~~~~~~~~~~~~~~~~~~~~~~~~~~~~~~~~~~~~~~~~~~~~~~~~~~~~~~~~~~~~~~~~~~~~~~~~~~~~~~~~~~~~~~~~~~~~~~~~~~~~\n",
      "450/450 [==============================] - 602s 1s/step - loss: 55.6141 - val_loss: 51.6188 - lr: 1.0000e-04\n",
      "Epoch 8/50\n",
      "221/450 [=============>................] - ETA: 2:54 - loss: 54.9245"
     ]
    },
    {
     "name": "stderr",
     "output_type": "stream",
     "text": [
      "[mpeg1video @ 0x7f22f4e9c240] ac-tex damaged at 22 17\n",
      "[mpeg1video @ 0x7f22f4e9c240] Warning MVs not available\n"
     ]
    },
    {
     "name": "stdout",
     "output_type": "stream",
     "text": [
      "450/450 [==============================] - ETA: 0s - loss: 54.4117"
     ]
    },
    {
     "name": "stderr",
     "output_type": "stream",
     "text": [
      "[mpeg1video @ 0x7f2330016280] ac-tex damaged at 22 17\n",
      "[mpeg1video @ 0x7f2330016280] Warning MVs not available\n"
     ]
    },
    {
     "name": "stdout",
     "output_type": "stream",
     "text": [
      "1/1 [==============================] - 0s 117ms/step\n",
      "Original: layhiteinyeightplease\n",
      "Prediction: lareteea\n",
      "~~~~~~~~~~~~~~~~~~~~~~~~~~~~~~~~~~~~~~~~~~~~~~~~~~~~~~~~~~~~~~~~~~~~~~~~~~~~~~~~~~~~~~~~~~~~~~~~~~~~\n",
      "Original: binblueatlsixno\n",
      "Prediction: laretee\n",
      "~~~~~~~~~~~~~~~~~~~~~~~~~~~~~~~~~~~~~~~~~~~~~~~~~~~~~~~~~~~~~~~~~~~~~~~~~~~~~~~~~~~~~~~~~~~~~~~~~~~~\n",
      "450/450 [==============================] - 594s 1s/step - loss: 54.4117 - val_loss: 51.5746 - lr: 1.0000e-04\n",
      "Epoch 9/50\n",
      " 98/450 [=====>........................] - ETA: 4:27 - loss: 53.4476"
     ]
    },
    {
     "name": "stderr",
     "output_type": "stream",
     "text": [
      "[mpeg1video @ 0x7f1ee4016c00] ac-tex damaged at 22 17\n",
      "[mpeg1video @ 0x7f1ee4016c00] Warning MVs not available\n"
     ]
    },
    {
     "name": "stdout",
     "output_type": "stream",
     "text": [
      "450/450 [==============================] - ETA: 0s - loss: 52.7619"
     ]
    },
    {
     "name": "stderr",
     "output_type": "stream",
     "text": [
      "[mpeg1video @ 0x7f23046c8480] ac-tex damaged at 22 17\n",
      "[mpeg1video @ 0x7f23046c8480] Warning MVs not available\n"
     ]
    },
    {
     "name": "stdout",
     "output_type": "stream",
     "text": [
      "1/1 [==============================] - 0s 124ms/step\n",
      "Original: binbluebyzeightno\n",
      "Prediction: lareteo\n",
      "~~~~~~~~~~~~~~~~~~~~~~~~~~~~~~~~~~~~~~~~~~~~~~~~~~~~~~~~~~~~~~~~~~~~~~~~~~~~~~~~~~~~~~~~~~~~~~~~~~~~\n",
      "Original: placegreenatyonesoon\n",
      "Prediction: lareteo\n",
      "~~~~~~~~~~~~~~~~~~~~~~~~~~~~~~~~~~~~~~~~~~~~~~~~~~~~~~~~~~~~~~~~~~~~~~~~~~~~~~~~~~~~~~~~~~~~~~~~~~~~\n",
      "450/450 [==============================] - 598s 1s/step - loss: 52.7619 - val_loss: 49.6273 - lr: 1.0000e-04\n",
      "Epoch 10/50\n",
      " 62/450 [===>..........................] - ETA: 4:55 - loss: 51.3707"
     ]
    },
    {
     "name": "stderr",
     "output_type": "stream",
     "text": [
      "[mpeg1video @ 0x7f249c0b3700] ac-tex damaged at 22 17\n",
      "[mpeg1video @ 0x7f249c0b3700] Warning MVs not available\n"
     ]
    },
    {
     "name": "stdout",
     "output_type": "stream",
     "text": [
      "450/450 [==============================] - ETA: 0s - loss: 51.2865"
     ]
    },
    {
     "name": "stderr",
     "output_type": "stream",
     "text": [
      "[mpeg1video @ 0x7f22f000ccc0] ac-tex damaged at 22 17\n",
      "[mpeg1video @ 0x7f22f000ccc0] Warning MVs not available\n"
     ]
    },
    {
     "name": "stdout",
     "output_type": "stream",
     "text": [
      "1/1 [==============================] - 0s 118ms/step\n",
      "Original: binredithnonesoon\n",
      "Prediction: laretoo\n",
      "~~~~~~~~~~~~~~~~~~~~~~~~~~~~~~~~~~~~~~~~~~~~~~~~~~~~~~~~~~~~~~~~~~~~~~~~~~~~~~~~~~~~~~~~~~~~~~~~~~~~\n",
      "Original: binhiteinmsevenagain\n",
      "Prediction: lareteea\n",
      "~~~~~~~~~~~~~~~~~~~~~~~~~~~~~~~~~~~~~~~~~~~~~~~~~~~~~~~~~~~~~~~~~~~~~~~~~~~~~~~~~~~~~~~~~~~~~~~~~~~~\n",
      "450/450 [==============================] - 598s 1s/step - loss: 51.2865 - val_loss: 46.0629 - lr: 1.0000e-04\n",
      "Epoch 11/50\n",
      " 30/450 [=>............................] - ETA: 5:22 - loss: 49.8967"
     ]
    },
    {
     "name": "stderr",
     "output_type": "stream",
     "text": [
      "[mpeg1video @ 0x7f2470079c00] ac-tex damaged at 22 17\n",
      "[mpeg1video @ 0x7f2470079c00] Warning MVs not available\n"
     ]
    },
    {
     "name": "stdout",
     "output_type": "stream",
     "text": [
      "450/450 [==============================] - ETA: 0s - loss: 49.0246"
     ]
    },
    {
     "name": "stderr",
     "output_type": "stream",
     "text": [
      "[mpeg1video @ 0x7f1ee407ea80] ac-tex damaged at 22 17\n",
      "[mpeg1video @ 0x7f1ee407ea80] Warning MVs not available\n"
     ]
    },
    {
     "name": "stdout",
     "output_type": "stream",
     "text": [
      "1/1 [==============================] - 0s 128ms/step\n",
      "Original: sethiteatbeightplease\n",
      "Prediction: larebeeae\n",
      "~~~~~~~~~~~~~~~~~~~~~~~~~~~~~~~~~~~~~~~~~~~~~~~~~~~~~~~~~~~~~~~~~~~~~~~~~~~~~~~~~~~~~~~~~~~~~~~~~~~~\n",
      "Original: setredatufourplease\n",
      "Prediction: laretelae\n",
      "~~~~~~~~~~~~~~~~~~~~~~~~~~~~~~~~~~~~~~~~~~~~~~~~~~~~~~~~~~~~~~~~~~~~~~~~~~~~~~~~~~~~~~~~~~~~~~~~~~~~\n",
      "450/450 [==============================] - 583s 1s/step - loss: 49.0246 - val_loss: 44.1431 - lr: 1.0000e-04\n",
      "Epoch 12/50\n",
      "178/450 [==========>...................] - ETA: 3:23 - loss: 47.6867"
     ]
    },
    {
     "name": "stderr",
     "output_type": "stream",
     "text": [
      "[mpeg1video @ 0x7f2328071100] ac-tex damaged at 22 17\n",
      "[mpeg1video @ 0x7f2328071100] Warning MVs not available\n"
     ]
    },
    {
     "name": "stdout",
     "output_type": "stream",
     "text": [
      "450/450 [==============================] - ETA: 0s - loss: 46.9662"
     ]
    },
    {
     "name": "stderr",
     "output_type": "stream",
     "text": [
      "[mpeg1video @ 0x7f248c0e23c0] ac-tex damaged at 22 17\n",
      "[mpeg1video @ 0x7f248c0e23c0] Warning MVs not available\n"
     ]
    },
    {
     "name": "stdout",
     "output_type": "stream",
     "text": [
      "1/1 [==============================] - 0s 121ms/step\n",
      "Original: layredbylonesoon\n",
      "Prediction: laretoo\n",
      "~~~~~~~~~~~~~~~~~~~~~~~~~~~~~~~~~~~~~~~~~~~~~~~~~~~~~~~~~~~~~~~~~~~~~~~~~~~~~~~~~~~~~~~~~~~~~~~~~~~~\n",
      "Original: binredithtsixplease\n",
      "Prediction: lareteplase\n",
      "~~~~~~~~~~~~~~~~~~~~~~~~~~~~~~~~~~~~~~~~~~~~~~~~~~~~~~~~~~~~~~~~~~~~~~~~~~~~~~~~~~~~~~~~~~~~~~~~~~~~\n",
      "450/450 [==============================] - 586s 1s/step - loss: 46.9662 - val_loss: 42.3823 - lr: 1.0000e-04\n",
      "Epoch 13/50\n",
      "226/450 [==============>...............] - ETA: 2:49 - loss: 44.5376"
     ]
    },
    {
     "name": "stderr",
     "output_type": "stream",
     "text": [
      "[mpeg1video @ 0x7f1e8df186c0] ac-tex damaged at 22 17\n",
      "[mpeg1video @ 0x7f1e8df186c0] Warning MVs not available\n"
     ]
    },
    {
     "name": "stdout",
     "output_type": "stream",
     "text": [
      "450/450 [==============================] - ETA: 0s - loss: 44.5322"
     ]
    },
    {
     "name": "stderr",
     "output_type": "stream",
     "text": [
      "[mpeg1video @ 0x7f2334026280] ac-tex damaged at 22 17\n",
      "[mpeg1video @ 0x7f2334026280] Warning MVs not available\n"
     ]
    },
    {
     "name": "stdout",
     "output_type": "stream",
     "text": [
      "1/1 [==============================] - 0s 117ms/step\n",
      "Original: laygreenbymtono\n",
      "Prediction: lareteo\n",
      "~~~~~~~~~~~~~~~~~~~~~~~~~~~~~~~~~~~~~~~~~~~~~~~~~~~~~~~~~~~~~~~~~~~~~~~~~~~~~~~~~~~~~~~~~~~~~~~~~~~~\n",
      "Original: binhiteithutoplease\n",
      "Prediction: lareteplase\n",
      "~~~~~~~~~~~~~~~~~~~~~~~~~~~~~~~~~~~~~~~~~~~~~~~~~~~~~~~~~~~~~~~~~~~~~~~~~~~~~~~~~~~~~~~~~~~~~~~~~~~~\n",
      "450/450 [==============================] - 588s 1s/step - loss: 44.5322 - val_loss: 39.0888 - lr: 1.0000e-04\n",
      "Epoch 14/50\n",
      " 44/450 [=>............................] - ETA: 5:08 - loss: 41.8998"
     ]
    },
    {
     "name": "stderr",
     "output_type": "stream",
     "text": [
      "[mpeg1video @ 0x7f22e805b440] ac-tex damaged at 22 17\n",
      "[mpeg1video @ 0x7f22e805b440] Warning MVs not available\n"
     ]
    },
    {
     "name": "stdout",
     "output_type": "stream",
     "text": [
      "450/450 [==============================] - ETA: 0s - loss: 42.2134"
     ]
    },
    {
     "name": "stderr",
     "output_type": "stream",
     "text": [
      "[mpeg1video @ 0x7f23241d8400] ac-tex damaged at 22 17\n",
      "[mpeg1video @ 0x7f23241d8400] Warning MVs not available\n"
     ]
    },
    {
     "name": "stdout",
     "output_type": "stream",
     "text": [
      "1/1 [==============================] - 0s 118ms/step\n",
      "Original: binredithntoplease\n",
      "Prediction: setreitelae\n",
      "~~~~~~~~~~~~~~~~~~~~~~~~~~~~~~~~~~~~~~~~~~~~~~~~~~~~~~~~~~~~~~~~~~~~~~~~~~~~~~~~~~~~~~~~~~~~~~~~~~~~\n",
      "Original: layredinythreeagain\n",
      "Prediction: setreitieain\n",
      "~~~~~~~~~~~~~~~~~~~~~~~~~~~~~~~~~~~~~~~~~~~~~~~~~~~~~~~~~~~~~~~~~~~~~~~~~~~~~~~~~~~~~~~~~~~~~~~~~~~~\n",
      "450/450 [==============================] - 587s 1s/step - loss: 42.2134 - val_loss: 37.1951 - lr: 1.0000e-04\n",
      "Epoch 15/50\n",
      "241/450 [===============>..............] - ETA: 2:37 - loss: 40.1446"
     ]
    },
    {
     "name": "stderr",
     "output_type": "stream",
     "text": [
      "[mpeg1video @ 0x7f249404ad40] ac-tex damaged at 22 17\n",
      "[mpeg1video @ 0x7f249404ad40] Warning MVs not available\n"
     ]
    },
    {
     "name": "stdout",
     "output_type": "stream",
     "text": [
      "450/450 [==============================] - ETA: 0s - loss: 39.8787"
     ]
    },
    {
     "name": "stderr",
     "output_type": "stream",
     "text": [
      "[mpeg1video @ 0x7f22f00522c0] ac-tex damaged at 22 17\n",
      "[mpeg1video @ 0x7f22f00522c0] Warning MVs not available\n"
     ]
    },
    {
     "name": "stdout",
     "output_type": "stream",
     "text": [
      "1/1 [==============================] - 0s 118ms/step\n",
      "Original: placehiteindzeroplease\n",
      "Prediction: plableitoplase\n",
      "~~~~~~~~~~~~~~~~~~~~~~~~~~~~~~~~~~~~~~~~~~~~~~~~~~~~~~~~~~~~~~~~~~~~~~~~~~~~~~~~~~~~~~~~~~~~~~~~~~~~\n",
      "Original: placegreenatythreeagain\n",
      "Prediction: placereitieain\n",
      "~~~~~~~~~~~~~~~~~~~~~~~~~~~~~~~~~~~~~~~~~~~~~~~~~~~~~~~~~~~~~~~~~~~~~~~~~~~~~~~~~~~~~~~~~~~~~~~~~~~~\n",
      "450/450 [==============================] - 591s 1s/step - loss: 39.8787 - val_loss: 34.4220 - lr: 1.0000e-04\n",
      "Epoch 16/50\n",
      "405/450 [==========================>...] - ETA: 33s - loss: 37.5430"
     ]
    },
    {
     "name": "stderr",
     "output_type": "stream",
     "text": [
      "[mpeg1video @ 0x7f24701ac680] ac-tex damaged at 22 17\n",
      "[mpeg1video @ 0x7f24701ac680] Warning MVs not available\n"
     ]
    },
    {
     "name": "stdout",
     "output_type": "stream",
     "text": [
      "450/450 [==============================] - ETA: 0s - loss: 37.5734"
     ]
    },
    {
     "name": "stderr",
     "output_type": "stream",
     "text": [
      "[mpeg1video @ 0x7f1ef008ff80] ac-tex damaged at 22 17\n",
      "[mpeg1video @ 0x7f1ef008ff80] Warning MVs not available\n"
     ]
    },
    {
     "name": "stdout",
     "output_type": "stream",
     "text": [
      "1/1 [==============================] - 0s 122ms/step\n",
      "Original: bingreenatnfivesoon\n",
      "Prediction: setreitoeson\n",
      "~~~~~~~~~~~~~~~~~~~~~~~~~~~~~~~~~~~~~~~~~~~~~~~~~~~~~~~~~~~~~~~~~~~~~~~~~~~~~~~~~~~~~~~~~~~~~~~~~~~~\n",
      "Original: layhitebyzsixplease\n",
      "Prediction: larebtieplase\n",
      "~~~~~~~~~~~~~~~~~~~~~~~~~~~~~~~~~~~~~~~~~~~~~~~~~~~~~~~~~~~~~~~~~~~~~~~~~~~~~~~~~~~~~~~~~~~~~~~~~~~~\n",
      "450/450 [==============================] - 573s 1s/step - loss: 37.5734 - val_loss: 32.3877 - lr: 1.0000e-04\n",
      "Epoch 17/50\n",
      "341/450 [=====================>........] - ETA: 1:20 - loss: 35.8662"
     ]
    },
    {
     "name": "stderr",
     "output_type": "stream",
     "text": [
      "[mpeg1video @ 0x7f232c01ff80] ac-tex damaged at 22 17\n",
      "[mpeg1video @ 0x7f232c01ff80] Warning MVs not available\n"
     ]
    },
    {
     "name": "stdout",
     "output_type": "stream",
     "text": [
      "450/450 [==============================] - ETA: 0s - loss: 35.6136"
     ]
    },
    {
     "name": "stderr",
     "output_type": "stream",
     "text": [
      "[mpeg1video @ 0x7f24980ad200] ac-tex damaged at 22 17\n",
      "[mpeg1video @ 0x7f24980ad200] Warning MVs not available\n"
     ]
    },
    {
     "name": "stdout",
     "output_type": "stream",
     "text": [
      "1/1 [==============================] - 0s 122ms/step\n",
      "Original: placehiteatqthreeagain\n",
      "Prediction: plachieitieain\n",
      "~~~~~~~~~~~~~~~~~~~~~~~~~~~~~~~~~~~~~~~~~~~~~~~~~~~~~~~~~~~~~~~~~~~~~~~~~~~~~~~~~~~~~~~~~~~~~~~~~~~~\n",
      "Original: setgreeninonineagain\n",
      "Prediction: setreiteain\n",
      "~~~~~~~~~~~~~~~~~~~~~~~~~~~~~~~~~~~~~~~~~~~~~~~~~~~~~~~~~~~~~~~~~~~~~~~~~~~~~~~~~~~~~~~~~~~~~~~~~~~~\n",
      "450/450 [==============================] - 577s 1s/step - loss: 35.6136 - val_loss: 30.8727 - lr: 1.0000e-04\n",
      "Epoch 18/50\n",
      " 73/450 [===>..........................] - ETA: 4:43 - loss: 32.9562"
     ]
    },
    {
     "name": "stderr",
     "output_type": "stream",
     "text": [
      "[mpeg1video @ 0x7f2300080e80] ac-tex damaged at 22 17\n",
      "[mpeg1video @ 0x7f2300080e80] Warning MVs not available\n"
     ]
    },
    {
     "name": "stdout",
     "output_type": "stream",
     "text": [
      "450/450 [==============================] - ETA: 0s - loss: 33.3629"
     ]
    },
    {
     "name": "stderr",
     "output_type": "stream",
     "text": [
      "[mpeg1video @ 0x7f23d0020640] ac-tex damaged at 22 17\n",
      "[mpeg1video @ 0x7f23d0020640] Warning MVs not available\n"
     ]
    },
    {
     "name": "stdout",
     "output_type": "stream",
     "text": [
      "1/1 [==============================] - 0s 117ms/step\n",
      "Original: placeredinieightplease\n",
      "Prediction: placereitieplase\n",
      "~~~~~~~~~~~~~~~~~~~~~~~~~~~~~~~~~~~~~~~~~~~~~~~~~~~~~~~~~~~~~~~~~~~~~~~~~~~~~~~~~~~~~~~~~~~~~~~~~~~~\n",
      "Original: setredinnsevenagain\n",
      "Prediction: setreitieain\n",
      "~~~~~~~~~~~~~~~~~~~~~~~~~~~~~~~~~~~~~~~~~~~~~~~~~~~~~~~~~~~~~~~~~~~~~~~~~~~~~~~~~~~~~~~~~~~~~~~~~~~~\n",
      "450/450 [==============================] - 586s 1s/step - loss: 33.3629 - val_loss: 28.6786 - lr: 1.0000e-04\n",
      "Epoch 19/50\n",
      "120/450 [=======>......................] - ETA: 4:05 - loss: 30.8992"
     ]
    },
    {
     "name": "stderr",
     "output_type": "stream",
     "text": [
      "[mpeg1video @ 0x7f1ef4106700] ac-tex damaged at 22 17\n",
      "[mpeg1video @ 0x7f1ef4106700] Warning MVs not available\n"
     ]
    },
    {
     "name": "stdout",
     "output_type": "stream",
     "text": [
      "450/450 [==============================] - ETA: 0s - loss: 30.9883"
     ]
    },
    {
     "name": "stderr",
     "output_type": "stream",
     "text": [
      "[mpeg1video @ 0x7f23300f4f00] ac-tex damaged at 22 17\n",
      "[mpeg1video @ 0x7f23300f4f00] Warning MVs not available\n"
     ]
    },
    {
     "name": "stdout",
     "output_type": "stream",
     "text": [
      "1/1 [==============================] - 0s 128ms/step\n",
      "Original: laygreenatlninesoon\n",
      "Prediction: lagrenitieson\n",
      "~~~~~~~~~~~~~~~~~~~~~~~~~~~~~~~~~~~~~~~~~~~~~~~~~~~~~~~~~~~~~~~~~~~~~~~~~~~~~~~~~~~~~~~~~~~~~~~~~~~~\n",
      "Original: placeblueatisevenagain\n",
      "Prediction: placeblueitieagain\n",
      "~~~~~~~~~~~~~~~~~~~~~~~~~~~~~~~~~~~~~~~~~~~~~~~~~~~~~~~~~~~~~~~~~~~~~~~~~~~~~~~~~~~~~~~~~~~~~~~~~~~~\n",
      "450/450 [==============================] - 580s 1s/step - loss: 30.9883 - val_loss: 25.4471 - lr: 1.0000e-04\n",
      "Epoch 20/50\n",
      "187/450 [===========>..................] - ETA: 3:16 - loss: 28.9235"
     ]
    },
    {
     "name": "stderr",
     "output_type": "stream",
     "text": [
      "[mpeg1video @ 0x7f1ee4053600] ac-tex damaged at 22 17\n",
      "[mpeg1video @ 0x7f1ee4053600] Warning MVs not available\n"
     ]
    },
    {
     "name": "stdout",
     "output_type": "stream",
     "text": [
      "450/450 [==============================] - ETA: 0s - loss: 28.6924"
     ]
    },
    {
     "name": "stderr",
     "output_type": "stream",
     "text": [
      "[mpeg1video @ 0x7f22f96d34c0] ac-tex damaged at 22 17\n",
      "[mpeg1video @ 0x7f22f96d34c0] Warning MVs not available\n"
     ]
    },
    {
     "name": "stdout",
     "output_type": "stream",
     "text": [
      "1/1 [==============================] - 0s 126ms/step\n",
      "Original: setgreenatinineagain\n",
      "Prediction: setgreitieagain\n",
      "~~~~~~~~~~~~~~~~~~~~~~~~~~~~~~~~~~~~~~~~~~~~~~~~~~~~~~~~~~~~~~~~~~~~~~~~~~~~~~~~~~~~~~~~~~~~~~~~~~~~\n",
      "Original: layhitebyftono\n",
      "Prediction: layhiebyoro\n",
      "~~~~~~~~~~~~~~~~~~~~~~~~~~~~~~~~~~~~~~~~~~~~~~~~~~~~~~~~~~~~~~~~~~~~~~~~~~~~~~~~~~~~~~~~~~~~~~~~~~~~\n",
      "450/450 [==============================] - 582s 1s/step - loss: 28.6924 - val_loss: 22.7521 - lr: 1.0000e-04\n",
      "Epoch 21/50\n",
      "112/450 [======>.......................] - ETA: 4:12 - loss: 27.3078"
     ]
    },
    {
     "name": "stderr",
     "output_type": "stream",
     "text": [
      "[mpeg1video @ 0x7f24980b2b80] ac-tex damaged at 22 17\n",
      "[mpeg1video @ 0x7f24980b2b80] Warning MVs not available\n"
     ]
    },
    {
     "name": "stdout",
     "output_type": "stream",
     "text": [
      "450/450 [==============================] - ETA: 0s - loss: 26.6064"
     ]
    },
    {
     "name": "stderr",
     "output_type": "stream",
     "text": [
      "[mpeg1video @ 0x7f22e40bbc40] ac-tex damaged at 22 17\n",
      "[mpeg1video @ 0x7f22e40bbc40] Warning MVs not available\n"
     ]
    },
    {
     "name": "stdout",
     "output_type": "stream",
     "text": [
      "1/1 [==============================] - 0s 125ms/step\n",
      "Original: sethiteinbtono\n",
      "Prediction: sethieitoo\n",
      "~~~~~~~~~~~~~~~~~~~~~~~~~~~~~~~~~~~~~~~~~~~~~~~~~~~~~~~~~~~~~~~~~~~~~~~~~~~~~~~~~~~~~~~~~~~~~~~~~~~~\n",
      "Original: layhitebysonesoon\n",
      "Prediction: layhrebyeson\n",
      "~~~~~~~~~~~~~~~~~~~~~~~~~~~~~~~~~~~~~~~~~~~~~~~~~~~~~~~~~~~~~~~~~~~~~~~~~~~~~~~~~~~~~~~~~~~~~~~~~~~~\n",
      "450/450 [==============================] - 586s 1s/step - loss: 26.6064 - val_loss: 20.7822 - lr: 1.0000e-04\n",
      "Epoch 22/50\n",
      "218/450 [=============>................] - ETA: 2:59 - loss: 24.9021"
     ]
    },
    {
     "name": "stderr",
     "output_type": "stream",
     "text": [
      "[mpeg1video @ 0x7f232c042cc0] ac-tex damaged at 22 17\n",
      "[mpeg1video @ 0x7f232c042cc0] Warning MVs not available\n"
     ]
    },
    {
     "name": "stdout",
     "output_type": "stream",
     "text": [
      "450/450 [==============================] - ETA: 0s - loss: 24.6800"
     ]
    },
    {
     "name": "stderr",
     "output_type": "stream",
     "text": [
      "[mpeg1video @ 0x7f1ee4037e40] ac-tex damaged at 22 17\n",
      "[mpeg1video @ 0x7f1ee4037e40] Warning MVs not available\n"
     ]
    },
    {
     "name": "stdout",
     "output_type": "stream",
     "text": [
      "1/1 [==============================] - 0s 126ms/step\n",
      "Original: layhiteinkeightno\n",
      "Prediction: layhiteatihtno\n",
      "~~~~~~~~~~~~~~~~~~~~~~~~~~~~~~~~~~~~~~~~~~~~~~~~~~~~~~~~~~~~~~~~~~~~~~~~~~~~~~~~~~~~~~~~~~~~~~~~~~~~\n",
      "Original: layredbyyninesoon\n",
      "Prediction: layredbynenson\n",
      "~~~~~~~~~~~~~~~~~~~~~~~~~~~~~~~~~~~~~~~~~~~~~~~~~~~~~~~~~~~~~~~~~~~~~~~~~~~~~~~~~~~~~~~~~~~~~~~~~~~~\n",
      "450/450 [==============================] - 595s 1s/step - loss: 24.6800 - val_loss: 19.1524 - lr: 1.0000e-04\n",
      "Epoch 23/50\n",
      "385/450 [========================>.....] - ETA: 48s - loss: 22.4477"
     ]
    },
    {
     "name": "stderr",
     "output_type": "stream",
     "text": [
      "[mpeg1video @ 0x7f23241e7940] ac-tex damaged at 22 17\n",
      "[mpeg1video @ 0x7f23241e7940] Warning MVs not available\n"
     ]
    },
    {
     "name": "stdout",
     "output_type": "stream",
     "text": [
      "450/450 [==============================] - ETA: 0s - loss: 22.2709"
     ]
    },
    {
     "name": "stderr",
     "output_type": "stream",
     "text": [
      "[mpeg1video @ 0x7f249808e4c0] ac-tex damaged at 22 17\n",
      "[mpeg1video @ 0x7f249808e4c0] Warning MVs not available\n"
     ]
    },
    {
     "name": "stdout",
     "output_type": "stream",
     "text": [
      "1/1 [==============================] - 0s 124ms/step\n",
      "Original: placeblueinofivesoon\n",
      "Prediction: placeblueinfveson\n",
      "~~~~~~~~~~~~~~~~~~~~~~~~~~~~~~~~~~~~~~~~~~~~~~~~~~~~~~~~~~~~~~~~~~~~~~~~~~~~~~~~~~~~~~~~~~~~~~~~~~~~\n",
      "Original: setgreeninbninesoon\n",
      "Prediction: setgreninineson\n",
      "~~~~~~~~~~~~~~~~~~~~~~~~~~~~~~~~~~~~~~~~~~~~~~~~~~~~~~~~~~~~~~~~~~~~~~~~~~~~~~~~~~~~~~~~~~~~~~~~~~~~\n",
      "450/450 [==============================] - 581s 1s/step - loss: 22.2709 - val_loss: 16.5814 - lr: 1.0000e-04\n",
      "Epoch 24/50\n",
      "191/450 [===========>..................] - ETA: 3:13 - loss: 20.7148"
     ]
    },
    {
     "name": "stderr",
     "output_type": "stream",
     "text": [
      "[mpeg1video @ 0x7f22f00102c0] ac-tex damaged at 22 17\n",
      "[mpeg1video @ 0x7f22f00102c0] Warning MVs not available\n"
     ]
    },
    {
     "name": "stdout",
     "output_type": "stream",
     "text": [
      "450/450 [==============================] - ETA: 0s - loss: 20.5569"
     ]
    },
    {
     "name": "stderr",
     "output_type": "stream",
     "text": [
      "[mpeg1video @ 0x7f23b406c1c0] ac-tex damaged at 22 17\n",
      "[mpeg1video @ 0x7f23b406c1c0] Warning MVs not available\n"
     ]
    },
    {
     "name": "stdout",
     "output_type": "stream",
     "text": [
      "1/1 [==============================] - 0s 117ms/step\n",
      "Original: placegreenatqnineagain\n",
      "Prediction: placegreninineagain\n",
      "~~~~~~~~~~~~~~~~~~~~~~~~~~~~~~~~~~~~~~~~~~~~~~~~~~~~~~~~~~~~~~~~~~~~~~~~~~~~~~~~~~~~~~~~~~~~~~~~~~~~\n",
      "Original: layhiteithzeightno\n",
      "Prediction: layhiteitirtno\n",
      "~~~~~~~~~~~~~~~~~~~~~~~~~~~~~~~~~~~~~~~~~~~~~~~~~~~~~~~~~~~~~~~~~~~~~~~~~~~~~~~~~~~~~~~~~~~~~~~~~~~~\n",
      "450/450 [==============================] - 576s 1s/step - loss: 20.5569 - val_loss: 15.8751 - lr: 1.0000e-04\n",
      "Epoch 25/50\n",
      " 57/450 [==>...........................] - ETA: 4:50 - loss: 19.1516"
     ]
    },
    {
     "name": "stderr",
     "output_type": "stream",
     "text": [
      "[mpeg1video @ 0x7f1ee40ec5c0] ac-tex damaged at 22 17\n",
      "[mpeg1video @ 0x7f1ee40ec5c0] Warning MVs not available\n"
     ]
    },
    {
     "name": "stdout",
     "output_type": "stream",
     "text": [
      "450/450 [==============================] - ETA: 0s - loss: 19.2581"
     ]
    },
    {
     "name": "stderr",
     "output_type": "stream",
     "text": [
      "[mpeg1video @ 0x7f2300085d80] ac-tex damaged at 22 17\n",
      "[mpeg1video @ 0x7f2300085d80] Warning MVs not available\n"
     ]
    },
    {
     "name": "stdout",
     "output_type": "stream",
     "text": [
      "1/1 [==============================] - 0s 120ms/step\n",
      "Original: layblueindfiveagain\n",
      "Prediction: layblueinfveagain\n",
      "~~~~~~~~~~~~~~~~~~~~~~~~~~~~~~~~~~~~~~~~~~~~~~~~~~~~~~~~~~~~~~~~~~~~~~~~~~~~~~~~~~~~~~~~~~~~~~~~~~~~\n",
      "Original: setgreenithpninesoon\n",
      "Prediction: setgrenithsneson\n",
      "~~~~~~~~~~~~~~~~~~~~~~~~~~~~~~~~~~~~~~~~~~~~~~~~~~~~~~~~~~~~~~~~~~~~~~~~~~~~~~~~~~~~~~~~~~~~~~~~~~~~\n",
      "450/450 [==============================] - 582s 1s/step - loss: 19.2581 - val_loss: 15.0517 - lr: 1.0000e-04\n",
      "Epoch 26/50\n",
      "341/450 [=====================>........] - ETA: 1:22 - loss: 17.8837"
     ]
    },
    {
     "name": "stderr",
     "output_type": "stream",
     "text": [
      "[mpeg1video @ 0x5ce3082fd6c0] ac-tex damaged at 22 17\n",
      "[mpeg1video @ 0x5ce3082fd6c0] Warning MVs not available\n"
     ]
    },
    {
     "name": "stdout",
     "output_type": "stream",
     "text": [
      "450/450 [==============================] - ETA: 0s - loss: 17.9579"
     ]
    },
    {
     "name": "stderr",
     "output_type": "stream",
     "text": [
      "[mpeg1video @ 0x7f22f4b384c0] ac-tex damaged at 22 17\n",
      "[mpeg1video @ 0x7f22f4b384c0] Warning MVs not available\n"
     ]
    },
    {
     "name": "stdout",
     "output_type": "stream",
     "text": [
      "1/1 [==============================] - 0s 120ms/step\n",
      "Original: placehiteithqninesoon\n",
      "Prediction: placehiteithieson\n",
      "~~~~~~~~~~~~~~~~~~~~~~~~~~~~~~~~~~~~~~~~~~~~~~~~~~~~~~~~~~~~~~~~~~~~~~~~~~~~~~~~~~~~~~~~~~~~~~~~~~~~\n",
      "Original: layredatrzerono\n",
      "Prediction: layredationo\n",
      "~~~~~~~~~~~~~~~~~~~~~~~~~~~~~~~~~~~~~~~~~~~~~~~~~~~~~~~~~~~~~~~~~~~~~~~~~~~~~~~~~~~~~~~~~~~~~~~~~~~~\n",
      "450/450 [==============================] - 588s 1s/step - loss: 17.9579 - val_loss: 13.2421 - lr: 1.0000e-04\n",
      "Epoch 27/50\n",
      "269/450 [================>.............] - ETA: 2:16 - loss: 16.4772"
     ]
    },
    {
     "name": "stderr",
     "output_type": "stream",
     "text": [
      "[mpeg1video @ 0x7f23d01b5340] ac-tex damaged at 22 17\n",
      "[mpeg1video @ 0x7f23d01b5340] Warning MVs not available\n"
     ]
    },
    {
     "name": "stdout",
     "output_type": "stream",
     "text": [
      "450/450 [==============================] - ETA: 0s - loss: 16.7433"
     ]
    },
    {
     "name": "stderr",
     "output_type": "stream",
     "text": [
      "[mpeg1video @ 0x7f1ee401a140] ac-tex damaged at 22 17\n",
      "[mpeg1video @ 0x7f1ee401a140] Warning MVs not available\n"
     ]
    },
    {
     "name": "stdout",
     "output_type": "stream",
     "text": [
      "1/1 [==============================] - 0s 128ms/step\n",
      "Original: sethiteatbsixno\n",
      "Prediction: sethiteatsixno\n",
      "~~~~~~~~~~~~~~~~~~~~~~~~~~~~~~~~~~~~~~~~~~~~~~~~~~~~~~~~~~~~~~~~~~~~~~~~~~~~~~~~~~~~~~~~~~~~~~~~~~~~\n",
      "Original: binhiteithhfiveagain\n",
      "Prediction: binhiteithfiveagain\n",
      "~~~~~~~~~~~~~~~~~~~~~~~~~~~~~~~~~~~~~~~~~~~~~~~~~~~~~~~~~~~~~~~~~~~~~~~~~~~~~~~~~~~~~~~~~~~~~~~~~~~~\n",
      "450/450 [==============================] - 585s 1s/step - loss: 16.7433 - val_loss: 12.9726 - lr: 1.0000e-04\n",
      "Epoch 28/50\n",
      "219/450 [=============>................] - ETA: 2:53 - loss: 15.6770"
     ]
    },
    {
     "name": "stderr",
     "output_type": "stream",
     "text": [
      "[mpeg1video @ 0x7f2328008740] ac-tex damaged at 22 17\n",
      "[mpeg1video @ 0x7f2328008740] Warning MVs not available\n"
     ]
    },
    {
     "name": "stdout",
     "output_type": "stream",
     "text": [
      "450/450 [==============================] - ETA: 0s - loss: 15.5698"
     ]
    },
    {
     "name": "stderr",
     "output_type": "stream",
     "text": [
      "[mpeg1video @ 0x7f249c10f280] ac-tex damaged at 22 17\n",
      "[mpeg1video @ 0x7f249c10f280] Warning MVs not available\n"
     ]
    },
    {
     "name": "stdout",
     "output_type": "stream",
     "text": [
      "1/1 [==============================] - 0s 124ms/step\n",
      "Original: layhitespinefourno\n",
      "Prediction: layhiteinforno\n",
      "~~~~~~~~~~~~~~~~~~~~~~~~~~~~~~~~~~~~~~~~~~~~~~~~~~~~~~~~~~~~~~~~~~~~~~~~~~~~~~~~~~~~~~~~~~~~~~~~~~~~\n",
      "Original: bingreeningeightplease\n",
      "Prediction: bingreningihplease\n",
      "~~~~~~~~~~~~~~~~~~~~~~~~~~~~~~~~~~~~~~~~~~~~~~~~~~~~~~~~~~~~~~~~~~~~~~~~~~~~~~~~~~~~~~~~~~~~~~~~~~~~\n",
      "450/450 [==============================] - 584s 1s/step - loss: 15.5698 - val_loss: 12.0639 - lr: 1.0000e-04\n",
      "Epoch 29/50\n",
      "286/450 [==================>...........] - ETA: 2:08 - loss: 14.9126"
     ]
    },
    {
     "name": "stderr",
     "output_type": "stream",
     "text": [
      "[mpeg1video @ 0x7f230007f400] ac-tex damaged at 22 17\n",
      "[mpeg1video @ 0x7f230007f400] Warning MVs not available\n"
     ]
    },
    {
     "name": "stdout",
     "output_type": "stream",
     "text": [
      "450/450 [==============================] - ETA: 0s - loss: 14.6896"
     ]
    },
    {
     "name": "stderr",
     "output_type": "stream",
     "text": [
      "[mpeg1video @ 0x7f247c036900] ac-tex damaged at 22 17\n",
      "[mpeg1video @ 0x7f247c036900] Warning MVs not available\n"
     ]
    },
    {
     "name": "stdout",
     "output_type": "stream",
     "text": [
      "1/1 [==============================] - 0s 119ms/step\n",
      "Original: layblueatkzerono\n",
      "Prediction: layblueatzono\n",
      "~~~~~~~~~~~~~~~~~~~~~~~~~~~~~~~~~~~~~~~~~~~~~~~~~~~~~~~~~~~~~~~~~~~~~~~~~~~~~~~~~~~~~~~~~~~~~~~~~~~~\n",
      "Original: binblueithtoneagain\n",
      "Prediction: binblueithoneagain\n",
      "~~~~~~~~~~~~~~~~~~~~~~~~~~~~~~~~~~~~~~~~~~~~~~~~~~~~~~~~~~~~~~~~~~~~~~~~~~~~~~~~~~~~~~~~~~~~~~~~~~~~\n",
      "450/450 [==============================] - 602s 1s/step - loss: 14.6896 - val_loss: 10.5843 - lr: 1.0000e-04\n",
      "Epoch 30/50\n",
      " 36/450 [=>............................] - ETA: 5:13 - loss: 14.5778"
     ]
    },
    {
     "name": "stderr",
     "output_type": "stream",
     "text": [
      "[mpeg1video @ 0x7f1eec1d7280] ac-tex damaged at 22 17\n",
      "[mpeg1video @ 0x7f1eec1d7280] Warning MVs not available\n"
     ]
    },
    {
     "name": "stdout",
     "output_type": "stream",
     "text": [
      "450/450 [==============================] - ETA: 0s - loss: 14.0600"
     ]
    },
    {
     "name": "stderr",
     "output_type": "stream",
     "text": [
      "[mpeg1video @ 0x7f23240c6540] ac-tex damaged at 22 17\n",
      "[mpeg1video @ 0x7f23240c6540] Warning MVs not available\n"
     ]
    },
    {
     "name": "stdout",
     "output_type": "stream",
     "text": [
      "1/1 [==============================] - 0s 122ms/step\n",
      "Original: setblueithbfourplease\n",
      "Prediction: setblueithfurplease\n",
      "~~~~~~~~~~~~~~~~~~~~~~~~~~~~~~~~~~~~~~~~~~~~~~~~~~~~~~~~~~~~~~~~~~~~~~~~~~~~~~~~~~~~~~~~~~~~~~~~~~~~\n",
      "Original: binblueatsonesoon\n",
      "Prediction: binblueatoneson\n",
      "~~~~~~~~~~~~~~~~~~~~~~~~~~~~~~~~~~~~~~~~~~~~~~~~~~~~~~~~~~~~~~~~~~~~~~~~~~~~~~~~~~~~~~~~~~~~~~~~~~~~\n",
      "450/450 [==============================] - 583s 1s/step - loss: 14.0600 - val_loss: 10.0082 - lr: 1.0000e-04\n",
      "Epoch 31/50\n",
      "332/450 [=====================>........] - ETA: 1:28 - loss: 12.7964"
     ]
    },
    {
     "name": "stderr",
     "output_type": "stream",
     "text": [
      "[mpeg1video @ 0x7f1ed8097980] ac-tex damaged at 22 17\n",
      "[mpeg1video @ 0x7f1ed8097980] Warning MVs not available\n"
     ]
    },
    {
     "name": "stdout",
     "output_type": "stream",
     "text": [
      "450/450 [==============================] - ETA: 0s - loss: 12.7573"
     ]
    },
    {
     "name": "stderr",
     "output_type": "stream",
     "text": [
      "[mpeg1video @ 0x7f1e8cf07d40] ac-tex damaged at 22 17\n",
      "[mpeg1video @ 0x7f1e8cf07d40] Warning MVs not available\n"
     ]
    },
    {
     "name": "stdout",
     "output_type": "stream",
     "text": [
      "1/1 [==============================] - 0s 118ms/step\n",
      "Original: setredithosixno\n",
      "Prediction: setredithixno\n",
      "~~~~~~~~~~~~~~~~~~~~~~~~~~~~~~~~~~~~~~~~~~~~~~~~~~~~~~~~~~~~~~~~~~~~~~~~~~~~~~~~~~~~~~~~~~~~~~~~~~~~\n",
      "Original: laygreenithgfiveagain\n",
      "Prediction: laygrenithfiveagain\n",
      "~~~~~~~~~~~~~~~~~~~~~~~~~~~~~~~~~~~~~~~~~~~~~~~~~~~~~~~~~~~~~~~~~~~~~~~~~~~~~~~~~~~~~~~~~~~~~~~~~~~~\n",
      "450/450 [==============================] - 585s 1s/step - loss: 12.7573 - val_loss: 9.5004 - lr: 9.0484e-05\n",
      "Epoch 32/50\n",
      "344/450 [=====================>........] - ETA: 1:22 - loss: 11.9691"
     ]
    },
    {
     "name": "stderr",
     "output_type": "stream",
     "text": [
      "[mpeg1video @ 0x7f247c02dd80] ac-tex damaged at 22 17\n",
      "[mpeg1video @ 0x7f247c02dd80] Warning MVs not available\n"
     ]
    },
    {
     "name": "stdout",
     "output_type": "stream",
     "text": [
      "450/450 [==============================] - ETA: 0s - loss: 11.9446"
     ]
    },
    {
     "name": "stderr",
     "output_type": "stream",
     "text": [
      "[mpeg1video @ 0x7f1ef409f180] ac-tex damaged at 22 17\n",
      "[mpeg1video @ 0x7f1ef409f180] Warning MVs not available\n"
     ]
    },
    {
     "name": "stdout",
     "output_type": "stream",
     "text": [
      "1/1 [==============================] - 0s 127ms/step\n",
      "Original: binhiteingzerono\n",
      "Prediction: binhiteinerno\n",
      "~~~~~~~~~~~~~~~~~~~~~~~~~~~~~~~~~~~~~~~~~~~~~~~~~~~~~~~~~~~~~~~~~~~~~~~~~~~~~~~~~~~~~~~~~~~~~~~~~~~~\n",
      "Original: placegreenatkfiveagain\n",
      "Prediction: placegrenatfiveagain\n",
      "~~~~~~~~~~~~~~~~~~~~~~~~~~~~~~~~~~~~~~~~~~~~~~~~~~~~~~~~~~~~~~~~~~~~~~~~~~~~~~~~~~~~~~~~~~~~~~~~~~~~\n",
      "450/450 [==============================] - 599s 1s/step - loss: 11.9446 - val_loss: 8.6576 - lr: 8.1873e-05\n",
      "Epoch 33/50\n",
      " 32/450 [=>............................] - ETA: 5:13 - loss: 11.6035"
     ]
    },
    {
     "name": "stderr",
     "output_type": "stream",
     "text": [
      "[mpeg1video @ 0x7f233006a040] ac-tex damaged at 22 17\n",
      "[mpeg1video @ 0x7f233006a040] Warning MVs not available\n"
     ]
    },
    {
     "name": "stdout",
     "output_type": "stream",
     "text": [
      "450/450 [==============================] - ETA: 0s - loss: 11.3436"
     ]
    },
    {
     "name": "stderr",
     "output_type": "stream",
     "text": [
      "[mpeg1video @ 0x7f2494055600] ac-tex damaged at 22 17\n",
      "[mpeg1video @ 0x7f2494055600] Warning MVs not available\n"
     ]
    },
    {
     "name": "stdout",
     "output_type": "stream",
     "text": [
      "1/1 [==============================] - 0s 117ms/step\n",
      "Original: layblueinxsixplease\n",
      "Prediction: layblueinsixplease\n",
      "~~~~~~~~~~~~~~~~~~~~~~~~~~~~~~~~~~~~~~~~~~~~~~~~~~~~~~~~~~~~~~~~~~~~~~~~~~~~~~~~~~~~~~~~~~~~~~~~~~~~\n",
      "Original: layblueinxfourno\n",
      "Prediction: layblueinforno\n",
      "~~~~~~~~~~~~~~~~~~~~~~~~~~~~~~~~~~~~~~~~~~~~~~~~~~~~~~~~~~~~~~~~~~~~~~~~~~~~~~~~~~~~~~~~~~~~~~~~~~~~\n",
      "450/450 [==============================] - 589s 1s/step - loss: 11.3436 - val_loss: 7.7046 - lr: 7.4082e-05\n",
      "Epoch 34/50\n",
      "157/450 [=========>....................] - ETA: 3:42 - loss: 10.5389"
     ]
    },
    {
     "name": "stderr",
     "output_type": "stream",
     "text": [
      "[mpeg1video @ 0x7f230c098ec0] ac-tex damaged at 22 17\n",
      "[mpeg1video @ 0x7f230c098ec0] Warning MVs not available\n"
     ]
    },
    {
     "name": "stdout",
     "output_type": "stream",
     "text": [
      "450/450 [==============================] - ETA: 0s - loss: 10.6169"
     ]
    },
    {
     "name": "stderr",
     "output_type": "stream",
     "text": [
      "[mpeg1video @ 0x7f2488194100] ac-tex damaged at 22 17\n",
      "[mpeg1video @ 0x7f2488194100] Warning MVs not available\n"
     ]
    },
    {
     "name": "stdout",
     "output_type": "stream",
     "text": [
      "1/1 [==============================] - 0s 124ms/step\n",
      "Original: placehiteinjthreesoon\n",
      "Prediction: placehiteinthreson\n",
      "~~~~~~~~~~~~~~~~~~~~~~~~~~~~~~~~~~~~~~~~~~~~~~~~~~~~~~~~~~~~~~~~~~~~~~~~~~~~~~~~~~~~~~~~~~~~~~~~~~~~\n",
      "Original: binredatssevensoon\n",
      "Prediction: binredatseveson\n",
      "~~~~~~~~~~~~~~~~~~~~~~~~~~~~~~~~~~~~~~~~~~~~~~~~~~~~~~~~~~~~~~~~~~~~~~~~~~~~~~~~~~~~~~~~~~~~~~~~~~~~\n",
      "450/450 [==============================] - 579s 1s/step - loss: 10.6169 - val_loss: 7.0298 - lr: 6.7032e-05\n",
      "Epoch 35/50\n",
      "369/450 [=======================>......] - ETA: 1:00 - loss: 10.1051"
     ]
    },
    {
     "name": "stderr",
     "output_type": "stream",
     "text": [
      "[mpeg1video @ 0x7f1e8cf86380] ac-tex damaged at 22 17\n",
      "[mpeg1video @ 0x7f1e8cf86380] Warning MVs not available\n"
     ]
    },
    {
     "name": "stdout",
     "output_type": "stream",
     "text": [
      "450/450 [==============================] - ETA: 0s - loss: 10.0754"
     ]
    },
    {
     "name": "stderr",
     "output_type": "stream",
     "text": [
      "[mpeg1video @ 0x7f2334045540] ac-tex damaged at 22 17\n",
      "[mpeg1video @ 0x7f2334045540] Warning MVs not available\n"
     ]
    },
    {
     "name": "stdout",
     "output_type": "stream",
     "text": [
      "1/1 [==============================] - 0s 120ms/step\n",
      "Original: laybluebyroneagain\n",
      "Prediction: laybluebyoneagain\n",
      "~~~~~~~~~~~~~~~~~~~~~~~~~~~~~~~~~~~~~~~~~~~~~~~~~~~~~~~~~~~~~~~~~~~~~~~~~~~~~~~~~~~~~~~~~~~~~~~~~~~~\n",
      "Original: bingreenbyutono\n",
      "Prediction: bingrenbyuono\n",
      "~~~~~~~~~~~~~~~~~~~~~~~~~~~~~~~~~~~~~~~~~~~~~~~~~~~~~~~~~~~~~~~~~~~~~~~~~~~~~~~~~~~~~~~~~~~~~~~~~~~~\n",
      "450/450 [==============================] - 578s 1s/step - loss: 10.0754 - val_loss: 7.2232 - lr: 6.0653e-05\n",
      "Epoch 36/50\n",
      " 69/450 [===>..........................] - ETA: 4:42 - loss: 10.4528"
     ]
    },
    {
     "name": "stderr",
     "output_type": "stream",
     "text": [
      "[mpeg1video @ 0x7f1ed80a4100] ac-tex damaged at 22 17\n",
      "[mpeg1video @ 0x7f1ed80a4100] Warning MVs not available\n"
     ]
    },
    {
     "name": "stdout",
     "output_type": "stream",
     "text": [
      "450/450 [==============================] - ETA: 0s - loss: 9.6644"
     ]
    },
    {
     "name": "stderr",
     "output_type": "stream",
     "text": [
      "[mpeg1video @ 0x7f22f8ec8180] ac-tex damaged at 22 17\n",
      "[mpeg1video @ 0x7f22f8ec8180] Warning MVs not available\n"
     ]
    },
    {
     "name": "stdout",
     "output_type": "stream",
     "text": [
      "1/1 [==============================] - 0s 117ms/step\n",
      "Original: layblueatxeightno\n",
      "Prediction: layblueateightno\n",
      "~~~~~~~~~~~~~~~~~~~~~~~~~~~~~~~~~~~~~~~~~~~~~~~~~~~~~~~~~~~~~~~~~~~~~~~~~~~~~~~~~~~~~~~~~~~~~~~~~~~~\n",
      "Original: bingreenintsevenagain\n",
      "Prediction: bingreninsevenagain\n",
      "~~~~~~~~~~~~~~~~~~~~~~~~~~~~~~~~~~~~~~~~~~~~~~~~~~~~~~~~~~~~~~~~~~~~~~~~~~~~~~~~~~~~~~~~~~~~~~~~~~~~\n",
      "450/450 [==============================] - 576s 1s/step - loss: 9.6644 - val_loss: 6.6332 - lr: 5.4881e-05\n",
      "Epoch 37/50\n",
      " 69/450 [===>..........................] - ETA: 4:40 - loss: 9.2255"
     ]
    },
    {
     "name": "stderr",
     "output_type": "stream",
     "text": [
      "[mpeg1video @ 0x7f248c052ac0] ac-tex damaged at 22 17\n",
      "[mpeg1video @ 0x7f248c052ac0] Warning MVs not available\n"
     ]
    },
    {
     "name": "stdout",
     "output_type": "stream",
     "text": [
      "450/450 [==============================] - ETA: 0s - loss: 9.0418"
     ]
    },
    {
     "name": "stderr",
     "output_type": "stream",
     "text": [
      "[mpeg1video @ 0x7f1ef4024c80] ac-tex damaged at 22 17\n",
      "[mpeg1video @ 0x7f1ef4024c80] Warning MVs not available\n"
     ]
    },
    {
     "name": "stdout",
     "output_type": "stream",
     "text": [
      "1/1 [==============================] - 0s 116ms/step\n",
      "Original: sethitebyifivesoon\n",
      "Prediction: sethitebyfiveson\n",
      "~~~~~~~~~~~~~~~~~~~~~~~~~~~~~~~~~~~~~~~~~~~~~~~~~~~~~~~~~~~~~~~~~~~~~~~~~~~~~~~~~~~~~~~~~~~~~~~~~~~~\n",
      "Original: placegreenbyyfivesoon\n",
      "Prediction: placegrenbyyfiveson\n",
      "~~~~~~~~~~~~~~~~~~~~~~~~~~~~~~~~~~~~~~~~~~~~~~~~~~~~~~~~~~~~~~~~~~~~~~~~~~~~~~~~~~~~~~~~~~~~~~~~~~~~\n",
      "450/450 [==============================] - 574s 1s/step - loss: 9.0418 - val_loss: 5.6027 - lr: 4.9659e-05\n",
      "Epoch 38/50\n",
      "193/450 [===========>..................] - ETA: 3:09 - loss: 8.6791"
     ]
    },
    {
     "name": "stderr",
     "output_type": "stream",
     "text": [
      "[mpeg1video @ 0x7f23b402a640] ac-tex damaged at 22 17\n",
      "[mpeg1video @ 0x7f23b402a640] Warning MVs not available\n"
     ]
    },
    {
     "name": "stdout",
     "output_type": "stream",
     "text": [
      "450/450 [==============================] - ETA: 0s - loss: 8.5440"
     ]
    },
    {
     "name": "stderr",
     "output_type": "stream",
     "text": [
      "[mpeg1video @ 0x7f1ee0200340] ac-tex damaged at 22 17\n",
      "[mpeg1video @ 0x7f1ee0200340] Warning MVs not available\n"
     ]
    },
    {
     "name": "stdout",
     "output_type": "stream",
     "text": [
      "1/1 [==============================] - 0s 114ms/step\n",
      "Original: layredatefiveagain\n",
      "Prediction: layredatfiveagain\n",
      "~~~~~~~~~~~~~~~~~~~~~~~~~~~~~~~~~~~~~~~~~~~~~~~~~~~~~~~~~~~~~~~~~~~~~~~~~~~~~~~~~~~~~~~~~~~~~~~~~~~~\n",
      "Original: setgreeninvtoplease\n",
      "Prediction: setgreninoplease\n",
      "~~~~~~~~~~~~~~~~~~~~~~~~~~~~~~~~~~~~~~~~~~~~~~~~~~~~~~~~~~~~~~~~~~~~~~~~~~~~~~~~~~~~~~~~~~~~~~~~~~~~\n",
      "450/450 [==============================] - 573s 1s/step - loss: 8.5440 - val_loss: 5.4895 - lr: 4.4933e-05\n",
      "Epoch 39/50\n",
      " 72/450 [===>..........................] - ETA: 4:41 - loss: 8.5280"
     ]
    },
    {
     "name": "stderr",
     "output_type": "stream",
     "text": [
      "[mpeg1video @ 0x7f23280ad900] ac-tex damaged at 22 17\n",
      "[mpeg1video @ 0x7f23280ad900] Warning MVs not available\n"
     ]
    },
    {
     "name": "stdout",
     "output_type": "stream",
     "text": [
      "450/450 [==============================] - ETA: 0s - loss: 8.1953"
     ]
    },
    {
     "name": "stderr",
     "output_type": "stream",
     "text": [
      "[mpeg1video @ 0x7f2498016400] ac-tex damaged at 22 17\n",
      "[mpeg1video @ 0x7f2498016400] Warning MVs not available\n"
     ]
    },
    {
     "name": "stdout",
     "output_type": "stream",
     "text": [
      "1/1 [==============================] - 0s 114ms/step\n",
      "Original: placeblueinionesoon\n",
      "Prediction: placeblueinoneson\n",
      "~~~~~~~~~~~~~~~~~~~~~~~~~~~~~~~~~~~~~~~~~~~~~~~~~~~~~~~~~~~~~~~~~~~~~~~~~~~~~~~~~~~~~~~~~~~~~~~~~~~~\n",
      "Original: binredbyaoneagain\n",
      "Prediction: binredbyoneagain\n",
      "~~~~~~~~~~~~~~~~~~~~~~~~~~~~~~~~~~~~~~~~~~~~~~~~~~~~~~~~~~~~~~~~~~~~~~~~~~~~~~~~~~~~~~~~~~~~~~~~~~~~\n",
      "450/450 [==============================] - 571s 1s/step - loss: 8.1953 - val_loss: 5.3088 - lr: 4.0657e-05\n",
      "Epoch 40/50\n",
      " 30/450 [=>............................] - ETA: 5:08 - loss: 8.0891"
     ]
    },
    {
     "name": "stderr",
     "output_type": "stream",
     "text": [
      "[mpeg1video @ 0x7f22f8d95080] ac-tex damaged at 22 17\n",
      "[mpeg1video @ 0x7f22f8d95080] Warning MVs not available\n"
     ]
    },
    {
     "name": "stdout",
     "output_type": "stream",
     "text": [
      "450/450 [==============================] - ETA: 0s - loss: 7.9877"
     ]
    },
    {
     "name": "stderr",
     "output_type": "stream",
     "text": [
      "[mpeg1video @ 0x7f2334086f40] ac-tex damaged at 22 17\n",
      "[mpeg1video @ 0x7f2334086f40] Warning MVs not available\n"
     ]
    },
    {
     "name": "stdout",
     "output_type": "stream",
     "text": [
      "1/1 [==============================] - 0s 116ms/step\n",
      "Original: layredatefourplease\n",
      "Prediction: layredatfourplease\n",
      "~~~~~~~~~~~~~~~~~~~~~~~~~~~~~~~~~~~~~~~~~~~~~~~~~~~~~~~~~~~~~~~~~~~~~~~~~~~~~~~~~~~~~~~~~~~~~~~~~~~~\n",
      "Original: bingreenatnfourno\n",
      "Prediction: bingrenatfourno\n",
      "~~~~~~~~~~~~~~~~~~~~~~~~~~~~~~~~~~~~~~~~~~~~~~~~~~~~~~~~~~~~~~~~~~~~~~~~~~~~~~~~~~~~~~~~~~~~~~~~~~~~\n",
      "450/450 [==============================] - 567s 1s/step - loss: 7.9877 - val_loss: 4.6099 - lr: 3.6788e-05\n",
      "Epoch 41/50\n",
      "376/450 [========================>.....] - ETA: 54s - loss: 7.6234"
     ]
    },
    {
     "name": "stderr",
     "output_type": "stream",
     "text": [
      "[mpeg1video @ 0x7f1eec08fc40] ac-tex damaged at 22 17\n",
      "[mpeg1video @ 0x7f1eec08fc40] Warning MVs not available\n"
     ]
    },
    {
     "name": "stdout",
     "output_type": "stream",
     "text": [
      "450/450 [==============================] - ETA: 0s - loss: 7.5807"
     ]
    },
    {
     "name": "stderr",
     "output_type": "stream",
     "text": [
      "[mpeg1video @ 0x7f232402d500] ac-tex damaged at 22 17\n",
      "[mpeg1video @ 0x7f232402d500] Warning MVs not available\n"
     ]
    },
    {
     "name": "stdout",
     "output_type": "stream",
     "text": [
      "1/1 [==============================] - 0s 116ms/step\n",
      "Original: layredithlsixplease\n",
      "Prediction: layredithsixplease\n",
      "~~~~~~~~~~~~~~~~~~~~~~~~~~~~~~~~~~~~~~~~~~~~~~~~~~~~~~~~~~~~~~~~~~~~~~~~~~~~~~~~~~~~~~~~~~~~~~~~~~~~\n",
      "Original: sethiteinotoplease\n",
      "Prediction: sethiteinoplease\n",
      "~~~~~~~~~~~~~~~~~~~~~~~~~~~~~~~~~~~~~~~~~~~~~~~~~~~~~~~~~~~~~~~~~~~~~~~~~~~~~~~~~~~~~~~~~~~~~~~~~~~~\n",
      "450/450 [==============================] - 568s 1s/step - loss: 7.5807 - val_loss: 5.0414 - lr: 3.3287e-05\n",
      "Epoch 42/50\n",
      "357/450 [======================>.......] - ETA: 1:08 - loss: 7.2955"
     ]
    },
    {
     "name": "stderr",
     "output_type": "stream",
     "text": [
      "[mpeg1video @ 0x5ce308b04f00] ac-tex damaged at 22 17\n",
      "[mpeg1video @ 0x5ce308b04f00] Warning MVs not available\n"
     ]
    },
    {
     "name": "stdout",
     "output_type": "stream",
     "text": [
      "450/450 [==============================] - ETA: 0s - loss: 7.2428"
     ]
    },
    {
     "name": "stderr",
     "output_type": "stream",
     "text": [
      "[mpeg1video @ 0x7f1e8cf07d40] ac-tex damaged at 22 17\n",
      "[mpeg1video @ 0x7f1e8cf07d40] Warning MVs not available\n"
     ]
    },
    {
     "name": "stdout",
     "output_type": "stream",
     "text": [
      "1/1 [==============================] - 0s 117ms/step\n",
      "Original: setgreenatvsevenagain\n",
      "Prediction: setgrenatsevenagain\n",
      "~~~~~~~~~~~~~~~~~~~~~~~~~~~~~~~~~~~~~~~~~~~~~~~~~~~~~~~~~~~~~~~~~~~~~~~~~~~~~~~~~~~~~~~~~~~~~~~~~~~~\n",
      "Original: binbluebysfivesoon\n",
      "Prediction: binbluebyfiveson\n",
      "~~~~~~~~~~~~~~~~~~~~~~~~~~~~~~~~~~~~~~~~~~~~~~~~~~~~~~~~~~~~~~~~~~~~~~~~~~~~~~~~~~~~~~~~~~~~~~~~~~~~\n",
      "450/450 [==============================] - 572s 1s/step - loss: 7.2428 - val_loss: 4.5252 - lr: 3.0119e-05\n",
      "Epoch 43/50\n",
      "281/450 [=================>............] - ETA: 2:03 - loss: 7.1621"
     ]
    },
    {
     "name": "stderr",
     "output_type": "stream",
     "text": [
      "[mpeg1video @ 0x7f247005d8c0] ac-tex damaged at 22 17\n",
      "[mpeg1video @ 0x7f247005d8c0] Warning MVs not available\n"
     ]
    },
    {
     "name": "stdout",
     "output_type": "stream",
     "text": [
      "450/450 [==============================] - ETA: 0s - loss: 7.1721"
     ]
    },
    {
     "name": "stderr",
     "output_type": "stream",
     "text": [
      "[mpeg1video @ 0x7f1ee4070740] ac-tex damaged at 22 17\n",
      "[mpeg1video @ 0x7f1ee4070740] Warning MVs not available\n"
     ]
    },
    {
     "name": "stdout",
     "output_type": "stream",
     "text": [
      "1/1 [==============================] - 0s 126ms/step\n",
      "Original: binbluebymthreeagain\n",
      "Prediction: binbluebythreagain\n",
      "~~~~~~~~~~~~~~~~~~~~~~~~~~~~~~~~~~~~~~~~~~~~~~~~~~~~~~~~~~~~~~~~~~~~~~~~~~~~~~~~~~~~~~~~~~~~~~~~~~~~\n",
      "Original: binredatmthreesoon\n",
      "Prediction: binredatthreson\n",
      "~~~~~~~~~~~~~~~~~~~~~~~~~~~~~~~~~~~~~~~~~~~~~~~~~~~~~~~~~~~~~~~~~~~~~~~~~~~~~~~~~~~~~~~~~~~~~~~~~~~~\n",
      "450/450 [==============================] - 559s 1s/step - loss: 7.1721 - val_loss: 4.4734 - lr: 2.7253e-05\n",
      "Epoch 44/50\n",
      "435/450 [============================>.] - ETA: 10s - loss: 6.7970"
     ]
    },
    {
     "name": "stderr",
     "output_type": "stream",
     "text": [
      "[mpeg1video @ 0x7f232403a700] ac-tex damaged at 22 17\n",
      "[mpeg1video @ 0x7f232403a700] Warning MVs not available\n"
     ]
    },
    {
     "name": "stdout",
     "output_type": "stream",
     "text": [
      "450/450 [==============================] - ETA: 0s - loss: 6.7881"
     ]
    },
    {
     "name": "stderr",
     "output_type": "stream",
     "text": [
      "[mpeg1video @ 0x7f249c0a9ac0] ac-tex damaged at 22 17\n",
      "[mpeg1video @ 0x7f249c0a9ac0] Warning MVs not available\n"
     ]
    },
    {
     "name": "stdout",
     "output_type": "stream",
     "text": [
      "1/1 [==============================] - 0s 117ms/step\n",
      "Original: layredinqsevensoon\n",
      "Prediction: layredinsevenson\n",
      "~~~~~~~~~~~~~~~~~~~~~~~~~~~~~~~~~~~~~~~~~~~~~~~~~~~~~~~~~~~~~~~~~~~~~~~~~~~~~~~~~~~~~~~~~~~~~~~~~~~~\n",
      "Original: placeredincthreesoon\n",
      "Prediction: placeredinthreson\n",
      "~~~~~~~~~~~~~~~~~~~~~~~~~~~~~~~~~~~~~~~~~~~~~~~~~~~~~~~~~~~~~~~~~~~~~~~~~~~~~~~~~~~~~~~~~~~~~~~~~~~~\n",
      "450/450 [==============================] - 556s 1s/step - loss: 6.7881 - val_loss: 4.0377 - lr: 2.4660e-05\n",
      "Epoch 45/50\n",
      "373/450 [=======================>......] - ETA: 56s - loss: 6.5667"
     ]
    },
    {
     "name": "stderr",
     "output_type": "stream",
     "text": [
      "[mpeg1video @ 0x7f230004f280] ac-tex damaged at 22 17\n",
      "[mpeg1video @ 0x7f230004f280] Warning MVs not available\n"
     ]
    },
    {
     "name": "stdout",
     "output_type": "stream",
     "text": [
      "450/450 [==============================] - ETA: 0s - loss: 6.5974"
     ]
    },
    {
     "name": "stderr",
     "output_type": "stream",
     "text": [
      "[mpeg1video @ 0x7f247c02b5c0] ac-tex damaged at 22 17\n",
      "[mpeg1video @ 0x7f247c02b5c0] Warning MVs not available\n"
     ]
    },
    {
     "name": "stdout",
     "output_type": "stream",
     "text": [
      "1/1 [==============================] - 0s 116ms/step\n",
      "Original: placeredithdfivesoon\n",
      "Prediction: placeredithdfiveson\n",
      "~~~~~~~~~~~~~~~~~~~~~~~~~~~~~~~~~~~~~~~~~~~~~~~~~~~~~~~~~~~~~~~~~~~~~~~~~~~~~~~~~~~~~~~~~~~~~~~~~~~~\n",
      "Original: binredinlninesoon\n",
      "Prediction: binredinnineson\n",
      "~~~~~~~~~~~~~~~~~~~~~~~~~~~~~~~~~~~~~~~~~~~~~~~~~~~~~~~~~~~~~~~~~~~~~~~~~~~~~~~~~~~~~~~~~~~~~~~~~~~~\n",
      "450/450 [==============================] - 566s 1s/step - loss: 6.5974 - val_loss: 3.5157 - lr: 2.2313e-05\n",
      "Epoch 46/50\n",
      "450/450 [==============================] - ETA: 0s - loss: 6.4102"
     ]
    },
    {
     "name": "stderr",
     "output_type": "stream",
     "text": [
      "[mpeg1video @ 0x7f22e80afa80] ac-tex damaged at 22 17\n",
      "[mpeg1video @ 0x7f22e80afa80] Warning MVs not available\n",
      "[mpeg1video @ 0x7f233001f4c0] ac-tex damaged at 22 17\n",
      "[mpeg1video @ 0x7f233001f4c0] Warning MVs not available\n"
     ]
    },
    {
     "name": "stdout",
     "output_type": "stream",
     "text": [
      "1/1 [==============================] - 0s 124ms/step\n",
      "Original: binblueinzzerono\n",
      "Prediction: binblueinzzerono\n",
      "~~~~~~~~~~~~~~~~~~~~~~~~~~~~~~~~~~~~~~~~~~~~~~~~~~~~~~~~~~~~~~~~~~~~~~~~~~~~~~~~~~~~~~~~~~~~~~~~~~~~\n",
      "Original: setredatutono\n",
      "Prediction: setredattono\n",
      "~~~~~~~~~~~~~~~~~~~~~~~~~~~~~~~~~~~~~~~~~~~~~~~~~~~~~~~~~~~~~~~~~~~~~~~~~~~~~~~~~~~~~~~~~~~~~~~~~~~~\n",
      "450/450 [==============================] - 564s 1s/step - loss: 6.4102 - val_loss: 3.5830 - lr: 2.0190e-05\n",
      "Epoch 47/50\n",
      "231/450 [==============>...............] - ETA: 2:37 - loss: 6.2190"
     ]
    },
    {
     "name": "stderr",
     "output_type": "stream",
     "text": [
      "[mpeg1video @ 0x7f1ee003ae00] ac-tex damaged at 22 17\n",
      "[mpeg1video @ 0x7f1ee003ae00] Warning MVs not available\n"
     ]
    },
    {
     "name": "stdout",
     "output_type": "stream",
     "text": [
      "450/450 [==============================] - ETA: 0s - loss: 6.2516"
     ]
    },
    {
     "name": "stderr",
     "output_type": "stream",
     "text": [
      "[mpeg1video @ 0x7f22f5438700] ac-tex damaged at 22 17\n",
      "[mpeg1video @ 0x7f22f5438700] Warning MVs not available\n"
     ]
    },
    {
     "name": "stdout",
     "output_type": "stream",
     "text": [
      "1/1 [==============================] - 0s 118ms/step\n",
      "Original: binblueinlthreesoon\n",
      "Prediction: binblueinthreson\n",
      "~~~~~~~~~~~~~~~~~~~~~~~~~~~~~~~~~~~~~~~~~~~~~~~~~~~~~~~~~~~~~~~~~~~~~~~~~~~~~~~~~~~~~~~~~~~~~~~~~~~~\n",
      "Original: layredithrninesoon\n",
      "Prediction: layredithrnineson\n",
      "~~~~~~~~~~~~~~~~~~~~~~~~~~~~~~~~~~~~~~~~~~~~~~~~~~~~~~~~~~~~~~~~~~~~~~~~~~~~~~~~~~~~~~~~~~~~~~~~~~~~\n",
      "450/450 [==============================] - 561s 1s/step - loss: 6.2516 - val_loss: 3.3286 - lr: 1.8268e-05\n",
      "Epoch 48/50\n",
      "304/450 [===================>..........] - ETA: 1:47 - loss: 6.1635"
     ]
    },
    {
     "name": "stderr",
     "output_type": "stream",
     "text": [
      "[mpeg1video @ 0x7f248805c040] ac-tex damaged at 22 17\n",
      "[mpeg1video @ 0x7f248805c040] Warning MVs not available\n"
     ]
    },
    {
     "name": "stdout",
     "output_type": "stream",
     "text": [
      "450/450 [==============================] - ETA: 0s - loss: 6.0827"
     ]
    },
    {
     "name": "stderr",
     "output_type": "stream",
     "text": [
      "[mpeg1video @ 0x7f22e8015240] ac-tex damaged at 22 17\n",
      "[mpeg1video @ 0x7f22e8015240] Warning MVs not available\n"
     ]
    },
    {
     "name": "stdout",
     "output_type": "stream",
     "text": [
      "1/1 [==============================] - 0s 114ms/step\n",
      "Original: layredinezeroplease\n",
      "Prediction: layredinzeroplease\n",
      "~~~~~~~~~~~~~~~~~~~~~~~~~~~~~~~~~~~~~~~~~~~~~~~~~~~~~~~~~~~~~~~~~~~~~~~~~~~~~~~~~~~~~~~~~~~~~~~~~~~~\n",
      "Original: sethiteithcfivesoon\n",
      "Prediction: sethiteithfiveson\n",
      "~~~~~~~~~~~~~~~~~~~~~~~~~~~~~~~~~~~~~~~~~~~~~~~~~~~~~~~~~~~~~~~~~~~~~~~~~~~~~~~~~~~~~~~~~~~~~~~~~~~~\n",
      "450/450 [==============================] - 571s 1s/step - loss: 6.0827 - val_loss: 3.5577 - lr: 1.6530e-05\n",
      "Epoch 49/50\n",
      "367/450 [=======================>......] - ETA: 1:01 - loss: 6.0128"
     ]
    },
    {
     "name": "stderr",
     "output_type": "stream",
     "text": [
      "[mpeg1video @ 0x7f232c09de00] ac-tex damaged at 22 17\n",
      "[mpeg1video @ 0x7f232c09de00] Warning MVs not available\n"
     ]
    },
    {
     "name": "stdout",
     "output_type": "stream",
     "text": [
      "450/450 [==============================] - ETA: 0s - loss: 5.9823"
     ]
    },
    {
     "name": "stderr",
     "output_type": "stream",
     "text": [
      "[mpeg1video @ 0x7f1ed81f5c80] ac-tex damaged at 22 17\n",
      "[mpeg1video @ 0x7f1ed81f5c80] Warning MVs not available\n"
     ]
    },
    {
     "name": "stdout",
     "output_type": "stream",
     "text": [
      "1/1 [==============================] - 0s 115ms/step\n",
      "Original: placegreenbyrtoplease\n",
      "Prediction: placegrenbyrtoplease\n",
      "~~~~~~~~~~~~~~~~~~~~~~~~~~~~~~~~~~~~~~~~~~~~~~~~~~~~~~~~~~~~~~~~~~~~~~~~~~~~~~~~~~~~~~~~~~~~~~~~~~~~\n",
      "Original: binredbymeightplease\n",
      "Prediction: binredbyeightplease\n",
      "~~~~~~~~~~~~~~~~~~~~~~~~~~~~~~~~~~~~~~~~~~~~~~~~~~~~~~~~~~~~~~~~~~~~~~~~~~~~~~~~~~~~~~~~~~~~~~~~~~~~\n",
      "450/450 [==============================] - 569s 1s/step - loss: 5.9823 - val_loss: 3.3993 - lr: 1.4957e-05\n",
      "Epoch 50/50\n",
      "419/450 [==========================>...] - ETA: 22s - loss: 5.8197"
     ]
    },
    {
     "name": "stderr",
     "output_type": "stream",
     "text": [
      "[mpeg1video @ 0x7f2300064340] ac-tex damaged at 22 17\n",
      "[mpeg1video @ 0x7f2300064340] Warning MVs not available\n"
     ]
    },
    {
     "name": "stdout",
     "output_type": "stream",
     "text": [
      "450/450 [==============================] - ETA: 0s - loss: 5.8178"
     ]
    },
    {
     "name": "stderr",
     "output_type": "stream",
     "text": [
      "[mpeg1video @ 0x7f2484015100] ac-tex damaged at 22 17\n",
      "[mpeg1video @ 0x7f2484015100] Warning MVs not available\n"
     ]
    },
    {
     "name": "stdout",
     "output_type": "stream",
     "text": [
      "1/1 [==============================] - 0s 114ms/step\n",
      "Original: placegreenithenineagain\n",
      "Prediction: placegrenithnineagain\n",
      "~~~~~~~~~~~~~~~~~~~~~~~~~~~~~~~~~~~~~~~~~~~~~~~~~~~~~~~~~~~~~~~~~~~~~~~~~~~~~~~~~~~~~~~~~~~~~~~~~~~~\n",
      "Original: placespblueithxzerono\n",
      "Prediction: placeblueithzerno\n",
      "~~~~~~~~~~~~~~~~~~~~~~~~~~~~~~~~~~~~~~~~~~~~~~~~~~~~~~~~~~~~~~~~~~~~~~~~~~~~~~~~~~~~~~~~~~~~~~~~~~~~\n",
      "450/450 [==============================] - 569s 1s/step - loss: 5.8178 - val_loss: 3.1619 - lr: 1.3534e-05\n"
     ]
    }
   ],
   "source": [
    "history = model.fit(train, validation_data=test, epochs=50, callbacks=[checkpoint_callback, schedule_callback, example_callback])"
   ]
  },
  {
   "cell_type": "code",
   "execution_count": 28,
   "id": "add21b1f",
   "metadata": {
    "execution": {
     "iopub.execute_input": "2024-01-31T12:46:21.883370Z",
     "iopub.status.busy": "2024-01-31T12:46:21.882981Z",
     "iopub.status.idle": "2024-01-31T12:46:22.192835Z",
     "shell.execute_reply": "2024-01-31T12:46:22.191922Z"
    },
    "papermill": {
     "duration": 2.166272,
     "end_time": "2024-01-31T12:46:22.195125",
     "exception": false,
     "start_time": "2024-01-31T12:46:20.028853",
     "status": "completed"
    },
    "tags": []
   },
   "outputs": [
    {
     "data": {
      "image/png": "[encoded data removed]",
      "text/plain": [
       "<Figure size 640x480 with 1 Axes>"
      ]
     },
     "metadata": {},
     "output_type": "display_data"
    }
   ],
   "source": [
    "\n",
    "from matplotlib import pyplot as plt\n",
    "# Plot training & validation loss values\n",
    "plt.plot(history.history['loss'], label='Training Loss')\n",
    "if 'val_loss' in history.history:\n",
    "    plt.plot(history.history['val_loss'], label='Validation Loss')\n",
    "\n",
    "plt.title('Model Loss')\n",
    "plt.xlabel('Epoch')\n",
    "plt.ylabel('Loss')\n",
    "plt.legend()\n",
    "plt.show()\n"
   ]
  },
  {
   "cell_type": "code",
   "execution_count": 29,
   "id": "30ac8cb2",
   "metadata": {
    "execution": {
     "iopub.execute_input": "2024-01-31T12:46:26.019555Z",
     "iopub.status.busy": "2024-01-31T12:46:26.018702Z",
     "iopub.status.idle": "2024-01-31T12:46:26.024183Z",
     "shell.execute_reply": "2024-01-31T12:46:26.023302Z"
    },
    "papermill": {
     "duration": 1.827806,
     "end_time": "2024-01-31T12:46:26.026158",
     "exception": false,
     "start_time": "2024-01-31T12:46:24.198352",
     "status": "completed"
    },
    "tags": []
   },
   "outputs": [],
   "source": [
    "# class AccuracyMetrics(tf.keras.callbacks.Callback):\n",
    "#     def __init__(self, dataset) -> None:\n",
    "#         self.dataset = dataset.as_numpy_iterator()\n",
    "#         self.predictions = []\n",
    "#         self.ground_truth = []\n",
    "#         self.accuracies = []  # Store accuracies at each epoch\n",
    "\n",
    "#     def on_epoch_end(self, epoch, logs=None) -> None:\n",
    "#         data = self.dataset.next()\n",
    "#         yhat = self.model.predict(data[0])\n",
    "#         decoded = tf.keras.backend.ctc_decode(yhat, [75, 75], greedy=False)[0][0].numpy()\n",
    "#         self.predictions.extend(decoded)\n",
    "#         self.ground_truth.extend(data[1])\n",
    "\n",
    "# # ... (your previous code)\n",
    "\n",
    "# accuracy_metrics = AccuracyMetrics(test)  # Create an instance of AccuracyMetrics\n",
    "\n",
    "# model.fit(train, validation_data=test, epochs=50, callbacks=[checkpoint_callback, schedule_callback, accuracy_metrics])\n",
    "\n",
    "# # After training, compute accuracy or any other metric using predictions and ground truth\n",
    "# predictions = accuracy_metrics.predictions\n",
    "# ground_truth = accuracy_metrics.ground_truth\n",
    "\n",
    "# # Compute accuracy (or any other suitable metric) here\n",
    "# # For example, using sequence_accuracy from Levenshtein distance:\n",
    "# from nltk.metrics.distance import edit_distance\n",
    "\n",
    "# def compute_accuracy(preds, truths):\n",
    "#     acc = sum(edit_distance(pred, truth) for pred, truth in zip(preds, truths)) / len(preds)\n",
    "#     return 1 - acc\n",
    "\n",
    "# accuracy = compute_accuracy(predictions, ground_truth)\n",
    "# print(\"Accuracy:\", accuracy)"
   ]
  },
  {
   "cell_type": "code",
   "execution_count": 30,
   "id": "71c0101e",
   "metadata": {
    "execution": {
     "iopub.execute_input": "2024-01-31T12:46:29.938389Z",
     "iopub.status.busy": "2024-01-31T12:46:29.937990Z",
     "iopub.status.idle": "2024-01-31T12:46:29.942513Z",
     "shell.execute_reply": "2024-01-31T12:46:29.941604Z"
    },
    "papermill": {
     "duration": 2.102024,
     "end_time": "2024-01-31T12:46:29.944455",
     "exception": false,
     "start_time": "2024-01-31T12:46:27.842431",
     "status": "completed"
    },
    "tags": []
   },
   "outputs": [],
   "source": [
    "# After training, plot the accuracy over epochs\n",
    "# plt.plot(history.history['val_loss'], label='Validation Loss')\n",
    "# plt.plot(history.history['loss'], label='Training Loss')\n",
    "# plt.plot(accuracy_metrics.accuracies, label='Accuracy')\n",
    "# plt.xlabel('Epoch')\n",
    "# plt.legend()\n",
    "# plt.show()"
   ]
  },
  {
   "cell_type": "code",
   "execution_count": 31,
   "id": "f311aaea",
   "metadata": {
    "execution": {
     "iopub.execute_input": "2024-01-31T12:46:33.747979Z",
     "iopub.status.busy": "2024-01-31T12:46:33.747593Z",
     "iopub.status.idle": "2024-01-31T12:46:34.149624Z",
     "shell.execute_reply": "2024-01-31T12:46:34.148821Z"
    },
    "papermill": {
     "duration": 2.391016,
     "end_time": "2024-01-31T12:46:34.151985",
     "exception": false,
     "start_time": "2024-01-31T12:46:31.760969",
     "status": "completed"
    },
    "tags": []
   },
   "outputs": [],
   "source": [
    "# Save the model in the native Keras format\n",
    "from tensorflow.keras.models import save_model\n",
    "save_model(model, 'models/my_model.keras')\n"
   ]
  },
  {
   "cell_type": "markdown",
   "id": "5683c236",
   "metadata": {
    "papermill": {
     "duration": 1.967166,
     "end_time": "2024-01-31T12:46:37.936192",
     "exception": false,
     "start_time": "2024-01-31T12:46:35.969026",
     "status": "completed"
    },
    "tags": []
   },
   "source": [
    "الحمد الله "
   ]
  }
 ],
 "metadata": {
  "kaggle": {
   "accelerator": "gpu",
   "dataSources": [
    {
     "sourceId": 125089096,
     "sourceType": "kernelVersion"
    }
   ],
   "dockerImageVersionId": 30626,
   "isGpuEnabled": true,
   "isInternetEnabled": true,
   "language": "python",
   "sourceType": "notebook"
  },
  "kernelspec": {
   "display_name": "Python 3",
   "language": "python",
   "name": "python3"
  },
  "language_info": {
   "codemirror_mode": {
    "name": "ipython",
    "version": 3
   },
   "file_extension": ".py",
   "mimetype": "text/x-python",
   "name": "python",
   "nbconvert_exporter": "python",
   "pygments_lexer": "ipython3",
   "version": "3.10.12"
  },
  "papermill": {
   "default_parameters": {},
   "duration": 29598.374946,
   "end_time": "2024-01-31T12:46:43.750752",
   "environment_variables": {},
   "exception": null,
   "input_path": "__notebook__.ipynb",
   "output_path": "__notebook__.ipynb",
   "parameters": {},
   "start_time": "2024-01-31T04:33:25.375806",
   "version": "2.4.0"
  }
 },
 "nbformat": 4,
 "nbformat_minor": 5
}
