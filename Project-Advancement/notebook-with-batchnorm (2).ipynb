{
 "cells": [
  {
   "cell_type": "code",
   "execution_count": 1,
   "id": "7327d750",
   "metadata": {
    "execution": {
     "iopub.execute_input": "2024-02-27T22:03:31.238432Z",
     "iopub.status.busy": "2024-02-27T22:03:31.238099Z",
     "iopub.status.idle": "2024-02-27T22:03:46.959286Z",
     "shell.execute_reply": "2024-02-27T22:03:46.958392Z"
    },
    "papermill": {
     "duration": 15.735698,
     "end_time": "2024-02-27T22:03:46.962340",
     "exception": false,
     "start_time": "2024-02-27T22:03:31.226642",
     "status": "completed"
    },
    "tags": []
   },
   "outputs": [
    {
     "name": "stderr",
     "output_type": "stream",
     "text": [
      "2024-02-27 22:03:33.798296: E external/local_xla/xla/stream_executor/cuda/cuda_dnn.cc:9261] Unable to register cuDNN factory: Attempting to register factory for plugin cuDNN when one has already been registered\n",
      "2024-02-27 22:03:33.798391: E external/local_xla/xla/stream_executor/cuda/cuda_fft.cc:607] Unable to register cuFFT factory: Attempting to register factory for plugin cuFFT when one has already been registered\n",
      "2024-02-27 22:03:33.984849: E external/local_xla/xla/stream_executor/cuda/cuda_blas.cc:1515] Unable to register cuBLAS factory: Attempting to register factory for plugin cuBLAS when one has already been registered\n"
     ]
    }
   ],
   "source": [
    "import os\n",
    "import cv2\n",
    "import tensorflow as tf\n",
    "import numpy as np\n",
    "from typing import List\n",
    "from matplotlib import pyplot as plt\n",
    "import imageio"
   ]
  },
  {
   "cell_type": "code",
   "execution_count": 2,
   "id": "ea222c7b",
   "metadata": {
    "execution": {
     "iopub.execute_input": "2024-02-27T22:03:46.984655Z",
     "iopub.status.busy": "2024-02-27T22:03:46.983876Z",
     "iopub.status.idle": "2024-02-27T22:03:46.991231Z",
     "shell.execute_reply": "2024-02-27T22:03:46.990416Z"
    },
    "papermill": {
     "duration": 0.019612,
     "end_time": "2024-02-27T22:03:46.993062",
     "exception": false,
     "start_time": "2024-02-27T22:03:46.973450",
     "status": "completed"
    },
    "tags": []
   },
   "outputs": [],
   "source": [
    "def load_video(path:str) -> List[float]:\n",
    "    cap=cv2.VideoCapture(path)\n",
    "    frames=[]\n",
    "    for _ in range(int(cap.get(cv2.CAP_PROP_FRAME_COUNT))):\n",
    "        ret, frame = cap.read()\n",
    "        frame=tf.image.rgb_to_grayscale(frame)\n",
    "        frames.append(frame[190:236,80:220,:])\n",
    "    cap.release()\n",
    "    \n",
    "    mean=tf.math.reduce_mean(frames)\n",
    "    std=tf.math.reduce_std(tf.cast(frames,tf.float32))\n",
    "    return tf.cast((frames-mean),tf.float32)/std"
   ]
  },
  {
   "cell_type": "code",
   "execution_count": 3,
   "id": "b97aa161",
   "metadata": {
    "execution": {
     "iopub.execute_input": "2024-02-27T22:03:47.012777Z",
     "iopub.status.busy": "2024-02-27T22:03:47.012472Z",
     "iopub.status.idle": "2024-02-27T22:03:49.571167Z",
     "shell.execute_reply": "2024-02-27T22:03:49.570126Z"
    },
    "papermill": {
     "duration": 2.57099,
     "end_time": "2024-02-27T22:03:49.573352",
     "exception": false,
     "start_time": "2024-02-27T22:03:47.002362",
     "status": "completed"
    },
    "tags": []
   },
   "outputs": [
    {
     "data": {
      "text/plain": [
       "<tf.Tensor: shape=(75, 46, 140, 1), dtype=float32, numpy=\n",
       "array([[[[1.4991663 ],\n",
       "         [1.4991663 ],\n",
       "         [1.4616871 ],\n",
       "         ...,\n",
       "         [0.41227072],\n",
       "         [0.41227072],\n",
       "         [0.41227072]],\n",
       "\n",
       "        [[1.4991663 ],\n",
       "         [1.4991663 ],\n",
       "         [1.4616871 ],\n",
       "         ...,\n",
       "         [0.41227072],\n",
       "         [0.41227072],\n",
       "         [0.41227072]],\n",
       "\n",
       "        [[1.4616871 ],\n",
       "         [1.4616871 ],\n",
       "         [1.4991663 ],\n",
       "         ...,\n",
       "         [0.3373124 ],\n",
       "         [0.3373124 ],\n",
       "         [0.3373124 ]],\n",
       "\n",
       "        ...,\n",
       "\n",
       "        [[1.0494163 ],\n",
       "         [1.0494163 ],\n",
       "         [1.0119373 ],\n",
       "         ...,\n",
       "         [0.11243746],\n",
       "         [0.11243746],\n",
       "         [0.07495831]],\n",
       "\n",
       "        [[1.0494163 ],\n",
       "         [1.0494163 ],\n",
       "         [1.0119373 ],\n",
       "         ...,\n",
       "         [0.11243746],\n",
       "         [0.07495831],\n",
       "         [0.07495831]],\n",
       "\n",
       "        [[1.0494163 ],\n",
       "         [1.0494163 ],\n",
       "         [1.0119373 ],\n",
       "         ...,\n",
       "         [0.07495831],\n",
       "         [0.07495831],\n",
       "         [0.03747915]]],\n",
       "\n",
       "\n",
       "       [[[1.4242079 ],\n",
       "         [1.4242079 ],\n",
       "         [1.4242079 ],\n",
       "         ...,\n",
       "         [0.3373124 ],\n",
       "         [0.3373124 ],\n",
       "         [0.3373124 ]],\n",
       "\n",
       "        [[1.4242079 ],\n",
       "         [1.4242079 ],\n",
       "         [1.4242079 ],\n",
       "         ...,\n",
       "         [0.3373124 ],\n",
       "         [0.3373124 ],\n",
       "         [0.3373124 ]],\n",
       "\n",
       "        [[1.4242079 ],\n",
       "         [1.4242079 ],\n",
       "         [1.4242079 ],\n",
       "         ...,\n",
       "         [0.29983324],\n",
       "         [0.29983324],\n",
       "         [0.29983324]],\n",
       "\n",
       "        ...,\n",
       "\n",
       "        [[1.0494163 ],\n",
       "         [1.0494163 ],\n",
       "         [1.0119373 ],\n",
       "         ...,\n",
       "         [0.11243746],\n",
       "         [0.11243746],\n",
       "         [0.07495831]],\n",
       "\n",
       "        [[1.0494163 ],\n",
       "         [1.0494163 ],\n",
       "         [1.0119373 ],\n",
       "         ...,\n",
       "         [0.11243746],\n",
       "         [0.07495831],\n",
       "         [0.07495831]],\n",
       "\n",
       "        [[1.0494163 ],\n",
       "         [1.0494163 ],\n",
       "         [1.0119373 ],\n",
       "         ...,\n",
       "         [0.07495831],\n",
       "         [0.07495831],\n",
       "         [0.03747915]]],\n",
       "\n",
       "\n",
       "       [[[1.3492496 ],\n",
       "         [1.3492496 ],\n",
       "         [1.3492496 ],\n",
       "         ...,\n",
       "         [0.3373124 ],\n",
       "         [0.3373124 ],\n",
       "         [0.3373124 ]],\n",
       "\n",
       "        [[1.3492496 ],\n",
       "         [1.3492496 ],\n",
       "         [1.3492496 ],\n",
       "         ...,\n",
       "         [0.3373124 ],\n",
       "         [0.3373124 ],\n",
       "         [0.3373124 ]],\n",
       "\n",
       "        [[1.4242079 ],\n",
       "         [1.4242079 ],\n",
       "         [1.3867288 ],\n",
       "         ...,\n",
       "         [0.26235408],\n",
       "         [0.29983324],\n",
       "         [0.29983324]],\n",
       "\n",
       "        ...,\n",
       "\n",
       "        [[0.97445804],\n",
       "         [0.97445804],\n",
       "         [0.9369789 ],\n",
       "         ...,\n",
       "         [0.11243746],\n",
       "         [0.11243746],\n",
       "         [0.07495831]],\n",
       "\n",
       "        [[0.97445804],\n",
       "         [0.97445804],\n",
       "         [0.9369789 ],\n",
       "         ...,\n",
       "         [0.11243746],\n",
       "         [0.07495831],\n",
       "         [0.07495831]],\n",
       "\n",
       "        [[0.97445804],\n",
       "         [0.97445804],\n",
       "         [0.9369789 ],\n",
       "         ...,\n",
       "         [0.07495831],\n",
       "         [0.07495831],\n",
       "         [0.03747915]]],\n",
       "\n",
       "\n",
       "       ...,\n",
       "\n",
       "\n",
       "       [[[1.4991663 ],\n",
       "         [1.4991663 ],\n",
       "         [1.4991663 ],\n",
       "         ...,\n",
       "         [0.29983324],\n",
       "         [0.29983324],\n",
       "         [0.29983324]],\n",
       "\n",
       "        [[1.4242079 ],\n",
       "         [1.4242079 ],\n",
       "         [1.4242079 ],\n",
       "         ...,\n",
       "         [0.29983324],\n",
       "         [0.29983324],\n",
       "         [0.29983324]],\n",
       "\n",
       "        [[1.4616871 ],\n",
       "         [1.4616871 ],\n",
       "         [1.4242079 ],\n",
       "         ...,\n",
       "         [0.29983324],\n",
       "         [0.26235408],\n",
       "         [0.26235408]],\n",
       "\n",
       "        ...,\n",
       "\n",
       "        [[1.0868955 ],\n",
       "         [1.0494163 ],\n",
       "         [1.0494163 ],\n",
       "         ...,\n",
       "         [0.07495831],\n",
       "         [0.07495831],\n",
       "         [0.07495831]],\n",
       "\n",
       "        [[1.0494163 ],\n",
       "         [1.0494163 ],\n",
       "         [1.0494163 ],\n",
       "         ...,\n",
       "         [0.07495831],\n",
       "         [0.07495831],\n",
       "         [0.07495831]],\n",
       "\n",
       "        [[1.0494163 ],\n",
       "         [1.0494163 ],\n",
       "         [1.0494163 ],\n",
       "         ...,\n",
       "         [0.07495831],\n",
       "         [0.07495831],\n",
       "         [0.03747915]]],\n",
       "\n",
       "\n",
       "       [[[1.4991663 ],\n",
       "         [1.4991663 ],\n",
       "         [1.5366454 ],\n",
       "         ...,\n",
       "         [0.3373124 ],\n",
       "         [0.29983324],\n",
       "         [0.29983324]],\n",
       "\n",
       "        [[1.4242079 ],\n",
       "         [1.4242079 ],\n",
       "         [1.4616871 ],\n",
       "         ...,\n",
       "         [0.3373124 ],\n",
       "         [0.29983324],\n",
       "         [0.29983324]],\n",
       "\n",
       "        [[1.4616871 ],\n",
       "         [1.4616871 ],\n",
       "         [1.4242079 ],\n",
       "         ...,\n",
       "         [0.26235408],\n",
       "         [0.29983324],\n",
       "         [0.29983324]],\n",
       "\n",
       "        ...,\n",
       "\n",
       "        [[1.0494163 ],\n",
       "         [1.0119373 ],\n",
       "         [1.0119373 ],\n",
       "         ...,\n",
       "         [0.03747915],\n",
       "         [0.03747915],\n",
       "         [0.03747915]],\n",
       "\n",
       "        [[1.0494163 ],\n",
       "         [1.0119373 ],\n",
       "         [1.0119373 ],\n",
       "         ...,\n",
       "         [0.03747915],\n",
       "         [0.03747915],\n",
       "         [0.03747915]],\n",
       "\n",
       "        [[1.0119373 ],\n",
       "         [1.0119373 ],\n",
       "         [0.97445804],\n",
       "         ...,\n",
       "         [0.03747915],\n",
       "         [0.03747915],\n",
       "         [0.        ]]],\n",
       "\n",
       "\n",
       "       [[[1.4616871 ],\n",
       "         [1.4616871 ],\n",
       "         [1.4616871 ],\n",
       "         ...,\n",
       "         [0.29983324],\n",
       "         [0.29983324],\n",
       "         [0.29983324]],\n",
       "\n",
       "        [[1.4616871 ],\n",
       "         [1.4616871 ],\n",
       "         [1.4616871 ],\n",
       "         ...,\n",
       "         [0.29983324],\n",
       "         [0.29983324],\n",
       "         [0.29983324]],\n",
       "\n",
       "        [[1.4242079 ],\n",
       "         [1.4242079 ],\n",
       "         [1.3867288 ],\n",
       "         ...,\n",
       "         [0.29983324],\n",
       "         [0.29983324],\n",
       "         [0.29983324]],\n",
       "\n",
       "        ...,\n",
       "\n",
       "        [[1.0494163 ],\n",
       "         [1.0119373 ],\n",
       "         [1.0119373 ],\n",
       "         ...,\n",
       "         [0.03747915],\n",
       "         [0.03747915],\n",
       "         [0.03747915]],\n",
       "\n",
       "        [[0.97445804],\n",
       "         [0.9369789 ],\n",
       "         [0.97445804],\n",
       "         ...,\n",
       "         [0.03747915],\n",
       "         [0.03747915],\n",
       "         [0.03747915]],\n",
       "\n",
       "        [[0.97445804],\n",
       "         [0.9369789 ],\n",
       "         [0.97445804],\n",
       "         ...,\n",
       "         [0.03747915],\n",
       "         [0.03747915],\n",
       "         [0.        ]]]], dtype=float32)>"
      ]
     },
     "execution_count": 3,
     "metadata": {},
     "output_type": "execute_result"
    }
   ],
   "source": [
    "path=\"/kaggle/input/lipreading/data/s1/bbaf2n.mpg\"\n",
    "value=load_video(path)\n",
    "value"
   ]
  },
  {
   "cell_type": "code",
   "execution_count": 4,
   "id": "3eb97d3c",
   "metadata": {
    "execution": {
     "iopub.execute_input": "2024-02-27T22:03:49.603461Z",
     "iopub.status.busy": "2024-02-27T22:03:49.602711Z",
     "iopub.status.idle": "2024-02-27T22:03:49.609214Z",
     "shell.execute_reply": "2024-02-27T22:03:49.608329Z"
    },
    "papermill": {
     "duration": 0.020117,
     "end_time": "2024-02-27T22:03:49.611216",
     "exception": false,
     "start_time": "2024-02-27T22:03:49.591099",
     "status": "completed"
    },
    "tags": []
   },
   "outputs": [],
   "source": [
    "#ADDITIONAL FUNCTION I MADE TO GET vocab WHICH IS A PARAMETER FOR THE CHAR_TO_NUM FUNCTION\n",
    "def get_vocab():\n",
    "    vocab=[]\n",
    "    \n",
    "    directory=\"/kaggle/input/lipreading/data/alignments/s1\"\n",
    "    for file in os.listdir(directory):\n",
    "        file_path = os.path.join(directory, file)\n",
    "        with open(file_path, 'r') as f:\n",
    "            lines=f.readlines()\n",
    "            for line in lines:\n",
    "                line=line.split()\n",
    "                vocab.append(line[2])\n",
    "    return vocab  "
   ]
  },
  {
   "cell_type": "code",
   "execution_count": 5,
   "id": "a1d7444d",
   "metadata": {
    "execution": {
     "iopub.execute_input": "2024-02-27T22:03:49.632907Z",
     "iopub.status.busy": "2024-02-27T22:03:49.632623Z",
     "iopub.status.idle": "2024-02-27T22:03:55.665491Z",
     "shell.execute_reply": "2024-02-27T22:03:55.664565Z"
    },
    "papermill": {
     "duration": 6.046358,
     "end_time": "2024-02-27T22:03:55.667852",
     "exception": false,
     "start_time": "2024-02-27T22:03:49.621494",
     "status": "completed"
    },
    "tags": []
   },
   "outputs": [],
   "source": [
    "vocab=np.unique(get_vocab())"
   ]
  },
  {
   "cell_type": "code",
   "execution_count": 6,
   "id": "4ad3694d",
   "metadata": {
    "execution": {
     "iopub.execute_input": "2024-02-27T22:03:55.689065Z",
     "iopub.status.busy": "2024-02-27T22:03:55.688785Z",
     "iopub.status.idle": "2024-02-27T22:03:55.867463Z",
     "shell.execute_reply": "2024-02-27T22:03:55.866499Z"
    },
    "papermill": {
     "duration": 0.19174,
     "end_time": "2024-02-27T22:03:55.869772",
     "exception": false,
     "start_time": "2024-02-27T22:03:55.678032",
     "status": "completed"
    },
    "tags": []
   },
   "outputs": [],
   "source": [
    "char_to_num= tf.keras.layers.StringLookup(vocabulary=vocab, oov_token=\"\")\n",
    "num_to_char=tf.keras.layers.StringLookup(vocabulary=char_to_num.get_vocabulary(), oov_token=\"\",invert=True)"
   ]
  },
  {
   "cell_type": "code",
   "execution_count": 7,
   "id": "5cd3fd2a",
   "metadata": {
    "execution": {
     "iopub.execute_input": "2024-02-27T22:03:55.891689Z",
     "iopub.status.busy": "2024-02-27T22:03:55.891375Z",
     "iopub.status.idle": "2024-02-27T22:03:55.897375Z",
     "shell.execute_reply": "2024-02-27T22:03:55.896529Z"
    },
    "papermill": {
     "duration": 0.018543,
     "end_time": "2024-02-27T22:03:55.899189",
     "exception": false,
     "start_time": "2024-02-27T22:03:55.880646",
     "status": "completed"
    },
    "tags": []
   },
   "outputs": [],
   "source": [
    "def load_alignments(path:str) -> List[str]:\n",
    "    with open(path, 'r') as f:\n",
    "        lines=f.readlines()\n",
    "        \n",
    "            \n",
    "        \n",
    "    tokens=[]\n",
    "    for line in lines:\n",
    "        line=line.split()\n",
    "        if line[2]!= 'sil':\n",
    "            tokens= [*tokens,' ',line[2]]\n",
    "        \n",
    "    return char_to_num(tf.reshape(tf.strings.unicode_split(tokens,input_encoding='UTF-8'),(-1)))[1:]"
   ]
  },
  {
   "cell_type": "code",
   "execution_count": 8,
   "id": "c65a5b3f",
   "metadata": {
    "execution": {
     "iopub.execute_input": "2024-02-27T22:03:55.919837Z",
     "iopub.status.busy": "2024-02-27T22:03:55.919538Z",
     "iopub.status.idle": "2024-02-27T22:03:55.956212Z",
     "shell.execute_reply": "2024-02-27T22:03:55.955186Z"
    },
    "papermill": {
     "duration": 0.048922,
     "end_time": "2024-02-27T22:03:55.958099",
     "exception": false,
     "start_time": "2024-02-27T22:03:55.909177",
     "status": "completed"
    },
    "tags": []
   },
   "outputs": [
    {
     "data": {
      "text/plain": [
       "<tf.Tensor: shape=(21,), dtype=int64, numpy=\n",
       "array([ 4, 18, 25,  0,  4, 22, 46, 10,  0,  1, 43,  0, 12,  0, 43,  0, 28,\n",
       "        0, 25, 28,  0])>"
      ]
     },
     "execution_count": 8,
     "metadata": {},
     "output_type": "execute_result"
    }
   ],
   "source": [
    "path=\"/kaggle/input/lipreading/data/alignments/s1/bbaf2n.align\"\n",
    "load_alignments(path)"
   ]
  },
  {
   "cell_type": "code",
   "execution_count": 9,
   "id": "e76b2d8e",
   "metadata": {
    "execution": {
     "iopub.execute_input": "2024-02-27T22:03:55.988418Z",
     "iopub.status.busy": "2024-02-27T22:03:55.988111Z",
     "iopub.status.idle": "2024-02-27T22:03:55.994047Z",
     "shell.execute_reply": "2024-02-27T22:03:55.993113Z"
    },
    "papermill": {
     "duration": 0.028009,
     "end_time": "2024-02-27T22:03:55.996125",
     "exception": false,
     "start_time": "2024-02-27T22:03:55.968116",
     "status": "completed"
    },
    "tags": []
   },
   "outputs": [],
   "source": [
    "def load_data(path:str):\n",
    "    path=bytes.decode(path.numpy())\n",
    "    file_name=path.split('/')[-1].split('.')[0]\n",
    "    video_path=os.path.join('/kaggle/input/lipreading/data','s1',f'{file_name}.mpg')\n",
    "    alignment_path=os.path.join('/kaggle/input/lipreading/data','alignments','s1',f'{file_name}.align')\n",
    "    frames=load_video(video_path)\n",
    "    alignments=load_alignments(alignment_path)\n",
    "    \n",
    "    return frames,alignments"
   ]
  },
  {
   "cell_type": "code",
   "execution_count": 10,
   "id": "a787c5e0",
   "metadata": {
    "execution": {
     "iopub.execute_input": "2024-02-27T22:03:56.019347Z",
     "iopub.status.busy": "2024-02-27T22:03:56.019042Z",
     "iopub.status.idle": "2024-02-27T22:03:56.259852Z",
     "shell.execute_reply": "2024-02-27T22:03:56.258922Z"
    },
    "papermill": {
     "duration": 0.255902,
     "end_time": "2024-02-27T22:03:56.262999",
     "exception": false,
     "start_time": "2024-02-27T22:03:56.007097",
     "status": "completed"
    },
    "tags": []
   },
   "outputs": [
    {
     "name": "stdout",
     "output_type": "stream",
     "text": [
      "frames: tf.Tensor(\n",
      "[[[[1.4991663 ]\n",
      "   [1.4991663 ]\n",
      "   [1.4616871 ]\n",
      "   ...\n",
      "   [0.41227072]\n",
      "   [0.41227072]\n",
      "   [0.41227072]]\n",
      "\n",
      "  [[1.4991663 ]\n",
      "   [1.4991663 ]\n",
      "   [1.4616871 ]\n",
      "   ...\n",
      "   [0.41227072]\n",
      "   [0.41227072]\n",
      "   [0.41227072]]\n",
      "\n",
      "  [[1.4616871 ]\n",
      "   [1.4616871 ]\n",
      "   [1.4991663 ]\n",
      "   ...\n",
      "   [0.3373124 ]\n",
      "   [0.3373124 ]\n",
      "   [0.3373124 ]]\n",
      "\n",
      "  ...\n",
      "\n",
      "  [[1.0494163 ]\n",
      "   [1.0494163 ]\n",
      "   [1.0119373 ]\n",
      "   ...\n",
      "   [0.11243746]\n",
      "   [0.11243746]\n",
      "   [0.07495831]]\n",
      "\n",
      "  [[1.0494163 ]\n",
      "   [1.0494163 ]\n",
      "   [1.0119373 ]\n",
      "   ...\n",
      "   [0.11243746]\n",
      "   [0.07495831]\n",
      "   [0.07495831]]\n",
      "\n",
      "  [[1.0494163 ]\n",
      "   [1.0494163 ]\n",
      "   [1.0119373 ]\n",
      "   ...\n",
      "   [0.07495831]\n",
      "   [0.07495831]\n",
      "   [0.03747915]]]\n",
      "\n",
      "\n",
      " [[[1.4242079 ]\n",
      "   [1.4242079 ]\n",
      "   [1.4242079 ]\n",
      "   ...\n",
      "   [0.3373124 ]\n",
      "   [0.3373124 ]\n",
      "   [0.3373124 ]]\n",
      "\n",
      "  [[1.4242079 ]\n",
      "   [1.4242079 ]\n",
      "   [1.4242079 ]\n",
      "   ...\n",
      "   [0.3373124 ]\n",
      "   [0.3373124 ]\n",
      "   [0.3373124 ]]\n",
      "\n",
      "  [[1.4242079 ]\n",
      "   [1.4242079 ]\n",
      "   [1.4242079 ]\n",
      "   ...\n",
      "   [0.29983324]\n",
      "   [0.29983324]\n",
      "   [0.29983324]]\n",
      "\n",
      "  ...\n",
      "\n",
      "  [[1.0494163 ]\n",
      "   [1.0494163 ]\n",
      "   [1.0119373 ]\n",
      "   ...\n",
      "   [0.11243746]\n",
      "   [0.11243746]\n",
      "   [0.07495831]]\n",
      "\n",
      "  [[1.0494163 ]\n",
      "   [1.0494163 ]\n",
      "   [1.0119373 ]\n",
      "   ...\n",
      "   [0.11243746]\n",
      "   [0.07495831]\n",
      "   [0.07495831]]\n",
      "\n",
      "  [[1.0494163 ]\n",
      "   [1.0494163 ]\n",
      "   [1.0119373 ]\n",
      "   ...\n",
      "   [0.07495831]\n",
      "   [0.07495831]\n",
      "   [0.03747915]]]\n",
      "\n",
      "\n",
      " [[[1.3492496 ]\n",
      "   [1.3492496 ]\n",
      "   [1.3492496 ]\n",
      "   ...\n",
      "   [0.3373124 ]\n",
      "   [0.3373124 ]\n",
      "   [0.3373124 ]]\n",
      "\n",
      "  [[1.3492496 ]\n",
      "   [1.3492496 ]\n",
      "   [1.3492496 ]\n",
      "   ...\n",
      "   [0.3373124 ]\n",
      "   [0.3373124 ]\n",
      "   [0.3373124 ]]\n",
      "\n",
      "  [[1.4242079 ]\n",
      "   [1.4242079 ]\n",
      "   [1.3867288 ]\n",
      "   ...\n",
      "   [0.26235408]\n",
      "   [0.29983324]\n",
      "   [0.29983324]]\n",
      "\n",
      "  ...\n",
      "\n",
      "  [[0.97445804]\n",
      "   [0.97445804]\n",
      "   [0.9369789 ]\n",
      "   ...\n",
      "   [0.11243746]\n",
      "   [0.11243746]\n",
      "   [0.07495831]]\n",
      "\n",
      "  [[0.97445804]\n",
      "   [0.97445804]\n",
      "   [0.9369789 ]\n",
      "   ...\n",
      "   [0.11243746]\n",
      "   [0.07495831]\n",
      "   [0.07495831]]\n",
      "\n",
      "  [[0.97445804]\n",
      "   [0.97445804]\n",
      "   [0.9369789 ]\n",
      "   ...\n",
      "   [0.07495831]\n",
      "   [0.07495831]\n",
      "   [0.03747915]]]\n",
      "\n",
      "\n",
      " ...\n",
      "\n",
      "\n",
      " [[[1.4991663 ]\n",
      "   [1.4991663 ]\n",
      "   [1.4991663 ]\n",
      "   ...\n",
      "   [0.29983324]\n",
      "   [0.29983324]\n",
      "   [0.29983324]]\n",
      "\n",
      "  [[1.4242079 ]\n",
      "   [1.4242079 ]\n",
      "   [1.4242079 ]\n",
      "   ...\n",
      "   [0.29983324]\n",
      "   [0.29983324]\n",
      "   [0.29983324]]\n",
      "\n",
      "  [[1.4616871 ]\n",
      "   [1.4616871 ]\n",
      "   [1.4242079 ]\n",
      "   ...\n",
      "   [0.29983324]\n",
      "   [0.26235408]\n",
      "   [0.26235408]]\n",
      "\n",
      "  ...\n",
      "\n",
      "  [[1.0868955 ]\n",
      "   [1.0494163 ]\n",
      "   [1.0494163 ]\n",
      "   ...\n",
      "   [0.07495831]\n",
      "   [0.07495831]\n",
      "   [0.07495831]]\n",
      "\n",
      "  [[1.0494163 ]\n",
      "   [1.0494163 ]\n",
      "   [1.0494163 ]\n",
      "   ...\n",
      "   [0.07495831]\n",
      "   [0.07495831]\n",
      "   [0.07495831]]\n",
      "\n",
      "  [[1.0494163 ]\n",
      "   [1.0494163 ]\n",
      "   [1.0494163 ]\n",
      "   ...\n",
      "   [0.07495831]\n",
      "   [0.07495831]\n",
      "   [0.03747915]]]\n",
      "\n",
      "\n",
      " [[[1.4991663 ]\n",
      "   [1.4991663 ]\n",
      "   [1.5366454 ]\n",
      "   ...\n",
      "   [0.3373124 ]\n",
      "   [0.29983324]\n",
      "   [0.29983324]]\n",
      "\n",
      "  [[1.4242079 ]\n",
      "   [1.4242079 ]\n",
      "   [1.4616871 ]\n",
      "   ...\n",
      "   [0.3373124 ]\n",
      "   [0.29983324]\n",
      "   [0.29983324]]\n",
      "\n",
      "  [[1.4616871 ]\n",
      "   [1.4616871 ]\n",
      "   [1.4242079 ]\n",
      "   ...\n",
      "   [0.26235408]\n",
      "   [0.29983324]\n",
      "   [0.29983324]]\n",
      "\n",
      "  ...\n",
      "\n",
      "  [[1.0494163 ]\n",
      "   [1.0119373 ]\n",
      "   [1.0119373 ]\n",
      "   ...\n",
      "   [0.03747915]\n",
      "   [0.03747915]\n",
      "   [0.03747915]]\n",
      "\n",
      "  [[1.0494163 ]\n",
      "   [1.0119373 ]\n",
      "   [1.0119373 ]\n",
      "   ...\n",
      "   [0.03747915]\n",
      "   [0.03747915]\n",
      "   [0.03747915]]\n",
      "\n",
      "  [[1.0119373 ]\n",
      "   [1.0119373 ]\n",
      "   [0.97445804]\n",
      "   ...\n",
      "   [0.03747915]\n",
      "   [0.03747915]\n",
      "   [0.        ]]]\n",
      "\n",
      "\n",
      " [[[1.4616871 ]\n",
      "   [1.4616871 ]\n",
      "   [1.4616871 ]\n",
      "   ...\n",
      "   [0.29983324]\n",
      "   [0.29983324]\n",
      "   [0.29983324]]\n",
      "\n",
      "  [[1.4616871 ]\n",
      "   [1.4616871 ]\n",
      "   [1.4616871 ]\n",
      "   ...\n",
      "   [0.29983324]\n",
      "   [0.29983324]\n",
      "   [0.29983324]]\n",
      "\n",
      "  [[1.4242079 ]\n",
      "   [1.4242079 ]\n",
      "   [1.3867288 ]\n",
      "   ...\n",
      "   [0.29983324]\n",
      "   [0.29983324]\n",
      "   [0.29983324]]\n",
      "\n",
      "  ...\n",
      "\n",
      "  [[1.0494163 ]\n",
      "   [1.0119373 ]\n",
      "   [1.0119373 ]\n",
      "   ...\n",
      "   [0.03747915]\n",
      "   [0.03747915]\n",
      "   [0.03747915]]\n",
      "\n",
      "  [[0.97445804]\n",
      "   [0.9369789 ]\n",
      "   [0.97445804]\n",
      "   ...\n",
      "   [0.03747915]\n",
      "   [0.03747915]\n",
      "   [0.03747915]]\n",
      "\n",
      "  [[0.97445804]\n",
      "   [0.9369789 ]\n",
      "   [0.97445804]\n",
      "   ...\n",
      "   [0.03747915]\n",
      "   [0.03747915]\n",
      "   [0.        ]]]], shape=(75, 46, 140, 1), dtype=float32)\n",
      "alignments: tf.Tensor([ 4 18 25  0  4 22 46 10  0  1 43  0 12  0 43  0 28  0 25 28  0], shape=(21,), dtype=int64)\n"
     ]
    }
   ],
   "source": [
    "#TESTING THE OUTPUT FOR A SAMPLE FILE\n",
    "path=\"/kaggle/input/lipreading/data/s1/bbaf2n.mpg\"\n",
    "frames, alignments=load_data(tf.convert_to_tensor(path))\n",
    "print(\"frames:\",frames)\n",
    "print(\"alignments:\",alignments)"
   ]
  },
  {
   "cell_type": "code",
   "execution_count": 11,
   "id": "6e599f7c",
   "metadata": {
    "execution": {
     "iopub.execute_input": "2024-02-27T22:03:56.288899Z",
     "iopub.status.busy": "2024-02-27T22:03:56.288514Z",
     "iopub.status.idle": "2024-02-27T22:03:56.510041Z",
     "shell.execute_reply": "2024-02-27T22:03:56.509150Z"
    },
    "papermill": {
     "duration": 0.236032,
     "end_time": "2024-02-27T22:03:56.512036",
     "exception": false,
     "start_time": "2024-02-27T22:03:56.276004",
     "status": "completed"
    },
    "tags": []
   },
   "outputs": [
    {
     "data": {
      "text/plain": [
       "<matplotlib.image.AxesImage at 0x7979f1543670>"
      ]
     },
     "execution_count": 11,
     "metadata": {},
     "output_type": "execute_result"
    },
    {
     "data": {
      "image/png": "[encoded data removed]",
      "text/plain": [
       "<Figure size 640x480 with 1 Axes>"
      ]
     },
     "metadata": {},
     "output_type": "display_data"
    }
   ],
   "source": [
    "plt.imshow(frames[40])"
   ]
  },
  {
   "cell_type": "code",
   "execution_count": 12,
   "id": "14a3fc76",
   "metadata": {
    "execution": {
     "iopub.execute_input": "2024-02-27T22:03:56.535332Z",
     "iopub.status.busy": "2024-02-27T22:03:56.534989Z",
     "iopub.status.idle": "2024-02-27T22:03:56.539781Z",
     "shell.execute_reply": "2024-02-27T22:03:56.538950Z"
    },
    "papermill": {
     "duration": 0.01873,
     "end_time": "2024-02-27T22:03:56.541664",
     "exception": false,
     "start_time": "2024-02-27T22:03:56.522934",
     "status": "completed"
    },
    "tags": []
   },
   "outputs": [],
   "source": [
    "def mappable_function(path:str) ->List[str]:\n",
    "    result = tf.py_function(load_data, [path], (tf.float32, tf.int64))\n",
    "    return result"
   ]
  },
  {
   "cell_type": "code",
   "execution_count": 13,
   "id": "cb042239",
   "metadata": {
    "execution": {
     "iopub.execute_input": "2024-02-27T22:03:56.565478Z",
     "iopub.status.busy": "2024-02-27T22:03:56.565166Z",
     "iopub.status.idle": "2024-02-27T22:03:57.537209Z",
     "shell.execute_reply": "2024-02-27T22:03:57.536419Z"
    },
    "papermill": {
     "duration": 0.986722,
     "end_time": "2024-02-27T22:03:57.539340",
     "exception": false,
     "start_time": "2024-02-27T22:03:56.552618",
     "status": "completed"
    },
    "tags": []
   },
   "outputs": [],
   "source": [
    "data = tf.data.Dataset.list_files('/kaggle/input/lipreading/data/s1/*.mpg')\n",
    "data = data.shuffle(500, reshuffle_each_iteration=False)\n",
    "data = data.map(mappable_function)\n",
    "\n",
    "# Division des données en ensembles d'entraînement et de test\n",
    "train_size = 450\n",
    "train_data = data.take(train_size)\n",
    "test_data = data.skip(train_size)\n",
    "\n",
    "# Création des lots (batches) de données\n",
    "train_data = train_data.padded_batch(2, padded_shapes=([75, None, None, None], [40]))\n",
    "test_data = test_data.padded_batch(2, padded_shapes=([75, None, None, None], [40]))\n",
    "\n",
    "# Préchargement des données\n",
    "train_data = train_data.prefetch(tf.data.AUTOTUNE)\n",
    "test_data = test_data.prefetch(tf.data.AUTOTUNE)\n"
   ]
  },
  {
   "cell_type": "code",
   "execution_count": 14,
   "id": "1a788701",
   "metadata": {
    "execution": {
     "iopub.execute_input": "2024-02-27T22:03:57.564699Z",
     "iopub.status.busy": "2024-02-27T22:03:57.563879Z",
     "iopub.status.idle": "2024-02-27T22:03:57.568351Z",
     "shell.execute_reply": "2024-02-27T22:03:57.567518Z"
    },
    "papermill": {
     "duration": 0.019631,
     "end_time": "2024-02-27T22:03:57.570314",
     "exception": false,
     "start_time": "2024-02-27T22:03:57.550683",
     "status": "completed"
    },
    "tags": []
   },
   "outputs": [],
   "source": [
    "# data = tf.data.Dataset.list_files('/kaggle/input/lipreading/data/s1/*.mpg')\n",
    "# data = data.shuffle(500,reshuffle_each_iteration=False)\n",
    "# data = data.map(mappable_function)\n",
    "# data = data.padded_batch(2, padded_shapes=([75,None,None,None],[40]))\n",
    "# data = data.prefetch(tf.data.AUTOTUNE)\n",
    "# # # ADDED DOR SPLIT\n",
    "# train = data.take(450)\n",
    "# test = data.skip(450)"
   ]
  },
  {
   "cell_type": "code",
   "execution_count": 15,
   "id": "db0f49b9",
   "metadata": {
    "execution": {
     "iopub.execute_input": "2024-02-27T22:03:57.592923Z",
     "iopub.status.busy": "2024-02-27T22:03:57.592672Z",
     "iopub.status.idle": "2024-02-27T22:03:57.596550Z",
     "shell.execute_reply": "2024-02-27T22:03:57.595567Z"
    },
    "papermill": {
     "duration": 0.017589,
     "end_time": "2024-02-27T22:03:57.598629",
     "exception": false,
     "start_time": "2024-02-27T22:03:57.581040",
     "status": "completed"
    },
    "tags": []
   },
   "outputs": [],
   "source": [
    "# frames, alighnments = data.as_numpy_iterator().next()"
   ]
  },
  {
   "cell_type": "code",
   "execution_count": 16,
   "id": "2d2414f7",
   "metadata": {
    "execution": {
     "iopub.execute_input": "2024-02-27T22:03:57.621738Z",
     "iopub.status.busy": "2024-02-27T22:03:57.621417Z",
     "iopub.status.idle": "2024-02-27T22:03:57.661159Z",
     "shell.execute_reply": "2024-02-27T22:03:57.660253Z"
    },
    "papermill": {
     "duration": 0.054108,
     "end_time": "2024-02-27T22:03:57.663598",
     "exception": false,
     "start_time": "2024-02-27T22:03:57.609490",
     "status": "completed"
    },
    "tags": []
   },
   "outputs": [],
   "source": [
    "sample = data.as_numpy_iterator()"
   ]
  },
  {
   "cell_type": "code",
   "execution_count": 17,
   "id": "ba7b66ce",
   "metadata": {
    "execution": {
     "iopub.execute_input": "2024-02-27T22:03:57.686699Z",
     "iopub.status.busy": "2024-02-27T22:03:57.686350Z",
     "iopub.status.idle": "2024-02-27T22:03:57.943319Z",
     "shell.execute_reply": "2024-02-27T22:03:57.942171Z"
    },
    "papermill": {
     "duration": 0.270834,
     "end_time": "2024-02-27T22:03:57.945481",
     "exception": false,
     "start_time": "2024-02-27T22:03:57.674647",
     "status": "completed"
    },
    "tags": []
   },
   "outputs": [
    {
     "data": {
      "text/plain": [
       "array([[[[1.4777119 ],\n",
       "         [1.4388248 ],\n",
       "         [1.3999376 ],\n",
       "         ...,\n",
       "         [0.11666147],\n",
       "         [0.11666147],\n",
       "         [0.11666147]],\n",
       "\n",
       "        [[1.4777119 ],\n",
       "         [1.4388248 ],\n",
       "         [1.3610505 ],\n",
       "         ...,\n",
       "         [0.11666147],\n",
       "         [0.11666147],\n",
       "         [0.11666147]],\n",
       "\n",
       "        [[1.3610505 ],\n",
       "         [1.3610505 ],\n",
       "         [1.3610505 ],\n",
       "         ...,\n",
       "         [0.07777432],\n",
       "         [0.07777432],\n",
       "         [0.07777432]],\n",
       "\n",
       "        ...,\n",
       "\n",
       "        [[1.0499532 ],\n",
       "         [1.0499532 ],\n",
       "         [1.0110661 ],\n",
       "         ...,\n",
       "         [9.760676  ],\n",
       "         [9.760676  ],\n",
       "         [9.760676  ]],\n",
       "\n",
       "        [[1.0499532 ],\n",
       "         [1.0499532 ],\n",
       "         [1.0110661 ],\n",
       "         ...,\n",
       "         [9.760676  ],\n",
       "         [9.760676  ],\n",
       "         [9.760676  ]],\n",
       "\n",
       "        [[1.0499532 ],\n",
       "         [1.0499532 ],\n",
       "         [1.0110661 ],\n",
       "         ...,\n",
       "         [9.760676  ],\n",
       "         [9.760676  ],\n",
       "         [9.760676  ]]],\n",
       "\n",
       "\n",
       "       [[[1.516599  ],\n",
       "         [1.3999376 ],\n",
       "         [1.3999376 ],\n",
       "         ...,\n",
       "         [0.07777432],\n",
       "         [0.07777432],\n",
       "         [0.07777432]],\n",
       "\n",
       "        [[1.516599  ],\n",
       "         [1.4388248 ],\n",
       "         [1.3999376 ],\n",
       "         ...,\n",
       "         [0.07777432],\n",
       "         [0.07777432],\n",
       "         [0.07777432]],\n",
       "\n",
       "        [[1.4388248 ],\n",
       "         [1.4388248 ],\n",
       "         [1.4388248 ],\n",
       "         ...,\n",
       "         [0.07777432],\n",
       "         [0.07777432],\n",
       "         [0.07777432]],\n",
       "\n",
       "        ...,\n",
       "\n",
       "        [[1.0499532 ],\n",
       "         [1.0499532 ],\n",
       "         [1.0110661 ],\n",
       "         ...,\n",
       "         [9.760676  ],\n",
       "         [9.760676  ],\n",
       "         [9.760676  ]],\n",
       "\n",
       "        [[1.0499532 ],\n",
       "         [1.0499532 ],\n",
       "         [1.0110661 ],\n",
       "         ...,\n",
       "         [9.760676  ],\n",
       "         [9.760676  ],\n",
       "         [9.760676  ]],\n",
       "\n",
       "        [[1.0499532 ],\n",
       "         [1.0499532 ],\n",
       "         [1.0110661 ],\n",
       "         ...,\n",
       "         [9.760676  ],\n",
       "         [9.760676  ],\n",
       "         [9.760676  ]]],\n",
       "\n",
       "\n",
       "       [[[1.4777119 ],\n",
       "         [1.3999376 ],\n",
       "         [1.3999376 ],\n",
       "         ...,\n",
       "         [0.07777432],\n",
       "         [0.07777432],\n",
       "         [0.07777432]],\n",
       "\n",
       "        [[1.4777119 ],\n",
       "         [1.4388248 ],\n",
       "         [1.3999376 ],\n",
       "         ...,\n",
       "         [0.07777432],\n",
       "         [0.07777432],\n",
       "         [0.07777432]],\n",
       "\n",
       "        [[1.3999376 ],\n",
       "         [1.3999376 ],\n",
       "         [1.3999376 ],\n",
       "         ...,\n",
       "         [0.07777432],\n",
       "         [0.07777432],\n",
       "         [0.07777432]],\n",
       "\n",
       "        ...,\n",
       "\n",
       "        [[1.0110661 ],\n",
       "         [1.0499532 ],\n",
       "         [1.0499532 ],\n",
       "         ...,\n",
       "         [9.760676  ],\n",
       "         [9.760676  ],\n",
       "         [9.760676  ]],\n",
       "\n",
       "        [[1.0110661 ],\n",
       "         [1.0499532 ],\n",
       "         [1.0499532 ],\n",
       "         ...,\n",
       "         [9.760676  ],\n",
       "         [9.760676  ],\n",
       "         [9.760676  ]],\n",
       "\n",
       "        [[1.0499532 ],\n",
       "         [1.0110661 ],\n",
       "         [1.0110661 ],\n",
       "         ...,\n",
       "         [9.760676  ],\n",
       "         [9.760676  ],\n",
       "         [9.760676  ]]],\n",
       "\n",
       "\n",
       "       ...,\n",
       "\n",
       "\n",
       "       [[[1.516599  ],\n",
       "         [1.516599  ],\n",
       "         [1.516599  ],\n",
       "         ...,\n",
       "         [0.11666147],\n",
       "         [0.15554863],\n",
       "         [0.15554863]],\n",
       "\n",
       "        [[1.4388248 ],\n",
       "         [1.4388248 ],\n",
       "         [1.4388248 ],\n",
       "         ...,\n",
       "         [0.11666147],\n",
       "         [0.15554863],\n",
       "         [0.15554863]],\n",
       "\n",
       "        [[1.4777119 ],\n",
       "         [1.4777119 ],\n",
       "         [1.4777119 ],\n",
       "         ...,\n",
       "         [0.11666147],\n",
       "         [0.11666147],\n",
       "         [0.11666147]],\n",
       "\n",
       "        ...,\n",
       "\n",
       "        [[1.0110661 ],\n",
       "         [1.0110661 ],\n",
       "         [1.0110661 ],\n",
       "         ...,\n",
       "         [9.799563  ],\n",
       "         [9.799563  ],\n",
       "         [9.799563  ]],\n",
       "\n",
       "        [[1.0110661 ],\n",
       "         [1.0110661 ],\n",
       "         [1.0110661 ],\n",
       "         ...,\n",
       "         [9.799563  ],\n",
       "         [9.799563  ],\n",
       "         [9.799563  ]],\n",
       "\n",
       "        [[1.0110661 ],\n",
       "         [1.0110661 ],\n",
       "         [1.0110661 ],\n",
       "         ...,\n",
       "         [9.799563  ],\n",
       "         [9.799563  ],\n",
       "         [9.799563  ]]],\n",
       "\n",
       "\n",
       "       [[[1.5943735 ],\n",
       "         [1.5943735 ],\n",
       "         [1.5554863 ],\n",
       "         ...,\n",
       "         [0.11666147],\n",
       "         [0.15554863],\n",
       "         [0.15554863]],\n",
       "\n",
       "        [[1.516599  ],\n",
       "         [1.516599  ],\n",
       "         [1.4777119 ],\n",
       "         ...,\n",
       "         [0.11666147],\n",
       "         [0.15554863],\n",
       "         [0.15554863]],\n",
       "\n",
       "        [[1.5554863 ],\n",
       "         [1.5554863 ],\n",
       "         [1.4388248 ],\n",
       "         ...,\n",
       "         [0.11666147],\n",
       "         [0.19443579],\n",
       "         [0.19443579]],\n",
       "\n",
       "        ...,\n",
       "\n",
       "        [[1.0499532 ],\n",
       "         [1.0110661 ],\n",
       "         [1.0110661 ],\n",
       "         ...,\n",
       "         [9.799563  ],\n",
       "         [9.799563  ],\n",
       "         [9.799563  ]],\n",
       "\n",
       "        [[1.0499532 ],\n",
       "         [1.0110661 ],\n",
       "         [1.0110661 ],\n",
       "         ...,\n",
       "         [9.799563  ],\n",
       "         [9.799563  ],\n",
       "         [9.799563  ]],\n",
       "\n",
       "        [[1.0499532 ],\n",
       "         [1.0110661 ],\n",
       "         [1.0110661 ],\n",
       "         ...,\n",
       "         [9.799563  ],\n",
       "         [9.799563  ],\n",
       "         [9.799563  ]]],\n",
       "\n",
       "\n",
       "       [[[1.6332606 ],\n",
       "         [1.6332606 ],\n",
       "         [1.5943735 ],\n",
       "         ...,\n",
       "         [0.15554863],\n",
       "         [0.11666147],\n",
       "         [0.11666147]],\n",
       "\n",
       "        [[1.5943735 ],\n",
       "         [1.5943735 ],\n",
       "         [1.5554863 ],\n",
       "         ...,\n",
       "         [0.15554863],\n",
       "         [0.11666147],\n",
       "         [0.11666147]],\n",
       "\n",
       "        [[1.4777119 ],\n",
       "         [1.4388248 ],\n",
       "         [1.4388248 ],\n",
       "         ...,\n",
       "         [0.19443579],\n",
       "         [0.19443579],\n",
       "         [0.19443579]],\n",
       "\n",
       "        ...,\n",
       "\n",
       "        [[1.0499532 ],\n",
       "         [1.0110661 ],\n",
       "         [1.0110661 ],\n",
       "         ...,\n",
       "         [9.799563  ],\n",
       "         [9.799563  ],\n",
       "         [9.799563  ]],\n",
       "\n",
       "        [[1.0499532 ],\n",
       "         [1.0110661 ],\n",
       "         [1.0110661 ],\n",
       "         ...,\n",
       "         [9.799563  ],\n",
       "         [9.799563  ],\n",
       "         [9.799563  ]],\n",
       "\n",
       "        [[1.0499532 ],\n",
       "         [1.0110661 ],\n",
       "         [1.0110661 ],\n",
       "         ...,\n",
       "         [9.760676  ],\n",
       "         [9.760676  ],\n",
       "         [9.760676  ]]]], dtype=float32)"
      ]
     },
     "execution_count": 17,
     "metadata": {},
     "output_type": "execute_result"
    }
   ],
   "source": [
    "val = sample.next();val[0]"
   ]
  },
  {
   "cell_type": "code",
   "execution_count": 18,
   "id": "81cd4a68",
   "metadata": {
    "execution": {
     "iopub.execute_input": "2024-02-27T22:03:57.972145Z",
     "iopub.status.busy": "2024-02-27T22:03:57.971790Z",
     "iopub.status.idle": "2024-02-27T22:03:57.984381Z",
     "shell.execute_reply": "2024-02-27T22:03:57.982420Z"
    },
    "papermill": {
     "duration": 0.02887,
     "end_time": "2024-02-27T22:03:57.987021",
     "exception": false,
     "start_time": "2024-02-27T22:03:57.958151",
     "status": "completed"
    },
    "tags": []
   },
   "outputs": [],
   "source": [
    "from tensorflow.keras.models import Sequential\n",
    "from tensorflow.keras.layers import Conv3D, LSTM, Dense, Dropout, Bidirectional, MaxPool3D,Activation, Reshape, SpatialDropout3D, BatchNormalization, TimeDistributed, Flatten\n",
    "from tensorflow.keras.optimizers import Adam\n",
    "from tensorflow.keras.callbacks import ModelCheckpoint, LearningRateScheduler"
   ]
  },
  {
   "cell_type": "code",
   "execution_count": 19,
   "id": "642d6351",
   "metadata": {
    "execution": {
     "iopub.execute_input": "2024-02-27T22:03:58.014399Z",
     "iopub.status.busy": "2024-02-27T22:03:58.014062Z",
     "iopub.status.idle": "2024-02-27T22:03:58.020133Z",
     "shell.execute_reply": "2024-02-27T22:03:58.019184Z"
    },
    "papermill": {
     "duration": 0.022486,
     "end_time": "2024-02-27T22:03:58.022567",
     "exception": false,
     "start_time": "2024-02-27T22:03:58.000081",
     "status": "completed"
    },
    "tags": []
   },
   "outputs": [],
   "source": [
    "def scheduler(epoch,lr):\n",
    "    if epoch < 30:\n",
    "        return lr\n",
    "    else:\n",
    "        return lr * tf.math.exp(-0.1)"
   ]
  },
  {
   "cell_type": "code",
   "execution_count": 20,
   "id": "2e0ceedd",
   "metadata": {
    "execution": {
     "iopub.execute_input": "2024-02-27T22:03:58.056388Z",
     "iopub.status.busy": "2024-02-27T22:03:58.055565Z",
     "iopub.status.idle": "2024-02-27T22:03:58.060746Z",
     "shell.execute_reply": "2024-02-27T22:03:58.059210Z"
    },
    "papermill": {
     "duration": 0.024375,
     "end_time": "2024-02-27T22:03:58.063228",
     "exception": false,
     "start_time": "2024-02-27T22:03:58.038853",
     "status": "completed"
    },
    "tags": []
   },
   "outputs": [],
   "source": [
    "# class ProduceExample(tf.keras.callbacks.Callback):\n",
    "#     def __init__(self, dataset) -> None:\n",
    "#         self.dataset = dataset.as_numpy_iterator()\n",
    "#     def on_epoch_end(self, epoch, logs=None) -> None:\n",
    "#         data = self.dataset.next()\n",
    "#         yhat = self.model.predict(data[0])\n",
    "#         decoded = tf.keras.backend.ctc_decode(yhat, [75,75], greedy=False)[0][0].numpy()\n",
    "#         for x in range(len(yhat)):\n",
    "#             print('Original:', tf.strings.reduce_join(num_to_char(data[1][x])).numpy().decode('utf-8'))\n",
    "#             print('Prediction:', tf.strings.reduce_join(num_to_char(decoded[x])).numpy().decode('utf-8'))\n",
    "#             print('~'*100)"
   ]
  },
  {
   "cell_type": "code",
   "execution_count": 21,
   "id": "a159ac11",
   "metadata": {
    "execution": {
     "iopub.execute_input": "2024-02-27T22:03:58.089805Z",
     "iopub.status.busy": "2024-02-27T22:03:58.088957Z",
     "iopub.status.idle": "2024-02-27T22:03:58.098915Z",
     "shell.execute_reply": "2024-02-27T22:03:58.096930Z"
    },
    "papermill": {
     "duration": 0.02592,
     "end_time": "2024-02-27T22:03:58.100915",
     "exception": false,
     "start_time": "2024-02-27T22:03:58.074995",
     "status": "completed"
    },
    "tags": []
   },
   "outputs": [],
   "source": [
    "def CTCLoss(y_true,y_pred):\n",
    "    batch_len = tf.cast(tf.shape(y_true)[0], dtype=\"int64\")\n",
    "    input_length = tf.cast(tf.shape(y_pred)[1],dtype=\"int64\")\n",
    "    label_length = tf.cast(tf.shape(y_true)[1],dtype=\"int64\")\n",
    "    input_length = input_length * tf.ones(shape=(batch_len, 1), dtype=\"int64\")\n",
    "    label_length = label_length * tf.ones(shape=(batch_len, 1), dtype=\"int64\")\n",
    "    loss = tf.keras.backend.ctc_batch_cost(y_true, y_pred, input_length, label_length)\n",
    "    return loss"
   ]
  },
  {
   "cell_type": "code",
   "execution_count": 22,
   "id": "86524cea",
   "metadata": {
    "execution": {
     "iopub.execute_input": "2024-02-27T22:03:58.125869Z",
     "iopub.status.busy": "2024-02-27T22:03:58.125041Z",
     "iopub.status.idle": "2024-02-27T22:04:00.744071Z",
     "shell.execute_reply": "2024-02-27T22:04:00.743278Z"
    },
    "papermill": {
     "duration": 2.634,
     "end_time": "2024-02-27T22:04:00.746393",
     "exception": false,
     "start_time": "2024-02-27T22:03:58.112393",
     "status": "completed"
    },
    "tags": []
   },
   "outputs": [],
   "source": [
    "from tensorflow.keras.models import Sequential\n",
    "from tensorflow.keras.layers import Conv3D, Activation, MaxPool3D, TimeDistributed, Flatten, Bidirectional, LSTM, Dropout, Dense, BatchNormalization\n",
    "\n",
    "model = Sequential()\n",
    "model.add(Conv3D(128, 3, input_shape=(75, 46, 140, 1), padding='same'))\n",
    "model.add(Activation('relu'))\n",
    "model.add(MaxPool3D((1, 2, 2)))\n",
    "\n",
    "model.add(Conv3D(256, 3, padding='same'))\n",
    "model.add(Activation('relu'))\n",
    "model.add(MaxPool3D((1, 2, 2)))\n",
    "\n",
    "model.add(Conv3D(75, 3, padding='same'))\n",
    "model.add(Activation('relu'))\n",
    "model.add(MaxPool3D((1, 2, 2)))\n",
    "\n",
    "model.add(TimeDistributed(Flatten()))\n",
    "\n",
    "model.add(Bidirectional(LSTM(128, kernel_initializer='Orthogonal', return_sequences=True)))\n",
    "model.add(Dropout(0.35))\n",
    "model.add(BatchNormalization())\n",
    "\n",
    "\n",
    "model.add(Bidirectional(LSTM(128, kernel_initializer='Orthogonal', return_sequences=True)))\n",
    "model.add(BatchNormalization())\n",
    "model.add(Dropout(0.35))\n",
    "\n",
    "model.add(Dense(char_to_num.vocabulary_size() + 1, kernel_initializer='he_normal', activation='softmax'))\n"
   ]
  },
  {
   "cell_type": "code",
   "execution_count": 23,
   "id": "e77c75e5",
   "metadata": {
    "execution": {
     "iopub.execute_input": "2024-02-27T22:04:00.773431Z",
     "iopub.status.busy": "2024-02-27T22:04:00.772844Z",
     "iopub.status.idle": "2024-02-27T22:04:00.777663Z",
     "shell.execute_reply": "2024-02-27T22:04:00.776870Z"
    },
    "papermill": {
     "duration": 0.019716,
     "end_time": "2024-02-27T22:04:00.779628",
     "exception": false,
     "start_time": "2024-02-27T22:04:00.759912",
     "status": "completed"
    },
    "tags": []
   },
   "outputs": [],
   "source": [
    "checkpoint_callback = ModelCheckpoint(os.path.join('models','checkpoint'), monitor='loss', save_weights_only=True)\n",
    "schedule_callback = LearningRateScheduler(scheduler)\n"
   ]
  },
  {
   "cell_type": "code",
   "execution_count": 24,
   "id": "14b4be63",
   "metadata": {
    "execution": {
     "iopub.execute_input": "2024-02-27T22:04:00.803978Z",
     "iopub.status.busy": "2024-02-27T22:04:00.803667Z",
     "iopub.status.idle": "2024-02-27T22:04:00.823805Z",
     "shell.execute_reply": "2024-02-27T22:04:00.823082Z"
    },
    "papermill": {
     "duration": 0.034622,
     "end_time": "2024-02-27T22:04:00.825827",
     "exception": false,
     "start_time": "2024-02-27T22:04:00.791205",
     "status": "completed"
    },
    "tags": []
   },
   "outputs": [],
   "source": [
    "model.compile(optimizer=Adam(learning_rate=0.0001), loss=CTCLoss)"
   ]
  },
  {
   "cell_type": "code",
   "execution_count": 25,
   "id": "a4ffd486",
   "metadata": {
    "execution": {
     "iopub.execute_input": "2024-02-27T22:04:00.851247Z",
     "iopub.status.busy": "2024-02-27T22:04:00.850363Z",
     "iopub.status.idle": "2024-02-28T08:38:41.672825Z",
     "shell.execute_reply": "2024-02-28T08:38:41.671867Z"
    },
    "papermill": {
     "duration": 38082.276495,
     "end_time": "2024-02-28T08:38:43.114148",
     "exception": false,
     "start_time": "2024-02-27T22:04:00.837653",
     "status": "completed"
    },
    "tags": []
   },
   "outputs": [
    {
     "name": "stdout",
     "output_type": "stream",
     "text": [
      "Epoch 1/80\n"
     ]
    },
    {
     "name": "stderr",
     "output_type": "stream",
     "text": [
      "WARNING: All log messages before absl::InitializeLog() is called are written to STDERR\n",
      "I0000 00:00:1709071455.467160      72 device_compiler.h:186] Compiled cluster using XLA!  This line is logged at most once for the lifetime of the process.\n"
     ]
    },
    {
     "name": "stdout",
     "output_type": "stream",
     "text": [
      " 44/225 [====>.........................] - ETA: 2:52 - loss: 255.1924"
     ]
    },
    {
     "name": "stderr",
     "output_type": "stream",
     "text": [
      "[mpeg1video @ 0x7978ac08df00] ac-tex damaged at 22 17\n",
      "[mpeg1video @ 0x7978ac08df00] Warning MVs not available\n"
     ]
    },
    {
     "name": "stdout",
     "output_type": "stream",
     "text": [
      "225/225 [==============================] - ETA: 0s - loss: 167.2529"
     ]
    },
    {
     "name": "stderr",
     "output_type": "stream",
     "text": [
      "[mpeg1video @ 0x797a040bdc80] ac-tex damaged at 22 17\n",
      "[mpeg1video @ 0x797a040bdc80] Warning MVs not available\n"
     ]
    },
    {
     "name": "stdout",
     "output_type": "stream",
     "text": [
      "225/225 [==============================] - 527s 2s/step - loss: 167.2529 - val_loss: 143.0932 - lr: 1.0000e-04\n",
      "Epoch 2/80\n",
      "225/225 [==============================] - ETA: 0s - loss: 109.9492"
     ]
    },
    {
     "name": "stderr",
     "output_type": "stream",
     "text": [
      "[mpeg1video @ 0x7978dc022580] ac-tex damaged at 22 17\n",
      "[mpeg1video @ 0x7978dc022580] Warning MVs not available\n"
     ]
    },
    {
     "name": "stdout",
     "output_type": "stream",
     "text": [
      "225/225 [==============================] - 492s 2s/step - loss: 109.9492 - val_loss: 96.3450 - lr: 1.0000e-04\n",
      "Epoch 3/80\n",
      "225/225 [==============================] - ETA: 0s - loss: 98.6087"
     ]
    },
    {
     "name": "stderr",
     "output_type": "stream",
     "text": [
      "[mpeg1video @ 0x7974f406cac0] ac-tex damaged at 22 17\n",
      "[mpeg1video @ 0x7974f406cac0] Warning MVs not available\n"
     ]
    },
    {
     "name": "stdout",
     "output_type": "stream",
     "text": [
      "225/225 [==============================] - 492s 2s/step - loss: 98.6087 - val_loss: 88.5129 - lr: 1.0000e-04\n",
      "Epoch 4/80\n",
      "225/225 [==============================] - ETA: 0s - loss: 93.6032"
     ]
    },
    {
     "name": "stderr",
     "output_type": "stream",
     "text": [
      "[mpeg1video @ 0x7978dc05f940] ac-tex damaged at 22 17\n",
      "[mpeg1video @ 0x7978dc05f940] Warning MVs not available\n"
     ]
    },
    {
     "name": "stdout",
     "output_type": "stream",
     "text": [
      "225/225 [==============================] - 488s 2s/step - loss: 93.6032 - val_loss: 85.9257 - lr: 1.0000e-04\n",
      "Epoch 5/80\n",
      "225/225 [==============================] - ETA: 0s - loss: 91.1129"
     ]
    },
    {
     "name": "stderr",
     "output_type": "stream",
     "text": [
      "[mpeg1video @ 0x7974fc055c80] ac-tex damaged at 22 17\n",
      "[mpeg1video @ 0x7974fc055c80] Warning MVs not available\n"
     ]
    },
    {
     "name": "stdout",
     "output_type": "stream",
     "text": [
      "225/225 [==============================] - 484s 2s/step - loss: 91.1129 - val_loss: 83.2725 - lr: 1.0000e-04\n",
      "Epoch 6/80\n",
      "  4/225 [..............................] - ETA: 3:33 - loss: 86.5858"
     ]
    },
    {
     "name": "stderr",
     "output_type": "stream",
     "text": [
      "[mpeg1video @ 0x79789bb01d00] ac-tex damaged at 22 17\n",
      "[mpeg1video @ 0x79789bb01d00] Warning MVs not available\n"
     ]
    },
    {
     "name": "stdout",
     "output_type": "stream",
     "text": [
      "225/225 [==============================] - ETA: 0s - loss: 88.3057"
     ]
    },
    {
     "name": "stderr",
     "output_type": "stream",
     "text": [
      "[mpeg1video @ 0x7978d00d8180] ac-tex damaged at 22 17\n",
      "[mpeg1video @ 0x7978d00d8180] Warning MVs not available\n"
     ]
    },
    {
     "name": "stdout",
     "output_type": "stream",
     "text": [
      "225/225 [==============================] - 486s 2s/step - loss: 88.3057 - val_loss: 83.3654 - lr: 1.0000e-04\n",
      "Epoch 7/80\n",
      "124/225 [===============>..............] - ETA: 1:35 - loss: 86.2183"
     ]
    },
    {
     "name": "stderr",
     "output_type": "stream",
     "text": [
      "[mpeg1video @ 0x7979d002b380] ac-tex damaged at 22 17\n",
      "[mpeg1video @ 0x7979d002b380] Warning MVs not available\n"
     ]
    },
    {
     "name": "stdout",
     "output_type": "stream",
     "text": [
      "225/225 [==============================] - ETA: 0s - loss: 85.8045"
     ]
    },
    {
     "name": "stderr",
     "output_type": "stream",
     "text": [
      "[mpeg1video @ 0x7974f40bd780] ac-tex damaged at 22 17\n",
      "[mpeg1video @ 0x7974f40bd780] Warning MVs not available\n"
     ]
    },
    {
     "name": "stdout",
     "output_type": "stream",
     "text": [
      "225/225 [==============================] - 479s 2s/step - loss: 85.8045 - val_loss: 81.1436 - lr: 1.0000e-04\n",
      "Epoch 8/80\n",
      "225/225 [==============================] - ETA: 0s - loss: 84.9860"
     ]
    },
    {
     "name": "stderr",
     "output_type": "stream",
     "text": [
      "[mpeg1video @ 0x7978dc05d400] ac-tex damaged at 22 17\n",
      "[mpeg1video @ 0x7978dc05d400] Warning MVs not available\n"
     ]
    },
    {
     "name": "stdout",
     "output_type": "stream",
     "text": [
      "225/225 [==============================] - 481s 2s/step - loss: 84.9860 - val_loss: 77.2862 - lr: 1.0000e-04\n",
      "Epoch 9/80\n",
      "188/225 [========================>.....] - ETA: 35s - loss: 83.1277"
     ]
    },
    {
     "name": "stderr",
     "output_type": "stream",
     "text": [
      "[mpeg1video @ 0x7979ec0bf000] ac-tex damaged at 22 17\n",
      "[mpeg1video @ 0x7979ec0bf000] Warning MVs not available\n"
     ]
    },
    {
     "name": "stdout",
     "output_type": "stream",
     "text": [
      "225/225 [==============================] - ETA: 0s - loss: 83.0777"
     ]
    },
    {
     "name": "stderr",
     "output_type": "stream",
     "text": [
      "[mpeg1video @ 0x79788805fc80] ac-tex damaged at 22 17\n",
      "[mpeg1video @ 0x79788805fc80] Warning MVs not available\n"
     ]
    },
    {
     "name": "stdout",
     "output_type": "stream",
     "text": [
      "225/225 [==============================] - 479s 2s/step - loss: 83.0777 - val_loss: 78.7673 - lr: 1.0000e-04\n",
      "Epoch 10/80\n",
      "225/225 [==============================] - ETA: 0s - loss: 82.8543"
     ]
    },
    {
     "name": "stderr",
     "output_type": "stream",
     "text": [
      "[mpeg1video @ 0x7978d004b640] ac-tex damaged at 22 17\n",
      "[mpeg1video @ 0x7978d004b640] Warning MVs not available\n"
     ]
    },
    {
     "name": "stdout",
     "output_type": "stream",
     "text": [
      "225/225 [==============================] - 477s 2s/step - loss: 82.8543 - val_loss: 75.3062 - lr: 1.0000e-04\n",
      "Epoch 11/80\n",
      " 26/225 [==>...........................] - ETA: 3:09 - loss: 79.2416"
     ]
    },
    {
     "name": "stderr",
     "output_type": "stream",
     "text": [
      "[mpeg1video @ 0x797908039140] ac-tex damaged at 22 17\n",
      "[mpeg1video @ 0x797908039140] Warning MVs not available\n"
     ]
    },
    {
     "name": "stdout",
     "output_type": "stream",
     "text": [
      "225/225 [==============================] - ETA: 0s - loss: 79.0990"
     ]
    },
    {
     "name": "stderr",
     "output_type": "stream",
     "text": [
      "[mpeg1video @ 0x7974f4054140] ac-tex damaged at 22 17\n",
      "[mpeg1video @ 0x7974f4054140] Warning MVs not available\n"
     ]
    },
    {
     "name": "stdout",
     "output_type": "stream",
     "text": [
      "225/225 [==============================] - 481s 2s/step - loss: 79.0990 - val_loss: 71.0787 - lr: 1.0000e-04\n",
      "Epoch 12/80\n",
      "132/225 [================>.............] - ETA: 1:28 - loss: 76.5138"
     ]
    },
    {
     "name": "stderr",
     "output_type": "stream",
     "text": [
      "[mpeg1video @ 0x7974b6338380] ac-tex damaged at 22 17\n",
      "[mpeg1video @ 0x7974b6338380] Warning MVs not available\n"
     ]
    },
    {
     "name": "stdout",
     "output_type": "stream",
     "text": [
      "225/225 [==============================] - ETA: 0s - loss: 74.7280"
     ]
    },
    {
     "name": "stderr",
     "output_type": "stream",
     "text": [
      "[mpeg1video @ 0x7978d004cec0] ac-tex damaged at 22 17\n",
      "[mpeg1video @ 0x7978d004cec0] Warning MVs not available\n"
     ]
    },
    {
     "name": "stdout",
     "output_type": "stream",
     "text": [
      "225/225 [==============================] - 477s 2s/step - loss: 74.7280 - val_loss: 68.4961 - lr: 1.0000e-04\n",
      "Epoch 13/80\n",
      "225/225 [==============================] - ETA: 0s - loss: 69.8420"
     ]
    },
    {
     "name": "stderr",
     "output_type": "stream",
     "text": [
      "[mpeg1video @ 0x7974fc065d40] ac-tex damaged at 22 17\n",
      "[mpeg1video @ 0x7974fc065d40] Warning MVs not available\n"
     ]
    },
    {
     "name": "stdout",
     "output_type": "stream",
     "text": [
      "225/225 [==============================] - 477s 2s/step - loss: 69.8420 - val_loss: 61.3553 - lr: 1.0000e-04\n",
      "Epoch 14/80\n",
      "210/225 [===========================>..] - ETA: 14s - loss: 66.6233"
     ]
    },
    {
     "name": "stderr",
     "output_type": "stream",
     "text": [
      "[mpeg1video @ 0x7978a396af40] ac-tex damaged at 22 17\n",
      "[mpeg1video @ 0x7978a396af40] Warning MVs not available\n"
     ]
    },
    {
     "name": "stdout",
     "output_type": "stream",
     "text": [
      "225/225 [==============================] - ETA: 0s - loss: 66.5758"
     ]
    },
    {
     "name": "stderr",
     "output_type": "stream",
     "text": [
      "[mpeg1video @ 0x7978d01f1200] ac-tex damaged at 22 17\n",
      "[mpeg1video @ 0x7978d01f1200] Warning MVs not available\n"
     ]
    },
    {
     "name": "stdout",
     "output_type": "stream",
     "text": [
      "225/225 [==============================] - 478s 2s/step - loss: 66.5758 - val_loss: 61.5324 - lr: 1.0000e-04\n",
      "Epoch 15/80\n",
      "225/225 [==============================] - ETA: 0s - loss: 62.5783"
     ]
    },
    {
     "name": "stderr",
     "output_type": "stream",
     "text": [
      "[mpeg1video @ 0x79788808d580] ac-tex damaged at 22 17\n",
      "[mpeg1video @ 0x79788808d580] Warning MVs not available\n"
     ]
    },
    {
     "name": "stdout",
     "output_type": "stream",
     "text": [
      "225/225 [==============================] - 475s 2s/step - loss: 62.5783 - val_loss: 56.9226 - lr: 1.0000e-04\n",
      "Epoch 16/80\n",
      "225/225 [==============================] - ETA: 0s - loss: 61.6123"
     ]
    },
    {
     "name": "stderr",
     "output_type": "stream",
     "text": [
      "[mpeg1video @ 0x7978d40fda80] ac-tex damaged at 22 17\n",
      "[mpeg1video @ 0x7978d40fda80] Warning MVs not available\n"
     ]
    },
    {
     "name": "stdout",
     "output_type": "stream",
     "text": [
      "225/225 [==============================] - 476s 2s/step - loss: 61.6123 - val_loss: 57.1402 - lr: 1.0000e-04\n",
      "Epoch 17/80\n",
      "225/225 [==============================] - ETA: 0s - loss: 60.2620"
     ]
    },
    {
     "name": "stderr",
     "output_type": "stream",
     "text": [
      "[mpeg1video @ 0x7974f4050b40] ac-tex damaged at 22 17\n",
      "[mpeg1video @ 0x7974f4050b40] Warning MVs not available\n"
     ]
    },
    {
     "name": "stdout",
     "output_type": "stream",
     "text": [
      "225/225 [==============================] - 477s 2s/step - loss: 60.2620 - val_loss: 55.0890 - lr: 1.0000e-04\n",
      "Epoch 18/80\n",
      "225/225 [==============================] - ETA: 0s - loss: 58.2651"
     ]
    },
    {
     "name": "stderr",
     "output_type": "stream",
     "text": [
      "[mpeg1video @ 0x7978d0043180] ac-tex damaged at 22 17\n",
      "[mpeg1video @ 0x7978d0043180] Warning MVs not available\n"
     ]
    },
    {
     "name": "stdout",
     "output_type": "stream",
     "text": [
      "225/225 [==============================] - 477s 2s/step - loss: 58.2651 - val_loss: 53.1247 - lr: 1.0000e-04\n",
      "Epoch 19/80\n",
      "162/225 [====================>.........] - ETA: 59s - loss: 56.9976 "
     ]
    },
    {
     "name": "stderr",
     "output_type": "stream",
     "text": [
      "[mpeg1video @ 0x79793000ec00] ac-tex damaged at 22 17\n",
      "[mpeg1video @ 0x79793000ec00] Warning MVs not available\n"
     ]
    },
    {
     "name": "stdout",
     "output_type": "stream",
     "text": [
      "225/225 [==============================] - ETA: 0s - loss: 57.0444"
     ]
    },
    {
     "name": "stderr",
     "output_type": "stream",
     "text": [
      "[mpeg1video @ 0x797888015f00] ac-tex damaged at 22 17\n",
      "[mpeg1video @ 0x797888015f00] Warning MVs not available\n"
     ]
    },
    {
     "name": "stdout",
     "output_type": "stream",
     "text": [
      "225/225 [==============================] - 476s 2s/step - loss: 57.0444 - val_loss: 53.7645 - lr: 1.0000e-04\n",
      "Epoch 20/80\n",
      "209/225 [==========================>...] - ETA: 15s - loss: 57.2266"
     ]
    },
    {
     "name": "stderr",
     "output_type": "stream",
     "text": [
      "[mpeg1video @ 0x79789bba23c0] ac-tex damaged at 22 17\n",
      "[mpeg1video @ 0x79789bba23c0] Warning MVs not available\n"
     ]
    },
    {
     "name": "stdout",
     "output_type": "stream",
     "text": [
      "225/225 [==============================] - ETA: 0s - loss: 57.2327"
     ]
    },
    {
     "name": "stderr",
     "output_type": "stream",
     "text": [
      "[mpeg1video @ 0x7978dc036a40] ac-tex damaged at 22 17\n",
      "[mpeg1video @ 0x7978dc036a40] Warning MVs not available\n"
     ]
    },
    {
     "name": "stdout",
     "output_type": "stream",
     "text": [
      "225/225 [==============================] - 477s 2s/step - loss: 57.2327 - val_loss: 52.0330 - lr: 1.0000e-04\n",
      "Epoch 21/80\n",
      "225/225 [==============================] - ETA: 0s - loss: 55.1983"
     ]
    },
    {
     "name": "stderr",
     "output_type": "stream",
     "text": [
      "[mpeg1video @ 0x7974f40a6fc0] ac-tex damaged at 22 17\n",
      "[mpeg1video @ 0x7974f40a6fc0] Warning MVs not available\n"
     ]
    },
    {
     "name": "stdout",
     "output_type": "stream",
     "text": [
      "225/225 [==============================] - 475s 2s/step - loss: 55.1983 - val_loss: 51.2129 - lr: 1.0000e-04\n",
      "Epoch 22/80\n",
      "225/225 [==============================] - ETA: 0s - loss: 54.0739"
     ]
    },
    {
     "name": "stderr",
     "output_type": "stream",
     "text": [
      "[mpeg1video @ 0x7978d00a6500] ac-tex damaged at 22 17\n",
      "[mpeg1video @ 0x7978d00a6500] Warning MVs not available\n"
     ]
    },
    {
     "name": "stdout",
     "output_type": "stream",
     "text": [
      "225/225 [==============================] - 476s 2s/step - loss: 54.0739 - val_loss: 48.6868 - lr: 1.0000e-04\n",
      "Epoch 23/80\n",
      "225/225 [==============================] - ETA: 0s - loss: 51.8381"
     ]
    },
    {
     "name": "stderr",
     "output_type": "stream",
     "text": [
      "[mpeg1video @ 0x7974fc0ca980] ac-tex damaged at 22 17\n",
      "[mpeg1video @ 0x7974fc0ca980] Warning MVs not available\n"
     ]
    },
    {
     "name": "stdout",
     "output_type": "stream",
     "text": [
      "225/225 [==============================] - 476s 2s/step - loss: 51.8381 - val_loss: 47.1507 - lr: 1.0000e-04\n",
      "Epoch 24/80\n",
      "225/225 [==============================] - ETA: 0s - loss: 50.9702"
     ]
    },
    {
     "name": "stderr",
     "output_type": "stream",
     "text": [
      "[mpeg1video @ 0x7978d8022d00] ac-tex damaged at 22 17\n",
      "[mpeg1video @ 0x7978d8022d00] Warning MVs not available\n"
     ]
    },
    {
     "name": "stdout",
     "output_type": "stream",
     "text": [
      "225/225 [==============================] - 475s 2s/step - loss: 50.9702 - val_loss: 44.2491 - lr: 1.0000e-04\n",
      "Epoch 25/80\n",
      "225/225 [==============================] - ETA: 0s - loss: 48.4346"
     ]
    },
    {
     "name": "stderr",
     "output_type": "stream",
     "text": [
      "[mpeg1video @ 0x5589fd4da0c0] ac-tex damaged at 22 17\n",
      "[mpeg1video @ 0x5589fd4da0c0] Warning MVs not available\n"
     ]
    },
    {
     "name": "stdout",
     "output_type": "stream",
     "text": [
      "225/225 [==============================] - 476s 2s/step - loss: 48.4346 - val_loss: 42.6576 - lr: 1.0000e-04\n",
      "Epoch 26/80\n",
      "225/225 [==============================] - ETA: 0s - loss: 46.4973"
     ]
    },
    {
     "name": "stderr",
     "output_type": "stream",
     "text": [
      "[mpeg1video @ 0x7978d800bcc0] ac-tex damaged at 22 17\n",
      "[mpeg1video @ 0x7978d800bcc0] Warning MVs not available\n"
     ]
    },
    {
     "name": "stdout",
     "output_type": "stream",
     "text": [
      "225/225 [==============================] - 477s 2s/step - loss: 46.4973 - val_loss: 43.4245 - lr: 1.0000e-04\n",
      "Epoch 27/80\n",
      "225/225 [==============================] - ETA: 0s - loss: 43.9137"
     ]
    },
    {
     "name": "stderr",
     "output_type": "stream",
     "text": [
      "[mpeg1video @ 0x5589fdabb100] ac-tex damaged at 22 17\n",
      "[mpeg1video @ 0x5589fdabb100] Warning MVs not available\n"
     ]
    },
    {
     "name": "stdout",
     "output_type": "stream",
     "text": [
      "225/225 [==============================] - 476s 2s/step - loss: 43.9137 - val_loss: 38.0657 - lr: 1.0000e-04\n",
      "Epoch 28/80\n",
      "225/225 [==============================] - ETA: 0s - loss: 41.6622"
     ]
    },
    {
     "name": "stderr",
     "output_type": "stream",
     "text": [
      "[mpeg1video @ 0x7978d8028c00] ac-tex damaged at 22 17\n",
      "[mpeg1video @ 0x7978d8028c00] Warning MVs not available\n"
     ]
    },
    {
     "name": "stdout",
     "output_type": "stream",
     "text": [
      "225/225 [==============================] - 477s 2s/step - loss: 41.6622 - val_loss: 40.9463 - lr: 1.0000e-04\n",
      "Epoch 29/80\n",
      "225/225 [==============================] - ETA: 0s - loss: 39.8509"
     ]
    },
    {
     "name": "stderr",
     "output_type": "stream",
     "text": [
      "[mpeg1video @ 0x7974f404b7c0] ac-tex damaged at 22 17\n",
      "[mpeg1video @ 0x7974f404b7c0] Warning MVs not available\n"
     ]
    },
    {
     "name": "stdout",
     "output_type": "stream",
     "text": [
      "225/225 [==============================] - 475s 2s/step - loss: 39.8509 - val_loss: 32.7205 - lr: 1.0000e-04\n",
      "Epoch 30/80\n",
      "225/225 [==============================] - ETA: 0s - loss: 37.7998"
     ]
    },
    {
     "name": "stderr",
     "output_type": "stream",
     "text": [
      "[mpeg1video @ 0x7978dc0ba2c0] ac-tex damaged at 22 17\n",
      "[mpeg1video @ 0x7978dc0ba2c0] Warning MVs not available\n"
     ]
    },
    {
     "name": "stdout",
     "output_type": "stream",
     "text": [
      "225/225 [==============================] - 476s 2s/step - loss: 37.7998 - val_loss: 33.5791 - lr: 1.0000e-04\n",
      "Epoch 31/80\n",
      "225/225 [==============================] - ETA: 0s - loss: 35.4170"
     ]
    },
    {
     "name": "stderr",
     "output_type": "stream",
     "text": [
      "[mpeg1video @ 0x79749e549d00] ac-tex damaged at 22 17\n",
      "[mpeg1video @ 0x79749e549d00] Warning MVs not available\n"
     ]
    },
    {
     "name": "stdout",
     "output_type": "stream",
     "text": [
      "225/225 [==============================] - 477s 2s/step - loss: 35.4170 - val_loss: 28.7506 - lr: 9.0484e-05\n",
      "Epoch 32/80\n",
      "225/225 [==============================] - ETA: 0s - loss: 34.0460"
     ]
    },
    {
     "name": "stderr",
     "output_type": "stream",
     "text": [
      "[mpeg1video @ 0x79790804b800] ac-tex damaged at 22 17\n",
      "[mpeg1video @ 0x79790804b800] Warning MVs not available\n"
     ]
    },
    {
     "name": "stdout",
     "output_type": "stream",
     "text": [
      "225/225 [==============================] - 475s 2s/step - loss: 34.0460 - val_loss: 27.4827 - lr: 8.1873e-05\n",
      "Epoch 33/80\n",
      " 88/225 [==========>...................] - ETA: 2:08 - loss: 32.6315"
     ]
    },
    {
     "name": "stderr",
     "output_type": "stream",
     "text": [
      "[mpeg1video @ 0x7979f4203f80] ac-tex damaged at 22 17\n",
      "[mpeg1video @ 0x7979f4203f80] Warning MVs not available\n"
     ]
    },
    {
     "name": "stdout",
     "output_type": "stream",
     "text": [
      "225/225 [==============================] - ETA: 0s - loss: 32.1340"
     ]
    },
    {
     "name": "stderr",
     "output_type": "stream",
     "text": [
      "[mpeg1video @ 0x79749e6aeb40] ac-tex damaged at 22 17\n",
      "[mpeg1video @ 0x79749e6aeb40] Warning MVs not available\n"
     ]
    },
    {
     "name": "stdout",
     "output_type": "stream",
     "text": [
      "225/225 [==============================] - 476s 2s/step - loss: 32.1340 - val_loss: 25.6566 - lr: 7.4082e-05\n",
      "Epoch 34/80\n",
      "113/225 [==============>...............] - ETA: 1:45 - loss: 29.8780"
     ]
    },
    {
     "name": "stderr",
     "output_type": "stream",
     "text": [
      "[mpeg1video @ 0x7978ac033740] ac-tex damaged at 22 17\n",
      "[mpeg1video @ 0x7978ac033740] Warning MVs not available\n"
     ]
    },
    {
     "name": "stdout",
     "output_type": "stream",
     "text": [
      "225/225 [==============================] - ETA: 0s - loss: 30.5401"
     ]
    },
    {
     "name": "stderr",
     "output_type": "stream",
     "text": [
      "[mpeg1video @ 0x797930080000] ac-tex damaged at 22 17\n",
      "[mpeg1video @ 0x797930080000] Warning MVs not available\n"
     ]
    },
    {
     "name": "stdout",
     "output_type": "stream",
     "text": [
      "225/225 [==============================] - 475s 2s/step - loss: 30.5401 - val_loss: 26.1001 - lr: 6.7032e-05\n",
      "Epoch 35/80\n",
      "225/225 [==============================] - ETA: 0s - loss: 28.6310"
     ]
    },
    {
     "name": "stderr",
     "output_type": "stream",
     "text": [
      "[mpeg1video @ 0x797884065240] ac-tex damaged at 22 17\n",
      "[mpeg1video @ 0x797884065240] Warning MVs not available\n"
     ]
    },
    {
     "name": "stdout",
     "output_type": "stream",
     "text": [
      "225/225 [==============================] - 477s 2s/step - loss: 28.6310 - val_loss: 23.2186 - lr: 6.0653e-05\n",
      "Epoch 36/80\n",
      "225/225 [==============================] - ETA: 0s - loss: 27.7186"
     ]
    },
    {
     "name": "stderr",
     "output_type": "stream",
     "text": [
      "[mpeg1video @ 0x79793001ec80] ac-tex damaged at 22 17\n",
      "[mpeg1video @ 0x79793001ec80] Warning MVs not available\n"
     ]
    },
    {
     "name": "stdout",
     "output_type": "stream",
     "text": [
      "225/225 [==============================] - 478s 2s/step - loss: 27.7186 - val_loss: 22.6523 - lr: 5.4881e-05\n",
      "Epoch 37/80\n",
      "  2/225 [..............................] - ETA: 3:32 - loss: 27.5372"
     ]
    },
    {
     "name": "stderr",
     "output_type": "stream",
     "text": [
      "[mpeg1video @ 0x7979fc08e440] ac-tex damaged at 22 17\n",
      "[mpeg1video @ 0x7979fc08e440] Warning MVs not available\n"
     ]
    },
    {
     "name": "stdout",
     "output_type": "stream",
     "text": [
      "225/225 [==============================] - ETA: 0s - loss: 26.3473"
     ]
    },
    {
     "name": "stderr",
     "output_type": "stream",
     "text": [
      "[mpeg1video @ 0x79789bc76140] ac-tex damaged at 22 17\n",
      "[mpeg1video @ 0x79789bc76140] Warning MVs not available\n"
     ]
    },
    {
     "name": "stdout",
     "output_type": "stream",
     "text": [
      "225/225 [==============================] - 475s 2s/step - loss: 26.3473 - val_loss: 20.6127 - lr: 4.9659e-05\n",
      "Epoch 38/80\n",
      "124/225 [===============>..............] - ETA: 1:34 - loss: 25.0858"
     ]
    },
    {
     "name": "stderr",
     "output_type": "stream",
     "text": [
      "[mpeg1video @ 0x7978ac05dcc0] ac-tex damaged at 22 17\n",
      "[mpeg1video @ 0x7978ac05dcc0] Warning MVs not available\n"
     ]
    },
    {
     "name": "stdout",
     "output_type": "stream",
     "text": [
      "225/225 [==============================] - ETA: 0s - loss: 25.3872"
     ]
    },
    {
     "name": "stderr",
     "output_type": "stream",
     "text": [
      "[mpeg1video @ 0x797908006a80] ac-tex damaged at 22 17\n",
      "[mpeg1video @ 0x797908006a80] Warning MVs not available\n"
     ]
    },
    {
     "name": "stdout",
     "output_type": "stream",
     "text": [
      "225/225 [==============================] - 474s 2s/step - loss: 25.3872 - val_loss: 20.0129 - lr: 4.4933e-05\n",
      "Epoch 39/80\n",
      "225/225 [==============================] - ETA: 0s - loss: 24.2948"
     ]
    },
    {
     "name": "stderr",
     "output_type": "stream",
     "text": [
      "[mpeg1video @ 0x79749dfbed80] ac-tex damaged at 22 17\n",
      "[mpeg1video @ 0x79749dfbed80] Warning MVs not available\n"
     ]
    },
    {
     "name": "stdout",
     "output_type": "stream",
     "text": [
      "225/225 [==============================] - 477s 2s/step - loss: 24.2948 - val_loss: 18.4202 - lr: 4.0657e-05\n",
      "Epoch 40/80\n",
      "187/225 [=======================>......] - ETA: 35s - loss: 23.1012"
     ]
    },
    {
     "name": "stderr",
     "output_type": "stream",
     "text": [
      "[mpeg1video @ 0x79789c09bc40] ac-tex damaged at 22 17\n",
      "[mpeg1video @ 0x79789c09bc40] Warning MVs not available\n"
     ]
    },
    {
     "name": "stdout",
     "output_type": "stream",
     "text": [
      "225/225 [==============================] - ETA: 0s - loss: 22.9850"
     ]
    },
    {
     "name": "stderr",
     "output_type": "stream",
     "text": [
      "[mpeg1video @ 0x7978e006e900] ac-tex damaged at 22 17\n",
      "[mpeg1video @ 0x7978e006e900] Warning MVs not available\n"
     ]
    },
    {
     "name": "stdout",
     "output_type": "stream",
     "text": [
      "225/225 [==============================] - 474s 2s/step - loss: 22.9850 - val_loss: 18.3930 - lr: 3.6788e-05\n",
      "Epoch 41/80\n",
      "225/225 [==============================] - ETA: 0s - loss: 22.0662"
     ]
    },
    {
     "name": "stderr",
     "output_type": "stream",
     "text": [
      "[mpeg1video @ 0x79749e409d40] ac-tex damaged at 22 17\n",
      "[mpeg1video @ 0x79749e409d40] Warning MVs not available\n"
     ]
    },
    {
     "name": "stdout",
     "output_type": "stream",
     "text": [
      "225/225 [==============================] - 473s 2s/step - loss: 22.0662 - val_loss: 17.1467 - lr: 3.3287e-05\n",
      "Epoch 42/80\n",
      "225/225 [==============================] - ETA: 0s - loss: 21.7175"
     ]
    },
    {
     "name": "stderr",
     "output_type": "stream",
     "text": [
      "[mpeg1video @ 0x7978e0099a00] ac-tex damaged at 22 17\n",
      "[mpeg1video @ 0x7978e0099a00] Warning MVs not available\n"
     ]
    },
    {
     "name": "stdout",
     "output_type": "stream",
     "text": [
      "225/225 [==============================] - 473s 2s/step - loss: 21.7175 - val_loss: 16.5565 - lr: 3.0119e-05\n",
      "Epoch 43/80\n",
      "225/225 [==============================] - ETA: 0s - loss: 20.9166"
     ]
    },
    {
     "name": "stderr",
     "output_type": "stream",
     "text": [
      "[mpeg1video @ 0x79789b861e00] ac-tex damaged at 22 17\n",
      "[mpeg1video @ 0x79789b861e00] Warning MVs not available\n"
     ]
    },
    {
     "name": "stdout",
     "output_type": "stream",
     "text": [
      "225/225 [==============================] - 473s 2s/step - loss: 20.9166 - val_loss: 15.9220 - lr: 2.7253e-05\n",
      "Epoch 44/80\n",
      "177/225 [======================>.......] - ETA: 44s - loss: 20.1741"
     ]
    },
    {
     "name": "stderr",
     "output_type": "stream",
     "text": [
      "[mpeg1video @ 0x79789c0c7080] ac-tex damaged at 22 17\n",
      "[mpeg1video @ 0x79789c0c7080] Warning MVs not available\n"
     ]
    },
    {
     "name": "stdout",
     "output_type": "stream",
     "text": [
      "225/225 [==============================] - ETA: 0s - loss: 20.0270"
     ]
    },
    {
     "name": "stderr",
     "output_type": "stream",
     "text": [
      "[mpeg1video @ 0x7979300aee00] ac-tex damaged at 22 17\n",
      "[mpeg1video @ 0x7979300aee00] Warning MVs not available\n"
     ]
    },
    {
     "name": "stdout",
     "output_type": "stream",
     "text": [
      "225/225 [==============================] - 471s 2s/step - loss: 20.0270 - val_loss: 15.3758 - lr: 2.4660e-05\n",
      "Epoch 45/80\n",
      "215/225 [===========================>..] - ETA: 9s - loss: 19.6876 "
     ]
    },
    {
     "name": "stderr",
     "output_type": "stream",
     "text": [
      "[mpeg1video @ 0x797a08048d40] ac-tex damaged at 22 17\n",
      "[mpeg1video @ 0x797a08048d40] Warning MVs not available\n"
     ]
    },
    {
     "name": "stdout",
     "output_type": "stream",
     "text": [
      "225/225 [==============================] - ETA: 0s - loss: 19.7693"
     ]
    },
    {
     "name": "stderr",
     "output_type": "stream",
     "text": [
      "[mpeg1video @ 0x79789bd4ffc0] ac-tex damaged at 22 17\n",
      "[mpeg1video @ 0x79789bd4ffc0] Warning MVs not available\n"
     ]
    },
    {
     "name": "stdout",
     "output_type": "stream",
     "text": [
      "225/225 [==============================] - 475s 2s/step - loss: 19.7693 - val_loss: 14.9720 - lr: 2.2313e-05\n",
      "Epoch 46/80\n",
      " 50/225 [=====>........................] - ETA: 2:44 - loss: 19.0612"
     ]
    },
    {
     "name": "stderr",
     "output_type": "stream",
     "text": [
      "[mpeg1video @ 0x7978a8bb0c80] ac-tex damaged at 22 17\n",
      "[mpeg1video @ 0x7978a8bb0c80] Warning MVs not available\n"
     ]
    },
    {
     "name": "stdout",
     "output_type": "stream",
     "text": [
      "225/225 [==============================] - ETA: 0s - loss: 19.2791"
     ]
    },
    {
     "name": "stderr",
     "output_type": "stream",
     "text": [
      "[mpeg1video @ 0x7979300146c0] ac-tex damaged at 22 17\n",
      "[mpeg1video @ 0x7979300146c0] Warning MVs not available\n"
     ]
    },
    {
     "name": "stdout",
     "output_type": "stream",
     "text": [
      "225/225 [==============================] - 474s 2s/step - loss: 19.2791 - val_loss: 14.5523 - lr: 2.0190e-05\n",
      "Epoch 47/80\n",
      "225/225 [==============================] - ETA: 0s - loss: 18.9435"
     ]
    },
    {
     "name": "stderr",
     "output_type": "stream",
     "text": [
      "[mpeg1video @ 0x79789b316a00] ac-tex damaged at 22 17\n",
      "[mpeg1video @ 0x79789b316a00] Warning MVs not available\n"
     ]
    },
    {
     "name": "stdout",
     "output_type": "stream",
     "text": [
      "225/225 [==============================] - 473s 2s/step - loss: 18.9435 - val_loss: 13.3349 - lr: 1.8268e-05\n",
      "Epoch 48/80\n",
      "225/225 [==============================] - ETA: 0s - loss: 18.6261"
     ]
    },
    {
     "name": "stderr",
     "output_type": "stream",
     "text": [
      "[mpeg1video @ 0x7978e00a2880] ac-tex damaged at 22 17\n",
      "[mpeg1video @ 0x7978e00a2880] Warning MVs not available\n"
     ]
    },
    {
     "name": "stdout",
     "output_type": "stream",
     "text": [
      "225/225 [==============================] - 473s 2s/step - loss: 18.6261 - val_loss: 13.4022 - lr: 1.6530e-05\n",
      "Epoch 49/80\n",
      "225/225 [==============================] - ETA: 0s - loss: 17.6310"
     ]
    },
    {
     "name": "stderr",
     "output_type": "stream",
     "text": [
      "[mpeg1video @ 0x79789bb02980] ac-tex damaged at 22 17\n",
      "[mpeg1video @ 0x79789bb02980] Warning MVs not available\n"
     ]
    },
    {
     "name": "stdout",
     "output_type": "stream",
     "text": [
      "225/225 [==============================] - 475s 2s/step - loss: 17.6310 - val_loss: 12.5694 - lr: 1.4957e-05\n",
      "Epoch 50/80\n",
      "225/225 [==============================] - ETA: 0s - loss: 18.0936"
     ]
    },
    {
     "name": "stderr",
     "output_type": "stream",
     "text": [
      "[mpeg1video @ 0x7978e0011100] ac-tex damaged at 22 17\n",
      "[mpeg1video @ 0x7978e0011100] Warning MVs not available\n"
     ]
    },
    {
     "name": "stdout",
     "output_type": "stream",
     "text": [
      "225/225 [==============================] - 472s 2s/step - loss: 18.0936 - val_loss: 12.7285 - lr: 1.3534e-05\n",
      "Epoch 51/80\n",
      "225/225 [==============================] - ETA: 0s - loss: 17.1447"
     ]
    },
    {
     "name": "stderr",
     "output_type": "stream",
     "text": [
      "[mpeg1video @ 0x79789b934ec0] ac-tex damaged at 22 17\n",
      "[mpeg1video @ 0x79789b934ec0] Warning MVs not available\n"
     ]
    },
    {
     "name": "stdout",
     "output_type": "stream",
     "text": [
      "225/225 [==============================] - 471s 2s/step - loss: 17.1447 - val_loss: 12.4674 - lr: 1.2246e-05\n",
      "Epoch 52/80\n",
      "115/225 [==============>...............] - ETA: 1:42 - loss: 17.2431"
     ]
    },
    {
     "name": "stderr",
     "output_type": "stream",
     "text": [
      "[mpeg1video @ 0x7978ac07a2c0] ac-tex damaged at 22 17\n",
      "[mpeg1video @ 0x7978ac07a2c0] Warning MVs not available\n"
     ]
    },
    {
     "name": "stdout",
     "output_type": "stream",
     "text": [
      "225/225 [==============================] - ETA: 0s - loss: 17.0809"
     ]
    },
    {
     "name": "stderr",
     "output_type": "stream",
     "text": [
      "[mpeg1video @ 0x7978e00c7280] ac-tex damaged at 22 17\n",
      "[mpeg1video @ 0x7978e00c7280] Warning MVs not available\n"
     ]
    },
    {
     "name": "stdout",
     "output_type": "stream",
     "text": [
      "225/225 [==============================] - 473s 2s/step - loss: 17.0809 - val_loss: 11.9566 - lr: 1.1080e-05\n",
      "Epoch 53/80\n",
      "225/225 [==============================] - ETA: 0s - loss: 17.0594"
     ]
    },
    {
     "name": "stderr",
     "output_type": "stream",
     "text": [
      "[mpeg1video @ 0x797890067440] ac-tex damaged at 22 17\n",
      "[mpeg1video @ 0x797890067440] Warning MVs not available\n"
     ]
    },
    {
     "name": "stdout",
     "output_type": "stream",
     "text": [
      "225/225 [==============================] - 476s 2s/step - loss: 17.0594 - val_loss: 11.8278 - lr: 1.0026e-05\n",
      "Epoch 54/80\n",
      "225/225 [==============================] - ETA: 0s - loss: 16.4845"
     ]
    },
    {
     "name": "stderr",
     "output_type": "stream",
     "text": [
      "[mpeg1video @ 0x79790c075780] ac-tex damaged at 22 17\n",
      "[mpeg1video @ 0x79790c075780] Warning MVs not available\n"
     ]
    },
    {
     "name": "stdout",
     "output_type": "stream",
     "text": [
      "225/225 [==============================] - 474s 2s/step - loss: 16.4845 - val_loss: 11.7136 - lr: 9.0718e-06\n",
      "Epoch 55/80\n",
      "225/225 [==============================] - ETA: 0s - loss: 16.4885"
     ]
    },
    {
     "name": "stderr",
     "output_type": "stream",
     "text": [
      "[mpeg1video @ 0x79749e8091c0] ac-tex damaged at 22 17\n",
      "[mpeg1video @ 0x79749e8091c0] Warning MVs not available\n"
     ]
    },
    {
     "name": "stdout",
     "output_type": "stream",
     "text": [
      "225/225 [==============================] - 476s 2s/step - loss: 16.4885 - val_loss: 11.6237 - lr: 8.2085e-06\n",
      "Epoch 56/80\n",
      " 93/225 [===========>..................] - ETA: 2:03 - loss: 16.3461"
     ]
    },
    {
     "name": "stderr",
     "output_type": "stream",
     "text": [
      "[mpeg1video @ 0x7978a8ba9380] ac-tex damaged at 22 17\n",
      "[mpeg1video @ 0x7978a8ba9380] Warning MVs not available\n"
     ]
    },
    {
     "name": "stdout",
     "output_type": "stream",
     "text": [
      "225/225 [==============================] - ETA: 0s - loss: 16.3200"
     ]
    },
    {
     "name": "stderr",
     "output_type": "stream",
     "text": [
      "[mpeg1video @ 0x79790c0d5dc0] ac-tex damaged at 22 17\n",
      "[mpeg1video @ 0x79790c0d5dc0] Warning MVs not available\n"
     ]
    },
    {
     "name": "stdout",
     "output_type": "stream",
     "text": [
      "225/225 [==============================] - 472s 2s/step - loss: 16.3200 - val_loss: 11.4037 - lr: 7.4273e-06\n",
      "Epoch 57/80\n",
      " 70/225 [========>.....................] - ETA: 2:24 - loss: 16.5508"
     ]
    },
    {
     "name": "stderr",
     "output_type": "stream",
     "text": [
      "[mpeg1video @ 0x7979f4068a00] ac-tex damaged at 22 17\n",
      "[mpeg1video @ 0x7979f4068a00] Warning MVs not available\n"
     ]
    },
    {
     "name": "stdout",
     "output_type": "stream",
     "text": [
      "225/225 [==============================] - ETA: 0s - loss: 16.0151"
     ]
    },
    {
     "name": "stderr",
     "output_type": "stream",
     "text": [
      "[mpeg1video @ 0x79749e81e940] ac-tex damaged at 22 17\n",
      "[mpeg1video @ 0x79749e81e940] Warning MVs not available\n"
     ]
    },
    {
     "name": "stdout",
     "output_type": "stream",
     "text": [
      "225/225 [==============================] - 471s 2s/step - loss: 16.0151 - val_loss: 11.3120 - lr: 6.7205e-06\n",
      "Epoch 58/80\n",
      "215/225 [===========================>..] - ETA: 9s - loss: 15.7183 "
     ]
    },
    {
     "name": "stderr",
     "output_type": "stream",
     "text": [
      "[mpeg1video @ 0x79789c006a80] ac-tex damaged at 22 17\n",
      "[mpeg1video @ 0x79789c006a80] Warning MVs not available\n"
     ]
    },
    {
     "name": "stdout",
     "output_type": "stream",
     "text": [
      "225/225 [==============================] - ETA: 0s - loss: 15.7413"
     ]
    },
    {
     "name": "stderr",
     "output_type": "stream",
     "text": [
      "[mpeg1video @ 0x7979300c5580] ac-tex damaged at 22 17\n",
      "[mpeg1video @ 0x7979300c5580] Warning MVs not available\n"
     ]
    },
    {
     "name": "stdout",
     "output_type": "stream",
     "text": [
      "225/225 [==============================] - 470s 2s/step - loss: 15.7413 - val_loss: 11.0229 - lr: 6.0810e-06\n",
      "Epoch 59/80\n",
      "131/225 [================>.............] - ETA: 1:27 - loss: 16.0381"
     ]
    },
    {
     "name": "stderr",
     "output_type": "stream",
     "text": [
      "[mpeg1video @ 0x7979f40d4fc0] ac-tex damaged at 22 17\n",
      "[mpeg1video @ 0x7979f40d4fc0] Warning MVs not available\n"
     ]
    },
    {
     "name": "stdout",
     "output_type": "stream",
     "text": [
      "225/225 [==============================] - ETA: 0s - loss: 16.0784"
     ]
    },
    {
     "name": "stderr",
     "output_type": "stream",
     "text": [
      "[mpeg1video @ 0x79789007a180] ac-tex damaged at 22 17\n",
      "[mpeg1video @ 0x79789007a180] Warning MVs not available\n"
     ]
    },
    {
     "name": "stdout",
     "output_type": "stream",
     "text": [
      "225/225 [==============================] - 470s 2s/step - loss: 16.0784 - val_loss: 11.1434 - lr: 5.5023e-06\n",
      "Epoch 60/80\n",
      "225/225 [==============================] - ETA: 0s - loss: 15.6939"
     ]
    },
    {
     "name": "stderr",
     "output_type": "stream",
     "text": [
      "[mpeg1video @ 0x797908096400] ac-tex damaged at 22 17\n",
      "[mpeg1video @ 0x797908096400] Warning MVs not available\n"
     ]
    },
    {
     "name": "stdout",
     "output_type": "stream",
     "text": [
      "225/225 [==============================] - 472s 2s/step - loss: 15.6939 - val_loss: 11.0150 - lr: 4.9787e-06\n",
      "Epoch 61/80\n",
      "225/225 [==============================] - ETA: 0s - loss: 15.5699"
     ]
    },
    {
     "name": "stderr",
     "output_type": "stream",
     "text": [
      "[mpeg1video @ 0x79789bb10980] ac-tex damaged at 22 17\n",
      "[mpeg1video @ 0x79789bb10980] Warning MVs not available\n"
     ]
    },
    {
     "name": "stdout",
     "output_type": "stream",
     "text": [
      "225/225 [==============================] - 476s 2s/step - loss: 15.5699 - val_loss: 11.0474 - lr: 4.5049e-06\n",
      "Epoch 62/80\n",
      "225/225 [==============================] - ETA: 0s - loss: 15.1582"
     ]
    },
    {
     "name": "stderr",
     "output_type": "stream",
     "text": [
      "[mpeg1video @ 0x797930094040] ac-tex damaged at 22 17\n",
      "[mpeg1video @ 0x797930094040] Warning MVs not available\n"
     ]
    },
    {
     "name": "stdout",
     "output_type": "stream",
     "text": [
      "225/225 [==============================] - 487s 2s/step - loss: 15.1582 - val_loss: 10.5184 - lr: 4.0762e-06\n",
      "Epoch 63/80\n",
      " 40/225 [====>.........................] - ETA: 2:59 - loss: 15.8698"
     ]
    },
    {
     "name": "stderr",
     "output_type": "stream",
     "text": [
      "[mpeg1video @ 0x797a0805d800] ac-tex damaged at 22 17\n",
      "[mpeg1video @ 0x797a0805d800] Warning MVs not available\n"
     ]
    },
    {
     "name": "stdout",
     "output_type": "stream",
     "text": [
      "225/225 [==============================] - ETA: 0s - loss: 15.3282"
     ]
    },
    {
     "name": "stderr",
     "output_type": "stream",
     "text": [
      "[mpeg1video @ 0x79789bbd4e80] ac-tex damaged at 22 17\n",
      "[mpeg1video @ 0x79789bbd4e80] Warning MVs not available\n"
     ]
    },
    {
     "name": "stdout",
     "output_type": "stream",
     "text": [
      "225/225 [==============================] - 485s 2s/step - loss: 15.3282 - val_loss: 10.8324 - lr: 3.6883e-06\n",
      "Epoch 64/80\n",
      "225/225 [==============================] - ETA: 0s - loss: 15.0872"
     ]
    },
    {
     "name": "stderr",
     "output_type": "stream",
     "text": [
      "[mpeg1video @ 0x7979080a9e40] ac-tex damaged at 22 17\n",
      "[mpeg1video @ 0x7979080a9e40] Warning MVs not available\n"
     ]
    },
    {
     "name": "stdout",
     "output_type": "stream",
     "text": [
      "225/225 [==============================] - 481s 2s/step - loss: 15.0872 - val_loss: 10.6270 - lr: 3.3373e-06\n",
      "Epoch 65/80\n",
      "223/225 [============================>.] - ETA: 1s - loss: 15.0937"
     ]
    },
    {
     "name": "stderr",
     "output_type": "stream",
     "text": [
      "[mpeg1video @ 0x7979fc044500] ac-tex damaged at 22 17\n",
      "[mpeg1video @ 0x7979fc044500] Warning MVs not available\n"
     ]
    },
    {
     "name": "stdout",
     "output_type": "stream",
     "text": [
      "225/225 [==============================] - ETA: 0s - loss: 15.1238"
     ]
    },
    {
     "name": "stderr",
     "output_type": "stream",
     "text": [
      "[mpeg1video @ 0x79749e62c140] ac-tex damaged at 22 17\n",
      "[mpeg1video @ 0x79749e62c140] Warning MVs not available\n"
     ]
    },
    {
     "name": "stdout",
     "output_type": "stream",
     "text": [
      "225/225 [==============================] - 478s 2s/step - loss: 15.1238 - val_loss: 10.6377 - lr: 3.0197e-06\n",
      "Epoch 66/80\n",
      "225/225 [==============================] - ETA: 0s - loss: 14.9690"
     ]
    },
    {
     "name": "stderr",
     "output_type": "stream",
     "text": [
      "[mpeg1video @ 0x79790c00b580] ac-tex damaged at 22 17\n",
      "[mpeg1video @ 0x79790c00b580] Warning MVs not available\n"
     ]
    },
    {
     "name": "stdout",
     "output_type": "stream",
     "text": [
      "225/225 [==============================] - 470s 2s/step - loss: 14.9690 - val_loss: 10.4683 - lr: 2.7324e-06\n",
      "Epoch 67/80\n",
      "213/225 [===========================>..] - ETA: 11s - loss: 14.9862"
     ]
    },
    {
     "name": "stderr",
     "output_type": "stream",
     "text": [
      "[mpeg1video @ 0x797a00063700] ac-tex damaged at 22 17\n",
      "[mpeg1video @ 0x797a00063700] Warning MVs not available\n"
     ]
    },
    {
     "name": "stdout",
     "output_type": "stream",
     "text": [
      "225/225 [==============================] - ETA: 0s - loss: 14.9899"
     ]
    },
    {
     "name": "stderr",
     "output_type": "stream",
     "text": [
      "[mpeg1video @ 0x79789005c5c0] ac-tex damaged at 22 17\n",
      "[mpeg1video @ 0x79789005c5c0] Warning MVs not available\n"
     ]
    },
    {
     "name": "stdout",
     "output_type": "stream",
     "text": [
      "225/225 [==============================] - 472s 2s/step - loss: 14.9899 - val_loss: 10.1670 - lr: 2.4723e-06\n",
      "Epoch 68/80\n",
      "225/225 [==============================] - ETA: 0s - loss: 14.8318"
     ]
    },
    {
     "name": "stderr",
     "output_type": "stream",
     "text": [
      "[mpeg1video @ 0x7978e000bd40] ac-tex damaged at 22 17\n",
      "[mpeg1video @ 0x7978e000bd40] Warning MVs not available\n"
     ]
    },
    {
     "name": "stdout",
     "output_type": "stream",
     "text": [
      "225/225 [==============================] - 468s 2s/step - loss: 14.8318 - val_loss: 10.4424 - lr: 2.2371e-06\n",
      "Epoch 69/80\n",
      "159/225 [====================>.........] - ETA: 1:01 - loss: 14.6379"
     ]
    },
    {
     "name": "stderr",
     "output_type": "stream",
     "text": [
      "[mpeg1video @ 0x797a00002180] ac-tex damaged at 22 17\n",
      "[mpeg1video @ 0x797a00002180] Warning MVs not available\n"
     ]
    },
    {
     "name": "stdout",
     "output_type": "stream",
     "text": [
      "225/225 [==============================] - ETA: 0s - loss: 14.6429"
     ]
    },
    {
     "name": "stderr",
     "output_type": "stream",
     "text": [
      "[mpeg1video @ 0x79749e415500] ac-tex damaged at 22 17\n",
      "[mpeg1video @ 0x79749e415500] Warning MVs not available\n"
     ]
    },
    {
     "name": "stdout",
     "output_type": "stream",
     "text": [
      "225/225 [==============================] - 469s 2s/step - loss: 14.6429 - val_loss: 10.2474 - lr: 2.0242e-06\n",
      "Epoch 70/80\n",
      " 32/225 [===>..........................] - ETA: 2:59 - loss: 14.4078"
     ]
    },
    {
     "name": "stderr",
     "output_type": "stream",
     "text": [
      "[mpeg1video @ 0x7978ac032080] ac-tex damaged at 22 17\n",
      "[mpeg1video @ 0x7978ac032080] Warning MVs not available\n"
     ]
    },
    {
     "name": "stdout",
     "output_type": "stream",
     "text": [
      "225/225 [==============================] - ETA: 0s - loss: 14.6239"
     ]
    },
    {
     "name": "stderr",
     "output_type": "stream",
     "text": [
      "[mpeg1video @ 0x79793009fa80] ac-tex damaged at 22 17\n",
      "[mpeg1video @ 0x79793009fa80] Warning MVs not available\n"
     ]
    },
    {
     "name": "stdout",
     "output_type": "stream",
     "text": [
      "225/225 [==============================] - 469s 2s/step - loss: 14.6239 - val_loss: 10.2569 - lr: 1.8316e-06\n",
      "Epoch 71/80\n",
      "225/225 [==============================] - ETA: 0s - loss: 14.9434"
     ]
    },
    {
     "name": "stderr",
     "output_type": "stream",
     "text": [
      "[mpeg1video @ 0x797890006280] ac-tex damaged at 22 17\n",
      "[mpeg1video @ 0x797890006280] Warning MVs not available\n"
     ]
    },
    {
     "name": "stdout",
     "output_type": "stream",
     "text": [
      "225/225 [==============================] - 469s 2s/step - loss: 14.9434 - val_loss: 10.1764 - lr: 1.6573e-06\n",
      "Epoch 72/80\n",
      "190/225 [========================>.....] - ETA: 32s - loss: 14.8035"
     ]
    },
    {
     "name": "stderr",
     "output_type": "stream",
     "text": [
      "[mpeg1video @ 0x79789c036880] ac-tex damaged at 22 17\n",
      "[mpeg1video @ 0x79789c036880] Warning MVs not available\n"
     ]
    },
    {
     "name": "stdout",
     "output_type": "stream",
     "text": [
      "225/225 [==============================] - ETA: 0s - loss: 14.8562"
     ]
    },
    {
     "name": "stderr",
     "output_type": "stream",
     "text": [
      "[mpeg1video @ 0x79793000afc0] ac-tex damaged at 22 17\n",
      "[mpeg1video @ 0x79793000afc0] Warning MVs not available\n"
     ]
    },
    {
     "name": "stdout",
     "output_type": "stream",
     "text": [
      "225/225 [==============================] - 469s 2s/step - loss: 14.8562 - val_loss: 10.3916 - lr: 1.4996e-06\n",
      "Epoch 73/80\n",
      "164/225 [====================>.........] - ETA: 56s - loss: 14.8108"
     ]
    },
    {
     "name": "stderr",
     "output_type": "stream",
     "text": [
      "[mpeg1video @ 0x797a0004c680] ac-tex damaged at 22 17\n",
      "[mpeg1video @ 0x797a0004c680] Warning MVs not available\n"
     ]
    },
    {
     "name": "stdout",
     "output_type": "stream",
     "text": [
      "225/225 [==============================] - ETA: 0s - loss: 14.6930"
     ]
    },
    {
     "name": "stderr",
     "output_type": "stream",
     "text": [
      "[mpeg1video @ 0x79789b0e0dc0] ac-tex damaged at 22 17\n",
      "[mpeg1video @ 0x79789b0e0dc0] Warning MVs not available\n"
     ]
    },
    {
     "name": "stdout",
     "output_type": "stream",
     "text": [
      "225/225 [==============================] - 470s 2s/step - loss: 14.6930 - val_loss: 9.9878 - lr: 1.3569e-06\n",
      "Epoch 74/80\n",
      "225/225 [==============================] - ETA: 0s - loss: 15.2296"
     ]
    },
    {
     "name": "stderr",
     "output_type": "stream",
     "text": [
      "[mpeg1video @ 0x79790c0756c0] ac-tex damaged at 22 17\n",
      "[mpeg1video @ 0x79790c0756c0] Warning MVs not available\n"
     ]
    },
    {
     "name": "stdout",
     "output_type": "stream",
     "text": [
      "225/225 [==============================] - 468s 2s/step - loss: 15.2296 - val_loss: 10.1594 - lr: 1.2277e-06\n",
      "Epoch 75/80\n",
      "160/225 [====================>.........] - ETA: 1:00 - loss: 14.6281"
     ]
    },
    {
     "name": "stderr",
     "output_type": "stream",
     "text": [
      "[mpeg1video @ 0x797a080bd340] ac-tex damaged at 22 17\n",
      "[mpeg1video @ 0x797a080bd340] Warning MVs not available\n"
     ]
    },
    {
     "name": "stdout",
     "output_type": "stream",
     "text": [
      "225/225 [==============================] - ETA: 0s - loss: 14.9251"
     ]
    },
    {
     "name": "stderr",
     "output_type": "stream",
     "text": [
      "[mpeg1video @ 0x79789b940f00] ac-tex damaged at 22 17\n",
      "[mpeg1video @ 0x79789b940f00] Warning MVs not available\n"
     ]
    },
    {
     "name": "stdout",
     "output_type": "stream",
     "text": [
      "225/225 [==============================] - 468s 2s/step - loss: 14.9251 - val_loss: 10.0959 - lr: 1.1109e-06\n",
      "Epoch 76/80\n",
      "225/225 [==============================] - ETA: 0s - loss: 14.5929"
     ]
    },
    {
     "name": "stderr",
     "output_type": "stream",
     "text": [
      "[mpeg1video @ 0x7979300a3140] ac-tex damaged at 22 17\n",
      "[mpeg1video @ 0x7979300a3140] Warning MVs not available\n"
     ]
    },
    {
     "name": "stdout",
     "output_type": "stream",
     "text": [
      "225/225 [==============================] - 467s 2s/step - loss: 14.5929 - val_loss: 10.1885 - lr: 1.0052e-06\n",
      "Epoch 77/80\n",
      "225/225 [==============================] - ETA: 0s - loss: 14.8638"
     ]
    },
    {
     "name": "stderr",
     "output_type": "stream",
     "text": [
      "[mpeg1video @ 0x79789b737b80] ac-tex damaged at 22 17\n",
      "[mpeg1video @ 0x79789b737b80] Warning MVs not available\n"
     ]
    },
    {
     "name": "stdout",
     "output_type": "stream",
     "text": [
      "225/225 [==============================] - 469s 2s/step - loss: 14.8638 - val_loss: 10.3952 - lr: 9.0953e-07\n",
      "Epoch 78/80\n",
      "128/225 [================>.............] - ETA: 1:30 - loss: 14.8955"
     ]
    },
    {
     "name": "stderr",
     "output_type": "stream",
     "text": [
      "[mpeg1video @ 0x79789c0773c0] ac-tex damaged at 22 17\n",
      "[mpeg1video @ 0x79789c0773c0] Warning MVs not available\n"
     ]
    },
    {
     "name": "stdout",
     "output_type": "stream",
     "text": [
      "225/225 [==============================] - ETA: 0s - loss: 14.6879"
     ]
    },
    {
     "name": "stderr",
     "output_type": "stream",
     "text": [
      "[mpeg1video @ 0x79790c026800] ac-tex damaged at 22 17\n",
      "[mpeg1video @ 0x79790c026800] Warning MVs not available\n"
     ]
    },
    {
     "name": "stdout",
     "output_type": "stream",
     "text": [
      "225/225 [==============================] - 468s 2s/step - loss: 14.6879 - val_loss: 10.0540 - lr: 8.2297e-07\n",
      "Epoch 79/80\n",
      "225/225 [==============================] - ETA: 0s - loss: 14.2867"
     ]
    },
    {
     "name": "stderr",
     "output_type": "stream",
     "text": [
      "[mpeg1video @ 0x79749e7223c0] ac-tex damaged at 22 17\n",
      "[mpeg1video @ 0x79749e7223c0] Warning MVs not available\n"
     ]
    },
    {
     "name": "stdout",
     "output_type": "stream",
     "text": [
      "225/225 [==============================] - 469s 2s/step - loss: 14.2867 - val_loss: 10.0638 - lr: 7.4466e-07\n",
      "Epoch 80/80\n",
      "225/225 [==============================] - ETA: 0s - loss: 14.7048"
     ]
    },
    {
     "name": "stderr",
     "output_type": "stream",
     "text": [
      "[mpeg1video @ 0x7979300a6f40] ac-tex damaged at 22 17\n",
      "[mpeg1video @ 0x7979300a6f40] Warning MVs not available\n"
     ]
    },
    {
     "name": "stdout",
     "output_type": "stream",
     "text": [
      "225/225 [==============================] - 467s 2s/step - loss: 14.7048 - val_loss: 10.0341 - lr: 6.7379e-07\n"
     ]
    }
   ],
   "source": [
    "history=model.fit(train_data,validation_data=test_data,epochs=80,callbacks=[checkpoint_callback,schedule_callback])"
   ]
  },
  {
   "cell_type": "code",
   "execution_count": 26,
   "id": "8022d8d0",
   "metadata": {
    "execution": {
     "iopub.execute_input": "2024-02-28T08:38:46.200564Z",
     "iopub.status.busy": "2024-02-28T08:38:46.200192Z",
     "iopub.status.idle": "2024-02-28T08:38:46.428220Z",
     "shell.execute_reply": "2024-02-28T08:38:46.427302Z"
    },
    "papermill": {
     "duration": 1.701515,
     "end_time": "2024-02-28T08:38:46.430254",
     "exception": false,
     "start_time": "2024-02-28T08:38:44.728739",
     "status": "completed"
    },
    "tags": []
   },
   "outputs": [
    {
     "data": {
      "image/png": "[encoded data removed]",
      "text/plain": [
       "<Figure size 640x480 with 1 Axes>"
      ]
     },
     "metadata": {},
     "output_type": "display_data"
    }
   ],
   "source": [
    "from matplotlib import pyplot as plt\n",
    "# Plot training & validation loss values\n",
    "plt.plot(history.history['loss'], label='Training Loss')\n",
    "if 'val_loss' in history.history:\n",
    "    plt.plot(history.history['val_loss'], label='Validation Loss')\n",
    "\n",
    "plt.title('Model Loss')\n",
    "plt.xlabel('Epoch')\n",
    "plt.ylabel('Loss')\n",
    "plt.legend()\n",
    "plt.show()"
   ]
  },
  {
   "cell_type": "code",
   "execution_count": 27,
   "id": "78e1be8b",
   "metadata": {
    "execution": {
     "iopub.execute_input": "2024-02-28T08:38:49.537887Z",
     "iopub.status.busy": "2024-02-28T08:38:49.537498Z",
     "iopub.status.idle": "2024-02-28T08:38:49.542094Z",
     "shell.execute_reply": "2024-02-28T08:38:49.541228Z"
    },
    "papermill": {
     "duration": 1.64889,
     "end_time": "2024-02-28T08:38:49.544146",
     "exception": false,
     "start_time": "2024-02-28T08:38:47.895256",
     "status": "completed"
    },
    "tags": []
   },
   "outputs": [],
   "source": [
    "# from tensorflow.python.ops.numpy_ops import np_config\n",
    "# np_config.enable_numpy_behavior()\n",
    "# # Load data from the file path\n",
    "# frames, alignments = load_data(tf.convert_to_tensor(path))\n",
    "\n",
    "# # Ensure the data matches the expected input shape\n",
    "# frames = tf.reshape(frames, (1, 75, 46, 140, 1))\n",
    "\n",
    "# # Predict using the model\n",
    "# predictions = model.predict(frames)\n"
   ]
  },
  {
   "cell_type": "code",
   "execution_count": 28,
   "id": "0f2969f2",
   "metadata": {
    "execution": {
     "iopub.execute_input": "2024-02-28T08:38:52.556111Z",
     "iopub.status.busy": "2024-02-28T08:38:52.555674Z",
     "iopub.status.idle": "2024-02-28T08:38:52.560901Z",
     "shell.execute_reply": "2024-02-28T08:38:52.560005Z"
    },
    "papermill": {
     "duration": 1.457114,
     "end_time": "2024-02-28T08:38:52.562763",
     "exception": false,
     "start_time": "2024-02-28T08:38:51.105649",
     "status": "completed"
    },
    "tags": []
   },
   "outputs": [],
   "source": [
    "# class AccuracyMetrics(tf.keras.callbacks.Callback):\n",
    "#     def __init__(self, dataset) -> None:\n",
    "#         self.dataset = dataset.as_numpy_iterator()\n",
    "#         self.predictions = []\n",
    "#         self.ground_truth = []\n",
    "\n",
    "#     def on_epoch_end(self, epoch, logs=None) -> None:\n",
    "#         data = self.dataset.next()\n",
    "#         yhat = self.model.predict(data[0])\n",
    "#         decoded = tf.keras.backend.ctc_decode(yhat, [75, 75], greedy=False)[0][0].numpy()\n",
    "#         self.predictions.extend(decoded)\n",
    "#         self.ground_truth.extend(data[1])\n",
    "\n",
    "# # ... (your previous code)\n",
    "\n",
    "# accuracy_metrics = AccuracyMetrics(test)  # Create an instance of AccuracyMetrics\n",
    "\n",
    "# model.fit(train, validation_data=test, epochs=5, callbacks=[checkpoint_callback, schedule_callback, accuracy_metrics])\n",
    "\n",
    "# # After training, compute accuracy or any other metric using predictions and ground truth\n",
    "# predictions = accuracy_metrics.predictions\n",
    "# ground_truth = accuracy_metrics.ground_truth\n",
    "\n",
    "# # Compute accuracy (or any other suitable metric) here\n",
    "# # For example, using sequence_accuracy from Levenshtein distance:\n",
    "# from nltk.metrics.distance import edit_distance\n",
    "\n",
    "# def compute_accuracy(preds, truths):\n",
    "#     acc = sum(edit_distance(pred, truth) for pred, truth in zip(preds, truths)) / len(preds)\n",
    "#     return 1 - acc\n",
    "\n",
    "# accuracy = compute_accuracy(predictions, ground_truth)\n",
    "# print(\"Accuracy:\", accuracy)\n"
   ]
  },
  {
   "cell_type": "code",
   "execution_count": 29,
   "id": "20c8e9d7",
   "metadata": {
    "execution": {
     "iopub.execute_input": "2024-02-28T08:38:55.596061Z",
     "iopub.status.busy": "2024-02-28T08:38:55.595241Z",
     "iopub.status.idle": "2024-02-28T08:38:55.601326Z",
     "shell.execute_reply": "2024-02-28T08:38:55.600480Z"
    },
    "papermill": {
     "duration": 1.604316,
     "end_time": "2024-02-28T08:38:55.603253",
     "exception": false,
     "start_time": "2024-02-28T08:38:53.998937",
     "status": "completed"
    },
    "tags": []
   },
   "outputs": [],
   "source": [
    "# import matplotlib.pyplot as plt\n",
    "# import tensorflow as tf\n",
    "# from nltk.metrics.distance import edit_distance\n",
    "\n",
    "# # Définir une classe de rappel pour calculer et enregistrer l'accuracy à chaque époque\n",
    "# class AccuracyCallback(tf.keras.callbacks.Callback):\n",
    "#     def __init__(self, validation_data):\n",
    "#         self.validation_data = validation_data.prefetch(tf.data.AUTOTUNE).as_numpy_iterator()\n",
    "#         self.accuracies = []\n",
    "\n",
    "#     def on_epoch_end(self, epoch, logs=None):\n",
    "#         data = next(self.validation_data)\n",
    "#         predictions = self.model.predict(data[0])\n",
    "#         decoded = tf.keras.backend.ctc_decode(predictions, [75, 75], greedy=False)[0][0].numpy()\n",
    "#         ground_truth = data[1]\n",
    "\n",
    "#         accuracy = compute_accuracy(decoded, ground_truth)\n",
    "#         print(f'Accuracy at epoch {epoch + 1}: {accuracy * 100:.2f}%')\n",
    "#         self.accuracies.append(accuracy)\n",
    "\n",
    "# # Fonction pour calculer l'accuracy\n",
    "# def compute_accuracy(preds, truths):\n",
    "#     acc = sum(edit_distance(pred, truth) for pred, truth in zip(preds, truths)) / len(preds)\n",
    "#     return 1 - acc\n",
    "\n",
    "# # Chargement des données\n",
    "# data = tf.data.Dataset.list_files('/kaggle/input/lipreading/data/s1/*.mpg')\n",
    "# data = data.shuffle(500, reshuffle_each_iteration=False)\n",
    "# data = data.map(mappable_function)\n",
    "\n",
    "# # Division des données en ensembles d'entraînement et de test\n",
    "# train_size = 450\n",
    "# train_data = data.take(train_size)\n",
    "# test_data = data.skip(train_size)\n",
    "\n",
    "# # Création des lots (batches) de données\n",
    "# train_data = train_data.padded_batch(2, padded_shapes=([75, None, None, None], [40]))\n",
    "# test_data = test_data.padded_batch(2, padded_shapes=([75, None, None, None], [40]))\n",
    "\n",
    "# # Préchargement des données\n",
    "# train_data = train_data.prefetch(tf.data.AUTOTUNE)\n",
    "# test_data = test_data.prefetch(tf.data.AUTOTUNE)\n",
    "\n",
    "# # Utiliser la fonction de perte CTCLoss avec le rappel AccuracyCallback\n",
    "# model.compile(optimizer='adam', loss=CTCLoss)\n",
    "# accuracy_callback = AccuracyCallback(validation_data=test_data)  # Utiliser l'ensemble de test\n",
    "\n",
    "# history = model.fit(train_data, validation_data=test_data, epochs=51, callbacks=[accuracy_callback])\n",
    "\n",
    "# # Plotter les courbes d'accuracy\n",
    "# plt.plot(accuracy_callback.accuracies, label='Validation Accuracy')\n",
    "# plt.xlabel('Nombre d\\'époques')\n",
    "# plt.ylabel('Accuracy')\n",
    "# plt.title('Évolution de l\\'accuracy pendant l\\'entraînement')\n",
    "# plt.legend()\n",
    "# plt.show()\n"
   ]
  },
  {
   "cell_type": "code",
   "execution_count": 30,
   "id": "68b1bcea",
   "metadata": {
    "execution": {
     "iopub.execute_input": "2024-02-28T08:38:58.485910Z",
     "iopub.status.busy": "2024-02-28T08:38:58.485562Z",
     "iopub.status.idle": "2024-02-28T08:38:58.490307Z",
     "shell.execute_reply": "2024-02-28T08:38:58.489497Z"
    },
    "papermill": {
     "duration": 1.446619,
     "end_time": "2024-02-28T08:38:58.492183",
     "exception": false,
     "start_time": "2024-02-28T08:38:57.045564",
     "status": "completed"
    },
    "tags": []
   },
   "outputs": [],
   "source": [
    "# class AccuracyCallback(tf.keras.callbacks.Callback):\n",
    "#     def __init__(self, validation_data):\n",
    "#         self.validation_data = validation_data.prefetch(tf.data.AUTOTUNE).as_numpy_iterator()\n",
    "#         self.accuracies = []\n",
    "\n",
    "#     def on_epoch_end(self, epoch, logs=None):\n",
    "#         data = next(self.validation_data)\n",
    "#         predictions = self.model.predict(data[0])\n",
    "#         decoded = tf.keras.backend.ctc_decode(predictions, [75, 75], greedy=False)[0][0].numpy()\n",
    "#         ground_truth = data[1]\n",
    "\n",
    "#         accuracy = compute_accuracy(decoded, ground_truth)\n",
    "#         print(f'Accuracy at epoch {epoch + 1}: {accuracy * 100:.2f}%')\n",
    "#         self.accuracies.append(accuracy)\n",
    "\n",
    "# # Fonction pour calculer l'accuracy\n",
    "# def compute_accuracy(preds, truths):\n",
    "#     total_samples = len(preds)\n",
    "#     correct_samples = sum(1 for pred, truth in zip(preds, truths) if pred == truth)\n",
    "#     accuracy = correct_samples / total_samples\n",
    "#     return accuracy"
   ]
  },
  {
   "cell_type": "code",
   "execution_count": 31,
   "id": "f96dccf7",
   "metadata": {
    "execution": {
     "iopub.execute_input": "2024-02-28T08:39:01.499081Z",
     "iopub.status.busy": "2024-02-28T08:39:01.498363Z",
     "iopub.status.idle": "2024-02-28T08:39:01.506280Z",
     "shell.execute_reply": "2024-02-28T08:39:01.505425Z"
    },
    "papermill": {
     "duration": 1.449521,
     "end_time": "2024-02-28T08:39:01.508141",
     "exception": false,
     "start_time": "2024-02-28T08:39:00.058620",
     "status": "completed"
    },
    "tags": []
   },
   "outputs": [],
   "source": [
    "# import matplotlib.pyplot as plt\n",
    "# import tensorflow as tf\n",
    "# from nltk.metrics.distance import edit_distance\n",
    "\n",
    "# # Définir une classe de rappel pour calculer et enregistrer l'accuracy à chaque époque\n",
    "# class AccuracyCallback(tf.keras.callbacks.Callback):\n",
    "#     def __init__(self, validation_data, training_data):\n",
    "#         self.validation_data = validation_data.prefetch(tf.data.AUTOTUNE).as_numpy_iterator()\n",
    "#         self.training_data = training_data.prefetch(tf.data.AUTOTUNE).as_numpy_iterator()\n",
    "#         self.accuracies = []\n",
    "#         self.training_accuracies = []  # Nouvelle liste pour l'accuracy d'entraînement\n",
    "#         self.training_losses = []      # Nouvelle liste pour la perte d'entraînement\n",
    "\n",
    "#     def on_epoch_end(self, epoch, logs=None):\n",
    "#         # Validation Accuracy\n",
    "#         validation_data = next(self.validation_data)\n",
    "#         predictions = self.model.predict(validation_data[0])\n",
    "#         decoded = tf.keras.backend.ctc_decode(predictions, [75, 75], greedy=False)[0][0].numpy()\n",
    "#         ground_truth = validation_data[1]\n",
    "\n",
    "#         accuracy = compute_accuracy(decoded, ground_truth)\n",
    "#         print(f'Validation Accuracy at epoch {epoch + 1}: {accuracy * 100:.2f}%')\n",
    "#         self.accuracies.append(accuracy)\n",
    "\n",
    "#         # Training Accuracy and Loss\n",
    "#         training_data = next(self.training_data)\n",
    "#         training_predictions = self.model.predict(training_data[0])\n",
    "#         training_decoded = tf.keras.backend.ctc_decode(training_predictions, [75, 75], greedy=False)[0][0].numpy()\n",
    "#         training_ground_truth = training_data[1]\n",
    "\n",
    "#         training_accuracy = compute_accuracy(training_decoded, training_ground_truth)\n",
    "#         training_loss = self.model.evaluate(training_data[0], training_data[1], verbose=0)\n",
    "\n",
    "#         print(f'Training Accuracy at epoch {epoch + 1}: {training_accuracy }')\n",
    "#         print(f'Training Loss at epoch {epoch + 1}: {training_loss}')\n",
    "\n",
    "#         self.training_accuracies.append(training_accuracy)\n",
    "#         self.training_losses.append(training_loss)\n",
    "\n",
    "# # Fonction pour calculer l'accuracy\n",
    "# def compute_accuracy(preds, truths):\n",
    "#     acc = sum(edit_distance(pred, truth) for pred, truth in zip(preds, truths)) / len(preds)\n",
    "#     return (1 - acc)\n",
    "\n",
    "# # Chargement des données\n",
    "# data = tf.data.Dataset.list_files('/kaggle/input/lipreading/data/s1/*.mpg')\n",
    "# data = data.shuffle(500, reshuffle_each_iteration=False)\n",
    "# data = data.map(mappable_function)\n",
    "\n",
    "# # Division des données en ensembles d'entraînement et de test\n",
    "# train_size = 450\n",
    "# train_data = data.take(train_size)\n",
    "# test_data = data.skip(train_size)\n",
    "\n",
    "# # Création des lots (batches) de données\n",
    "# train_data = train_data.padded_batch(2, padded_shapes=([75, None, None, None], [40]))\n",
    "# test_data = test_data.padded_batch(2, padded_shapes=([75, None, None, None], [40]))\n",
    "\n",
    "# # Préchargement des données\n",
    "# train_data = train_data.prefetch(tf.data.AUTOTUNE)\n",
    "# test_data = test_data.prefetch(tf.data.AUTOTUNE)\n",
    "# # Utiliser la fonction de perte CTCLoss avec le rappel AccuracyCallback\n",
    "# # model.compile(optimizer='adam', loss=CTCLoss)\n",
    "# # accuracy_callback = AccuracyCallback(validation_data=test_data, training_data=train_data)  # Utiliser l'ensemble de test et d'entraînement\n",
    "\n",
    "# # history = model.fit(train_data, validation_data=test_data, epochs=1, callbacks=[accuracy_callback])\n",
    "\n",
    "# # # Plotter les courbes d'accuracy\n",
    "# # plt.plot(accuracy_callback.accuracies, label='Validation Accuracy')\n",
    "# # plt.plot(accuracy_callback.training_accuracies, label='Training Accuracy')  # Nouvelle courbe pour l'accuracy d'entraînement\n",
    "# # plt.xlabel('Nombre d\\'époques')\n",
    "# # plt.ylabel('Accuracy')\n",
    "# # plt.title('Évolution de l\\'accuracy pendant l\\'entraînement')\n",
    "# # plt.legend()\n",
    "# # plt.show()\n",
    "\n",
    "# # # Plotter les courbes de perte\n",
    "# # plt.plot(history.history['loss'], label='Training Loss')  # Utilise les informations de history pour la perte d'entraînement\n",
    "# # plt.xlabel('Nombre d\\'époques')\n",
    "# # plt.ylabel('Perte')\n",
    "# # plt.title('Évolution de la perte d\\'entraînement pendant l\\'entraînement')\n",
    "# # plt.legend()\n",
    "# # plt.show()\n",
    "# # Utiliser la fonction de perte CTCLoss avec le rappel AccuracyCallback\n",
    "# model.compile(optimizer='adam', loss=CTCLoss)\n",
    "# accuracy_callback = AccuracyCallback(validation_data=test_data)  # Utiliser l'ensemble de test\n",
    "\n",
    "# history = model.fit(train_data, validation_data=test_data, epochs=1, callbacks=[accuracy_callback])\n",
    "\n",
    "# # Plotter les courbes d'accuracy\n",
    "# plt.plot(accuracy_callback.accuracies, label='Validation Accuracy')\n",
    "# plt.xlabel('Nombre d\\'époques')\n",
    "# plt.ylabel('Accuracy')\n",
    "# plt.title('Évolution de l\\'accuracy pendant l\\'entraînement')\n",
    "# plt.legend()\n",
    "# plt.show()"
   ]
  },
  {
   "cell_type": "code",
   "execution_count": 32,
   "id": "e6bef779",
   "metadata": {
    "execution": {
     "iopub.execute_input": "2024-02-28T08:39:04.522149Z",
     "iopub.status.busy": "2024-02-28T08:39:04.521312Z",
     "iopub.status.idle": "2024-02-28T08:39:04.527773Z",
     "shell.execute_reply": "2024-02-28T08:39:04.526918Z"
    },
    "papermill": {
     "duration": 1.582167,
     "end_time": "2024-02-28T08:39:04.529652",
     "exception": false,
     "start_time": "2024-02-28T08:39:02.947485",
     "status": "completed"
    },
    "tags": []
   },
   "outputs": [],
   "source": [
    "# import matplotlib.pyplot as plt\n",
    "# import tensorflow as tf\n",
    "# from nltk.metrics.distance import edit_distance\n",
    "\n",
    "# # Définir une classe de rappel pour calculer et enregistrer l'accuracy à chaque époque\n",
    "# class AccuracyCallback(tf.keras.callbacks.Callback):\n",
    "#     def __init__(self, validation_data):\n",
    "#         self.validation_data = validation_data.prefetch(tf.data.AUTOTUNE).as_numpy_iterator()\n",
    "#         self.accuracies = []\n",
    "\n",
    "#     def on_epoch_end(self, epoch, logs=None):\n",
    "#         # Validation Accuracy\n",
    "#         validation_data = next(self.validation_data)\n",
    "#         predictions = self.model.predict(validation_data[0])\n",
    "#         decoded = tf.keras.backend.ctc_decode(predictions, [75, 75], greedy=False)[0][0].numpy()\n",
    "#         ground_truth = validation_data[1]\n",
    "\n",
    "#         accuracy = compute_accuracy_letter_by_letter(decoded, ground_truth)\n",
    "#         print(f'Validation Accuracy at epoch {epoch + 1}: {accuracy * 100:.2f}%')\n",
    "#         self.accuracies.append(accuracy)\n",
    "\n",
    "# # Fonction pour calculer l'accuracy lettre par lettre\n",
    "# def compute_accuracy_letter_by_letter(preds, truths):\n",
    "#     total_letters = 0\n",
    "#     correct_letters = 0\n",
    "\n",
    "#     for pred, truth in zip(preds, truths):\n",
    "#         for p, t in zip(pred, truth):\n",
    "#             total_letters += 1\n",
    "#             if p == t:\n",
    "#                 correct_letters += 1\n",
    "\n",
    "#     accuracy = correct_letters / total_letters if total_letters > 0 else 0\n",
    "#     return accuracy\n",
    "\n",
    "# # Chargement des données (assurez-vous de définir la fonction mappable_function)\n",
    "# data = tf.data.Dataset.list_files('/kaggle/input/lipreading/data/s1/*.mpg')\n",
    "# data = data.shuffle(500, reshuffle_each_iteration=False)\n",
    "# data = data.map(mappable_function)\n",
    "\n",
    "# # Division des données en ensembles d'entraînement et de test\n",
    "# train_size = 450\n",
    "# train_data = data.take(train_size)\n",
    "# test_data = data.skip(train_size)\n",
    "\n",
    "# # Création des lots (batches) de données\n",
    "# train_data = train_data.padded_batch(2, padded_shapes=([75, None, None, None], [40]))\n",
    "# test_data = test_data.padded_batch(2, padded_shapes=([75, None, None, None], [40]))\n",
    "\n",
    "# # Préchargement des données\n",
    "# train_data = train_data.prefetch(tf.data.AUTOTUNE)\n",
    "# test_data = test_data.prefetch(tf.data.AUTOTUNE)\n",
    "# # Utiliser la fonction de perte CTCLoss avec le rappel AccuracyCallback\n",
    "# model.compile(optimizer='adam', loss=CTCLoss)  # Assurez-vous de remplacer 'ctc_loss_function' par votre fonction CTCLoss\n",
    "# accuracy_callback = AccuracyCallback(validation_data=test_data)\n",
    "\n",
    "# history = model.fit(train_data, validation_data=test_data, epochs=1, callbacks=[accuracy_callback])\n",
    "\n",
    "# # Plotter les courbes d'accuracy\n",
    "# plt.plot(accuracy_callback.accuracies, label='Validation Accuracy')\n",
    "# plt.xlabel('Nombre d\\'époques')\n",
    "# plt.ylabel('Accuracy')\n",
    "# plt.title('Évolution de l\\'accuracy pendant l\\'entraînement')\n",
    "# plt.legend()\n",
    "# plt.show()\n"
   ]
  },
  {
   "cell_type": "code",
   "execution_count": 33,
   "id": "53cccd59",
   "metadata": {
    "execution": {
     "iopub.execute_input": "2024-02-28T08:39:07.434375Z",
     "iopub.status.busy": "2024-02-28T08:39:07.434018Z",
     "iopub.status.idle": "2024-02-28T08:39:07.440751Z",
     "shell.execute_reply": "2024-02-28T08:39:07.439752Z"
    },
    "papermill": {
     "duration": 1.454631,
     "end_time": "2024-02-28T08:39:07.442815",
     "exception": false,
     "start_time": "2024-02-28T08:39:05.988184",
     "status": "completed"
    },
    "tags": []
   },
   "outputs": [],
   "source": [
    "# import matplotlib.pyplot as plt\n",
    "# import tensorflow as tf\n",
    "# from nltk.metrics.distance import edit_distance\n",
    "\n",
    "# # # Définir une classe de rappel pour calculer et enregistrer l'accuracy à chaque époque\n",
    "# # class AccuracyCallback(tf.keras.callbacks.Callback):\n",
    "# #     def __init__(self, validation_data):\n",
    "# #         self.validation_data = validation_data.prefetch(tf.data.AUTOTUNE).as_numpy_iterator()\n",
    "# #         self.accuracies = []\n",
    "\n",
    "# #     def on_epoch_end(self, epoch, logs=None):\n",
    "# #         # Validation Accuracy\n",
    "# #         validation_data = next(self.validation_data)\n",
    "# #         predictions = self.model.predict(validation_data[0])\n",
    "# #         decoded = tf.keras.backend.ctc_decode(predictions, [75, 75], greedy=False)[0][0].numpy()\n",
    "# #         ground_truth = validation_data[1]\n",
    "\n",
    "# #         accuracy = compute_accuracy_letter_by_letter(decoded, ground_truth)\n",
    "# #         print(f'Validation Accuracy at epoch {epoch + 1}: {accuracy * 100:.2f}%')\n",
    "# #         self.accuracies.append(accuracy)\n",
    "\n",
    "# # # Fonction pour calculer l'accuracy lettre par lettre\n",
    "# # def compute_accuracy_letter_by_letter(preds, truths):\n",
    "# #     total_letters = 0\n",
    "# #     correct_letters = 0\n",
    "\n",
    "# #     for pred, truth in zip(preds, truths):\n",
    "# #         for p, t in zip(pred, truth):\n",
    "# #             total_letters += 1\n",
    "# #             if p == t:\n",
    "# #                 correct_letters += 1\n",
    "\n",
    "# #     accuracy = correct_letters / total_letters if total_letters > 0 else 0\n",
    "# #     return accuracy\n",
    "\n",
    "# # Chargement des données (assurez-vous de définir la fonction mappable_function)\n",
    "# data = tf.data.Dataset.list_files('/kaggle/input/lipreading/data/s1/*.mpg')\n",
    "# data = data.shuffle(500, reshuffle_each_iteration=False)\n",
    "# data = data.map(mappable_function)\n",
    "\n",
    "# # Division des données en ensembles d'entraînement et de test\n",
    "# train_size = 450\n",
    "# train_data = data.take(train_size)\n",
    "# test_data = data.skip(train_size)\n",
    "\n",
    "# # Création des lots (batches) de données\n",
    "# train_data = train_data.padded_batch(2, padded_shapes=([75, None, None, None], [40]))\n",
    "# test_data = test_data.padded_batch(2, padded_shapes=([75, None, None, None], [40]))\n",
    "\n",
    "# # Préchargement des données\n",
    "# train_data = train_data.prefetch(tf.data.AUTOTUNE)\n",
    "# test_data = test_data.prefetch(tf.data.AUTOTUNE)\n",
    "\n",
    "\n",
    "\n",
    "# # Utiliser la fonction de perte CTCLoss avec le rappel AccuracyCallback\n",
    "# model.compile(optimizer='adam', loss=CTCLoss)  # Utilisation de votre fonction de perte personnalisée\n",
    "\n",
    "# accuracy_callback = AccuracyCallback(validation_data=test_data)\n",
    "\n",
    "# # history = model.fit(train_data, validation_data=test_data, epochs=100, callbacks=[accuracy_callback])\n",
    "\n",
    "\n",
    "\n",
    "# # # Plotter les courbes d'accuracy\n",
    "# # plt.plot(accuracy_callback.accuracies, label='Validation Accuracy')\n",
    "# # plt.xlabel('Nombre d\\'époques')\n",
    "# # plt.ylabel('Accuracy')\n",
    "# # plt.title('Évolution de l\\'accuracy pendant l\\'entraînement')\n",
    "# # plt.legend()\n",
    "# # plt.show()\n"
   ]
  }
 ],
 "metadata": {
  "kaggle": {
   "accelerator": "nvidiaTeslaT4",
   "dataSources": [
    {
     "datasetId": 3504929,
     "sourceId": 6115667,
     "sourceType": "datasetVersion"
    },
    {
     "sourceId": 151552210,
     "sourceType": "kernelVersion"
    }
   ],
   "dockerImageVersionId": 30648,
   "isGpuEnabled": true,
   "isInternetEnabled": true,
   "language": "python",
   "sourceType": "notebook"
  },
  "kernelspec": {
   "display_name": "Python 3",
   "language": "python",
   "name": "python3"
  },
  "language_info": {
   "codemirror_mode": {
    "name": "ipython",
    "version": 3
   },
   "file_extension": ".py",
   "mimetype": "text/x-python",
   "name": "python",
   "nbconvert_exporter": "python",
   "pygments_lexer": "ipython3",
   "version": "3.10.13"
  },
  "papermill": {
   "default_parameters": {},
   "duration": 38143.732286,
   "end_time": "2024-02-28T08:39:11.897154",
   "environment_variables": {},
   "exception": null,
   "input_path": "__notebook__.ipynb",
   "output_path": "__notebook__.ipynb",
   "parameters": {},
   "start_time": "2024-02-27T22:03:28.164868",
   "version": "2.5.0"
  }
 },
 "nbformat": 4,
 "nbformat_minor": 5
}
