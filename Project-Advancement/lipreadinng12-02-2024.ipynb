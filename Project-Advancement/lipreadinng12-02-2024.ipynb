{
 "cells": [
  {
   "cell_type": "code",
   "execution_count": 1,
   "id": "5b5b0017",
   "metadata": {
    "execution": {
     "iopub.execute_input": "2024-02-12T18:49:17.156762Z",
     "iopub.status.busy": "2024-02-12T18:49:17.156095Z",
     "iopub.status.idle": "2024-02-12T18:49:30.735925Z",
     "shell.execute_reply": "2024-02-12T18:49:30.735135Z"
    },
    "papermill": {
     "duration": 13.592702,
     "end_time": "2024-02-12T18:49:30.738156",
     "exception": false,
     "start_time": "2024-02-12T18:49:17.145454",
     "status": "completed"
    },
    "tags": []
   },
   "outputs": [
    {
     "name": "stderr",
     "output_type": "stream",
     "text": [
      "2024-02-12 18:49:19.153106: E external/local_xla/xla/stream_executor/cuda/cuda_dnn.cc:9261] Unable to register cuDNN factory: Attempting to register factory for plugin cuDNN when one has already been registered\n",
      "2024-02-12 18:49:19.153207: E external/local_xla/xla/stream_executor/cuda/cuda_fft.cc:607] Unable to register cuFFT factory: Attempting to register factory for plugin cuFFT when one has already been registered\n",
      "2024-02-12 18:49:19.303786: E external/local_xla/xla/stream_executor/cuda/cuda_blas.cc:1515] Unable to register cuBLAS factory: Attempting to register factory for plugin cuBLAS when one has already been registered\n"
     ]
    }
   ],
   "source": [
    "import os\n",
    "import cv2\n",
    "import tensorflow as tf\n",
    "import numpy as np\n",
    "from typing import List\n",
    "from matplotlib import pyplot as plt\n",
    "import imageio"
   ]
  },
  {
   "cell_type": "code",
   "execution_count": 2,
   "id": "640d9e8f",
   "metadata": {
    "execution": {
     "iopub.execute_input": "2024-02-12T18:49:30.758006Z",
     "iopub.status.busy": "2024-02-12T18:49:30.757016Z",
     "iopub.status.idle": "2024-02-12T18:49:30.764016Z",
     "shell.execute_reply": "2024-02-12T18:49:30.763195Z"
    },
    "papermill": {
     "duration": 0.018507,
     "end_time": "2024-02-12T18:49:30.765871",
     "exception": false,
     "start_time": "2024-02-12T18:49:30.747364",
     "status": "completed"
    },
    "tags": []
   },
   "outputs": [],
   "source": [
    "def load_video(path:str) -> List[float]:\n",
    "    cap=cv2.VideoCapture(path)\n",
    "    frames=[]\n",
    "    for _ in range(int(cap.get(cv2.CAP_PROP_FRAME_COUNT))):\n",
    "        ret, frame = cap.read()\n",
    "        frame=tf.image.rgb_to_grayscale(frame)\n",
    "        frames.append(frame[190:236,80:220,:])\n",
    "    cap.release()\n",
    "    \n",
    "    mean=tf.math.reduce_mean(frames)\n",
    "    std=tf.math.reduce_std(tf.cast(frames,tf.float32))\n",
    "    return tf.cast((frames-mean),tf.float32)/std"
   ]
  },
  {
   "cell_type": "code",
   "execution_count": 3,
   "id": "b2352df0",
   "metadata": {
    "execution": {
     "iopub.execute_input": "2024-02-12T18:49:30.784589Z",
     "iopub.status.busy": "2024-02-12T18:49:30.784306Z",
     "iopub.status.idle": "2024-02-12T18:49:32.923471Z",
     "shell.execute_reply": "2024-02-12T18:49:32.922538Z"
    },
    "papermill": {
     "duration": 2.150849,
     "end_time": "2024-02-12T18:49:32.925522",
     "exception": false,
     "start_time": "2024-02-12T18:49:30.774673",
     "status": "completed"
    },
    "tags": []
   },
   "outputs": [
    {
     "data": {
      "text/plain": [
       "<tf.Tensor: shape=(75, 46, 140, 1), dtype=float32, numpy=\n",
       "array([[[[1.4991664 ],\n",
       "         [1.4991664 ],\n",
       "         [1.4616872 ],\n",
       "         ...,\n",
       "         [0.41227075],\n",
       "         [0.41227075],\n",
       "         [0.41227075]],\n",
       "\n",
       "        [[1.4991664 ],\n",
       "         [1.4991664 ],\n",
       "         [1.4616872 ],\n",
       "         ...,\n",
       "         [0.41227075],\n",
       "         [0.41227075],\n",
       "         [0.41227075]],\n",
       "\n",
       "        [[1.4616872 ],\n",
       "         [1.4616872 ],\n",
       "         [1.4991664 ],\n",
       "         ...,\n",
       "         [0.33731243],\n",
       "         [0.33731243],\n",
       "         [0.33731243]],\n",
       "\n",
       "        ...,\n",
       "\n",
       "        [[1.0494164 ],\n",
       "         [1.0494164 ],\n",
       "         [1.0119373 ],\n",
       "         ...,\n",
       "         [0.11243747],\n",
       "         [0.11243747],\n",
       "         [0.07495832]],\n",
       "\n",
       "        [[1.0494164 ],\n",
       "         [1.0494164 ],\n",
       "         [1.0119373 ],\n",
       "         ...,\n",
       "         [0.11243747],\n",
       "         [0.07495832],\n",
       "         [0.07495832]],\n",
       "\n",
       "        [[1.0494164 ],\n",
       "         [1.0494164 ],\n",
       "         [1.0119373 ],\n",
       "         ...,\n",
       "         [0.07495832],\n",
       "         [0.07495832],\n",
       "         [0.03747916]]],\n",
       "\n",
       "\n",
       "       [[[1.424208  ],\n",
       "         [1.424208  ],\n",
       "         [1.424208  ],\n",
       "         ...,\n",
       "         [0.33731243],\n",
       "         [0.33731243],\n",
       "         [0.33731243]],\n",
       "\n",
       "        [[1.424208  ],\n",
       "         [1.424208  ],\n",
       "         [1.424208  ],\n",
       "         ...,\n",
       "         [0.33731243],\n",
       "         [0.33731243],\n",
       "         [0.33731243]],\n",
       "\n",
       "        [[1.424208  ],\n",
       "         [1.424208  ],\n",
       "         [1.424208  ],\n",
       "         ...,\n",
       "         [0.29983327],\n",
       "         [0.29983327],\n",
       "         [0.29983327]],\n",
       "\n",
       "        ...,\n",
       "\n",
       "        [[1.0494164 ],\n",
       "         [1.0494164 ],\n",
       "         [1.0119373 ],\n",
       "         ...,\n",
       "         [0.11243747],\n",
       "         [0.11243747],\n",
       "         [0.07495832]],\n",
       "\n",
       "        [[1.0494164 ],\n",
       "         [1.0494164 ],\n",
       "         [1.0119373 ],\n",
       "         ...,\n",
       "         [0.11243747],\n",
       "         [0.07495832],\n",
       "         [0.07495832]],\n",
       "\n",
       "        [[1.0494164 ],\n",
       "         [1.0494164 ],\n",
       "         [1.0119373 ],\n",
       "         ...,\n",
       "         [0.07495832],\n",
       "         [0.07495832],\n",
       "         [0.03747916]]],\n",
       "\n",
       "\n",
       "       [[[1.3492497 ],\n",
       "         [1.3492497 ],\n",
       "         [1.3492497 ],\n",
       "         ...,\n",
       "         [0.33731243],\n",
       "         [0.33731243],\n",
       "         [0.33731243]],\n",
       "\n",
       "        [[1.3492497 ],\n",
       "         [1.3492497 ],\n",
       "         [1.3492497 ],\n",
       "         ...,\n",
       "         [0.33731243],\n",
       "         [0.33731243],\n",
       "         [0.33731243]],\n",
       "\n",
       "        [[1.424208  ],\n",
       "         [1.424208  ],\n",
       "         [1.3867289 ],\n",
       "         ...,\n",
       "         [0.2623541 ],\n",
       "         [0.29983327],\n",
       "         [0.29983327]],\n",
       "\n",
       "        ...,\n",
       "\n",
       "        [[0.9744581 ],\n",
       "         [0.9744581 ],\n",
       "         [0.93697894],\n",
       "         ...,\n",
       "         [0.11243747],\n",
       "         [0.11243747],\n",
       "         [0.07495832]],\n",
       "\n",
       "        [[0.9744581 ],\n",
       "         [0.9744581 ],\n",
       "         [0.93697894],\n",
       "         ...,\n",
       "         [0.11243747],\n",
       "         [0.07495832],\n",
       "         [0.07495832]],\n",
       "\n",
       "        [[0.9744581 ],\n",
       "         [0.9744581 ],\n",
       "         [0.93697894],\n",
       "         ...,\n",
       "         [0.07495832],\n",
       "         [0.07495832],\n",
       "         [0.03747916]]],\n",
       "\n",
       "\n",
       "       ...,\n",
       "\n",
       "\n",
       "       [[[1.4991664 ],\n",
       "         [1.4991664 ],\n",
       "         [1.4991664 ],\n",
       "         ...,\n",
       "         [0.29983327],\n",
       "         [0.29983327],\n",
       "         [0.29983327]],\n",
       "\n",
       "        [[1.424208  ],\n",
       "         [1.424208  ],\n",
       "         [1.424208  ],\n",
       "         ...,\n",
       "         [0.29983327],\n",
       "         [0.29983327],\n",
       "         [0.29983327]],\n",
       "\n",
       "        [[1.4616872 ],\n",
       "         [1.4616872 ],\n",
       "         [1.424208  ],\n",
       "         ...,\n",
       "         [0.29983327],\n",
       "         [0.2623541 ],\n",
       "         [0.2623541 ]],\n",
       "\n",
       "        ...,\n",
       "\n",
       "        [[1.0868956 ],\n",
       "         [1.0494164 ],\n",
       "         [1.0494164 ],\n",
       "         ...,\n",
       "         [0.07495832],\n",
       "         [0.07495832],\n",
       "         [0.07495832]],\n",
       "\n",
       "        [[1.0494164 ],\n",
       "         [1.0494164 ],\n",
       "         [1.0494164 ],\n",
       "         ...,\n",
       "         [0.07495832],\n",
       "         [0.07495832],\n",
       "         [0.07495832]],\n",
       "\n",
       "        [[1.0494164 ],\n",
       "         [1.0494164 ],\n",
       "         [1.0494164 ],\n",
       "         ...,\n",
       "         [0.07495832],\n",
       "         [0.07495832],\n",
       "         [0.03747916]]],\n",
       "\n",
       "\n",
       "       [[[1.4991664 ],\n",
       "         [1.4991664 ],\n",
       "         [1.5366455 ],\n",
       "         ...,\n",
       "         [0.33731243],\n",
       "         [0.29983327],\n",
       "         [0.29983327]],\n",
       "\n",
       "        [[1.424208  ],\n",
       "         [1.424208  ],\n",
       "         [1.4616872 ],\n",
       "         ...,\n",
       "         [0.33731243],\n",
       "         [0.29983327],\n",
       "         [0.29983327]],\n",
       "\n",
       "        [[1.4616872 ],\n",
       "         [1.4616872 ],\n",
       "         [1.424208  ],\n",
       "         ...,\n",
       "         [0.2623541 ],\n",
       "         [0.29983327],\n",
       "         [0.29983327]],\n",
       "\n",
       "        ...,\n",
       "\n",
       "        [[1.0494164 ],\n",
       "         [1.0119373 ],\n",
       "         [1.0119373 ],\n",
       "         ...,\n",
       "         [0.03747916],\n",
       "         [0.03747916],\n",
       "         [0.03747916]],\n",
       "\n",
       "        [[1.0494164 ],\n",
       "         [1.0119373 ],\n",
       "         [1.0119373 ],\n",
       "         ...,\n",
       "         [0.03747916],\n",
       "         [0.03747916],\n",
       "         [0.03747916]],\n",
       "\n",
       "        [[1.0119373 ],\n",
       "         [1.0119373 ],\n",
       "         [0.9744581 ],\n",
       "         ...,\n",
       "         [0.03747916],\n",
       "         [0.03747916],\n",
       "         [0.        ]]],\n",
       "\n",
       "\n",
       "       [[[1.4616872 ],\n",
       "         [1.4616872 ],\n",
       "         [1.4616872 ],\n",
       "         ...,\n",
       "         [0.29983327],\n",
       "         [0.29983327],\n",
       "         [0.29983327]],\n",
       "\n",
       "        [[1.4616872 ],\n",
       "         [1.4616872 ],\n",
       "         [1.4616872 ],\n",
       "         ...,\n",
       "         [0.29983327],\n",
       "         [0.29983327],\n",
       "         [0.29983327]],\n",
       "\n",
       "        [[1.424208  ],\n",
       "         [1.424208  ],\n",
       "         [1.3867289 ],\n",
       "         ...,\n",
       "         [0.29983327],\n",
       "         [0.29983327],\n",
       "         [0.29983327]],\n",
       "\n",
       "        ...,\n",
       "\n",
       "        [[1.0494164 ],\n",
       "         [1.0119373 ],\n",
       "         [1.0119373 ],\n",
       "         ...,\n",
       "         [0.03747916],\n",
       "         [0.03747916],\n",
       "         [0.03747916]],\n",
       "\n",
       "        [[0.9744581 ],\n",
       "         [0.93697894],\n",
       "         [0.9744581 ],\n",
       "         ...,\n",
       "         [0.03747916],\n",
       "         [0.03747916],\n",
       "         [0.03747916]],\n",
       "\n",
       "        [[0.9744581 ],\n",
       "         [0.93697894],\n",
       "         [0.9744581 ],\n",
       "         ...,\n",
       "         [0.03747916],\n",
       "         [0.03747916],\n",
       "         [0.        ]]]], dtype=float32)>"
      ]
     },
     "execution_count": 3,
     "metadata": {},
     "output_type": "execute_result"
    }
   ],
   "source": [
    "path=\"/kaggle/input/lipreading/data/s1/bbaf2n.mpg\"\n",
    "value=load_video(path)\n",
    "value"
   ]
  },
  {
   "cell_type": "code",
   "execution_count": 4,
   "id": "5af1d1d9",
   "metadata": {
    "execution": {
     "iopub.execute_input": "2024-02-12T18:49:32.945782Z",
     "iopub.status.busy": "2024-02-12T18:49:32.945501Z",
     "iopub.status.idle": "2024-02-12T18:49:32.951370Z",
     "shell.execute_reply": "2024-02-12T18:49:32.950499Z"
    },
    "papermill": {
     "duration": 0.01816,
     "end_time": "2024-02-12T18:49:32.953316",
     "exception": false,
     "start_time": "2024-02-12T18:49:32.935156",
     "status": "completed"
    },
    "tags": []
   },
   "outputs": [],
   "source": [
    "#ADDITIONAL FUNCTION I MADE TO GET vocab WHICH IS A PARAMETER FOR THE CHAR_TO_NUM FUNCTION\n",
    "def get_vocab():\n",
    "    vocab=[]\n",
    "    \n",
    "    directory=\"/kaggle/input/lipreading/data/alignments/s1\"\n",
    "    for file in os.listdir(directory):\n",
    "        file_path = os.path.join(directory, file)\n",
    "        with open(file_path, 'r') as f:\n",
    "            lines=f.readlines()\n",
    "            for line in lines:\n",
    "                line=line.split()\n",
    "                vocab.append(line[2])\n",
    "    return vocab  "
   ]
  },
  {
   "cell_type": "code",
   "execution_count": 5,
   "id": "d12f4d93",
   "metadata": {
    "execution": {
     "iopub.execute_input": "2024-02-12T18:49:32.972772Z",
     "iopub.status.busy": "2024-02-12T18:49:32.972507Z",
     "iopub.status.idle": "2024-02-12T18:49:35.830617Z",
     "shell.execute_reply": "2024-02-12T18:49:35.829739Z"
    },
    "papermill": {
     "duration": 2.870554,
     "end_time": "2024-02-12T18:49:35.833069",
     "exception": false,
     "start_time": "2024-02-12T18:49:32.962515",
     "status": "completed"
    },
    "tags": []
   },
   "outputs": [],
   "source": [
    "vocab=np.unique(get_vocab())"
   ]
  },
  {
   "cell_type": "code",
   "execution_count": 6,
   "id": "decc0d6b",
   "metadata": {
    "execution": {
     "iopub.execute_input": "2024-02-12T18:49:35.853837Z",
     "iopub.status.busy": "2024-02-12T18:49:35.853537Z",
     "iopub.status.idle": "2024-02-12T18:49:35.993608Z",
     "shell.execute_reply": "2024-02-12T18:49:35.992782Z"
    },
    "papermill": {
     "duration": 0.152739,
     "end_time": "2024-02-12T18:49:35.995760",
     "exception": false,
     "start_time": "2024-02-12T18:49:35.843021",
     "status": "completed"
    },
    "tags": []
   },
   "outputs": [],
   "source": [
    "char_to_num= tf.keras.layers.StringLookup(vocabulary=vocab, oov_token=\"\")\n",
    "num_to_char=tf.keras.layers.StringLookup(vocabulary=char_to_num.get_vocabulary(), oov_token=\"\",invert=True)"
   ]
  },
  {
   "cell_type": "code",
   "execution_count": 7,
   "id": "eccaf170",
   "metadata": {
    "execution": {
     "iopub.execute_input": "2024-02-12T18:49:36.016756Z",
     "iopub.status.busy": "2024-02-12T18:49:36.016054Z",
     "iopub.status.idle": "2024-02-12T18:49:36.022045Z",
     "shell.execute_reply": "2024-02-12T18:49:36.021205Z"
    },
    "papermill": {
     "duration": 0.017856,
     "end_time": "2024-02-12T18:49:36.023914",
     "exception": false,
     "start_time": "2024-02-12T18:49:36.006058",
     "status": "completed"
    },
    "tags": []
   },
   "outputs": [],
   "source": [
    "def load_alignments(path:str) -> List[str]:\n",
    "    with open(path, 'r') as f:\n",
    "        lines=f.readlines()\n",
    "        \n",
    "            \n",
    "        \n",
    "    tokens=[]\n",
    "    for line in lines:\n",
    "        line=line.split()\n",
    "        if line[2]!= 'sil':\n",
    "            tokens= [*tokens,' ',line[2]]\n",
    "        \n",
    "    return char_to_num(tf.reshape(tf.strings.unicode_split(tokens,input_encoding='UTF-8'),(-1)))[1:]"
   ]
  },
  {
   "cell_type": "code",
   "execution_count": 8,
   "id": "3dce8c8f",
   "metadata": {
    "execution": {
     "iopub.execute_input": "2024-02-12T18:49:36.043177Z",
     "iopub.status.busy": "2024-02-12T18:49:36.042920Z",
     "iopub.status.idle": "2024-02-12T18:49:36.077159Z",
     "shell.execute_reply": "2024-02-12T18:49:36.076322Z"
    },
    "papermill": {
     "duration": 0.045942,
     "end_time": "2024-02-12T18:49:36.079012",
     "exception": false,
     "start_time": "2024-02-12T18:49:36.033070",
     "status": "completed"
    },
    "tags": []
   },
   "outputs": [
    {
     "data": {
      "text/plain": [
       "<tf.Tensor: shape=(21,), dtype=int64, numpy=\n",
       "array([ 4, 18, 25,  0,  4, 22, 46, 10,  0,  1, 43,  0, 12,  0, 43,  0, 28,\n",
       "        0, 25, 28,  0])>"
      ]
     },
     "execution_count": 8,
     "metadata": {},
     "output_type": "execute_result"
    }
   ],
   "source": [
    "path=\"/kaggle/input/lipreading/data/alignments/s1/bbaf2n.align\"\n",
    "load_alignments(path)"
   ]
  },
  {
   "cell_type": "code",
   "execution_count": 9,
   "id": "81515af2",
   "metadata": {
    "execution": {
     "iopub.execute_input": "2024-02-12T18:49:36.098748Z",
     "iopub.status.busy": "2024-02-12T18:49:36.098492Z",
     "iopub.status.idle": "2024-02-12T18:49:36.104102Z",
     "shell.execute_reply": "2024-02-12T18:49:36.103295Z"
    },
    "papermill": {
     "duration": 0.017505,
     "end_time": "2024-02-12T18:49:36.105913",
     "exception": false,
     "start_time": "2024-02-12T18:49:36.088408",
     "status": "completed"
    },
    "tags": []
   },
   "outputs": [],
   "source": [
    "def load_data(path:str):\n",
    "    path=bytes.decode(path.numpy())\n",
    "    file_name=path.split('/')[-1].split('.')[0]\n",
    "    video_path=os.path.join('/kaggle/input/lipreading/data','s1',f'{file_name}.mpg')\n",
    "    alignment_path=os.path.join('/kaggle/input/lipreading/data','alignments','s1',f'{file_name}.align')\n",
    "    frames=load_video(video_path)\n",
    "    alignments=load_alignments(alignment_path)\n",
    "    \n",
    "    return frames,alignments"
   ]
  },
  {
   "cell_type": "code",
   "execution_count": 10,
   "id": "19e69a60",
   "metadata": {
    "execution": {
     "iopub.execute_input": "2024-02-12T18:49:36.125420Z",
     "iopub.status.busy": "2024-02-12T18:49:36.125126Z",
     "iopub.status.idle": "2024-02-12T18:49:36.352850Z",
     "shell.execute_reply": "2024-02-12T18:49:36.352010Z"
    },
    "papermill": {
     "duration": 0.240465,
     "end_time": "2024-02-12T18:49:36.355579",
     "exception": false,
     "start_time": "2024-02-12T18:49:36.115114",
     "status": "completed"
    },
    "tags": []
   },
   "outputs": [
    {
     "name": "stdout",
     "output_type": "stream",
     "text": [
      "frames: tf.Tensor(\n",
      "[[[[1.4991664 ]\n",
      "   [1.4991664 ]\n",
      "   [1.4616872 ]\n",
      "   ...\n",
      "   [0.41227075]\n",
      "   [0.41227075]\n",
      "   [0.41227075]]\n",
      "\n",
      "  [[1.4991664 ]\n",
      "   [1.4991664 ]\n",
      "   [1.4616872 ]\n",
      "   ...\n",
      "   [0.41227075]\n",
      "   [0.41227075]\n",
      "   [0.41227075]]\n",
      "\n",
      "  [[1.4616872 ]\n",
      "   [1.4616872 ]\n",
      "   [1.4991664 ]\n",
      "   ...\n",
      "   [0.33731243]\n",
      "   [0.33731243]\n",
      "   [0.33731243]]\n",
      "\n",
      "  ...\n",
      "\n",
      "  [[1.0494164 ]\n",
      "   [1.0494164 ]\n",
      "   [1.0119373 ]\n",
      "   ...\n",
      "   [0.11243747]\n",
      "   [0.11243747]\n",
      "   [0.07495832]]\n",
      "\n",
      "  [[1.0494164 ]\n",
      "   [1.0494164 ]\n",
      "   [1.0119373 ]\n",
      "   ...\n",
      "   [0.11243747]\n",
      "   [0.07495832]\n",
      "   [0.07495832]]\n",
      "\n",
      "  [[1.0494164 ]\n",
      "   [1.0494164 ]\n",
      "   [1.0119373 ]\n",
      "   ...\n",
      "   [0.07495832]\n",
      "   [0.07495832]\n",
      "   [0.03747916]]]\n",
      "\n",
      "\n",
      " [[[1.424208  ]\n",
      "   [1.424208  ]\n",
      "   [1.424208  ]\n",
      "   ...\n",
      "   [0.33731243]\n",
      "   [0.33731243]\n",
      "   [0.33731243]]\n",
      "\n",
      "  [[1.424208  ]\n",
      "   [1.424208  ]\n",
      "   [1.424208  ]\n",
      "   ...\n",
      "   [0.33731243]\n",
      "   [0.33731243]\n",
      "   [0.33731243]]\n",
      "\n",
      "  [[1.424208  ]\n",
      "   [1.424208  ]\n",
      "   [1.424208  ]\n",
      "   ...\n",
      "   [0.29983327]\n",
      "   [0.29983327]\n",
      "   [0.29983327]]\n",
      "\n",
      "  ...\n",
      "\n",
      "  [[1.0494164 ]\n",
      "   [1.0494164 ]\n",
      "   [1.0119373 ]\n",
      "   ...\n",
      "   [0.11243747]\n",
      "   [0.11243747]\n",
      "   [0.07495832]]\n",
      "\n",
      "  [[1.0494164 ]\n",
      "   [1.0494164 ]\n",
      "   [1.0119373 ]\n",
      "   ...\n",
      "   [0.11243747]\n",
      "   [0.07495832]\n",
      "   [0.07495832]]\n",
      "\n",
      "  [[1.0494164 ]\n",
      "   [1.0494164 ]\n",
      "   [1.0119373 ]\n",
      "   ...\n",
      "   [0.07495832]\n",
      "   [0.07495832]\n",
      "   [0.03747916]]]\n",
      "\n",
      "\n",
      " [[[1.3492497 ]\n",
      "   [1.3492497 ]\n",
      "   [1.3492497 ]\n",
      "   ...\n",
      "   [0.33731243]\n",
      "   [0.33731243]\n",
      "   [0.33731243]]\n",
      "\n",
      "  [[1.3492497 ]\n",
      "   [1.3492497 ]\n",
      "   [1.3492497 ]\n",
      "   ...\n",
      "   [0.33731243]\n",
      "   [0.33731243]\n",
      "   [0.33731243]]\n",
      "\n",
      "  [[1.424208  ]\n",
      "   [1.424208  ]\n",
      "   [1.3867289 ]\n",
      "   ...\n",
      "   [0.2623541 ]\n",
      "   [0.29983327]\n",
      "   [0.29983327]]\n",
      "\n",
      "  ...\n",
      "\n",
      "  [[0.9744581 ]\n",
      "   [0.9744581 ]\n",
      "   [0.93697894]\n",
      "   ...\n",
      "   [0.11243747]\n",
      "   [0.11243747]\n",
      "   [0.07495832]]\n",
      "\n",
      "  [[0.9744581 ]\n",
      "   [0.9744581 ]\n",
      "   [0.93697894]\n",
      "   ...\n",
      "   [0.11243747]\n",
      "   [0.07495832]\n",
      "   [0.07495832]]\n",
      "\n",
      "  [[0.9744581 ]\n",
      "   [0.9744581 ]\n",
      "   [0.93697894]\n",
      "   ...\n",
      "   [0.07495832]\n",
      "   [0.07495832]\n",
      "   [0.03747916]]]\n",
      "\n",
      "\n",
      " ...\n",
      "\n",
      "\n",
      " [[[1.4991664 ]\n",
      "   [1.4991664 ]\n",
      "   [1.4991664 ]\n",
      "   ...\n",
      "   [0.29983327]\n",
      "   [0.29983327]\n",
      "   [0.29983327]]\n",
      "\n",
      "  [[1.424208  ]\n",
      "   [1.424208  ]\n",
      "   [1.424208  ]\n",
      "   ...\n",
      "   [0.29983327]\n",
      "   [0.29983327]\n",
      "   [0.29983327]]\n",
      "\n",
      "  [[1.4616872 ]\n",
      "   [1.4616872 ]\n",
      "   [1.424208  ]\n",
      "   ...\n",
      "   [0.29983327]\n",
      "   [0.2623541 ]\n",
      "   [0.2623541 ]]\n",
      "\n",
      "  ...\n",
      "\n",
      "  [[1.0868956 ]\n",
      "   [1.0494164 ]\n",
      "   [1.0494164 ]\n",
      "   ...\n",
      "   [0.07495832]\n",
      "   [0.07495832]\n",
      "   [0.07495832]]\n",
      "\n",
      "  [[1.0494164 ]\n",
      "   [1.0494164 ]\n",
      "   [1.0494164 ]\n",
      "   ...\n",
      "   [0.07495832]\n",
      "   [0.07495832]\n",
      "   [0.07495832]]\n",
      "\n",
      "  [[1.0494164 ]\n",
      "   [1.0494164 ]\n",
      "   [1.0494164 ]\n",
      "   ...\n",
      "   [0.07495832]\n",
      "   [0.07495832]\n",
      "   [0.03747916]]]\n",
      "\n",
      "\n",
      " [[[1.4991664 ]\n",
      "   [1.4991664 ]\n",
      "   [1.5366455 ]\n",
      "   ...\n",
      "   [0.33731243]\n",
      "   [0.29983327]\n",
      "   [0.29983327]]\n",
      "\n",
      "  [[1.424208  ]\n",
      "   [1.424208  ]\n",
      "   [1.4616872 ]\n",
      "   ...\n",
      "   [0.33731243]\n",
      "   [0.29983327]\n",
      "   [0.29983327]]\n",
      "\n",
      "  [[1.4616872 ]\n",
      "   [1.4616872 ]\n",
      "   [1.424208  ]\n",
      "   ...\n",
      "   [0.2623541 ]\n",
      "   [0.29983327]\n",
      "   [0.29983327]]\n",
      "\n",
      "  ...\n",
      "\n",
      "  [[1.0494164 ]\n",
      "   [1.0119373 ]\n",
      "   [1.0119373 ]\n",
      "   ...\n",
      "   [0.03747916]\n",
      "   [0.03747916]\n",
      "   [0.03747916]]\n",
      "\n",
      "  [[1.0494164 ]\n",
      "   [1.0119373 ]\n",
      "   [1.0119373 ]\n",
      "   ...\n",
      "   [0.03747916]\n",
      "   [0.03747916]\n",
      "   [0.03747916]]\n",
      "\n",
      "  [[1.0119373 ]\n",
      "   [1.0119373 ]\n",
      "   [0.9744581 ]\n",
      "   ...\n",
      "   [0.03747916]\n",
      "   [0.03747916]\n",
      "   [0.        ]]]\n",
      "\n",
      "\n",
      " [[[1.4616872 ]\n",
      "   [1.4616872 ]\n",
      "   [1.4616872 ]\n",
      "   ...\n",
      "   [0.29983327]\n",
      "   [0.29983327]\n",
      "   [0.29983327]]\n",
      "\n",
      "  [[1.4616872 ]\n",
      "   [1.4616872 ]\n",
      "   [1.4616872 ]\n",
      "   ...\n",
      "   [0.29983327]\n",
      "   [0.29983327]\n",
      "   [0.29983327]]\n",
      "\n",
      "  [[1.424208  ]\n",
      "   [1.424208  ]\n",
      "   [1.3867289 ]\n",
      "   ...\n",
      "   [0.29983327]\n",
      "   [0.29983327]\n",
      "   [0.29983327]]\n",
      "\n",
      "  ...\n",
      "\n",
      "  [[1.0494164 ]\n",
      "   [1.0119373 ]\n",
      "   [1.0119373 ]\n",
      "   ...\n",
      "   [0.03747916]\n",
      "   [0.03747916]\n",
      "   [0.03747916]]\n",
      "\n",
      "  [[0.9744581 ]\n",
      "   [0.93697894]\n",
      "   [0.9744581 ]\n",
      "   ...\n",
      "   [0.03747916]\n",
      "   [0.03747916]\n",
      "   [0.03747916]]\n",
      "\n",
      "  [[0.9744581 ]\n",
      "   [0.93697894]\n",
      "   [0.9744581 ]\n",
      "   ...\n",
      "   [0.03747916]\n",
      "   [0.03747916]\n",
      "   [0.        ]]]], shape=(75, 46, 140, 1), dtype=float32)\n",
      "alignments: tf.Tensor([ 4 18 25  0  4 22 46 10  0  1 43  0 12  0 43  0 28  0 25 28  0], shape=(21,), dtype=int64)\n"
     ]
    }
   ],
   "source": [
    "#TESTING THE OUTPUT FOR A SAMPLE FILE\n",
    "path=\"/kaggle/input/lipreading/data/s1/bbaf2n.mpg\"\n",
    "frames, alignments=load_data(tf.convert_to_tensor(path))\n",
    "print(\"frames:\",frames)\n",
    "print(\"alignments:\",alignments)"
   ]
  },
  {
   "cell_type": "code",
   "execution_count": 11,
   "id": "9e1c15e9",
   "metadata": {
    "execution": {
     "iopub.execute_input": "2024-02-12T18:49:36.376834Z",
     "iopub.status.busy": "2024-02-12T18:49:36.376562Z",
     "iopub.status.idle": "2024-02-12T18:49:36.580105Z",
     "shell.execute_reply": "2024-02-12T18:49:36.579204Z"
    },
    "papermill": {
     "duration": 0.216166,
     "end_time": "2024-02-12T18:49:36.582259",
     "exception": false,
     "start_time": "2024-02-12T18:49:36.366093",
     "status": "completed"
    },
    "tags": []
   },
   "outputs": [
    {
     "data": {
      "text/plain": [
       "<matplotlib.image.AxesImage at 0x7e0cefb78070>"
      ]
     },
     "execution_count": 11,
     "metadata": {},
     "output_type": "execute_result"
    },
    {
     "data": {
      "image/png": "[encoded data removed]",
      "text/plain": [
       "<Figure size 640x480 with 1 Axes>"
      ]
     },
     "metadata": {},
     "output_type": "display_data"
    }
   ],
   "source": [
    "plt.imshow(frames[40])"
   ]
  },
  {
   "cell_type": "code",
   "execution_count": 12,
   "id": "facfd107",
   "metadata": {
    "execution": {
     "iopub.execute_input": "2024-02-12T18:49:36.604129Z",
     "iopub.status.busy": "2024-02-12T18:49:36.603866Z",
     "iopub.status.idle": "2024-02-12T18:49:36.608371Z",
     "shell.execute_reply": "2024-02-12T18:49:36.607538Z"
    },
    "papermill": {
     "duration": 0.017603,
     "end_time": "2024-02-12T18:49:36.610364",
     "exception": false,
     "start_time": "2024-02-12T18:49:36.592761",
     "status": "completed"
    },
    "tags": []
   },
   "outputs": [],
   "source": [
    "def mappable_function(path:str) ->List[str]:\n",
    "    result = tf.py_function(load_data, [path], (tf.float32, tf.int64))\n",
    "    return result"
   ]
  },
  {
   "cell_type": "code",
   "execution_count": 13,
   "id": "ed9ae0b8",
   "metadata": {
    "execution": {
     "iopub.execute_input": "2024-02-12T18:49:36.631776Z",
     "iopub.status.busy": "2024-02-12T18:49:36.631266Z",
     "iopub.status.idle": "2024-02-12T18:49:37.541833Z",
     "shell.execute_reply": "2024-02-12T18:49:37.540817Z"
    },
    "papermill": {
     "duration": 0.923751,
     "end_time": "2024-02-12T18:49:37.544158",
     "exception": false,
     "start_time": "2024-02-12T18:49:36.620407",
     "status": "completed"
    },
    "tags": []
   },
   "outputs": [],
   "source": [
    "data = tf.data.Dataset.list_files('/kaggle/input/lipreading/data/s1/*.mpg')\n",
    "data = data.shuffle(500,reshuffle_each_iteration=False)\n",
    "data = data.map(mappable_function)\n",
    "data = data.padded_batch(2, padded_shapes=([75,None,None,None],[40]))\n",
    "data = data.prefetch(tf.data.AUTOTUNE)\n",
    "# # ADDED DOR SPLIT\n",
    "train = data.take(450)\n",
    "test = data.skip(450)"
   ]
  },
  {
   "cell_type": "code",
   "execution_count": 14,
   "id": "b960715e",
   "metadata": {
    "execution": {
     "iopub.execute_input": "2024-02-12T18:49:37.566669Z",
     "iopub.status.busy": "2024-02-12T18:49:37.566366Z",
     "iopub.status.idle": "2024-02-12T18:49:38.300979Z",
     "shell.execute_reply": "2024-02-12T18:49:38.299856Z"
    },
    "papermill": {
     "duration": 0.74857,
     "end_time": "2024-02-12T18:49:38.303439",
     "exception": false,
     "start_time": "2024-02-12T18:49:37.554869",
     "status": "completed"
    },
    "tags": []
   },
   "outputs": [],
   "source": [
    "frames, alighnments = data.as_numpy_iterator().next()"
   ]
  },
  {
   "cell_type": "code",
   "execution_count": 15,
   "id": "5408292b",
   "metadata": {
    "execution": {
     "iopub.execute_input": "2024-02-12T18:49:38.325925Z",
     "iopub.status.busy": "2024-02-12T18:49:38.325625Z",
     "iopub.status.idle": "2024-02-12T18:49:38.333867Z",
     "shell.execute_reply": "2024-02-12T18:49:38.332997Z"
    },
    "papermill": {
     "duration": 0.021705,
     "end_time": "2024-02-12T18:49:38.335821",
     "exception": false,
     "start_time": "2024-02-12T18:49:38.314116",
     "status": "completed"
    },
    "tags": []
   },
   "outputs": [],
   "source": [
    "sample = data.as_numpy_iterator()"
   ]
  },
  {
   "cell_type": "code",
   "execution_count": 16,
   "id": "b64ac440",
   "metadata": {
    "execution": {
     "iopub.execute_input": "2024-02-12T18:49:38.357277Z",
     "iopub.status.busy": "2024-02-12T18:49:38.357000Z",
     "iopub.status.idle": "2024-02-12T18:49:38.830261Z",
     "shell.execute_reply": "2024-02-12T18:49:38.829306Z"
    },
    "papermill": {
     "duration": 0.487273,
     "end_time": "2024-02-12T18:49:38.833183",
     "exception": false,
     "start_time": "2024-02-12T18:49:38.345910",
     "status": "completed"
    },
    "tags": []
   },
   "outputs": [
    {
     "data": {
      "text/plain": [
       "array([[[[[1.5897197 ],\n",
       "          [1.5897197 ],\n",
       "          [1.2869159 ],\n",
       "          ...,\n",
       "          [0.34065422],\n",
       "          [0.30280375],\n",
       "          [0.30280375]],\n",
       "\n",
       "         [[1.5140188 ],\n",
       "          [1.5518693 ],\n",
       "          [1.135514  ],\n",
       "          ...,\n",
       "          [0.34065422],\n",
       "          [0.30280375],\n",
       "          [0.30280375]],\n",
       "\n",
       "         [[1.5897197 ],\n",
       "          [1.5897197 ],\n",
       "          [1.5140188 ],\n",
       "          ...,\n",
       "          [0.3785047 ],\n",
       "          [0.30280375],\n",
       "          [0.30280375]],\n",
       "\n",
       "         ...,\n",
       "\n",
       "         [[1.0598131 ],\n",
       "          [1.0598131 ],\n",
       "          [1.0598131 ],\n",
       "          ...,\n",
       "          [0.11355141],\n",
       "          [0.11355141],\n",
       "          [0.07570094]],\n",
       "\n",
       "         [[1.0598131 ],\n",
       "          [1.0598131 ],\n",
       "          [1.0598131 ],\n",
       "          ...,\n",
       "          [0.11355141],\n",
       "          [0.07570094],\n",
       "          [0.07570094]],\n",
       "\n",
       "         [[1.0598131 ],\n",
       "          [1.0598131 ],\n",
       "          [1.0598131 ],\n",
       "          ...,\n",
       "          [0.07570094],\n",
       "          [0.07570094],\n",
       "          [0.03785047]]],\n",
       "\n",
       "\n",
       "        [[[1.4761683 ],\n",
       "          [1.4383178 ],\n",
       "          [1.2490655 ],\n",
       "          ...,\n",
       "          [0.30280375],\n",
       "          [0.18925235],\n",
       "          [0.18925235]],\n",
       "\n",
       "         [[1.2869159 ],\n",
       "          [1.4383178 ],\n",
       "          [1.2869159 ],\n",
       "          ...,\n",
       "          [0.30280375],\n",
       "          [0.18925235],\n",
       "          [0.18925235]],\n",
       "\n",
       "         [[1.4383178 ],\n",
       "          [1.4383178 ],\n",
       "          [1.4004674 ],\n",
       "          ...,\n",
       "          [0.3785047 ],\n",
       "          [0.30280375],\n",
       "          [0.30280375]],\n",
       "\n",
       "         ...,\n",
       "\n",
       "         [[1.0976636 ],\n",
       "          [1.0976636 ],\n",
       "          [1.0976636 ],\n",
       "          ...,\n",
       "          [0.11355141],\n",
       "          [0.07570094],\n",
       "          [0.07570094]],\n",
       "\n",
       "         [[1.0976636 ],\n",
       "          [1.0976636 ],\n",
       "          [1.0598131 ],\n",
       "          ...,\n",
       "          [0.07570094],\n",
       "          [0.07570094],\n",
       "          [0.03785047]],\n",
       "\n",
       "         [[1.0598131 ],\n",
       "          [1.0598131 ],\n",
       "          [1.0598131 ],\n",
       "          ...,\n",
       "          [0.07570094],\n",
       "          [0.03785047],\n",
       "          [0.03785047]]],\n",
       "\n",
       "\n",
       "        [[[1.5518693 ],\n",
       "          [1.5140188 ],\n",
       "          [1.2869159 ],\n",
       "          ...,\n",
       "          [0.34065422],\n",
       "          [0.30280375],\n",
       "          [0.30280375]],\n",
       "\n",
       "         [[1.3626169 ],\n",
       "          [1.5140188 ],\n",
       "          [1.3626169 ],\n",
       "          ...,\n",
       "          [0.34065422],\n",
       "          [0.30280375],\n",
       "          [0.30280375]],\n",
       "\n",
       "         [[1.5140188 ],\n",
       "          [1.5140188 ],\n",
       "          [1.4761683 ],\n",
       "          ...,\n",
       "          [0.3785047 ],\n",
       "          [0.34065422],\n",
       "          [0.34065422]],\n",
       "\n",
       "         ...,\n",
       "\n",
       "         [[1.0976636 ],\n",
       "          [1.0976636 ],\n",
       "          [1.0976636 ],\n",
       "          ...,\n",
       "          [0.15140188],\n",
       "          [0.11355141],\n",
       "          [0.07570094]],\n",
       "\n",
       "         [[1.0976636 ],\n",
       "          [1.0976636 ],\n",
       "          [1.0598131 ],\n",
       "          ...,\n",
       "          [0.11355141],\n",
       "          [0.07570094],\n",
       "          [0.03785047]],\n",
       "\n",
       "         [[1.0598131 ],\n",
       "          [1.0598131 ],\n",
       "          [1.0598131 ],\n",
       "          ...,\n",
       "          [0.07570094],\n",
       "          [0.03785047],\n",
       "          [0.03785047]]],\n",
       "\n",
       "\n",
       "        ...,\n",
       "\n",
       "\n",
       "        [[[1.6275702 ],\n",
       "          [1.5140188 ],\n",
       "          [1.4761683 ],\n",
       "          ...,\n",
       "          [0.2649533 ],\n",
       "          [0.34065422],\n",
       "          [0.34065422]],\n",
       "\n",
       "         [[1.4761683 ],\n",
       "          [1.703271  ],\n",
       "          [1.4761683 ],\n",
       "          ...,\n",
       "          [0.2649533 ],\n",
       "          [0.34065422],\n",
       "          [0.34065422]],\n",
       "\n",
       "         [[1.4383178 ],\n",
       "          [1.5140188 ],\n",
       "          [1.5518693 ],\n",
       "          ...,\n",
       "          [0.34065422],\n",
       "          [0.34065422],\n",
       "          [0.34065422]],\n",
       "\n",
       "         ...,\n",
       "\n",
       "         [[1.0976636 ],\n",
       "          [1.0598131 ],\n",
       "          [1.0598131 ],\n",
       "          ...,\n",
       "          [0.03785047],\n",
       "          [0.03785047],\n",
       "          [0.03785047]],\n",
       "\n",
       "         [[1.0598131 ],\n",
       "          [1.0598131 ],\n",
       "          [1.0598131 ],\n",
       "          ...,\n",
       "          [0.03785047],\n",
       "          [0.03785047],\n",
       "          [0.03785047]],\n",
       "\n",
       "         [[1.0598131 ],\n",
       "          [1.0598131 ],\n",
       "          [1.0598131 ],\n",
       "          ...,\n",
       "          [0.03785047],\n",
       "          [0.03785047],\n",
       "          [0.        ]]],\n",
       "\n",
       "\n",
       "        [[[1.5140188 ],\n",
       "          [1.4004674 ],\n",
       "          [1.4761683 ],\n",
       "          ...,\n",
       "          [0.30280375],\n",
       "          [0.30280375],\n",
       "          [0.30280375]],\n",
       "\n",
       "         [[1.4383178 ],\n",
       "          [1.5897197 ],\n",
       "          [1.3626169 ],\n",
       "          ...,\n",
       "          [0.30280375],\n",
       "          [0.30280375],\n",
       "          [0.30280375]],\n",
       "\n",
       "         [[1.4761683 ],\n",
       "          [1.5518693 ],\n",
       "          [1.5518693 ],\n",
       "          ...,\n",
       "          [0.34065422],\n",
       "          [0.34065422],\n",
       "          [0.34065422]],\n",
       "\n",
       "         ...,\n",
       "\n",
       "         [[1.0976636 ],\n",
       "          [1.0976636 ],\n",
       "          [1.0598131 ],\n",
       "          ...,\n",
       "          [0.03785047],\n",
       "          [0.03785047],\n",
       "          [0.03785047]],\n",
       "\n",
       "         [[1.0598131 ],\n",
       "          [1.0219626 ],\n",
       "          [1.0219626 ],\n",
       "          ...,\n",
       "          [0.03785047],\n",
       "          [0.03785047],\n",
       "          [0.03785047]],\n",
       "\n",
       "         [[1.0219626 ],\n",
       "          [1.0219626 ],\n",
       "          [1.0219626 ],\n",
       "          ...,\n",
       "          [0.03785047],\n",
       "          [0.03785047],\n",
       "          [0.        ]]],\n",
       "\n",
       "\n",
       "        [[[0.        ],\n",
       "          [0.        ],\n",
       "          [0.        ],\n",
       "          ...,\n",
       "          [0.        ],\n",
       "          [0.        ],\n",
       "          [0.        ]],\n",
       "\n",
       "         [[0.        ],\n",
       "          [0.        ],\n",
       "          [0.        ],\n",
       "          ...,\n",
       "          [0.        ],\n",
       "          [0.        ],\n",
       "          [0.        ]],\n",
       "\n",
       "         [[0.        ],\n",
       "          [0.        ],\n",
       "          [0.        ],\n",
       "          ...,\n",
       "          [0.        ],\n",
       "          [0.        ],\n",
       "          [0.        ]],\n",
       "\n",
       "         ...,\n",
       "\n",
       "         [[0.        ],\n",
       "          [0.        ],\n",
       "          [0.        ],\n",
       "          ...,\n",
       "          [0.        ],\n",
       "          [0.        ],\n",
       "          [0.        ]],\n",
       "\n",
       "         [[0.        ],\n",
       "          [0.        ],\n",
       "          [0.        ],\n",
       "          ...,\n",
       "          [0.        ],\n",
       "          [0.        ],\n",
       "          [0.        ]],\n",
       "\n",
       "         [[0.        ],\n",
       "          [0.        ],\n",
       "          [0.        ],\n",
       "          ...,\n",
       "          [0.        ],\n",
       "          [0.        ],\n",
       "          [0.        ]]]],\n",
       "\n",
       "\n",
       "\n",
       "       [[[[1.4735544 ],\n",
       "          [1.4735544 ],\n",
       "          [1.4735544 ],\n",
       "          ...,\n",
       "          [9.306659  ],\n",
       "          [0.03877775],\n",
       "          [0.11633324]],\n",
       "\n",
       "         [[1.4735544 ],\n",
       "          [1.4735544 ],\n",
       "          [1.4735544 ],\n",
       "          ...,\n",
       "          [9.500547  ],\n",
       "          [0.03877775],\n",
       "          [0.07755549]],\n",
       "\n",
       "         [[1.4347765 ],\n",
       "          [1.4347765 ],\n",
       "          [1.4347765 ],\n",
       "          ...,\n",
       "          [9.771992  ],\n",
       "          [0.23266648],\n",
       "          [0.23266648]],\n",
       "\n",
       "         ...,\n",
       "\n",
       "         [[1.0082214 ],\n",
       "          [1.0082214 ],\n",
       "          [1.0082214 ],\n",
       "          ...,\n",
       "          [0.        ],\n",
       "          [0.03877775],\n",
       "          [0.03877775]],\n",
       "\n",
       "         [[0.9694437 ],\n",
       "          [0.9694437 ],\n",
       "          [0.9694437 ],\n",
       "          ...,\n",
       "          [0.03877775],\n",
       "          [0.03877775],\n",
       "          [0.03877775]],\n",
       "\n",
       "         [[0.9694437 ],\n",
       "          [0.9694437 ],\n",
       "          [0.9694437 ],\n",
       "          ...,\n",
       "          [0.03877775],\n",
       "          [0.03877775],\n",
       "          [0.        ]]],\n",
       "\n",
       "\n",
       "        [[[1.3959988 ],\n",
       "          [1.3959988 ],\n",
       "          [1.4347765 ],\n",
       "          ...,\n",
       "          [9.267881  ],\n",
       "          [0.        ],\n",
       "          [0.07755549]],\n",
       "\n",
       "         [[1.3959988 ],\n",
       "          [1.3959988 ],\n",
       "          [1.4347765 ],\n",
       "          ...,\n",
       "          [9.345437  ],\n",
       "          [0.03877775],\n",
       "          [0.07755549]],\n",
       "\n",
       "         [[1.3959988 ],\n",
       "          [1.3959988 ],\n",
       "          [1.3959988 ],\n",
       "          ...,\n",
       "          [9.81077   ],\n",
       "          [0.19388872],\n",
       "          [0.19388872]],\n",
       "\n",
       "         ...,\n",
       "\n",
       "         [[0.9694437 ],\n",
       "          [0.9694437 ],\n",
       "          [0.9306659 ],\n",
       "          ...,\n",
       "          [0.07755549],\n",
       "          [0.07755549],\n",
       "          [0.07755549]],\n",
       "\n",
       "         [[0.9306659 ],\n",
       "          [0.9306659 ],\n",
       "          [0.9306659 ],\n",
       "          ...,\n",
       "          [0.03877775],\n",
       "          [0.03877775],\n",
       "          [0.        ]],\n",
       "\n",
       "         [[0.9306659 ],\n",
       "          [0.9306659 ],\n",
       "          [0.9306659 ],\n",
       "          ...,\n",
       "          [0.03877775],\n",
       "          [0.        ],\n",
       "          [0.        ]]],\n",
       "\n",
       "\n",
       "        [[[1.5123321 ],\n",
       "          [1.5123321 ],\n",
       "          [1.5123321 ],\n",
       "          ...,\n",
       "          [9.267881  ],\n",
       "          [0.03877775],\n",
       "          [0.07755549]],\n",
       "\n",
       "         [[1.5123321 ],\n",
       "          [1.5123321 ],\n",
       "          [1.5123321 ],\n",
       "          ...,\n",
       "          [9.306659  ],\n",
       "          [0.        ],\n",
       "          [0.03877775]],\n",
       "\n",
       "         [[1.4347765 ],\n",
       "          [1.4347765 ],\n",
       "          [1.3572211 ],\n",
       "          ...,\n",
       "          [9.849547  ],\n",
       "          [0.23266648],\n",
       "          [0.23266648]],\n",
       "\n",
       "         ...,\n",
       "\n",
       "         [[0.9694437 ],\n",
       "          [0.9694437 ],\n",
       "          [0.9306659 ],\n",
       "          ...,\n",
       "          [0.07755549],\n",
       "          [0.03877775],\n",
       "          [0.03877775]],\n",
       "\n",
       "         [[0.9306659 ],\n",
       "          [0.9306659 ],\n",
       "          [0.9306659 ],\n",
       "          ...,\n",
       "          [0.03877775],\n",
       "          [0.        ],\n",
       "          [9.888326  ]],\n",
       "\n",
       "         [[0.9306659 ],\n",
       "          [0.9306659 ],\n",
       "          [0.9306659 ],\n",
       "          ...,\n",
       "          [0.03877775],\n",
       "          [9.888326  ],\n",
       "          [9.888326  ]]],\n",
       "\n",
       "\n",
       "        ...,\n",
       "\n",
       "\n",
       "        [[[1.4735544 ],\n",
       "          [1.4735544 ],\n",
       "          [1.4347765 ],\n",
       "          ...,\n",
       "          [9.539326  ],\n",
       "          [0.        ],\n",
       "          [0.03877775]],\n",
       "\n",
       "         [[1.3959988 ],\n",
       "          [1.3959988 ],\n",
       "          [1.3572211 ],\n",
       "          ...,\n",
       "          [9.578103  ],\n",
       "          [9.888326  ],\n",
       "          [0.03877775]],\n",
       "\n",
       "         [[1.3959988 ],\n",
       "          [1.3959988 ],\n",
       "          [1.3959988 ],\n",
       "          ...,\n",
       "          [0.03877775],\n",
       "          [0.19388872],\n",
       "          [0.19388872]],\n",
       "\n",
       "         ...,\n",
       "\n",
       "         [[0.9694437 ],\n",
       "          [0.9694437 ],\n",
       "          [0.9694437 ],\n",
       "          ...,\n",
       "          [0.        ],\n",
       "          [9.888326  ],\n",
       "          [9.888326  ]],\n",
       "\n",
       "         [[0.9694437 ],\n",
       "          [0.9694437 ],\n",
       "          [0.9694437 ],\n",
       "          ...,\n",
       "          [0.        ],\n",
       "          [0.        ],\n",
       "          [9.888326  ]],\n",
       "\n",
       "         [[0.9694437 ],\n",
       "          [0.9694437 ],\n",
       "          [0.9306659 ],\n",
       "          ...,\n",
       "          [0.        ],\n",
       "          [9.888326  ],\n",
       "          [9.888326  ]]],\n",
       "\n",
       "\n",
       "        [[[1.4347765 ],\n",
       "          [1.4347765 ],\n",
       "          [1.4347765 ],\n",
       "          ...,\n",
       "          [9.616881  ],\n",
       "          [0.        ],\n",
       "          [0.11633324]],\n",
       "\n",
       "         [[1.3572211 ],\n",
       "          [1.3572211 ],\n",
       "          [1.3572211 ],\n",
       "          ...,\n",
       "          [9.539326  ],\n",
       "          [0.        ],\n",
       "          [0.03877775]],\n",
       "\n",
       "         [[1.4735544 ],\n",
       "          [1.4735544 ],\n",
       "          [1.4347765 ],\n",
       "          ...,\n",
       "          [0.03877775],\n",
       "          [0.23266648],\n",
       "          [0.23266648]],\n",
       "\n",
       "         ...,\n",
       "\n",
       "         [[0.9694437 ],\n",
       "          [0.9694437 ],\n",
       "          [0.9694437 ],\n",
       "          ...,\n",
       "          [0.        ],\n",
       "          [0.        ],\n",
       "          [0.        ]],\n",
       "\n",
       "         [[0.9694437 ],\n",
       "          [0.9694437 ],\n",
       "          [0.9694437 ],\n",
       "          ...,\n",
       "          [0.03877775],\n",
       "          [0.03877775],\n",
       "          [0.        ]],\n",
       "\n",
       "         [[0.9694437 ],\n",
       "          [0.9694437 ],\n",
       "          [0.9306659 ],\n",
       "          ...,\n",
       "          [0.03877775],\n",
       "          [0.        ],\n",
       "          [0.        ]]],\n",
       "\n",
       "\n",
       "        [[[1.4735544 ],\n",
       "          [1.4735544 ],\n",
       "          [1.4735544 ],\n",
       "          ...,\n",
       "          [9.539326  ],\n",
       "          [0.03877775],\n",
       "          [0.19388872]],\n",
       "\n",
       "         [[1.3959988 ],\n",
       "          [1.3959988 ],\n",
       "          [1.3959988 ],\n",
       "          ...,\n",
       "          [9.539326  ],\n",
       "          [0.03877775],\n",
       "          [0.11633324]],\n",
       "\n",
       "         [[1.3572211 ],\n",
       "          [1.3572211 ],\n",
       "          [1.3572211 ],\n",
       "          ...,\n",
       "          [0.03877775],\n",
       "          [0.23266648],\n",
       "          [0.23266648]],\n",
       "\n",
       "         ...,\n",
       "\n",
       "         [[0.9694437 ],\n",
       "          [0.9694437 ],\n",
       "          [0.9694437 ],\n",
       "          ...,\n",
       "          [0.        ],\n",
       "          [0.        ],\n",
       "          [0.        ]],\n",
       "\n",
       "         [[0.9694437 ],\n",
       "          [0.9694437 ],\n",
       "          [0.9694437 ],\n",
       "          ...,\n",
       "          [0.03877775],\n",
       "          [0.        ],\n",
       "          [9.888326  ]],\n",
       "\n",
       "         [[0.9694437 ],\n",
       "          [0.9694437 ],\n",
       "          [0.9306659 ],\n",
       "          ...,\n",
       "          [0.03877775],\n",
       "          [9.888326  ],\n",
       "          [9.888326  ]]]]], dtype=float32)"
      ]
     },
     "execution_count": 16,
     "metadata": {},
     "output_type": "execute_result"
    }
   ],
   "source": [
    "val = sample.next();val[0]"
   ]
  },
  {
   "cell_type": "code",
   "execution_count": 17,
   "id": "79337b12",
   "metadata": {
    "execution": {
     "iopub.execute_input": "2024-02-12T18:49:38.858376Z",
     "iopub.status.busy": "2024-02-12T18:49:38.858075Z",
     "iopub.status.idle": "2024-02-12T18:49:38.870841Z",
     "shell.execute_reply": "2024-02-12T18:49:38.868546Z"
    },
    "papermill": {
     "duration": 0.028052,
     "end_time": "2024-02-12T18:49:38.873126",
     "exception": false,
     "start_time": "2024-02-12T18:49:38.845074",
     "status": "completed"
    },
    "tags": []
   },
   "outputs": [],
   "source": [
    "from tensorflow.keras.models import Sequential\n",
    "from tensorflow.keras.layers import Conv3D, LSTM, Dense, Dropout, Bidirectional, MaxPool3D,Activation, Reshape, SpatialDropout3D, BatchNormalization, TimeDistributed, Flatten\n",
    "from tensorflow.keras.optimizers import Adam\n",
    "from tensorflow.keras.callbacks import ModelCheckpoint, LearningRateScheduler"
   ]
  },
  {
   "cell_type": "code",
   "execution_count": 18,
   "id": "9dd65846",
   "metadata": {
    "execution": {
     "iopub.execute_input": "2024-02-12T18:49:38.896313Z",
     "iopub.status.busy": "2024-02-12T18:49:38.896065Z",
     "iopub.status.idle": "2024-02-12T18:49:38.902135Z",
     "shell.execute_reply": "2024-02-12T18:49:38.900431Z"
    },
    "papermill": {
     "duration": 0.021052,
     "end_time": "2024-02-12T18:49:38.905095",
     "exception": false,
     "start_time": "2024-02-12T18:49:38.884043",
     "status": "completed"
    },
    "tags": []
   },
   "outputs": [],
   "source": [
    "def scheduler(epoch,lr):\n",
    "    if epoch < 30:\n",
    "        return lr\n",
    "    else:\n",
    "        return lr * tf.math.exp(-0.1)"
   ]
  },
  {
   "cell_type": "code",
   "execution_count": 19,
   "id": "9d1293b2",
   "metadata": {
    "execution": {
     "iopub.execute_input": "2024-02-12T18:49:38.933081Z",
     "iopub.status.busy": "2024-02-12T18:49:38.932819Z",
     "iopub.status.idle": "2024-02-12T18:49:38.942024Z",
     "shell.execute_reply": "2024-02-12T18:49:38.940382Z"
    },
    "papermill": {
     "duration": 0.024057,
     "end_time": "2024-02-12T18:49:38.944710",
     "exception": false,
     "start_time": "2024-02-12T18:49:38.920653",
     "status": "completed"
    },
    "tags": []
   },
   "outputs": [],
   "source": [
    "class ProduceExample(tf.keras.callbacks.Callback):\n",
    "    def __init__(self, dataset) -> None:\n",
    "        self.dataset = dataset.as_numpy_iterator()\n",
    "    def on_epoch_end(self, epoch, logs=None) -> None:\n",
    "        data = self.dataset.next()\n",
    "        yhat = self.model.predict(data[0])\n",
    "        decoded = tf.keras.backend.ctc_decode(yhat, [75,75], greedy=False)[0][0].numpy()\n",
    "        for x in range(len(yhat)):\n",
    "            print('Original:', tf.strings.reduce_join(num_to_char(data[1][x])).numpy().decode('utf-8'))\n",
    "            print('Prediction:', tf.strings.reduce_join(num_to_char(decoded[x])).numpy().decode('utf-8'))\n",
    "            print('~'*100)"
   ]
  },
  {
   "cell_type": "code",
   "execution_count": 20,
   "id": "22c48639",
   "metadata": {
    "execution": {
     "iopub.execute_input": "2024-02-12T18:49:38.972937Z",
     "iopub.status.busy": "2024-02-12T18:49:38.972690Z",
     "iopub.status.idle": "2024-02-12T18:49:38.979667Z",
     "shell.execute_reply": "2024-02-12T18:49:38.978777Z"
    },
    "papermill": {
     "duration": 0.022033,
     "end_time": "2024-02-12T18:49:38.981813",
     "exception": false,
     "start_time": "2024-02-12T18:49:38.959780",
     "status": "completed"
    },
    "tags": []
   },
   "outputs": [],
   "source": [
    "def CTCLoss(y_true,y_pred):\n",
    "    batch_len = tf.cast(tf.shape(y_true)[0], dtype=\"int64\")\n",
    "    input_length = tf.cast(tf.shape(y_pred)[1],dtype=\"int64\")\n",
    "    label_length = tf.cast(tf.shape(y_true)[1],dtype=\"int64\")\n",
    "    input_length = input_length * tf.ones(shape=(batch_len, 1), dtype=\"int64\")\n",
    "    label_length = label_length * tf.ones(shape=(batch_len, 1), dtype=\"int64\")\n",
    "    loss = tf.keras.backend.ctc_batch_cost(y_true, y_pred, input_length, label_length)\n",
    "    return loss"
   ]
  },
  {
   "cell_type": "code",
   "execution_count": 21,
   "id": "7c67d043",
   "metadata": {
    "execution": {
     "iopub.execute_input": "2024-02-12T18:49:39.005044Z",
     "iopub.status.busy": "2024-02-12T18:49:39.004804Z",
     "iopub.status.idle": "2024-02-12T18:49:41.399851Z",
     "shell.execute_reply": "2024-02-12T18:49:41.398745Z"
    },
    "papermill": {
     "duration": 2.409464,
     "end_time": "2024-02-12T18:49:41.402255",
     "exception": false,
     "start_time": "2024-02-12T18:49:38.992791",
     "status": "completed"
    },
    "tags": []
   },
   "outputs": [],
   "source": [
    "model = Sequential()\n",
    "model.add(Conv3D(128, 3, input_shape=(75,46,140,1), padding='same'))\n",
    "model.add(Activation('relu'))\n",
    "model.add(MaxPool3D((1,2,2)))\n",
    "\n",
    "model.add(Conv3D(256, 3, padding='same'))\n",
    "model.add(Activation('relu'))\n",
    "model.add(MaxPool3D((1,2,2)))\n",
    "\n",
    "model.add(Conv3D(75, 3, padding='same'))\n",
    "model.add(Activation('relu'))\n",
    "model.add(MaxPool3D((1,2,2)))\n",
    "\n",
    "model.add(TimeDistributed(Flatten()))\n",
    "\n",
    "model.add(Bidirectional(LSTM(128, kernel_initializer='Orthogonal', return_sequences=True)))\n",
    "model.add(Dropout(.5))\n",
    "\n",
    "model.add(Bidirectional(LSTM(128, kernel_initializer='Orthogonal', return_sequences=True)))\n",
    "model.add(Dropout(.5))\n",
    "\n",
    "model.add(Dense(char_to_num.vocabulary_size()+1, kernel_initializer='he_normal', activation='softmax'))"
   ]
  },
  {
   "cell_type": "code",
   "execution_count": 22,
   "id": "ad619d7f",
   "metadata": {
    "execution": {
     "iopub.execute_input": "2024-02-12T18:49:41.427760Z",
     "iopub.status.busy": "2024-02-12T18:49:41.426963Z",
     "iopub.status.idle": "2024-02-12T18:49:41.431715Z",
     "shell.execute_reply": "2024-02-12T18:49:41.430606Z"
    },
    "papermill": {
     "duration": 0.020474,
     "end_time": "2024-02-12T18:49:41.434127",
     "exception": false,
     "start_time": "2024-02-12T18:49:41.413653",
     "status": "completed"
    },
    "tags": []
   },
   "outputs": [],
   "source": [
    "# checkpoint_callback = ModelCheckpoint(os.path.join('models','checkpoint'), monitor='loss', save_weights_only=True)\n",
    "# schedule_callback = LearningRateScheduler(scheduler)\n",
    "# example_callback = ProduceExample(test)"
   ]
  },
  {
   "cell_type": "code",
   "execution_count": 23,
   "id": "3f5c8b0a",
   "metadata": {
    "execution": {
     "iopub.execute_input": "2024-02-12T18:49:41.457701Z",
     "iopub.status.busy": "2024-02-12T18:49:41.457439Z",
     "iopub.status.idle": "2024-02-12T18:49:41.461148Z",
     "shell.execute_reply": "2024-02-12T18:49:41.460247Z"
    },
    "papermill": {
     "duration": 0.017307,
     "end_time": "2024-02-12T18:49:41.463051",
     "exception": false,
     "start_time": "2024-02-12T18:49:41.445744",
     "status": "completed"
    },
    "tags": []
   },
   "outputs": [],
   "source": [
    "# model.compile(optimizer=Adam(learning_rate=0.0001), loss=CTCLoss)"
   ]
  },
  {
   "cell_type": "code",
   "execution_count": 24,
   "id": "3fe3f45a",
   "metadata": {
    "execution": {
     "iopub.execute_input": "2024-02-12T18:49:41.485970Z",
     "iopub.status.busy": "2024-02-12T18:49:41.485689Z",
     "iopub.status.idle": "2024-02-12T18:49:41.489112Z",
     "shell.execute_reply": "2024-02-12T18:49:41.488369Z"
    },
    "papermill": {
     "duration": 0.01696,
     "end_time": "2024-02-12T18:49:41.490988",
     "exception": false,
     "start_time": "2024-02-12T18:49:41.474028",
     "status": "completed"
    },
    "tags": []
   },
   "outputs": [],
   "source": [
    "# model.fit(train,validation_data=test,epochs=1,callbacks=[checkpoint_callback,schedule_callback,example_callback])"
   ]
  },
  {
   "cell_type": "code",
   "execution_count": 25,
   "id": "d5a387a5",
   "metadata": {
    "execution": {
     "iopub.execute_input": "2024-02-12T18:49:41.513449Z",
     "iopub.status.busy": "2024-02-12T18:49:41.513155Z",
     "iopub.status.idle": "2024-02-12T18:49:41.517180Z",
     "shell.execute_reply": "2024-02-12T18:49:41.516385Z"
    },
    "papermill": {
     "duration": 0.017409,
     "end_time": "2024-02-12T18:49:41.519062",
     "exception": false,
     "start_time": "2024-02-12T18:49:41.501653",
     "status": "completed"
    },
    "tags": []
   },
   "outputs": [],
   "source": [
    "# from tensorflow.python.ops.numpy_ops import np_config\n",
    "# np_config.enable_numpy_behavior()\n",
    "# # Load data from the file path\n",
    "# frames, alignments = load_data(tf.convert_to_tensor(path))\n",
    "\n",
    "# # Ensure the data matches the expected input shape\n",
    "# frames = tf.reshape(frames, (1, 75, 46, 140, 1))\n",
    "\n",
    "# # Predict using the model\n",
    "# predictions = model.predict(frames)\n"
   ]
  },
  {
   "cell_type": "code",
   "execution_count": 26,
   "id": "23afff97",
   "metadata": {
    "execution": {
     "iopub.execute_input": "2024-02-12T18:49:41.543822Z",
     "iopub.status.busy": "2024-02-12T18:49:41.543207Z",
     "iopub.status.idle": "2024-02-12T18:49:41.548129Z",
     "shell.execute_reply": "2024-02-12T18:49:41.547391Z"
    },
    "papermill": {
     "duration": 0.020051,
     "end_time": "2024-02-12T18:49:41.550159",
     "exception": false,
     "start_time": "2024-02-12T18:49:41.530108",
     "status": "completed"
    },
    "tags": []
   },
   "outputs": [],
   "source": [
    "# class AccuracyMetrics(tf.keras.callbacks.Callback):\n",
    "#     def __init__(self, dataset) -> None:\n",
    "#         self.dataset = dataset.as_numpy_iterator()\n",
    "#         self.predictions = []\n",
    "#         self.ground_truth = []\n",
    "\n",
    "#     def on_epoch_end(self, epoch, logs=None) -> None:\n",
    "#         data = self.dataset.next()\n",
    "#         yhat = self.model.predict(data[0])\n",
    "#         decoded = tf.keras.backend.ctc_decode(yhat, [75, 75], greedy=False)[0][0].numpy()\n",
    "#         self.predictions.extend(decoded)\n",
    "#         self.ground_truth.extend(data[1])\n",
    "\n",
    "# # ... (your previous code)\n",
    "\n",
    "# accuracy_metrics = AccuracyMetrics(test)  # Create an instance of AccuracyMetrics\n",
    "\n",
    "# model.fit(train, validation_data=test, epochs=5, callbacks=[checkpoint_callback, schedule_callback, accuracy_metrics])\n",
    "\n",
    "# # After training, compute accuracy or any other metric using predictions and ground truth\n",
    "# predictions = accuracy_metrics.predictions\n",
    "# ground_truth = accuracy_metrics.ground_truth\n",
    "\n",
    "# # Compute accuracy (or any other suitable metric) here\n",
    "# # For example, using sequence_accuracy from Levenshtein distance:\n",
    "# from nltk.metrics.distance import edit_distance\n",
    "\n",
    "# def compute_accuracy(preds, truths):\n",
    "#     acc = sum(edit_distance(pred, truth) for pred, truth in zip(preds, truths)) / len(preds)\n",
    "#     return 1 - acc\n",
    "\n",
    "# accuracy = compute_accuracy(predictions, ground_truth)\n",
    "# print(\"Accuracy:\", accuracy)\n"
   ]
  },
  {
   "cell_type": "code",
   "execution_count": 27,
   "id": "7010b683",
   "metadata": {
    "execution": {
     "iopub.execute_input": "2024-02-12T18:49:41.577517Z",
     "iopub.status.busy": "2024-02-12T18:49:41.577120Z",
     "iopub.status.idle": "2024-02-12T18:49:41.585271Z",
     "shell.execute_reply": "2024-02-12T18:49:41.583809Z"
    },
    "papermill": {
     "duration": 0.024731,
     "end_time": "2024-02-12T18:49:41.588608",
     "exception": false,
     "start_time": "2024-02-12T18:49:41.563877",
     "status": "completed"
    },
    "tags": []
   },
   "outputs": [],
   "source": [
    "# import matplotlib.pyplot as plt\n",
    "# import tensorflow as tf\n",
    "# from nltk.metrics.distance import edit_distance\n",
    "\n",
    "# # Définir une classe de rappel pour calculer et enregistrer l'accuracy à chaque époque\n",
    "# class AccuracyCallback(tf.keras.callbacks.Callback):\n",
    "#     def __init__(self, validation_data):\n",
    "#         self.validation_data = validation_data.prefetch(tf.data.AUTOTUNE).as_numpy_iterator()\n",
    "#         self.accuracies = []\n",
    "\n",
    "#     def on_epoch_end(self, epoch, logs=None):\n",
    "#         data = next(self.validation_data)\n",
    "#         predictions = self.model.predict(data[0])\n",
    "#         decoded = tf.keras.backend.ctc_decode(predictions, [75, 75], greedy=False)[0][0].numpy()\n",
    "#         ground_truth = data[1]\n",
    "\n",
    "#         accuracy = compute_accuracy(decoded, ground_truth)\n",
    "#         print(f'Accuracy at epoch {epoch + 1}: {accuracy * 100:.2f}%')\n",
    "#         self.accuracies.append(accuracy)\n",
    "\n",
    "# # Fonction pour calculer l'accuracy\n",
    "# def compute_accuracy(preds, truths):\n",
    "#     acc = sum(edit_distance(pred, truth) for pred, truth in zip(preds, truths)) / len(preds)\n",
    "#     return 1 - acc\n",
    "\n",
    "# # Chargement des données\n",
    "# data = tf.data.Dataset.list_files('/kaggle/input/lipreading/data/s1/*.mpg')\n",
    "# data = data.shuffle(500, reshuffle_each_iteration=False)\n",
    "# data = data.map(mappable_function)\n",
    "\n",
    "# # Division des données en ensembles d'entraînement et de test\n",
    "# train_size = 450\n",
    "# train_data = data.take(train_size)\n",
    "# test_data = data.skip(train_size)\n",
    "\n",
    "# # Création des lots (batches) de données\n",
    "# train_data = train_data.padded_batch(2, padded_shapes=([75, None, None, None], [40]))\n",
    "# test_data = test_data.padded_batch(2, padded_shapes=([75, None, None, None], [40]))\n",
    "\n",
    "# # Préchargement des données\n",
    "# train_data = train_data.prefetch(tf.data.AUTOTUNE)\n",
    "# test_data = test_data.prefetch(tf.data.AUTOTUNE)\n",
    "\n",
    "# # Utiliser la fonction de perte CTCLoss avec le rappel AccuracyCallback\n",
    "# model.compile(optimizer='adam', loss=CTCLoss)\n",
    "# accuracy_callback = AccuracyCallback(validation_data=test_data)  # Utiliser l'ensemble de test\n",
    "\n",
    "# history = model.fit(train_data, validation_data=test_data, epochs=51, callbacks=[accuracy_callback])\n",
    "\n",
    "# # Plotter les courbes d'accuracy\n",
    "# plt.plot(accuracy_callback.accuracies, label='Validation Accuracy')\n",
    "# plt.xlabel('Nombre d\\'époques')\n",
    "# plt.ylabel('Accuracy')\n",
    "# plt.title('Évolution de l\\'accuracy pendant l\\'entraînement')\n",
    "# plt.legend()\n",
    "# plt.show()\n"
   ]
  },
  {
   "cell_type": "code",
   "execution_count": 28,
   "id": "d3f4de80",
   "metadata": {
    "execution": {
     "iopub.execute_input": "2024-02-12T18:49:41.617430Z",
     "iopub.status.busy": "2024-02-12T18:49:41.617123Z",
     "iopub.status.idle": "2024-02-12T18:49:41.621371Z",
     "shell.execute_reply": "2024-02-12T18:49:41.620494Z"
    },
    "papermill": {
     "duration": 0.020434,
     "end_time": "2024-02-12T18:49:41.623177",
     "exception": false,
     "start_time": "2024-02-12T18:49:41.602743",
     "status": "completed"
    },
    "tags": []
   },
   "outputs": [],
   "source": [
    "# class AccuracyCallback(tf.keras.callbacks.Callback):\n",
    "#     def __init__(self, validation_data):\n",
    "#         self.validation_data = validation_data.prefetch(tf.data.AUTOTUNE).as_numpy_iterator()\n",
    "#         self.accuracies = []\n",
    "\n",
    "#     def on_epoch_end(self, epoch, logs=None):\n",
    "#         data = next(self.validation_data)\n",
    "#         predictions = self.model.predict(data[0])\n",
    "#         decoded = tf.keras.backend.ctc_decode(predictions, [75, 75], greedy=False)[0][0].numpy()\n",
    "#         ground_truth = data[1]\n",
    "\n",
    "#         accuracy = compute_accuracy(decoded, ground_truth)\n",
    "#         print(f'Accuracy at epoch {epoch + 1}: {accuracy * 100:.2f}%')\n",
    "#         self.accuracies.append(accuracy)\n",
    "\n",
    "# # Fonction pour calculer l'accuracy\n",
    "# def compute_accuracy(preds, truths):\n",
    "#     total_samples = len(preds)\n",
    "#     correct_samples = sum(1 for pred, truth in zip(preds, truths) if pred == truth)\n",
    "#     accuracy = correct_samples / total_samples\n",
    "#     return accuracy"
   ]
  },
  {
   "cell_type": "code",
   "execution_count": 29,
   "id": "d03b83bf",
   "metadata": {
    "execution": {
     "iopub.execute_input": "2024-02-12T18:49:41.645960Z",
     "iopub.status.busy": "2024-02-12T18:49:41.645691Z",
     "iopub.status.idle": "2024-02-12T18:49:41.653569Z",
     "shell.execute_reply": "2024-02-12T18:49:41.652681Z"
    },
    "papermill": {
     "duration": 0.02143,
     "end_time": "2024-02-12T18:49:41.655445",
     "exception": false,
     "start_time": "2024-02-12T18:49:41.634015",
     "status": "completed"
    },
    "tags": []
   },
   "outputs": [],
   "source": [
    "# import matplotlib.pyplot as plt\n",
    "# import tensorflow as tf\n",
    "# from nltk.metrics.distance import edit_distance\n",
    "\n",
    "# # Définir une classe de rappel pour calculer et enregistrer l'accuracy à chaque époque\n",
    "# class AccuracyCallback(tf.keras.callbacks.Callback):\n",
    "#     def __init__(self, validation_data, training_data):\n",
    "#         self.validation_data = validation_data.prefetch(tf.data.AUTOTUNE).as_numpy_iterator()\n",
    "#         self.training_data = training_data.prefetch(tf.data.AUTOTUNE).as_numpy_iterator()\n",
    "#         self.accuracies = []\n",
    "#         self.training_accuracies = []  # Nouvelle liste pour l'accuracy d'entraînement\n",
    "#         self.training_losses = []      # Nouvelle liste pour la perte d'entraînement\n",
    "\n",
    "#     def on_epoch_end(self, epoch, logs=None):\n",
    "#         # Validation Accuracy\n",
    "#         validation_data = next(self.validation_data)\n",
    "#         predictions = self.model.predict(validation_data[0])\n",
    "#         decoded = tf.keras.backend.ctc_decode(predictions, [75, 75], greedy=False)[0][0].numpy()\n",
    "#         ground_truth = validation_data[1]\n",
    "\n",
    "#         accuracy = compute_accuracy(decoded, ground_truth)\n",
    "#         print(f'Validation Accuracy at epoch {epoch + 1}: {accuracy * 100:.2f}%')\n",
    "#         self.accuracies.append(accuracy)\n",
    "\n",
    "#         # Training Accuracy and Loss\n",
    "#         training_data = next(self.training_data)\n",
    "#         training_predictions = self.model.predict(training_data[0])\n",
    "#         training_decoded = tf.keras.backend.ctc_decode(training_predictions, [75, 75], greedy=False)[0][0].numpy()\n",
    "#         training_ground_truth = training_data[1]\n",
    "\n",
    "#         training_accuracy = compute_accuracy(training_decoded, training_ground_truth)\n",
    "#         training_loss = self.model.evaluate(training_data[0], training_data[1], verbose=0)\n",
    "\n",
    "#         print(f'Training Accuracy at epoch {epoch + 1}: {training_accuracy }')\n",
    "#         print(f'Training Loss at epoch {epoch + 1}: {training_loss}')\n",
    "\n",
    "#         self.training_accuracies.append(training_accuracy)\n",
    "#         self.training_losses.append(training_loss)\n",
    "\n",
    "# # Fonction pour calculer l'accuracy\n",
    "# def compute_accuracy(preds, truths):\n",
    "#     acc = sum(edit_distance(pred, truth) for pred, truth in zip(preds, truths)) / len(preds)\n",
    "#     return (1 - acc)\n",
    "\n",
    "# # Chargement des données\n",
    "# data = tf.data.Dataset.list_files('/kaggle/input/lipreading/data/s1/*.mpg')\n",
    "# data = data.shuffle(500, reshuffle_each_iteration=False)\n",
    "# data = data.map(mappable_function)\n",
    "\n",
    "# # Division des données en ensembles d'entraînement et de test\n",
    "# train_size = 450\n",
    "# train_data = data.take(train_size)\n",
    "# test_data = data.skip(train_size)\n",
    "\n",
    "# # Création des lots (batches) de données\n",
    "# train_data = train_data.padded_batch(2, padded_shapes=([75, None, None, None], [40]))\n",
    "# test_data = test_data.padded_batch(2, padded_shapes=([75, None, None, None], [40]))\n",
    "\n",
    "# # Préchargement des données\n",
    "# train_data = train_data.prefetch(tf.data.AUTOTUNE)\n",
    "# test_data = test_data.prefetch(tf.data.AUTOTUNE)\n",
    "# # Utiliser la fonction de perte CTCLoss avec le rappel AccuracyCallback\n",
    "# # model.compile(optimizer='adam', loss=CTCLoss)\n",
    "# # accuracy_callback = AccuracyCallback(validation_data=test_data, training_data=train_data)  # Utiliser l'ensemble de test et d'entraînement\n",
    "\n",
    "# # history = model.fit(train_data, validation_data=test_data, epochs=1, callbacks=[accuracy_callback])\n",
    "\n",
    "# # # Plotter les courbes d'accuracy\n",
    "# # plt.plot(accuracy_callback.accuracies, label='Validation Accuracy')\n",
    "# # plt.plot(accuracy_callback.training_accuracies, label='Training Accuracy')  # Nouvelle courbe pour l'accuracy d'entraînement\n",
    "# # plt.xlabel('Nombre d\\'époques')\n",
    "# # plt.ylabel('Accuracy')\n",
    "# # plt.title('Évolution de l\\'accuracy pendant l\\'entraînement')\n",
    "# # plt.legend()\n",
    "# # plt.show()\n",
    "\n",
    "# # # Plotter les courbes de perte\n",
    "# # plt.plot(history.history['loss'], label='Training Loss')  # Utilise les informations de history pour la perte d'entraînement\n",
    "# # plt.xlabel('Nombre d\\'époques')\n",
    "# # plt.ylabel('Perte')\n",
    "# # plt.title('Évolution de la perte d\\'entraînement pendant l\\'entraînement')\n",
    "# # plt.legend()\n",
    "# # plt.show()\n",
    "# # Utiliser la fonction de perte CTCLoss avec le rappel AccuracyCallback\n",
    "# model.compile(optimizer='adam', loss=CTCLoss)\n",
    "# accuracy_callback = AccuracyCallback(validation_data=test_data)  # Utiliser l'ensemble de test\n",
    "\n",
    "# history = model.fit(train_data, validation_data=test_data, epochs=1, callbacks=[accuracy_callback])\n",
    "\n",
    "# # Plotter les courbes d'accuracy\n",
    "# plt.plot(accuracy_callback.accuracies, label='Validation Accuracy')\n",
    "# plt.xlabel('Nombre d\\'époques')\n",
    "# plt.ylabel('Accuracy')\n",
    "# plt.title('Évolution de l\\'accuracy pendant l\\'entraînement')\n",
    "# plt.legend()\n",
    "# plt.show()"
   ]
  },
  {
   "cell_type": "code",
   "execution_count": 30,
   "id": "4694d0e2",
   "metadata": {
    "execution": {
     "iopub.execute_input": "2024-02-12T18:49:41.678436Z",
     "iopub.status.busy": "2024-02-12T18:49:41.678153Z",
     "iopub.status.idle": "2024-02-12T18:49:41.684167Z",
     "shell.execute_reply": "2024-02-12T18:49:41.683367Z"
    },
    "papermill": {
     "duration": 0.019755,
     "end_time": "2024-02-12T18:49:41.686026",
     "exception": false,
     "start_time": "2024-02-12T18:49:41.666271",
     "status": "completed"
    },
    "tags": []
   },
   "outputs": [],
   "source": [
    "# import matplotlib.pyplot as plt\n",
    "# import tensorflow as tf\n",
    "# from nltk.metrics.distance import edit_distance\n",
    "\n",
    "# # Définir une classe de rappel pour calculer et enregistrer l'accuracy à chaque époque\n",
    "# class AccuracyCallback(tf.keras.callbacks.Callback):\n",
    "#     def __init__(self, validation_data):\n",
    "#         self.validation_data = validation_data.prefetch(tf.data.AUTOTUNE).as_numpy_iterator()\n",
    "#         self.accuracies = []\n",
    "\n",
    "#     def on_epoch_end(self, epoch, logs=None):\n",
    "#         # Validation Accuracy\n",
    "#         validation_data = next(self.validation_data)\n",
    "#         predictions = self.model.predict(validation_data[0])\n",
    "#         decoded = tf.keras.backend.ctc_decode(predictions, [75, 75], greedy=False)[0][0].numpy()\n",
    "#         ground_truth = validation_data[1]\n",
    "\n",
    "#         accuracy = compute_accuracy_letter_by_letter(decoded, ground_truth)\n",
    "#         print(f'Validation Accuracy at epoch {epoch + 1}: {accuracy * 100:.2f}%')\n",
    "#         self.accuracies.append(accuracy)\n",
    "\n",
    "# # Fonction pour calculer l'accuracy lettre par lettre\n",
    "# def compute_accuracy_letter_by_letter(preds, truths):\n",
    "#     total_letters = 0\n",
    "#     correct_letters = 0\n",
    "\n",
    "#     for pred, truth in zip(preds, truths):\n",
    "#         for p, t in zip(pred, truth):\n",
    "#             total_letters += 1\n",
    "#             if p == t:\n",
    "#                 correct_letters += 1\n",
    "\n",
    "#     accuracy = correct_letters / total_letters if total_letters > 0 else 0\n",
    "#     return accuracy\n",
    "\n",
    "# # Chargement des données (assurez-vous de définir la fonction mappable_function)\n",
    "# data = tf.data.Dataset.list_files('/kaggle/input/lipreading/data/s1/*.mpg')\n",
    "# data = data.shuffle(500, reshuffle_each_iteration=False)\n",
    "# data = data.map(mappable_function)\n",
    "\n",
    "# # Division des données en ensembles d'entraînement et de test\n",
    "# train_size = 450\n",
    "# train_data = data.take(train_size)\n",
    "# test_data = data.skip(train_size)\n",
    "\n",
    "# # Création des lots (batches) de données\n",
    "# train_data = train_data.padded_batch(2, padded_shapes=([75, None, None, None], [40]))\n",
    "# test_data = test_data.padded_batch(2, padded_shapes=([75, None, None, None], [40]))\n",
    "\n",
    "# # Préchargement des données\n",
    "# train_data = train_data.prefetch(tf.data.AUTOTUNE)\n",
    "# test_data = test_data.prefetch(tf.data.AUTOTUNE)\n",
    "# # Utiliser la fonction de perte CTCLoss avec le rappel AccuracyCallback\n",
    "# model.compile(optimizer='adam', loss=CTCLoss)  # Assurez-vous de remplacer 'ctc_loss_function' par votre fonction CTCLoss\n",
    "# accuracy_callback = AccuracyCallback(validation_data=test_data)\n",
    "\n",
    "# history = model.fit(train_data, validation_data=test_data, epochs=1, callbacks=[accuracy_callback])\n",
    "\n",
    "# # Plotter les courbes d'accuracy\n",
    "# plt.plot(accuracy_callback.accuracies, label='Validation Accuracy')\n",
    "# plt.xlabel('Nombre d\\'époques')\n",
    "# plt.ylabel('Accuracy')\n",
    "# plt.title('Évolution de l\\'accuracy pendant l\\'entraînement')\n",
    "# plt.legend()\n",
    "# plt.show()\n"
   ]
  },
  {
   "cell_type": "code",
   "execution_count": 31,
   "id": "ab676944",
   "metadata": {
    "execution": {
     "iopub.execute_input": "2024-02-12T18:49:41.708954Z",
     "iopub.status.busy": "2024-02-12T18:49:41.708216Z",
     "iopub.status.idle": "2024-02-13T00:29:32.263879Z",
     "shell.execute_reply": "2024-02-13T00:29:32.262251Z"
    },
    "papermill": {
     "duration": 20391.170191,
     "end_time": "2024-02-13T00:29:32.866861",
     "exception": false,
     "start_time": "2024-02-12T18:49:41.696670",
     "status": "completed"
    },
    "tags": []
   },
   "outputs": [
    {
     "name": "stdout",
     "output_type": "stream",
     "text": [
      "Epoch 1/50\n"
     ]
    },
    {
     "name": "stderr",
     "output_type": "stream",
     "text": [
      "WARNING: All log messages before absl::InitializeLog() is called are written to STDERR\n",
      "I0000 00:00:1707763794.173044      69 device_compiler.h:186] Compiled cluster using XLA!  This line is logged at most once for the lifetime of the process.\n"
     ]
    },
    {
     "name": "stdout",
     "output_type": "stream",
     "text": [
      "223/225 [============================>.] - ETA: 1s - loss: 83.1880"
     ]
    },
    {
     "name": "stderr",
     "output_type": "stream",
     "text": [
      "[mpeg1video @ 0x7e0c6c059b00] ac-tex damaged at 22 17\n",
      "[mpeg1video @ 0x7e0c6c059b00] Warning MVs not available\n"
     ]
    },
    {
     "name": "stdout",
     "output_type": "stream",
     "text": [
      "225/225 [==============================] - ETA: 0s - loss: 83.1377"
     ]
    },
    {
     "name": "stderr",
     "output_type": "stream",
     "text": [
      "[mpeg1video @ 0x7e0dd016b240] ac-tex damaged at 22 17\n",
      "[mpeg1video @ 0x7e0dd016b240] Warning MVs not available\n",
      "[mpeg1video @ 0x7e0864235840] ac-tex damaged at 22 17\n",
      "[mpeg1video @ 0x7e0864235840] Warning MVs not available\n"
     ]
    },
    {
     "name": "stdout",
     "output_type": "stream",
     "text": [
      "1/1 [==============================] - 2s 2s/step\n",
      "Validation Accuracy at epoch 1: 7.50%\n",
      "225/225 [==============================] - 539s 2s/step - loss: 83.1377 - val_loss: 73.1525\n",
      "Epoch 2/50\n",
      "225/225 [==============================] - ETA: 0s - loss: 71.9302"
     ]
    },
    {
     "name": "stderr",
     "output_type": "stream",
     "text": [
      "[mpeg1video @ 0x7e085c071900] ac-tex damaged at 22 17\n",
      "[mpeg1video @ 0x7e085c071900] Warning MVs not available\n"
     ]
    },
    {
     "name": "stdout",
     "output_type": "stream",
     "text": [
      "1/1 [==============================] - 0s 122ms/step\n",
      "Validation Accuracy at epoch 2: 6.25%\n",
      "225/225 [==============================] - 406s 2s/step - loss: 71.9302 - val_loss: 69.0609\n",
      "Epoch 3/50\n",
      "225/225 [==============================] - ETA: 0s - loss: 68.6540"
     ]
    },
    {
     "name": "stderr",
     "output_type": "stream",
     "text": [
      "[mpeg1video @ 0x7e0db8022a80] ac-tex damaged at 22 17\n",
      "[mpeg1video @ 0x7e0db8022a80] Warning MVs not available\n"
     ]
    },
    {
     "name": "stdout",
     "output_type": "stream",
     "text": [
      "1/1 [==============================] - 0s 121ms/step\n",
      "Validation Accuracy at epoch 3: 5.00%\n",
      "225/225 [==============================] - 409s 2s/step - loss: 68.6540 - val_loss: 63.6387\n",
      "Epoch 4/50\n",
      "225/225 [==============================] - ETA: 0s - loss: 64.8720"
     ]
    },
    {
     "name": "stderr",
     "output_type": "stream",
     "text": [
      "[mpeg1video @ 0x7e0cc8012840] ac-tex damaged at 22 17\n",
      "[mpeg1video @ 0x7e0cc8012840] Warning MVs not available\n"
     ]
    },
    {
     "name": "stdout",
     "output_type": "stream",
     "text": [
      "1/1 [==============================] - 0s 117ms/step\n",
      "Validation Accuracy at epoch 4: 10.00%\n",
      "225/225 [==============================] - 404s 2s/step - loss: 64.8720 - val_loss: 61.4391\n",
      "Epoch 5/50\n",
      "199/225 [=========================>....] - ETA: 18s - loss: 62.8495"
     ]
    },
    {
     "name": "stderr",
     "output_type": "stream",
     "text": [
      "[mpeg1video @ 0x7e0848050f00] ac-tex damaged at 22 17\n",
      "[mpeg1video @ 0x7e0848050f00] Warning MVs not available\n"
     ]
    },
    {
     "name": "stdout",
     "output_type": "stream",
     "text": [
      "225/225 [==============================] - ETA: 0s - loss: 62.8468"
     ]
    },
    {
     "name": "stderr",
     "output_type": "stream",
     "text": [
      "[mpeg1video @ 0x7e0c64a11bc0] ac-tex damaged at 22 17\n",
      "[mpeg1video @ 0x7e0c64a11bc0] Warning MVs not available\n"
     ]
    },
    {
     "name": "stdout",
     "output_type": "stream",
     "text": [
      "1/1 [==============================] - 0s 116ms/step\n",
      "Validation Accuracy at epoch 5: 2.50%\n",
      "225/225 [==============================] - 406s 2s/step - loss: 62.8468 - val_loss: 58.1474\n",
      "Epoch 6/50\n",
      "198/225 [=========================>....] - ETA: 19s - loss: 60.6605"
     ]
    },
    {
     "name": "stderr",
     "output_type": "stream",
     "text": [
      "[mpeg1video @ 0x7e0db0055cc0] ac-tex damaged at 22 17\n",
      "[mpeg1video @ 0x7e0db0055cc0] Warning MVs not available\n"
     ]
    },
    {
     "name": "stdout",
     "output_type": "stream",
     "text": [
      "225/225 [==============================] - ETA: 0s - loss: 60.2452"
     ]
    },
    {
     "name": "stderr",
     "output_type": "stream",
     "text": [
      "[mpeg1video @ 0x7e084c08bd40] ac-tex damaged at 22 17\n",
      "[mpeg1video @ 0x7e084c08bd40] Warning MVs not available\n"
     ]
    },
    {
     "name": "stdout",
     "output_type": "stream",
     "text": [
      "1/1 [==============================] - 0s 130ms/step\n",
      "Validation Accuracy at epoch 6: 8.75%\n",
      "225/225 [==============================] - 401s 2s/step - loss: 60.2452 - val_loss: 53.5935\n",
      "Epoch 7/50\n",
      " 65/225 [=======>......................] - ETA: 1:52 - loss: 55.5667"
     ]
    },
    {
     "name": "stderr",
     "output_type": "stream",
     "text": [
      "[mpeg1video @ 0x7e0c940c9b80] ac-tex damaged at 22 17\n",
      "[mpeg1video @ 0x7e0c940c9b80] Warning MVs not available\n"
     ]
    },
    {
     "name": "stdout",
     "output_type": "stream",
     "text": [
      "225/225 [==============================] - ETA: 0s - loss: 55.4387"
     ]
    },
    {
     "name": "stderr",
     "output_type": "stream",
     "text": [
      "[mpeg1video @ 0x7e0dc40636c0] ac-tex damaged at 22 17\n",
      "[mpeg1video @ 0x7e0dc40636c0] Warning MVs not available\n"
     ]
    },
    {
     "name": "stdout",
     "output_type": "stream",
     "text": [
      "1/1 [==============================] - 0s 114ms/step\n",
      "Validation Accuracy at epoch 7: 3.75%\n",
      "225/225 [==============================] - 400s 2s/step - loss: 55.4387 - val_loss: 51.6647\n",
      "Epoch 8/50\n",
      "225/225 [==============================] - ETA: 0s - loss: 53.4453"
     ]
    },
    {
     "name": "stderr",
     "output_type": "stream",
     "text": [
      "[mpeg1video @ 0x7e0cc805a600] ac-tex damaged at 22 17\n",
      "[mpeg1video @ 0x7e0cc805a600] Warning MVs not available\n"
     ]
    },
    {
     "name": "stdout",
     "output_type": "stream",
     "text": [
      "1/1 [==============================] - 0s 124ms/step\n",
      "Validation Accuracy at epoch 8: 0.00%\n",
      "225/225 [==============================] - 412s 2s/step - loss: 53.4453 - val_loss: 49.3289\n",
      "Epoch 9/50\n",
      "225/225 [==============================] - ETA: 0s - loss: 51.8863"
     ]
    },
    {
     "name": "stderr",
     "output_type": "stream",
     "text": [
      "[mpeg1video @ 0x7e0c6c03b680] ac-tex damaged at 22 17\n",
      "[mpeg1video @ 0x7e0c6c03b680] Warning MVs not available\n"
     ]
    },
    {
     "name": "stdout",
     "output_type": "stream",
     "text": [
      "1/1 [==============================] - 0s 124ms/step\n",
      "Validation Accuracy at epoch 9: 6.25%\n",
      "225/225 [==============================] - 415s 2s/step - loss: 51.8863 - val_loss: 47.5859\n",
      "Epoch 10/50\n",
      "190/225 [========================>.....] - ETA: 24s - loss: 50.5040"
     ]
    },
    {
     "name": "stderr",
     "output_type": "stream",
     "text": [
      "[mpeg1video @ 0x7e0db0040a40] ac-tex damaged at 22 17\n",
      "[mpeg1video @ 0x7e0db0040a40] Warning MVs not available\n"
     ]
    },
    {
     "name": "stdout",
     "output_type": "stream",
     "text": [
      "225/225 [==============================] - ETA: 0s - loss: 50.5572"
     ]
    },
    {
     "name": "stderr",
     "output_type": "stream",
     "text": [
      "[mpeg1video @ 0x7e08600e92c0] ac-tex damaged at 22 17\n",
      "[mpeg1video @ 0x7e08600e92c0] Warning MVs not available\n"
     ]
    },
    {
     "name": "stdout",
     "output_type": "stream",
     "text": [
      "1/1 [==============================] - 0s 114ms/step\n",
      "Validation Accuracy at epoch 10: 8.75%\n",
      "225/225 [==============================] - 401s 2s/step - loss: 50.5572 - val_loss: 45.9717\n",
      "Epoch 11/50\n",
      "225/225 [==============================] - ETA: 0s - loss: 49.4932"
     ]
    },
    {
     "name": "stderr",
     "output_type": "stream",
     "text": [
      "[mpeg1video @ 0x7e0dc40287c0] ac-tex damaged at 22 17\n",
      "[mpeg1video @ 0x7e0dc40287c0] Warning MVs not available\n"
     ]
    },
    {
     "name": "stdout",
     "output_type": "stream",
     "text": [
      "1/1 [==============================] - 0s 114ms/step\n",
      "Validation Accuracy at epoch 11: 8.75%\n",
      "225/225 [==============================] - 399s 2s/step - loss: 49.4932 - val_loss: 44.3843\n",
      "Epoch 12/50\n",
      "225/225 [==============================] - ETA: 0s - loss: 48.1698"
     ]
    },
    {
     "name": "stderr",
     "output_type": "stream",
     "text": [
      "[mpeg1video @ 0x7e0cf0040300] ac-tex damaged at 22 17\n",
      "[mpeg1video @ 0x7e0cf0040300] Warning MVs not available\n"
     ]
    },
    {
     "name": "stdout",
     "output_type": "stream",
     "text": [
      "1/1 [==============================] - 0s 113ms/step\n",
      "Validation Accuracy at epoch 12: 7.50%\n",
      "225/225 [==============================] - 403s 2s/step - loss: 48.1698 - val_loss: 43.1282\n",
      "Epoch 13/50\n",
      "210/225 [===========================>..] - ETA: 10s - loss: 47.1034"
     ]
    },
    {
     "name": "stderr",
     "output_type": "stream",
     "text": [
      "[mpeg1video @ 0x7e08481adac0] ac-tex damaged at 22 17\n",
      "[mpeg1video @ 0x7e08481adac0] Warning MVs not available\n"
     ]
    },
    {
     "name": "stdout",
     "output_type": "stream",
     "text": [
      "225/225 [==============================] - ETA: 0s - loss: 47.0269"
     ]
    },
    {
     "name": "stderr",
     "output_type": "stream",
     "text": [
      "[mpeg1video @ 0x7e0c70bc4bc0] ac-tex damaged at 22 17\n",
      "[mpeg1video @ 0x7e0c70bc4bc0] Warning MVs not available\n"
     ]
    },
    {
     "name": "stdout",
     "output_type": "stream",
     "text": [
      "1/1 [==============================] - 0s 118ms/step\n",
      "Validation Accuracy at epoch 13: 6.25%\n",
      "225/225 [==============================] - 402s 2s/step - loss: 47.0269 - val_loss: 41.6747\n",
      "Epoch 14/50\n",
      "189/225 [========================>.....] - ETA: 25s - loss: 46.3807"
     ]
    },
    {
     "name": "stderr",
     "output_type": "stream",
     "text": [
      "[mpeg1video @ 0x7e0dbc02c6c0] ac-tex damaged at 22 17\n",
      "[mpeg1video @ 0x7e0dbc02c6c0] Warning MVs not available\n"
     ]
    },
    {
     "name": "stdout",
     "output_type": "stream",
     "text": [
      "225/225 [==============================] - ETA: 0s - loss: 46.4846"
     ]
    },
    {
     "name": "stderr",
     "output_type": "stream",
     "text": [
      "[mpeg1video @ 0x7e0c5823c700] ac-tex damaged at 22 17\n",
      "[mpeg1video @ 0x7e0c5823c700] Warning MVs not available\n"
     ]
    },
    {
     "name": "stdout",
     "output_type": "stream",
     "text": [
      "1/1 [==============================] - 0s 114ms/step\n",
      "Validation Accuracy at epoch 14: 11.25%\n",
      "225/225 [==============================] - 398s 2s/step - loss: 46.4846 - val_loss: 41.1533\n",
      "Epoch 15/50\n",
      "151/225 [===================>..........] - ETA: 51s - loss: 46.2016"
     ]
    },
    {
     "name": "stderr",
     "output_type": "stream",
     "text": [
      "[mpeg1video @ 0x7e0c9001d2c0] ac-tex damaged at 22 17\n",
      "[mpeg1video @ 0x7e0c9001d2c0] Warning MVs not available\n"
     ]
    },
    {
     "name": "stdout",
     "output_type": "stream",
     "text": [
      "225/225 [==============================] - ETA: 0s - loss: 45.9004"
     ]
    },
    {
     "name": "stderr",
     "output_type": "stream",
     "text": [
      "[mpeg1video @ 0x7e0dc41ee800] ac-tex damaged at 22 17\n",
      "[mpeg1video @ 0x7e0dc41ee800] Warning MVs not available\n"
     ]
    },
    {
     "name": "stdout",
     "output_type": "stream",
     "text": [
      "1/1 [==============================] - 0s 115ms/step\n",
      "Validation Accuracy at epoch 15: 10.00%\n",
      "225/225 [==============================] - 399s 2s/step - loss: 45.9004 - val_loss: 42.6889\n",
      "Epoch 16/50\n",
      " 37/225 [===>..........................] - ETA: 2:12 - loss: 45.6225"
     ]
    },
    {
     "name": "stderr",
     "output_type": "stream",
     "text": [
      "[mpeg1video @ 0x7e0c7048dc40] ac-tex damaged at 22 17\n",
      "[mpeg1video @ 0x7e0c7048dc40] Warning MVs not available\n"
     ]
    },
    {
     "name": "stdout",
     "output_type": "stream",
     "text": [
      "225/225 [==============================] - ETA: 0s - loss: 44.2114"
     ]
    },
    {
     "name": "stderr",
     "output_type": "stream",
     "text": [
      "[mpeg1video @ 0x7e0cf0046f80] ac-tex damaged at 22 17\n",
      "[mpeg1video @ 0x7e0cf0046f80] Warning MVs not available\n"
     ]
    },
    {
     "name": "stdout",
     "output_type": "stream",
     "text": [
      "1/1 [==============================] - 0s 114ms/step\n",
      "Validation Accuracy at epoch 16: 7.50%\n",
      "225/225 [==============================] - 398s 2s/step - loss: 44.2114 - val_loss: 39.3230\n",
      "Epoch 17/50\n",
      "225/225 [==============================] - ETA: 0s - loss: 43.9218"
     ]
    },
    {
     "name": "stderr",
     "output_type": "stream",
     "text": [
      "[mpeg1video @ 0x7e0c6502b780] ac-tex damaged at 22 17\n",
      "[mpeg1video @ 0x7e0c6502b780] Warning MVs not available\n"
     ]
    },
    {
     "name": "stdout",
     "output_type": "stream",
     "text": [
      "1/1 [==============================] - 0s 119ms/step\n",
      "Validation Accuracy at epoch 17: 7.50%\n",
      "225/225 [==============================] - 399s 2s/step - loss: 43.9218 - val_loss: 39.4235\n",
      "Epoch 18/50\n",
      "172/225 [=====================>........] - ETA: 37s - loss: 42.9174"
     ]
    },
    {
     "name": "stderr",
     "output_type": "stream",
     "text": [
      "[mpeg1video @ 0x7e0dbc1f5dc0] ac-tex damaged at 22 17\n",
      "[mpeg1video @ 0x7e0dbc1f5dc0] Warning MVs not available\n"
     ]
    },
    {
     "name": "stdout",
     "output_type": "stream",
     "text": [
      "225/225 [==============================] - ETA: 0s - loss: 42.7439"
     ]
    },
    {
     "name": "stderr",
     "output_type": "stream",
     "text": [
      "[mpeg1video @ 0x7e085c065540] ac-tex damaged at 22 17\n",
      "[mpeg1video @ 0x7e085c065540] Warning MVs not available\n"
     ]
    },
    {
     "name": "stdout",
     "output_type": "stream",
     "text": [
      "1/1 [==============================] - 0s 121ms/step\n",
      "Validation Accuracy at epoch 18: 16.25%\n",
      "225/225 [==============================] - 397s 2s/step - loss: 42.7439 - val_loss: 39.1659\n",
      "Epoch 19/50\n",
      "225/225 [==============================] - ETA: 0s - loss: 42.8670"
     ]
    },
    {
     "name": "stderr",
     "output_type": "stream",
     "text": [
      "[mpeg1video @ 0x7e0dc0051cc0] ac-tex damaged at 22 17\n",
      "[mpeg1video @ 0x7e0dc0051cc0] Warning MVs not available\n"
     ]
    },
    {
     "name": "stdout",
     "output_type": "stream",
     "text": [
      "1/1 [==============================] - 0s 118ms/step\n",
      "Validation Accuracy at epoch 19: 7.50%\n",
      "225/225 [==============================] - 397s 2s/step - loss: 42.8670 - val_loss: 39.5915\n",
      "Epoch 20/50\n",
      " 97/225 [===========>..................] - ETA: 1:30 - loss: 43.1514"
     ]
    },
    {
     "name": "stderr",
     "output_type": "stream",
     "text": [
      "[mpeg1video @ 0x7e0c6ab58700] ac-tex damaged at 22 17\n",
      "[mpeg1video @ 0x7e0c6ab58700] Warning MVs not available\n"
     ]
    },
    {
     "name": "stdout",
     "output_type": "stream",
     "text": [
      "225/225 [==============================] - ETA: 0s - loss: 42.5199"
     ]
    },
    {
     "name": "stderr",
     "output_type": "stream",
     "text": [
      "[mpeg1video @ 0x7e0ca000f940] ac-tex damaged at 22 17\n",
      "[mpeg1video @ 0x7e0ca000f940] Warning MVs not available\n"
     ]
    },
    {
     "name": "stdout",
     "output_type": "stream",
     "text": [
      "1/1 [==============================] - 0s 123ms/step\n",
      "Validation Accuracy at epoch 20: 8.75%\n",
      "225/225 [==============================] - 400s 2s/step - loss: 42.5199 - val_loss: 38.4645\n",
      "Epoch 21/50\n",
      "104/225 [============>.................] - ETA: 1:25 - loss: 41.3862"
     ]
    },
    {
     "name": "stderr",
     "output_type": "stream",
     "text": [
      "[mpeg1video @ 0x7e084c0470c0] ac-tex damaged at 22 17\n",
      "[mpeg1video @ 0x7e084c0470c0] Warning MVs not available\n"
     ]
    },
    {
     "name": "stdout",
     "output_type": "stream",
     "text": [
      "225/225 [==============================] - ETA: 0s - loss: 41.5917"
     ]
    },
    {
     "name": "stderr",
     "output_type": "stream",
     "text": [
      "[mpeg1video @ 0x7e0c70bdbc80] ac-tex damaged at 22 17\n",
      "[mpeg1video @ 0x7e0c70bdbc80] Warning MVs not available\n"
     ]
    },
    {
     "name": "stdout",
     "output_type": "stream",
     "text": [
      "1/1 [==============================] - 0s 121ms/step\n",
      "Validation Accuracy at epoch 21: 6.25%\n",
      "225/225 [==============================] - 402s 2s/step - loss: 41.5917 - val_loss: 37.8693\n",
      "Epoch 22/50\n",
      "112/225 [=============>................] - ETA: 1:19 - loss: 41.6769"
     ]
    },
    {
     "name": "stderr",
     "output_type": "stream",
     "text": [
      "[mpeg1video @ 0x7e0dc410aa80] ac-tex damaged at 22 17\n",
      "[mpeg1video @ 0x7e0dc410aa80] Warning MVs not available\n"
     ]
    },
    {
     "name": "stdout",
     "output_type": "stream",
     "text": [
      "225/225 [==============================] - ETA: 0s - loss: 41.5439"
     ]
    },
    {
     "name": "stderr",
     "output_type": "stream",
     "text": [
      "[mpeg1video @ 0x7e085c018000] ac-tex damaged at 22 17\n",
      "[mpeg1video @ 0x7e085c018000] Warning MVs not available\n"
     ]
    },
    {
     "name": "stdout",
     "output_type": "stream",
     "text": [
      "1/1 [==============================] - 0s 117ms/step\n",
      "Validation Accuracy at epoch 22: 12.50%\n",
      "225/225 [==============================] - 401s 2s/step - loss: 41.5439 - val_loss: 37.6952\n",
      "Epoch 23/50\n",
      "225/225 [==============================] - ETA: 0s - loss: 40.6145"
     ]
    },
    {
     "name": "stderr",
     "output_type": "stream",
     "text": [
      "[mpeg1video @ 0x7e0dc40af200] ac-tex damaged at 22 17\n",
      "[mpeg1video @ 0x7e0dc40af200] Warning MVs not available\n"
     ]
    },
    {
     "name": "stdout",
     "output_type": "stream",
     "text": [
      "1/1 [==============================] - 0s 119ms/step\n",
      "Validation Accuracy at epoch 23: 10.00%\n",
      "225/225 [==============================] - 399s 2s/step - loss: 40.6145 - val_loss: 38.4273\n",
      "Epoch 24/50\n",
      "225/225 [==============================] - ETA: 0s - loss: 40.4028"
     ]
    },
    {
     "name": "stderr",
     "output_type": "stream",
     "text": [
      "[mpeg1video @ 0x7e0cc808d000] ac-tex damaged at 22 17\n",
      "[mpeg1video @ 0x7e0cc808d000] Warning MVs not available\n"
     ]
    },
    {
     "name": "stdout",
     "output_type": "stream",
     "text": [
      "1/1 [==============================] - 0s 116ms/step\n",
      "Validation Accuracy at epoch 24: 16.25%\n",
      "225/225 [==============================] - 400s 2s/step - loss: 40.4028 - val_loss: 36.3487\n",
      "Epoch 25/50\n",
      "167/225 [=====================>........] - ETA: 40s - loss: 39.7668"
     ]
    },
    {
     "name": "stderr",
     "output_type": "stream",
     "text": [
      "[mpeg1video @ 0x7e08600277c0] ac-tex damaged at 22 17\n",
      "[mpeg1video @ 0x7e08600277c0] Warning MVs not available\n"
     ]
    },
    {
     "name": "stdout",
     "output_type": "stream",
     "text": [
      "225/225 [==============================] - ETA: 0s - loss: 40.3491"
     ]
    },
    {
     "name": "stderr",
     "output_type": "stream",
     "text": [
      "[mpeg1video @ 0x7e0c6c030840] ac-tex damaged at 22 17\n",
      "[mpeg1video @ 0x7e0c6c030840] Warning MVs not available\n"
     ]
    },
    {
     "name": "stdout",
     "output_type": "stream",
     "text": [
      "1/1 [==============================] - 0s 116ms/step\n",
      "Validation Accuracy at epoch 25: 8.75%\n",
      "225/225 [==============================] - 398s 2s/step - loss: 40.3491 - val_loss: 37.9598\n",
      "Epoch 26/50\n",
      "225/225 [==============================] - ETA: 0s - loss: 39.6802"
     ]
    },
    {
     "name": "stderr",
     "output_type": "stream",
     "text": [
      "[mpeg1video @ 0x7e085c1cb740] ac-tex damaged at 22 17\n",
      "[mpeg1video @ 0x7e085c1cb740] Warning MVs not available\n"
     ]
    },
    {
     "name": "stdout",
     "output_type": "stream",
     "text": [
      "1/1 [==============================] - 0s 117ms/step\n",
      "Validation Accuracy at epoch 26: 7.50%\n",
      "225/225 [==============================] - 398s 2s/step - loss: 39.6802 - val_loss: 35.8082\n",
      "Epoch 27/50\n",
      "168/225 [=====================>........] - ETA: 39s - loss: 39.3841"
     ]
    },
    {
     "name": "stderr",
     "output_type": "stream",
     "text": [
      "[mpeg1video @ 0x7e0c9808a100] ac-tex damaged at 22 17\n",
      "[mpeg1video @ 0x7e0c9808a100] Warning MVs not available\n"
     ]
    },
    {
     "name": "stdout",
     "output_type": "stream",
     "text": [
      "225/225 [==============================] - ETA: 0s - loss: 38.9788"
     ]
    },
    {
     "name": "stderr",
     "output_type": "stream",
     "text": [
      "[mpeg1video @ 0x7e0dd00e3c80] ac-tex damaged at 22 17\n",
      "[mpeg1video @ 0x7e0dd00e3c80] Warning MVs not available\n"
     ]
    },
    {
     "name": "stdout",
     "output_type": "stream",
     "text": [
      "1/1 [==============================] - 0s 115ms/step\n",
      "Validation Accuracy at epoch 27: 8.75%\n",
      "225/225 [==============================] - 398s 2s/step - loss: 38.9788 - val_loss: 35.8253\n",
      "Epoch 28/50\n",
      "157/225 [===================>..........] - ETA: 48s - loss: 39.5292"
     ]
    },
    {
     "name": "stderr",
     "output_type": "stream",
     "text": [
      "[mpeg1video @ 0x7e0c64f29480] ac-tex damaged at 22 17\n",
      "[mpeg1video @ 0x7e0c64f29480] Warning MVs not available\n"
     ]
    },
    {
     "name": "stdout",
     "output_type": "stream",
     "text": [
      "225/225 [==============================] - ETA: 0s - loss: 39.2865"
     ]
    },
    {
     "name": "stderr",
     "output_type": "stream",
     "text": [
      "[mpeg1video @ 0x7e0ca0090600] ac-tex damaged at 22 17\n",
      "[mpeg1video @ 0x7e0ca0090600] Warning MVs not available\n"
     ]
    },
    {
     "name": "stdout",
     "output_type": "stream",
     "text": [
      "1/1 [==============================] - 0s 117ms/step\n",
      "Validation Accuracy at epoch 28: 7.50%\n",
      "225/225 [==============================] - 398s 2s/step - loss: 39.2865 - val_loss: 35.6689\n",
      "Epoch 29/50\n",
      "174/225 [======================>.......] - ETA: 35s - loss: 38.1164"
     ]
    },
    {
     "name": "stderr",
     "output_type": "stream",
     "text": [
      "[mpeg1video @ 0x7e0860027000] ac-tex damaged at 22 17\n",
      "[mpeg1video @ 0x7e0860027000] Warning MVs not available\n"
     ]
    },
    {
     "name": "stdout",
     "output_type": "stream",
     "text": [
      "225/225 [==============================] - ETA: 0s - loss: 38.2909"
     ]
    },
    {
     "name": "stderr",
     "output_type": "stream",
     "text": [
      "[mpeg1video @ 0x7e0c78040ec0] ac-tex damaged at 22 17\n",
      "[mpeg1video @ 0x7e0c78040ec0] Warning MVs not available\n"
     ]
    },
    {
     "name": "stdout",
     "output_type": "stream",
     "text": [
      "1/1 [==============================] - 0s 114ms/step\n",
      "Validation Accuracy at epoch 29: 6.25%\n",
      "225/225 [==============================] - 405s 2s/step - loss: 38.2909 - val_loss: 35.2903\n",
      "Epoch 30/50\n",
      "225/225 [==============================] - ETA: 0s - loss: 38.1270"
     ]
    },
    {
     "name": "stderr",
     "output_type": "stream",
     "text": [
      "[mpeg1video @ 0x7e0c58099300] ac-tex damaged at 22 17\n",
      "[mpeg1video @ 0x7e0c58099300] Warning MVs not available\n"
     ]
    },
    {
     "name": "stdout",
     "output_type": "stream",
     "text": [
      "1/1 [==============================] - 0s 115ms/step\n",
      "Validation Accuracy at epoch 30: 12.50%\n",
      "225/225 [==============================] - 421s 2s/step - loss: 38.1270 - val_loss: 34.9006\n",
      "Epoch 31/50\n",
      "146/225 [==================>...........] - ETA: 55s - loss: 38.1473"
     ]
    },
    {
     "name": "stderr",
     "output_type": "stream",
     "text": [
      "[mpeg1video @ 0x7e0ca003cd40] ac-tex damaged at 22 17\n",
      "[mpeg1video @ 0x7e0ca003cd40] Warning MVs not available\n"
     ]
    },
    {
     "name": "stdout",
     "output_type": "stream",
     "text": [
      "225/225 [==============================] - ETA: 0s - loss: 38.2361"
     ]
    },
    {
     "name": "stderr",
     "output_type": "stream",
     "text": [
      "[mpeg1video @ 0x7e0dd00f16c0] ac-tex damaged at 22 17\n",
      "[mpeg1video @ 0x7e0dd00f16c0] Warning MVs not available\n"
     ]
    },
    {
     "name": "stdout",
     "output_type": "stream",
     "text": [
      "1/1 [==============================] - 0s 118ms/step\n",
      "Validation Accuracy at epoch 31: 11.25%\n",
      "225/225 [==============================] - 398s 2s/step - loss: 38.2361 - val_loss: 34.8334\n",
      "Epoch 32/50\n",
      "225/225 [==============================] - ETA: 0s - loss: 37.6862"
     ]
    },
    {
     "name": "stderr",
     "output_type": "stream",
     "text": [
      "[mpeg1video @ 0x7e0ca0081000] ac-tex damaged at 22 17\n",
      "[mpeg1video @ 0x7e0ca0081000] Warning MVs not available\n"
     ]
    },
    {
     "name": "stdout",
     "output_type": "stream",
     "text": [
      "1/1 [==============================] - 0s 120ms/step\n",
      "Validation Accuracy at epoch 32: 7.50%\n",
      "225/225 [==============================] - 397s 2s/step - loss: 37.6862 - val_loss: 34.8297\n",
      "Epoch 33/50\n",
      "122/225 [===============>..............] - ETA: 1:12 - loss: 37.1914"
     ]
    },
    {
     "name": "stderr",
     "output_type": "stream",
     "text": [
      "[mpeg1video @ 0x7e085c0dee40] ac-tex damaged at 22 17\n",
      "[mpeg1video @ 0x7e085c0dee40] Warning MVs not available\n"
     ]
    },
    {
     "name": "stdout",
     "output_type": "stream",
     "text": [
      "225/225 [==============================] - ETA: 0s - loss: 37.2853"
     ]
    },
    {
     "name": "stderr",
     "output_type": "stream",
     "text": [
      "[mpeg1video @ 0x7e0c78078480] ac-tex damaged at 22 17\n",
      "[mpeg1video @ 0x7e0c78078480] Warning MVs not available\n"
     ]
    },
    {
     "name": "stdout",
     "output_type": "stream",
     "text": [
      "1/1 [==============================] - 0s 115ms/step\n",
      "Validation Accuracy at epoch 33: 8.75%\n",
      "225/225 [==============================] - 397s 2s/step - loss: 37.2853 - val_loss: 34.3091\n",
      "Epoch 34/50\n",
      "114/225 [==============>...............] - ETA: 1:17 - loss: 37.5311"
     ]
    },
    {
     "name": "stderr",
     "output_type": "stream",
     "text": [
      "[mpeg1video @ 0x7e0db8018640] ac-tex damaged at 22 17\n",
      "[mpeg1video @ 0x7e0db8018640] Warning MVs not available\n"
     ]
    },
    {
     "name": "stdout",
     "output_type": "stream",
     "text": [
      "225/225 [==============================] - ETA: 0s - loss: 37.3936"
     ]
    },
    {
     "name": "stderr",
     "output_type": "stream",
     "text": [
      "[mpeg1video @ 0x7e085c01e380] ac-tex damaged at 22 17\n",
      "[mpeg1video @ 0x7e085c01e380] Warning MVs not available\n"
     ]
    },
    {
     "name": "stdout",
     "output_type": "stream",
     "text": [
      "1/1 [==============================] - 0s 115ms/step\n",
      "Validation Accuracy at epoch 34: 11.25%\n",
      "225/225 [==============================] - 397s 2s/step - loss: 37.3936 - val_loss: 34.5119\n",
      "Epoch 35/50\n",
      "225/225 [==============================] - ETA: 0s - loss: 37.4368"
     ]
    },
    {
     "name": "stderr",
     "output_type": "stream",
     "text": [
      "[mpeg1video @ 0x7e0dc005a240] ac-tex damaged at 22 17\n",
      "[mpeg1video @ 0x7e0dc005a240] Warning MVs not available\n"
     ]
    },
    {
     "name": "stdout",
     "output_type": "stream",
     "text": [
      "1/1 [==============================] - 0s 121ms/step\n",
      "Validation Accuracy at epoch 35: 12.50%\n",
      "225/225 [==============================] - 398s 2s/step - loss: 37.4368 - val_loss: 34.4822\n",
      "Epoch 36/50\n",
      "225/225 [==============================] - ETA: 0s - loss: 37.1133"
     ]
    },
    {
     "name": "stderr",
     "output_type": "stream",
     "text": [
      "[mpeg1video @ 0x7e0cc8009cc0] ac-tex damaged at 22 17\n",
      "[mpeg1video @ 0x7e0cc8009cc0] Warning MVs not available\n"
     ]
    },
    {
     "name": "stdout",
     "output_type": "stream",
     "text": [
      "1/1 [==============================] - 0s 121ms/step\n",
      "Validation Accuracy at epoch 36: 3.75%\n",
      "225/225 [==============================] - 398s 2s/step - loss: 37.1133 - val_loss: 35.2929\n",
      "Epoch 37/50\n",
      "225/225 [==============================] - ETA: 0s - loss: 36.3770"
     ]
    },
    {
     "name": "stderr",
     "output_type": "stream",
     "text": [
      "[mpeg1video @ 0x7e0c709bde80] ac-tex damaged at 22 17\n",
      "[mpeg1video @ 0x7e0c709bde80] Warning MVs not available\n"
     ]
    },
    {
     "name": "stdout",
     "output_type": "stream",
     "text": [
      "1/1 [==============================] - 0s 115ms/step\n",
      "Validation Accuracy at epoch 37: 12.50%\n",
      "225/225 [==============================] - 399s 2s/step - loss: 36.3770 - val_loss: 34.2212\n",
      "Epoch 38/50\n",
      " 10/225 [>.............................] - ETA: 2:28 - loss: 35.2093"
     ]
    },
    {
     "name": "stderr",
     "output_type": "stream",
     "text": [
      "[mpeg1video @ 0x7e0dc003aec0] ac-tex damaged at 22 17\n",
      "[mpeg1video @ 0x7e0dc003aec0] Warning MVs not available\n"
     ]
    },
    {
     "name": "stdout",
     "output_type": "stream",
     "text": [
      "225/225 [==============================] - ETA: 0s - loss: 37.1915"
     ]
    },
    {
     "name": "stderr",
     "output_type": "stream",
     "text": [
      "[mpeg1video @ 0x7e086008c380] ac-tex damaged at 22 17\n",
      "[mpeg1video @ 0x7e086008c380] Warning MVs not available\n"
     ]
    },
    {
     "name": "stdout",
     "output_type": "stream",
     "text": [
      "1/1 [==============================] - 0s 114ms/step\n",
      "Validation Accuracy at epoch 38: 3.75%\n",
      "225/225 [==============================] - 397s 2s/step - loss: 37.1915 - val_loss: 34.2385\n",
      "Epoch 39/50\n",
      "225/225 [==============================] - ETA: 0s - loss: 37.1298"
     ]
    },
    {
     "name": "stderr",
     "output_type": "stream",
     "text": [
      "[mpeg1video @ 0x7e0dc4022e80] ac-tex damaged at 22 17\n",
      "[mpeg1video @ 0x7e0dc4022e80] Warning MVs not available\n"
     ]
    },
    {
     "name": "stdout",
     "output_type": "stream",
     "text": [
      "1/1 [==============================] - 0s 119ms/step\n",
      "Validation Accuracy at epoch 39: 3.75%\n",
      "225/225 [==============================] - 398s 2s/step - loss: 37.1298 - val_loss: 35.4768\n",
      "Epoch 40/50\n",
      "190/225 [========================>.....] - ETA: 24s - loss: 37.2776"
     ]
    },
    {
     "name": "stderr",
     "output_type": "stream",
     "text": [
      "[mpeg1video @ 0x7e0c6aa358c0] ac-tex damaged at 22 17\n",
      "[mpeg1video @ 0x7e0c6aa358c0] Warning MVs not available\n"
     ]
    },
    {
     "name": "stdout",
     "output_type": "stream",
     "text": [
      "225/225 [==============================] - ETA: 0s - loss: 37.4143"
     ]
    },
    {
     "name": "stderr",
     "output_type": "stream",
     "text": [
      "[mpeg1video @ 0x7e0ca00953c0] ac-tex damaged at 22 17\n",
      "[mpeg1video @ 0x7e0ca00953c0] Warning MVs not available\n"
     ]
    },
    {
     "name": "stdout",
     "output_type": "stream",
     "text": [
      "1/1 [==============================] - 0s 116ms/step\n",
      "Validation Accuracy at epoch 40: 10.00%\n",
      "225/225 [==============================] - 399s 2s/step - loss: 37.4143 - val_loss: 34.7783\n",
      "Epoch 41/50\n",
      "  2/225 [..............................] - ETA: 2:36 - loss: 35.2115"
     ]
    },
    {
     "name": "stderr",
     "output_type": "stream",
     "text": [
      "[mpeg1video @ 0x7e0860109b80] ac-tex damaged at 22 17\n",
      "[mpeg1video @ 0x7e0860109b80] Warning MVs not available\n"
     ]
    },
    {
     "name": "stdout",
     "output_type": "stream",
     "text": [
      "225/225 [==============================] - ETA: 0s - loss: 36.7904"
     ]
    },
    {
     "name": "stderr",
     "output_type": "stream",
     "text": [
      "[mpeg1video @ 0x7e0c7845b680] ac-tex damaged at 22 17\n",
      "[mpeg1video @ 0x7e0c7845b680] Warning MVs not available\n"
     ]
    },
    {
     "name": "stdout",
     "output_type": "stream",
     "text": [
      "1/1 [==============================] - 0s 115ms/step\n",
      "Validation Accuracy at epoch 41: 8.75%\n",
      "225/225 [==============================] - 401s 2s/step - loss: 36.7904 - val_loss: 34.0883\n",
      "Epoch 42/50\n",
      "225/225 [==============================] - ETA: 0s - loss: 36.8586"
     ]
    },
    {
     "name": "stderr",
     "output_type": "stream",
     "text": [
      "[mpeg1video @ 0x7e0864067c00] ac-tex damaged at 22 17\n",
      "[mpeg1video @ 0x7e0864067c00] Warning MVs not available\n"
     ]
    },
    {
     "name": "stdout",
     "output_type": "stream",
     "text": [
      "1/1 [==============================] - 0s 118ms/step\n",
      "Validation Accuracy at epoch 42: 7.50%\n",
      "225/225 [==============================] - 398s 2s/step - loss: 36.8586 - val_loss: 34.2076\n",
      "Epoch 43/50\n",
      "225/225 [==============================] - ETA: 0s - loss: 36.4663"
     ]
    },
    {
     "name": "stderr",
     "output_type": "stream",
     "text": [
      "[mpeg1video @ 0x7e0dc008dec0] ac-tex damaged at 22 17\n",
      "[mpeg1video @ 0x7e0dc008dec0] Warning MVs not available\n"
     ]
    },
    {
     "name": "stdout",
     "output_type": "stream",
     "text": [
      "1/1 [==============================] - 0s 115ms/step\n",
      "Validation Accuracy at epoch 43: 8.75%\n",
      "225/225 [==============================] - 398s 2s/step - loss: 36.4663 - val_loss: 34.4600\n",
      "Epoch 44/50\n",
      "225/225 [==============================] - ETA: 0s - loss: 36.3833"
     ]
    },
    {
     "name": "stderr",
     "output_type": "stream",
     "text": [
      "[mpeg1video @ 0x7e0cf000b980] ac-tex damaged at 22 17\n",
      "[mpeg1video @ 0x7e0cf000b980] Warning MVs not available\n"
     ]
    },
    {
     "name": "stdout",
     "output_type": "stream",
     "text": [
      "1/1 [==============================] - 0s 121ms/step\n",
      "Validation Accuracy at epoch 44: 8.75%\n",
      "225/225 [==============================] - 398s 2s/step - loss: 36.3833 - val_loss: 34.2776\n",
      "Epoch 45/50\n",
      "100/225 [============>.................] - ETA: 1:27 - loss: 36.2646"
     ]
    },
    {
     "name": "stderr",
     "output_type": "stream",
     "text": [
      "[mpeg1video @ 0x7e0848015600] ac-tex damaged at 22 17\n",
      "[mpeg1video @ 0x7e0848015600] Warning MVs not available\n"
     ]
    },
    {
     "name": "stdout",
     "output_type": "stream",
     "text": [
      "225/225 [==============================] - ETA: 0s - loss: 36.3340"
     ]
    },
    {
     "name": "stderr",
     "output_type": "stream",
     "text": [
      "[mpeg1video @ 0x7e0c78436300] ac-tex damaged at 22 17\n",
      "[mpeg1video @ 0x7e0c78436300] Warning MVs not available\n"
     ]
    },
    {
     "name": "stdout",
     "output_type": "stream",
     "text": [
      "1/1 [==============================] - 0s 120ms/step\n",
      "Validation Accuracy at epoch 45: 7.50%\n",
      "225/225 [==============================] - 398s 2s/step - loss: 36.3340 - val_loss: 33.5534\n",
      "Epoch 46/50\n",
      "225/225 [==============================] - ETA: 0s - loss: 35.9779"
     ]
    },
    {
     "name": "stderr",
     "output_type": "stream",
     "text": [
      "[mpeg1video @ 0x7e0c58060f00] ac-tex damaged at 22 17\n",
      "[mpeg1video @ 0x7e0c58060f00] Warning MVs not available\n"
     ]
    },
    {
     "name": "stdout",
     "output_type": "stream",
     "text": [
      "1/1 [==============================] - 0s 115ms/step\n",
      "Validation Accuracy at epoch 46: 15.00%\n",
      "225/225 [==============================] - 401s 2s/step - loss: 35.9779 - val_loss: 33.7559\n",
      "Epoch 47/50\n",
      "225/225 [==============================] - ETA: 0s - loss: 35.6182"
     ]
    },
    {
     "name": "stderr",
     "output_type": "stream",
     "text": [
      "[mpeg1video @ 0x7e0dd0091f80] ac-tex damaged at 22 17\n",
      "[mpeg1video @ 0x7e0dd0091f80] Warning MVs not available\n"
     ]
    },
    {
     "name": "stdout",
     "output_type": "stream",
     "text": [
      "1/1 [==============================] - 0s 115ms/step\n",
      "Validation Accuracy at epoch 47: 8.75%\n",
      "225/225 [==============================] - 400s 2s/step - loss: 35.6182 - val_loss: 33.6976\n",
      "Epoch 48/50\n",
      "225/225 [==============================] - ETA: 0s - loss: 38.2294"
     ]
    },
    {
     "name": "stderr",
     "output_type": "stream",
     "text": [
      "[mpeg1video @ 0x7e0cf004bd00] ac-tex damaged at 22 17\n",
      "[mpeg1video @ 0x7e0cf004bd00] Warning MVs not available\n"
     ]
    },
    {
     "name": "stdout",
     "output_type": "stream",
     "text": [
      "1/1 [==============================] - 0s 113ms/step\n",
      "Validation Accuracy at epoch 48: 11.25%\n",
      "225/225 [==============================] - 400s 2s/step - loss: 38.2294 - val_loss: 43.7970\n",
      "Epoch 49/50\n",
      "160/225 [====================>.........] - ETA: 45s - loss: 59.4866"
     ]
    },
    {
     "name": "stderr",
     "output_type": "stream",
     "text": [
      "[mpeg1video @ 0x7e085c0c0980] ac-tex damaged at 22 17\n",
      "[mpeg1video @ 0x7e085c0c0980] Warning MVs not available\n"
     ]
    },
    {
     "name": "stdout",
     "output_type": "stream",
     "text": [
      "225/225 [==============================] - ETA: 0s - loss: 55.8862"
     ]
    },
    {
     "name": "stderr",
     "output_type": "stream",
     "text": [
      "[mpeg1video @ 0x7e0c6c07e800] ac-tex damaged at 22 17\n",
      "[mpeg1video @ 0x7e0c6c07e800] Warning MVs not available\n"
     ]
    },
    {
     "name": "stdout",
     "output_type": "stream",
     "text": [
      "1/1 [==============================] - 0s 121ms/step\n",
      "Validation Accuracy at epoch 49: 6.25%\n",
      "225/225 [==============================] - 399s 2s/step - loss: 55.8862 - val_loss: 41.7782\n",
      "Epoch 50/50\n",
      "225/225 [==============================] - ETA: 0s - loss: 43.7224"
     ]
    },
    {
     "name": "stderr",
     "output_type": "stream",
     "text": [
      "[mpeg1video @ 0x7e0c580c5240] ac-tex damaged at 22 17\n",
      "[mpeg1video @ 0x7e0c580c5240] Warning MVs not available\n"
     ]
    },
    {
     "name": "stdout",
     "output_type": "stream",
     "text": [
      "1/1 [==============================] - 0s 127ms/step\n",
      "Validation Accuracy at epoch 50: 12.50%\n",
      "225/225 [==============================] - 399s 2s/step - loss: 43.7224 - val_loss: 38.2625\n"
     ]
    },
    {
     "data": {
      "image/png": "[encoded data removed]",
      "text/plain": [
       "<Figure size 640x480 with 1 Axes>"
      ]
     },
     "metadata": {},
     "output_type": "display_data"
    }
   ],
   "source": [
    "import matplotlib.pyplot as plt\n",
    "import tensorflow as tf\n",
    "from nltk.metrics.distance import edit_distance\n",
    "\n",
    "# Définir une classe de rappel pour calculer et enregistrer l'accuracy à chaque époque\n",
    "class AccuracyCallback(tf.keras.callbacks.Callback):\n",
    "    def __init__(self, validation_data):\n",
    "        self.validation_data = validation_data.prefetch(tf.data.AUTOTUNE).as_numpy_iterator()\n",
    "        self.accuracies = []\n",
    "\n",
    "    def on_epoch_end(self, epoch, logs=None):\n",
    "        # Validation Accuracy\n",
    "        validation_data = next(self.validation_data)\n",
    "        predictions = self.model.predict(validation_data[0])\n",
    "        decoded = tf.keras.backend.ctc_decode(predictions, [75, 75], greedy=False)[0][0].numpy()\n",
    "        ground_truth = validation_data[1]\n",
    "\n",
    "        accuracy = compute_accuracy_letter_by_letter(decoded, ground_truth)\n",
    "        print(f'Validation Accuracy at epoch {epoch + 1}: {accuracy * 100:.2f}%')\n",
    "        self.accuracies.append(accuracy)\n",
    "\n",
    "# Fonction pour calculer l'accuracy lettre par lettre\n",
    "def compute_accuracy_letter_by_letter(preds, truths):\n",
    "    total_letters = 0\n",
    "    correct_letters = 0\n",
    "\n",
    "    for pred, truth in zip(preds, truths):\n",
    "        for p, t in zip(pred, truth):\n",
    "            total_letters += 1\n",
    "            if p == t:\n",
    "                correct_letters += 1\n",
    "\n",
    "    accuracy = correct_letters / total_letters if total_letters > 0 else 0\n",
    "    return accuracy\n",
    "\n",
    "# Chargement des données (assurez-vous de définir la fonction mappable_function)\n",
    "data = tf.data.Dataset.list_files('/kaggle/input/lipreading/data/s1/*.mpg')\n",
    "data = data.shuffle(500, reshuffle_each_iteration=False)\n",
    "data = data.map(mappable_function)\n",
    "\n",
    "# Division des données en ensembles d'entraînement et de test\n",
    "train_size = 450\n",
    "train_data = data.take(train_size)\n",
    "test_data = data.skip(train_size)\n",
    "\n",
    "# Création des lots (batches) de données\n",
    "train_data = train_data.padded_batch(2, padded_shapes=([75, None, None, None], [40]))\n",
    "test_data = test_data.padded_batch(2, padded_shapes=([75, None, None, None], [40]))\n",
    "\n",
    "# Préchargement des données\n",
    "train_data = train_data.prefetch(tf.data.AUTOTUNE)\n",
    "test_data = test_data.prefetch(tf.data.AUTOTUNE)\n",
    "\n",
    "\n",
    "\n",
    "# Utiliser la fonction de perte CTCLoss avec le rappel AccuracyCallback\n",
    "model.compile(optimizer='adam', loss=CTCLoss)  # Utilisation de votre fonction de perte personnalisée\n",
    "\n",
    "accuracy_callback = AccuracyCallback(validation_data=test_data)\n",
    "\n",
    "history = model.fit(train_data, validation_data=test_data, epochs=50, callbacks=[accuracy_callback])\n",
    "\n",
    "# Plotter les courbes d'accuracy\n",
    "plt.plot(accuracy_callback.accuracies, label='Validation Accuracy')\n",
    "plt.xlabel('Nombre d\\'époques')\n",
    "plt.ylabel('Accuracy')\n",
    "plt.title('Évolution de l\\'accuracy pendant l\\'entraînement')\n",
    "plt.legend()\n",
    "plt.show()\n"
   ]
  }
 ],
 "metadata": {
  "kaggle": {
   "accelerator": "gpu",
   "dataSources": [
    {
     "datasetId": 3504929,
     "sourceId": 6115667,
     "sourceType": "datasetVersion"
    },
    {
     "sourceId": 151552210,
     "sourceType": "kernelVersion"
    }
   ],
   "dockerImageVersionId": 30648,
   "isGpuEnabled": true,
   "isInternetEnabled": true,
   "language": "python",
   "sourceType": "notebook"
  },
  "kernelspec": {
   "display_name": "Python 3",
   "language": "python",
   "name": "python3"
  },
  "language_info": {
   "codemirror_mode": {
    "name": "ipython",
    "version": 3
   },
   "file_extension": ".py",
   "mimetype": "text/x-python",
   "name": "python",
   "nbconvert_exporter": "python",
   "pygments_lexer": "ipython3",
   "version": "3.10.13"
  },
  "papermill": {
   "default_parameters": {},
   "duration": 20422.182253,
   "end_time": "2024-02-13T00:29:36.472392",
   "environment_variables": {},
   "exception": null,
   "input_path": "__notebook__.ipynb",
   "output_path": "__notebook__.ipynb",
   "parameters": {},
   "start_time": "2024-02-12T18:49:14.290139",
   "version": "2.5.0"
  }
 },
 "nbformat": 4,
 "nbformat_minor": 5
}
