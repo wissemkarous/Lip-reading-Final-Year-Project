{
 "cells": [
  {
   "cell_type": "markdown",
   "id": "2a618391",
   "metadata": {
    "papermill": {
     "duration": 0.011061,
     "end_time": "2024-02-24T11:54:43.125487",
     "exception": false,
     "start_time": "2024-02-24T11:54:43.114426",
     "status": "completed"
    },
    "tags": []
   },
   "source": [
    "بسم الله "
   ]
  },
  {
   "cell_type": "markdown",
   "id": "8fba1566",
   "metadata": {
    "papermill": {
     "duration": 0.009927,
     "end_time": "2024-02-24T11:54:43.145747",
     "exception": false,
     "start_time": "2024-02-24T11:54:43.135820",
     "status": "completed"
    },
    "tags": []
   },
   "source": [
    "** Importing liberies and frameworks **"
   ]
  },
  {
   "cell_type": "code",
   "execution_count": 1,
   "id": "9af8f3a1",
   "metadata": {
    "execution": {
     "iopub.execute_input": "2024-02-24T11:54:43.167485Z",
     "iopub.status.busy": "2024-02-24T11:54:43.167193Z",
     "iopub.status.idle": "2024-02-24T11:54:58.468707Z",
     "shell.execute_reply": "2024-02-24T11:54:58.467918Z"
    },
    "papermill": {
     "duration": 15.314923,
     "end_time": "2024-02-24T11:54:58.471036",
     "exception": false,
     "start_time": "2024-02-24T11:54:43.156113",
     "status": "completed"
    },
    "tags": []
   },
   "outputs": [
    {
     "name": "stderr",
     "output_type": "stream",
     "text": [
      "2024-02-24 11:54:45.683015: E external/local_xla/xla/stream_executor/cuda/cuda_dnn.cc:9261] Unable to register cuDNN factory: Attempting to register factory for plugin cuDNN when one has already been registered\n",
      "2024-02-24 11:54:45.683147: E external/local_xla/xla/stream_executor/cuda/cuda_fft.cc:607] Unable to register cuFFT factory: Attempting to register factory for plugin cuFFT when one has already been registered\n",
      "2024-02-24 11:54:45.851092: E external/local_xla/xla/stream_executor/cuda/cuda_blas.cc:1515] Unable to register cuBLAS factory: Attempting to register factory for plugin cuBLAS when one has already been registered\n"
     ]
    }
   ],
   "source": [
    "import os\n",
    "import cv2\n",
    "import tensorflow as tf\n",
    "import numpy as np\n",
    "from typing import List\n",
    "from matplotlib import pyplot as plt\n",
    "import imageio"
   ]
  },
  {
   "cell_type": "markdown",
   "id": "2bec7468",
   "metadata": {
    "papermill": {
     "duration": 0.011678,
     "end_time": "2024-02-24T11:54:58.494178",
     "exception": false,
     "start_time": "2024-02-24T11:54:58.482500",
     "status": "completed"
    },
    "tags": []
   },
   "source": [
    "**Load videos and Preprocessing : ** defines a function load_video that takes a path to a video file as input and returns a preprocessed version of the video frames as a list of TensorFlow tensors lets eplain this with a simple graphe *"
   ]
  },
  {
   "cell_type": "markdown",
   "id": "a26c0551",
   "metadata": {
    "papermill": {
     "duration": 0.010197,
     "end_time": "2024-02-24T11:54:58.514689",
     "exception": false,
     "start_time": "2024-02-24T11:54:58.504492",
     "status": "completed"
    },
    "tags": []
   },
   "source": [
    "Test the function (LOad_video)"
   ]
  },
  {
   "cell_type": "code",
   "execution_count": 2,
   "id": "d8703363",
   "metadata": {
    "execution": {
     "iopub.execute_input": "2024-02-24T11:54:58.536445Z",
     "iopub.status.busy": "2024-02-24T11:54:58.535932Z",
     "iopub.status.idle": "2024-02-24T11:54:58.542936Z",
     "shell.execute_reply": "2024-02-24T11:54:58.542099Z"
    },
    "papermill": {
     "duration": 0.020045,
     "end_time": "2024-02-24T11:54:58.544868",
     "exception": false,
     "start_time": "2024-02-24T11:54:58.524823",
     "status": "completed"
    },
    "tags": []
   },
   "outputs": [],
   "source": [
    "def load_video(path:str) -> List[float]:\n",
    "    cap=cv2.VideoCapture(path)\n",
    "    frames=[]\n",
    "    for _ in range(int(cap.get(cv2.CAP_PROP_FRAME_COUNT))):\n",
    "        ret, frame = cap.read()\n",
    "        frame=tf.image.rgb_to_grayscale(frame)\n",
    "        frames.append(frame[190:236,80:220,:])\n",
    "    cap.release()\n",
    "    \n",
    "    mean=tf.math.reduce_mean(frames)\n",
    "    std=tf.math.reduce_std(tf.cast(frames,tf.float32))\n",
    "    return tf.cast((frames-mean),tf.float32)/std"
   ]
  },
  {
   "cell_type": "code",
   "execution_count": 3,
   "id": "a3039d06",
   "metadata": {
    "execution": {
     "iopub.execute_input": "2024-02-24T11:54:58.566271Z",
     "iopub.status.busy": "2024-02-24T11:54:58.566000Z",
     "iopub.status.idle": "2024-02-24T11:55:01.046925Z",
     "shell.execute_reply": "2024-02-24T11:55:01.045947Z"
    },
    "papermill": {
     "duration": 2.493955,
     "end_time": "2024-02-24T11:55:01.049033",
     "exception": false,
     "start_time": "2024-02-24T11:54:58.555078",
     "status": "completed"
    },
    "tags": []
   },
   "outputs": [
    {
     "data": {
      "text/plain": [
       "<tf.Tensor: shape=(75, 46, 140, 1), dtype=float32, numpy=\n",
       "array([[[[1.4991663 ],\n",
       "         [1.4991663 ],\n",
       "         [1.4616871 ],\n",
       "         ...,\n",
       "         [0.41227072],\n",
       "         [0.41227072],\n",
       "         [0.41227072]],\n",
       "\n",
       "        [[1.4991663 ],\n",
       "         [1.4991663 ],\n",
       "         [1.4616871 ],\n",
       "         ...,\n",
       "         [0.41227072],\n",
       "         [0.41227072],\n",
       "         [0.41227072]],\n",
       "\n",
       "        [[1.4616871 ],\n",
       "         [1.4616871 ],\n",
       "         [1.4991663 ],\n",
       "         ...,\n",
       "         [0.3373124 ],\n",
       "         [0.3373124 ],\n",
       "         [0.3373124 ]],\n",
       "\n",
       "        ...,\n",
       "\n",
       "        [[1.0494163 ],\n",
       "         [1.0494163 ],\n",
       "         [1.0119373 ],\n",
       "         ...,\n",
       "         [0.11243746],\n",
       "         [0.11243746],\n",
       "         [0.07495831]],\n",
       "\n",
       "        [[1.0494163 ],\n",
       "         [1.0494163 ],\n",
       "         [1.0119373 ],\n",
       "         ...,\n",
       "         [0.11243746],\n",
       "         [0.07495831],\n",
       "         [0.07495831]],\n",
       "\n",
       "        [[1.0494163 ],\n",
       "         [1.0494163 ],\n",
       "         [1.0119373 ],\n",
       "         ...,\n",
       "         [0.07495831],\n",
       "         [0.07495831],\n",
       "         [0.03747915]]],\n",
       "\n",
       "\n",
       "       [[[1.4242079 ],\n",
       "         [1.4242079 ],\n",
       "         [1.4242079 ],\n",
       "         ...,\n",
       "         [0.3373124 ],\n",
       "         [0.3373124 ],\n",
       "         [0.3373124 ]],\n",
       "\n",
       "        [[1.4242079 ],\n",
       "         [1.4242079 ],\n",
       "         [1.4242079 ],\n",
       "         ...,\n",
       "         [0.3373124 ],\n",
       "         [0.3373124 ],\n",
       "         [0.3373124 ]],\n",
       "\n",
       "        [[1.4242079 ],\n",
       "         [1.4242079 ],\n",
       "         [1.4242079 ],\n",
       "         ...,\n",
       "         [0.29983324],\n",
       "         [0.29983324],\n",
       "         [0.29983324]],\n",
       "\n",
       "        ...,\n",
       "\n",
       "        [[1.0494163 ],\n",
       "         [1.0494163 ],\n",
       "         [1.0119373 ],\n",
       "         ...,\n",
       "         [0.11243746],\n",
       "         [0.11243746],\n",
       "         [0.07495831]],\n",
       "\n",
       "        [[1.0494163 ],\n",
       "         [1.0494163 ],\n",
       "         [1.0119373 ],\n",
       "         ...,\n",
       "         [0.11243746],\n",
       "         [0.07495831],\n",
       "         [0.07495831]],\n",
       "\n",
       "        [[1.0494163 ],\n",
       "         [1.0494163 ],\n",
       "         [1.0119373 ],\n",
       "         ...,\n",
       "         [0.07495831],\n",
       "         [0.07495831],\n",
       "         [0.03747915]]],\n",
       "\n",
       "\n",
       "       [[[1.3492496 ],\n",
       "         [1.3492496 ],\n",
       "         [1.3492496 ],\n",
       "         ...,\n",
       "         [0.3373124 ],\n",
       "         [0.3373124 ],\n",
       "         [0.3373124 ]],\n",
       "\n",
       "        [[1.3492496 ],\n",
       "         [1.3492496 ],\n",
       "         [1.3492496 ],\n",
       "         ...,\n",
       "         [0.3373124 ],\n",
       "         [0.3373124 ],\n",
       "         [0.3373124 ]],\n",
       "\n",
       "        [[1.4242079 ],\n",
       "         [1.4242079 ],\n",
       "         [1.3867288 ],\n",
       "         ...,\n",
       "         [0.26235408],\n",
       "         [0.29983324],\n",
       "         [0.29983324]],\n",
       "\n",
       "        ...,\n",
       "\n",
       "        [[0.97445804],\n",
       "         [0.97445804],\n",
       "         [0.9369789 ],\n",
       "         ...,\n",
       "         [0.11243746],\n",
       "         [0.11243746],\n",
       "         [0.07495831]],\n",
       "\n",
       "        [[0.97445804],\n",
       "         [0.97445804],\n",
       "         [0.9369789 ],\n",
       "         ...,\n",
       "         [0.11243746],\n",
       "         [0.07495831],\n",
       "         [0.07495831]],\n",
       "\n",
       "        [[0.97445804],\n",
       "         [0.97445804],\n",
       "         [0.9369789 ],\n",
       "         ...,\n",
       "         [0.07495831],\n",
       "         [0.07495831],\n",
       "         [0.03747915]]],\n",
       "\n",
       "\n",
       "       ...,\n",
       "\n",
       "\n",
       "       [[[1.4991663 ],\n",
       "         [1.4991663 ],\n",
       "         [1.4991663 ],\n",
       "         ...,\n",
       "         [0.29983324],\n",
       "         [0.29983324],\n",
       "         [0.29983324]],\n",
       "\n",
       "        [[1.4242079 ],\n",
       "         [1.4242079 ],\n",
       "         [1.4242079 ],\n",
       "         ...,\n",
       "         [0.29983324],\n",
       "         [0.29983324],\n",
       "         [0.29983324]],\n",
       "\n",
       "        [[1.4616871 ],\n",
       "         [1.4616871 ],\n",
       "         [1.4242079 ],\n",
       "         ...,\n",
       "         [0.29983324],\n",
       "         [0.26235408],\n",
       "         [0.26235408]],\n",
       "\n",
       "        ...,\n",
       "\n",
       "        [[1.0868955 ],\n",
       "         [1.0494163 ],\n",
       "         [1.0494163 ],\n",
       "         ...,\n",
       "         [0.07495831],\n",
       "         [0.07495831],\n",
       "         [0.07495831]],\n",
       "\n",
       "        [[1.0494163 ],\n",
       "         [1.0494163 ],\n",
       "         [1.0494163 ],\n",
       "         ...,\n",
       "         [0.07495831],\n",
       "         [0.07495831],\n",
       "         [0.07495831]],\n",
       "\n",
       "        [[1.0494163 ],\n",
       "         [1.0494163 ],\n",
       "         [1.0494163 ],\n",
       "         ...,\n",
       "         [0.07495831],\n",
       "         [0.07495831],\n",
       "         [0.03747915]]],\n",
       "\n",
       "\n",
       "       [[[1.4991663 ],\n",
       "         [1.4991663 ],\n",
       "         [1.5366454 ],\n",
       "         ...,\n",
       "         [0.3373124 ],\n",
       "         [0.29983324],\n",
       "         [0.29983324]],\n",
       "\n",
       "        [[1.4242079 ],\n",
       "         [1.4242079 ],\n",
       "         [1.4616871 ],\n",
       "         ...,\n",
       "         [0.3373124 ],\n",
       "         [0.29983324],\n",
       "         [0.29983324]],\n",
       "\n",
       "        [[1.4616871 ],\n",
       "         [1.4616871 ],\n",
       "         [1.4242079 ],\n",
       "         ...,\n",
       "         [0.26235408],\n",
       "         [0.29983324],\n",
       "         [0.29983324]],\n",
       "\n",
       "        ...,\n",
       "\n",
       "        [[1.0494163 ],\n",
       "         [1.0119373 ],\n",
       "         [1.0119373 ],\n",
       "         ...,\n",
       "         [0.03747915],\n",
       "         [0.03747915],\n",
       "         [0.03747915]],\n",
       "\n",
       "        [[1.0494163 ],\n",
       "         [1.0119373 ],\n",
       "         [1.0119373 ],\n",
       "         ...,\n",
       "         [0.03747915],\n",
       "         [0.03747915],\n",
       "         [0.03747915]],\n",
       "\n",
       "        [[1.0119373 ],\n",
       "         [1.0119373 ],\n",
       "         [0.97445804],\n",
       "         ...,\n",
       "         [0.03747915],\n",
       "         [0.03747915],\n",
       "         [0.        ]]],\n",
       "\n",
       "\n",
       "       [[[1.4616871 ],\n",
       "         [1.4616871 ],\n",
       "         [1.4616871 ],\n",
       "         ...,\n",
       "         [0.29983324],\n",
       "         [0.29983324],\n",
       "         [0.29983324]],\n",
       "\n",
       "        [[1.4616871 ],\n",
       "         [1.4616871 ],\n",
       "         [1.4616871 ],\n",
       "         ...,\n",
       "         [0.29983324],\n",
       "         [0.29983324],\n",
       "         [0.29983324]],\n",
       "\n",
       "        [[1.4242079 ],\n",
       "         [1.4242079 ],\n",
       "         [1.3867288 ],\n",
       "         ...,\n",
       "         [0.29983324],\n",
       "         [0.29983324],\n",
       "         [0.29983324]],\n",
       "\n",
       "        ...,\n",
       "\n",
       "        [[1.0494163 ],\n",
       "         [1.0119373 ],\n",
       "         [1.0119373 ],\n",
       "         ...,\n",
       "         [0.03747915],\n",
       "         [0.03747915],\n",
       "         [0.03747915]],\n",
       "\n",
       "        [[0.97445804],\n",
       "         [0.9369789 ],\n",
       "         [0.97445804],\n",
       "         ...,\n",
       "         [0.03747915],\n",
       "         [0.03747915],\n",
       "         [0.03747915]],\n",
       "\n",
       "        [[0.97445804],\n",
       "         [0.9369789 ],\n",
       "         [0.97445804],\n",
       "         ...,\n",
       "         [0.03747915],\n",
       "         [0.03747915],\n",
       "         [0.        ]]]], dtype=float32)>"
      ]
     },
     "execution_count": 3,
     "metadata": {},
     "output_type": "execute_result"
    }
   ],
   "source": [
    "path=\"/kaggle/input/lipreading/data/s1/bbaf2n.mpg\"\n",
    "value=load_video(path)\n",
    "value"
   ]
  },
  {
   "cell_type": "markdown",
   "id": "66b71c34",
   "metadata": {
    "papermill": {
     "duration": 0.010342,
     "end_time": "2024-02-24T11:55:01.070443",
     "exception": false,
     "start_time": "2024-02-24T11:55:01.060101",
     "status": "completed"
    },
    "tags": []
   },
   "source": [
    "**Extracts information from files, and compiles a vocabulary list**"
   ]
  },
  {
   "cell_type": "code",
   "execution_count": 4,
   "id": "792b024d",
   "metadata": {
    "execution": {
     "iopub.execute_input": "2024-02-24T11:55:01.093164Z",
     "iopub.status.busy": "2024-02-24T11:55:01.092425Z",
     "iopub.status.idle": "2024-02-24T11:55:01.098141Z",
     "shell.execute_reply": "2024-02-24T11:55:01.097317Z"
    },
    "papermill": {
     "duration": 0.019097,
     "end_time": "2024-02-24T11:55:01.100094",
     "exception": false,
     "start_time": "2024-02-24T11:55:01.080997",
     "status": "completed"
    },
    "tags": []
   },
   "outputs": [],
   "source": [
    "#ADDITIONAL FUNCTION I MADE TO GET vocab WHICH IS A PARAMETER FOR THE CHAR_TO_NUM FUNCTION\n",
    "def get_vocab():\n",
    "    vocab=[]\n",
    "    directory=\"/kaggle/input/lipreading/data/alignments/s1\"\n",
    "    for file in os.listdir(directory):\n",
    "        file_path = os.path.join(directory, file)\n",
    "        with open(file_path, 'r') as f:\n",
    "            lines=f.readlines()\n",
    "            for line in lines:\n",
    "                line=line.split()\n",
    "                vocab.append(line[2])\n",
    "    return vocab       "
   ]
  },
  {
   "cell_type": "code",
   "execution_count": 5,
   "id": "7b7446fc",
   "metadata": {
    "execution": {
     "iopub.execute_input": "2024-02-24T11:55:01.122208Z",
     "iopub.status.busy": "2024-02-24T11:55:01.121953Z",
     "iopub.status.idle": "2024-02-24T11:55:08.130456Z",
     "shell.execute_reply": "2024-02-24T11:55:08.129672Z"
    },
    "papermill": {
     "duration": 7.022093,
     "end_time": "2024-02-24T11:55:08.132694",
     "exception": false,
     "start_time": "2024-02-24T11:55:01.110601",
     "status": "completed"
    },
    "tags": []
   },
   "outputs": [],
   "source": [
    "vocab=np.unique(get_vocab())"
   ]
  },
  {
   "cell_type": "code",
   "execution_count": 6,
   "id": "53040389",
   "metadata": {
    "execution": {
     "iopub.execute_input": "2024-02-24T11:55:08.156340Z",
     "iopub.status.busy": "2024-02-24T11:55:08.156068Z",
     "iopub.status.idle": "2024-02-24T11:55:08.161077Z",
     "shell.execute_reply": "2024-02-24T11:55:08.160118Z"
    },
    "papermill": {
     "duration": 0.018825,
     "end_time": "2024-02-24T11:55:08.163081",
     "exception": false,
     "start_time": "2024-02-24T11:55:08.144256",
     "status": "completed"
    },
    "tags": []
   },
   "outputs": [
    {
     "name": "stdout",
     "output_type": "stream",
     "text": [
      "['a' 'again' 'at' 'b' 'bin' 'blue' 'by' 'c' 'd' 'e' 'eight' 'f' 'five'\n",
      " 'four' 'g' 'green' 'h' 'i' 'in' 'j' 'k' 'l' 'lay' 'm' 'n' 'nine' 'now'\n",
      " 'o' 'one' 'p' 'place' 'please' 'q' 'r' 'red' 's' 'set' 'seven' 'sil'\n",
      " 'six' 'soon' 'sp' 't' 'three' 'two' 'u' 'v' 'white' 'with' 'x' 'y' 'z'\n",
      " 'zero']\n"
     ]
    }
   ],
   "source": [
    "print(vocab)"
   ]
  },
  {
   "cell_type": "markdown",
   "id": "98f5f283",
   "metadata": {
    "papermill": {
     "duration": 0.010567,
     "end_time": "2024-02-24T11:55:08.184332",
     "exception": false,
     "start_time": "2024-02-24T11:55:08.173765",
     "status": "completed"
    },
    "tags": []
   },
   "source": [
    "> Create a Mapping layers for preprocessing using tensorflow Stringlookup :tf.keras.layers.StringLookup"
   ]
  },
  {
   "cell_type": "code",
   "execution_count": 7,
   "id": "7dc28754",
   "metadata": {
    "execution": {
     "iopub.execute_input": "2024-02-24T11:55:08.207025Z",
     "iopub.status.busy": "2024-02-24T11:55:08.206763Z",
     "iopub.status.idle": "2024-02-24T11:55:08.376266Z",
     "shell.execute_reply": "2024-02-24T11:55:08.375453Z"
    },
    "papermill": {
     "duration": 0.183665,
     "end_time": "2024-02-24T11:55:08.378739",
     "exception": false,
     "start_time": "2024-02-24T11:55:08.195074",
     "status": "completed"
    },
    "tags": []
   },
   "outputs": [],
   "source": [
    "char_to_num= tf.keras.layers.StringLookup(vocabulary=vocab, oov_token=\"\")\n",
    "num_to_char=tf.keras.layers.StringLookup(vocabulary=char_to_num.get_vocabulary(), oov_token=\"\",invert=True)"
   ]
  },
  {
   "cell_type": "markdown",
   "id": "412fc7f6",
   "metadata": {
    "papermill": {
     "duration": 0.011108,
     "end_time": "2024-02-24T11:55:08.402844",
     "exception": false,
     "start_time": "2024-02-24T11:55:08.391736",
     "status": "completed"
    },
    "tags": []
   },
   "source": [
    "> char_to_num StringLookup Layer:\n",
    "> \n",
    "> tf.keras.layers.StringLookup is used to create a layer that maps characters to numerical indices.\n",
    "> The vocabulary parameter is set to your vocab, which is the list of characters obtained from your get_vocab function.\n",
    "> oov_token stands for \"out-of-vocabulary\" token and is set to an empty string (\"\"). This token is used for unseen characters during inference.\n",
    "> num_to_char StringLookup Layer:\n",
    "> \n",
    "> Another StringLookup layer is created to map numerical indices back to characters.\n",
    "> The vocabulary parameter is set to the vocabulary obtained from the char_to_num layer using char_to_num.get_vocabulary().\n",
    "> oov_token is also set to an empty string (\"\"), and invert is set to True, indicating that this layer should perform an inverse mapping."
   ]
  },
  {
   "cell_type": "markdown",
   "id": "6e00a9ce",
   "metadata": {
    "papermill": {
     "duration": 0.011469,
     "end_time": "2024-02-24T11:55:08.425347",
     "exception": false,
     "start_time": "2024-02-24T11:55:08.413878",
     "status": "completed"
    },
    "tags": []
   },
   "source": [
    "> *After convert the alignments to a num (Conversion to Numerical Indices) ---> reshape the tensor to one dim tensor*"
   ]
  },
  {
   "cell_type": "code",
   "execution_count": 8,
   "id": "57ab2cb3",
   "metadata": {
    "execution": {
     "iopub.execute_input": "2024-02-24T11:55:08.448513Z",
     "iopub.status.busy": "2024-02-24T11:55:08.448245Z",
     "iopub.status.idle": "2024-02-24T11:55:08.454191Z",
     "shell.execute_reply": "2024-02-24T11:55:08.453396Z"
    },
    "papermill": {
     "duration": 0.019531,
     "end_time": "2024-02-24T11:55:08.456078",
     "exception": false,
     "start_time": "2024-02-24T11:55:08.436547",
     "status": "completed"
    },
    "tags": []
   },
   "outputs": [],
   "source": [
    "def load_alignments(path:str) -> List[str]:\n",
    "    with open(path, 'r') as f:\n",
    "        lines=f.readlines()\n",
    "        \n",
    "            \n",
    "        \n",
    "    tokens=[]\n",
    "    for line in lines:\n",
    "        line=line.split()\n",
    "        if line[2]!= 'sil':\n",
    "            tokens= [*tokens,' ',line[2]]\n",
    "        \n",
    "    return char_to_num(tf.reshape(tf.strings.unicode_split(tokens,input_encoding='UTF-8'),(-1)))[1:]"
   ]
  },
  {
   "cell_type": "code",
   "execution_count": 9,
   "id": "4f41cb0d",
   "metadata": {
    "execution": {
     "iopub.execute_input": "2024-02-24T11:55:08.478920Z",
     "iopub.status.busy": "2024-02-24T11:55:08.478611Z",
     "iopub.status.idle": "2024-02-24T11:55:08.516169Z",
     "shell.execute_reply": "2024-02-24T11:55:08.515314Z"
    },
    "papermill": {
     "duration": 0.051093,
     "end_time": "2024-02-24T11:55:08.518131",
     "exception": false,
     "start_time": "2024-02-24T11:55:08.467038",
     "status": "completed"
    },
    "tags": []
   },
   "outputs": [
    {
     "data": {
      "text/plain": [
       "<tf.Tensor: shape=(21,), dtype=int64, numpy=\n",
       "array([ 4, 18, 25,  0,  4, 22, 46, 10,  0,  1, 43,  0, 12,  0, 43,  0, 28,\n",
       "        0, 25, 28,  0])>"
      ]
     },
     "execution_count": 9,
     "metadata": {},
     "output_type": "execute_result"
    }
   ],
   "source": [
    "path=\"/kaggle/input/lipreading/data/alignments/s1/bbaf2n.align\"\n",
    "load_alignments(path)\n"
   ]
  },
  {
   "cell_type": "code",
   "execution_count": 10,
   "id": "e644a62b",
   "metadata": {
    "execution": {
     "iopub.execute_input": "2024-02-24T11:55:08.542554Z",
     "iopub.status.busy": "2024-02-24T11:55:08.542254Z",
     "iopub.status.idle": "2024-02-24T11:55:08.547948Z",
     "shell.execute_reply": "2024-02-24T11:55:08.547055Z"
    },
    "papermill": {
     "duration": 0.01994,
     "end_time": "2024-02-24T11:55:08.549948",
     "exception": false,
     "start_time": "2024-02-24T11:55:08.530008",
     "status": "completed"
    },
    "tags": []
   },
   "outputs": [],
   "source": [
    "def load_data(path:str):\n",
    "    path=bytes.decode(path.numpy())\n",
    "    file_name=path.split('/')[-1].split('.')[0]\n",
    "    video_path=os.path.join('/kaggle/input/lipreading/data','s1',f'{file_name}.mpg')\n",
    "    alignment_path=os.path.join('/kaggle/input/lipreading/data','alignments','s1',f'{file_name}.align')\n",
    "    frames=load_video(video_path)\n",
    "    alignments=load_alignments(alignment_path)\n",
    "    \n",
    "    return frames,alignments"
   ]
  },
  {
   "cell_type": "code",
   "execution_count": 11,
   "id": "b02e0327",
   "metadata": {
    "execution": {
     "iopub.execute_input": "2024-02-24T11:55:08.573074Z",
     "iopub.status.busy": "2024-02-24T11:55:08.572799Z",
     "iopub.status.idle": "2024-02-24T11:55:08.810192Z",
     "shell.execute_reply": "2024-02-24T11:55:08.807553Z"
    },
    "papermill": {
     "duration": 0.251855,
     "end_time": "2024-02-24T11:55:08.813032",
     "exception": false,
     "start_time": "2024-02-24T11:55:08.561177",
     "status": "completed"
    },
    "tags": []
   },
   "outputs": [
    {
     "name": "stdout",
     "output_type": "stream",
     "text": [
      "frames: tf.Tensor(\n",
      "[[[[1.4991663 ]\n",
      "   [1.4991663 ]\n",
      "   [1.4616871 ]\n",
      "   ...\n",
      "   [0.41227072]\n",
      "   [0.41227072]\n",
      "   [0.41227072]]\n",
      "\n",
      "  [[1.4991663 ]\n",
      "   [1.4991663 ]\n",
      "   [1.4616871 ]\n",
      "   ...\n",
      "   [0.41227072]\n",
      "   [0.41227072]\n",
      "   [0.41227072]]\n",
      "\n",
      "  [[1.4616871 ]\n",
      "   [1.4616871 ]\n",
      "   [1.4991663 ]\n",
      "   ...\n",
      "   [0.3373124 ]\n",
      "   [0.3373124 ]\n",
      "   [0.3373124 ]]\n",
      "\n",
      "  ...\n",
      "\n",
      "  [[1.0494163 ]\n",
      "   [1.0494163 ]\n",
      "   [1.0119373 ]\n",
      "   ...\n",
      "   [0.11243746]\n",
      "   [0.11243746]\n",
      "   [0.07495831]]\n",
      "\n",
      "  [[1.0494163 ]\n",
      "   [1.0494163 ]\n",
      "   [1.0119373 ]\n",
      "   ...\n",
      "   [0.11243746]\n",
      "   [0.07495831]\n",
      "   [0.07495831]]\n",
      "\n",
      "  [[1.0494163 ]\n",
      "   [1.0494163 ]\n",
      "   [1.0119373 ]\n",
      "   ...\n",
      "   [0.07495831]\n",
      "   [0.07495831]\n",
      "   [0.03747915]]]\n",
      "\n",
      "\n",
      " [[[1.4242079 ]\n",
      "   [1.4242079 ]\n",
      "   [1.4242079 ]\n",
      "   ...\n",
      "   [0.3373124 ]\n",
      "   [0.3373124 ]\n",
      "   [0.3373124 ]]\n",
      "\n",
      "  [[1.4242079 ]\n",
      "   [1.4242079 ]\n",
      "   [1.4242079 ]\n",
      "   ...\n",
      "   [0.3373124 ]\n",
      "   [0.3373124 ]\n",
      "   [0.3373124 ]]\n",
      "\n",
      "  [[1.4242079 ]\n",
      "   [1.4242079 ]\n",
      "   [1.4242079 ]\n",
      "   ...\n",
      "   [0.29983324]\n",
      "   [0.29983324]\n",
      "   [0.29983324]]\n",
      "\n",
      "  ...\n",
      "\n",
      "  [[1.0494163 ]\n",
      "   [1.0494163 ]\n",
      "   [1.0119373 ]\n",
      "   ...\n",
      "   [0.11243746]\n",
      "   [0.11243746]\n",
      "   [0.07495831]]\n",
      "\n",
      "  [[1.0494163 ]\n",
      "   [1.0494163 ]\n",
      "   [1.0119373 ]\n",
      "   ...\n",
      "   [0.11243746]\n",
      "   [0.07495831]\n",
      "   [0.07495831]]\n",
      "\n",
      "  [[1.0494163 ]\n",
      "   [1.0494163 ]\n",
      "   [1.0119373 ]\n",
      "   ...\n",
      "   [0.07495831]\n",
      "   [0.07495831]\n",
      "   [0.03747915]]]\n",
      "\n",
      "\n",
      " [[[1.3492496 ]\n",
      "   [1.3492496 ]\n",
      "   [1.3492496 ]\n",
      "   ...\n",
      "   [0.3373124 ]\n",
      "   [0.3373124 ]\n",
      "   [0.3373124 ]]\n",
      "\n",
      "  [[1.3492496 ]\n",
      "   [1.3492496 ]\n",
      "   [1.3492496 ]\n",
      "   ...\n",
      "   [0.3373124 ]\n",
      "   [0.3373124 ]\n",
      "   [0.3373124 ]]\n",
      "\n",
      "  [[1.4242079 ]\n",
      "   [1.4242079 ]\n",
      "   [1.3867288 ]\n",
      "   ...\n",
      "   [0.26235408]\n",
      "   [0.29983324]\n",
      "   [0.29983324]]\n",
      "\n",
      "  ...\n",
      "\n",
      "  [[0.97445804]\n",
      "   [0.97445804]\n",
      "   [0.9369789 ]\n",
      "   ...\n",
      "   [0.11243746]\n",
      "   [0.11243746]\n",
      "   [0.07495831]]\n",
      "\n",
      "  [[0.97445804]\n",
      "   [0.97445804]\n",
      "   [0.9369789 ]\n",
      "   ...\n",
      "   [0.11243746]\n",
      "   [0.07495831]\n",
      "   [0.07495831]]\n",
      "\n",
      "  [[0.97445804]\n",
      "   [0.97445804]\n",
      "   [0.9369789 ]\n",
      "   ...\n",
      "   [0.07495831]\n",
      "   [0.07495831]\n",
      "   [0.03747915]]]\n",
      "\n",
      "\n",
      " ...\n",
      "\n",
      "\n",
      " [[[1.4991663 ]\n",
      "   [1.4991663 ]\n",
      "   [1.4991663 ]\n",
      "   ...\n",
      "   [0.29983324]\n",
      "   [0.29983324]\n",
      "   [0.29983324]]\n",
      "\n",
      "  [[1.4242079 ]\n",
      "   [1.4242079 ]\n",
      "   [1.4242079 ]\n",
      "   ...\n",
      "   [0.29983324]\n",
      "   [0.29983324]\n",
      "   [0.29983324]]\n",
      "\n",
      "  [[1.4616871 ]\n",
      "   [1.4616871 ]\n",
      "   [1.4242079 ]\n",
      "   ...\n",
      "   [0.29983324]\n",
      "   [0.26235408]\n",
      "   [0.26235408]]\n",
      "\n",
      "  ...\n",
      "\n",
      "  [[1.0868955 ]\n",
      "   [1.0494163 ]\n",
      "   [1.0494163 ]\n",
      "   ...\n",
      "   [0.07495831]\n",
      "   [0.07495831]\n",
      "   [0.07495831]]\n",
      "\n",
      "  [[1.0494163 ]\n",
      "   [1.0494163 ]\n",
      "   [1.0494163 ]\n",
      "   ...\n",
      "   [0.07495831]\n",
      "   [0.07495831]\n",
      "   [0.07495831]]\n",
      "\n",
      "  [[1.0494163 ]\n",
      "   [1.0494163 ]\n",
      "   [1.0494163 ]\n",
      "   ...\n",
      "   [0.07495831]\n",
      "   [0.07495831]\n",
      "   [0.03747915]]]\n",
      "\n",
      "\n",
      " [[[1.4991663 ]\n",
      "   [1.4991663 ]\n",
      "   [1.5366454 ]\n",
      "   ...\n",
      "   [0.3373124 ]\n",
      "   [0.29983324]\n",
      "   [0.29983324]]\n",
      "\n",
      "  [[1.4242079 ]\n",
      "   [1.4242079 ]\n",
      "   [1.4616871 ]\n",
      "   ...\n",
      "   [0.3373124 ]\n",
      "   [0.29983324]\n",
      "   [0.29983324]]\n",
      "\n",
      "  [[1.4616871 ]\n",
      "   [1.4616871 ]\n",
      "   [1.4242079 ]\n",
      "   ...\n",
      "   [0.26235408]\n",
      "   [0.29983324]\n",
      "   [0.29983324]]\n",
      "\n",
      "  ...\n",
      "\n",
      "  [[1.0494163 ]\n",
      "   [1.0119373 ]\n",
      "   [1.0119373 ]\n",
      "   ...\n",
      "   [0.03747915]\n",
      "   [0.03747915]\n",
      "   [0.03747915]]\n",
      "\n",
      "  [[1.0494163 ]\n",
      "   [1.0119373 ]\n",
      "   [1.0119373 ]\n",
      "   ...\n",
      "   [0.03747915]\n",
      "   [0.03747915]\n",
      "   [0.03747915]]\n",
      "\n",
      "  [[1.0119373 ]\n",
      "   [1.0119373 ]\n",
      "   [0.97445804]\n",
      "   ...\n",
      "   [0.03747915]\n",
      "   [0.03747915]\n",
      "   [0.        ]]]\n",
      "\n",
      "\n",
      " [[[1.4616871 ]\n",
      "   [1.4616871 ]\n",
      "   [1.4616871 ]\n",
      "   ...\n",
      "   [0.29983324]\n",
      "   [0.29983324]\n",
      "   [0.29983324]]\n",
      "\n",
      "  [[1.4616871 ]\n",
      "   [1.4616871 ]\n",
      "   [1.4616871 ]\n",
      "   ...\n",
      "   [0.29983324]\n",
      "   [0.29983324]\n",
      "   [0.29983324]]\n",
      "\n",
      "  [[1.4242079 ]\n",
      "   [1.4242079 ]\n",
      "   [1.3867288 ]\n",
      "   ...\n",
      "   [0.29983324]\n",
      "   [0.29983324]\n",
      "   [0.29983324]]\n",
      "\n",
      "  ...\n",
      "\n",
      "  [[1.0494163 ]\n",
      "   [1.0119373 ]\n",
      "   [1.0119373 ]\n",
      "   ...\n",
      "   [0.03747915]\n",
      "   [0.03747915]\n",
      "   [0.03747915]]\n",
      "\n",
      "  [[0.97445804]\n",
      "   [0.9369789 ]\n",
      "   [0.97445804]\n",
      "   ...\n",
      "   [0.03747915]\n",
      "   [0.03747915]\n",
      "   [0.03747915]]\n",
      "\n",
      "  [[0.97445804]\n",
      "   [0.9369789 ]\n",
      "   [0.97445804]\n",
      "   ...\n",
      "   [0.03747915]\n",
      "   [0.03747915]\n",
      "   [0.        ]]]], shape=(75, 46, 140, 1), dtype=float32)\n",
      "alignments: tf.Tensor([ 4 18 25  0  4 22 46 10  0  1 43  0 12  0 43  0 28  0 25 28  0], shape=(21,), dtype=int64)\n"
     ]
    }
   ],
   "source": [
    "#TESTING THE OUTPUT FOR A SAMPLE FILE\n",
    "path=\"/kaggle/input/lipreading/data/s1/bbaf2n.mpg\"\n",
    "frames, alignments=load_data(tf.convert_to_tensor(path))\n",
    "print(\"frames:\",frames)\n",
    "print(\"alignments:\",alignments)"
   ]
  },
  {
   "cell_type": "code",
   "execution_count": 12,
   "id": "373baa4b",
   "metadata": {
    "execution": {
     "iopub.execute_input": "2024-02-24T11:55:08.838099Z",
     "iopub.status.busy": "2024-02-24T11:55:08.837791Z",
     "iopub.status.idle": "2024-02-24T11:55:09.050529Z",
     "shell.execute_reply": "2024-02-24T11:55:09.049601Z"
    },
    "papermill": {
     "duration": 0.226894,
     "end_time": "2024-02-24T11:55:09.052615",
     "exception": false,
     "start_time": "2024-02-24T11:55:08.825721",
     "status": "completed"
    },
    "tags": []
   },
   "outputs": [
    {
     "data": {
      "text/plain": [
       "<matplotlib.image.AxesImage at 0x7f48b1b80400>"
      ]
     },
     "execution_count": 12,
     "metadata": {},
     "output_type": "execute_result"
    },
    {
     "data": {
      "image/png": "[encoded data removed]",
      "text/plain": [
       "<Figure size 640x480 with 1 Axes>"
      ]
     },
     "metadata": {},
     "output_type": "display_data"
    }
   ],
   "source": [
    "plt.imshow(frames[15])"
   ]
  },
  {
   "cell_type": "markdown",
   "id": "4d98560b",
   "metadata": {
    "papermill": {
     "duration": 0.012205,
     "end_time": "2024-02-24T11:55:09.078457",
     "exception": false,
     "start_time": "2024-02-24T11:55:09.066252",
     "status": "completed"
    },
    "tags": []
   },
   "source": [
    "**\n",
    "Sets up a TensorFlow data pipeline for loading lipreading data from video file**"
   ]
  },
  {
   "cell_type": "code",
   "execution_count": 13,
   "id": "557314e1",
   "metadata": {
    "execution": {
     "iopub.execute_input": "2024-02-24T11:55:09.104479Z",
     "iopub.status.busy": "2024-02-24T11:55:09.103941Z",
     "iopub.status.idle": "2024-02-24T11:55:09.108550Z",
     "shell.execute_reply": "2024-02-24T11:55:09.107686Z"
    },
    "papermill": {
     "duration": 0.020131,
     "end_time": "2024-02-24T11:55:09.110671",
     "exception": false,
     "start_time": "2024-02-24T11:55:09.090540",
     "status": "completed"
    },
    "tags": []
   },
   "outputs": [],
   "source": [
    "def mappable_function(path:str) ->List[str]:\n",
    "    result = tf.py_function(load_data, [path], (tf.float32, tf.int64))\n",
    "    return result"
   ]
  },
  {
   "cell_type": "code",
   "execution_count": 14,
   "id": "71eab3e3",
   "metadata": {
    "execution": {
     "iopub.execute_input": "2024-02-24T11:55:09.136732Z",
     "iopub.status.busy": "2024-02-24T11:55:09.135938Z",
     "iopub.status.idle": "2024-02-24T11:55:10.189189Z",
     "shell.execute_reply": "2024-02-24T11:55:10.188401Z"
    },
    "papermill": {
     "duration": 1.068647,
     "end_time": "2024-02-24T11:55:10.191526",
     "exception": false,
     "start_time": "2024-02-24T11:55:09.122879",
     "status": "completed"
    },
    "tags": []
   },
   "outputs": [],
   "source": [
    "data = tf.data.Dataset.list_files('/kaggle/input/lipreading/data/s1/*.mpg')\n",
    "data = data.shuffle(500,reshuffle_each_iteration=False)\n",
    "data = data.map(mappable_function)\n",
    "data = data.padded_batch(2, padded_shapes=([75,None,None,None],[40]))\n",
    "data = data.prefetch(tf.data.AUTOTUNE)\n",
    "# # ADDED DOR SPLIT\n",
    "train = data.take(450)\n",
    "test = data.skip(450)"
   ]
  },
  {
   "cell_type": "code",
   "execution_count": 15,
   "id": "dffdb222",
   "metadata": {
    "execution": {
     "iopub.execute_input": "2024-02-24T11:55:10.216649Z",
     "iopub.status.busy": "2024-02-24T11:55:10.216359Z",
     "iopub.status.idle": "2024-02-24T11:55:10.969440Z",
     "shell.execute_reply": "2024-02-24T11:55:10.968510Z"
    },
    "papermill": {
     "duration": 0.76806,
     "end_time": "2024-02-24T11:55:10.971855",
     "exception": false,
     "start_time": "2024-02-24T11:55:10.203795",
     "status": "completed"
    },
    "tags": []
   },
   "outputs": [],
   "source": [
    "frames, alighnments = data.as_numpy_iterator().next()"
   ]
  },
  {
   "cell_type": "code",
   "execution_count": 16,
   "id": "343da6e3",
   "metadata": {
    "execution": {
     "iopub.execute_input": "2024-02-24T11:55:10.997714Z",
     "iopub.status.busy": "2024-02-24T11:55:10.997384Z",
     "iopub.status.idle": "2024-02-24T11:55:11.006521Z",
     "shell.execute_reply": "2024-02-24T11:55:11.005823Z"
    },
    "papermill": {
     "duration": 0.023604,
     "end_time": "2024-02-24T11:55:11.008398",
     "exception": false,
     "start_time": "2024-02-24T11:55:10.984794",
     "status": "completed"
    },
    "tags": []
   },
   "outputs": [],
   "source": [
    "sample = data.as_numpy_iterator()"
   ]
  },
  {
   "cell_type": "code",
   "execution_count": 17,
   "id": "de1bb7e0",
   "metadata": {
    "execution": {
     "iopub.execute_input": "2024-02-24T11:55:11.032890Z",
     "iopub.status.busy": "2024-02-24T11:55:11.032603Z",
     "iopub.status.idle": "2024-02-24T11:55:11.513423Z",
     "shell.execute_reply": "2024-02-24T11:55:11.512364Z"
    },
    "papermill": {
     "duration": 0.496126,
     "end_time": "2024-02-24T11:55:11.516242",
     "exception": false,
     "start_time": "2024-02-24T11:55:11.020116",
     "status": "completed"
    },
    "tags": []
   },
   "outputs": [
    {
     "data": {
      "text/plain": [
       "array([[[[[1.4972    ],\n",
       "          [1.4588102 ],\n",
       "          [1.1516923 ],\n",
       "          ...,\n",
       "          [0.34550768],\n",
       "          [0.30711794],\n",
       "          [0.30711794]],\n",
       "\n",
       "         [[1.4972    ],\n",
       "          [1.4588102 ],\n",
       "          [0.9597436 ],\n",
       "          ...,\n",
       "          [0.34550768],\n",
       "          [0.30711794],\n",
       "          [0.30711794]],\n",
       "\n",
       "         [[1.4972    ],\n",
       "          [1.4972    ],\n",
       "          [1.3820307 ],\n",
       "          ...,\n",
       "          [0.34550768],\n",
       "          [0.30711794],\n",
       "          [0.30711794]],\n",
       "\n",
       "         ...,\n",
       "\n",
       "         [[1.1516923 ],\n",
       "          [1.0749128 ],\n",
       "          [1.0749128 ],\n",
       "          ...,\n",
       "          [0.        ],\n",
       "          [0.        ],\n",
       "          [0.        ]],\n",
       "\n",
       "         [[1.0749128 ],\n",
       "          [1.0749128 ],\n",
       "          [1.0749128 ],\n",
       "          ...,\n",
       "          [9.789385  ],\n",
       "          [9.789385  ],\n",
       "          [9.789385  ]],\n",
       "\n",
       "         [[1.0749128 ],\n",
       "          [1.0749128 ],\n",
       "          [1.0749128 ],\n",
       "          ...,\n",
       "          [9.789385  ],\n",
       "          [9.789385  ],\n",
       "          [9.789385  ]]],\n",
       "\n",
       "\n",
       "        [[[1.4588102 ],\n",
       "          [1.3820307 ],\n",
       "          [1.2668616 ],\n",
       "          ...,\n",
       "          [0.34550768],\n",
       "          [0.30711794],\n",
       "          [0.30711794]],\n",
       "\n",
       "         [[1.4204205 ],\n",
       "          [1.3052512 ],\n",
       "          [1.2284718 ],\n",
       "          ...,\n",
       "          [0.34550768],\n",
       "          [0.30711794],\n",
       "          [0.30711794]],\n",
       "\n",
       "         [[1.4204205 ],\n",
       "          [1.4204205 ],\n",
       "          [1.3820307 ],\n",
       "          ...,\n",
       "          [0.30711794],\n",
       "          [0.2687282 ],\n",
       "          [0.2687282 ]],\n",
       "\n",
       "         ...,\n",
       "\n",
       "         [[1.0749128 ],\n",
       "          [1.0365231 ],\n",
       "          [1.0365231 ],\n",
       "          ...,\n",
       "          [9.789385  ],\n",
       "          [9.789385  ],\n",
       "          [9.789385  ]],\n",
       "\n",
       "         [[1.0365231 ],\n",
       "          [1.0365231 ],\n",
       "          [1.0365231 ],\n",
       "          ...,\n",
       "          [9.789385  ],\n",
       "          [9.789385  ],\n",
       "          [9.789385  ]],\n",
       "\n",
       "         [[1.0365231 ],\n",
       "          [1.0365231 ],\n",
       "          [1.0365231 ],\n",
       "          ...,\n",
       "          [9.789385  ],\n",
       "          [9.789385  ],\n",
       "          [9.789385  ]]],\n",
       "\n",
       "\n",
       "        [[[1.5355897 ],\n",
       "          [1.343641  ],\n",
       "          [1.343641  ],\n",
       "          ...,\n",
       "          [0.2687282 ],\n",
       "          [0.2687282 ],\n",
       "          [0.2687282 ]],\n",
       "\n",
       "         [[1.4204205 ],\n",
       "          [1.3052512 ],\n",
       "          [1.343641  ],\n",
       "          ...,\n",
       "          [0.2687282 ],\n",
       "          [0.2687282 ],\n",
       "          [0.2687282 ]],\n",
       "\n",
       "         [[1.4204205 ],\n",
       "          [1.4204205 ],\n",
       "          [1.3820307 ],\n",
       "          ...,\n",
       "          [0.30711794],\n",
       "          [0.2687282 ],\n",
       "          [0.2687282 ]],\n",
       "\n",
       "         ...,\n",
       "\n",
       "         [[1.0749128 ],\n",
       "          [1.0365231 ],\n",
       "          [1.0365231 ],\n",
       "          ...,\n",
       "          [9.789385  ],\n",
       "          [9.789385  ],\n",
       "          [9.789385  ]],\n",
       "\n",
       "         [[1.0365231 ],\n",
       "          [1.0365231 ],\n",
       "          [1.0365231 ],\n",
       "          ...,\n",
       "          [9.789385  ],\n",
       "          [9.789385  ],\n",
       "          [9.789385  ]],\n",
       "\n",
       "         [[1.0365231 ],\n",
       "          [1.0365231 ],\n",
       "          [1.0365231 ],\n",
       "          ...,\n",
       "          [9.789385  ],\n",
       "          [9.789385  ],\n",
       "          [9.789385  ]]],\n",
       "\n",
       "\n",
       "        ...,\n",
       "\n",
       "\n",
       "        [[[1.3052512 ],\n",
       "          [1.343641  ],\n",
       "          [0.88296413],\n",
       "          ...,\n",
       "          [0.2687282 ],\n",
       "          [0.2687282 ],\n",
       "          [0.23033847]],\n",
       "\n",
       "         [[1.343641  ],\n",
       "          [1.3052512 ],\n",
       "          [0.9213539 ],\n",
       "          ...,\n",
       "          [0.2687282 ],\n",
       "          [0.2687282 ],\n",
       "          [0.23033847]],\n",
       "\n",
       "         [[1.4588102 ],\n",
       "          [1.3820307 ],\n",
       "          [1.1516923 ],\n",
       "          ...,\n",
       "          [0.2687282 ],\n",
       "          [0.2687282 ],\n",
       "          [0.2687282 ]],\n",
       "\n",
       "         ...,\n",
       "\n",
       "         [[1.0749128 ],\n",
       "          [1.0749128 ],\n",
       "          [1.0749128 ],\n",
       "          ...,\n",
       "          [0.        ],\n",
       "          [0.        ],\n",
       "          [0.        ]],\n",
       "\n",
       "         [[1.0749128 ],\n",
       "          [1.0749128 ],\n",
       "          [1.0749128 ],\n",
       "          ...,\n",
       "          [0.        ],\n",
       "          [0.        ],\n",
       "          [0.        ]],\n",
       "\n",
       "         [[1.0749128 ],\n",
       "          [1.0749128 ],\n",
       "          [1.0365231 ],\n",
       "          ...,\n",
       "          [0.        ],\n",
       "          [0.        ],\n",
       "          [9.789385  ]]],\n",
       "\n",
       "\n",
       "        [[[1.3052512 ],\n",
       "          [1.343641  ],\n",
       "          [0.9597436 ],\n",
       "          ...,\n",
       "          [0.30711794],\n",
       "          [0.2687282 ],\n",
       "          [0.23033847]],\n",
       "\n",
       "         [[1.343641  ],\n",
       "          [1.343641  ],\n",
       "          [0.9213539 ],\n",
       "          ...,\n",
       "          [0.30711794],\n",
       "          [0.2687282 ],\n",
       "          [0.23033847]],\n",
       "\n",
       "         [[1.4588102 ],\n",
       "          [1.4588102 ],\n",
       "          [1.2284718 ],\n",
       "          ...,\n",
       "          [0.30711794],\n",
       "          [0.30711794],\n",
       "          [0.30711794]],\n",
       "\n",
       "         ...,\n",
       "\n",
       "         [[1.0365231 ],\n",
       "          [1.0365231 ],\n",
       "          [1.0365231 ],\n",
       "          ...,\n",
       "          [0.        ],\n",
       "          [0.        ],\n",
       "          [0.        ]],\n",
       "\n",
       "         [[1.0365231 ],\n",
       "          [1.0365231 ],\n",
       "          [1.0365231 ],\n",
       "          ...,\n",
       "          [0.        ],\n",
       "          [0.        ],\n",
       "          [0.        ]],\n",
       "\n",
       "         [[1.0365231 ],\n",
       "          [1.0365231 ],\n",
       "          [0.99813336],\n",
       "          ...,\n",
       "          [0.        ],\n",
       "          [0.        ],\n",
       "          [9.789385  ]]],\n",
       "\n",
       "\n",
       "        [[[1.343641  ],\n",
       "          [1.3820307 ],\n",
       "          [0.9597436 ],\n",
       "          ...,\n",
       "          [0.30711794],\n",
       "          [0.30711794],\n",
       "          [0.2687282 ]],\n",
       "\n",
       "         [[1.4204205 ],\n",
       "          [1.3820307 ],\n",
       "          [0.9213539 ],\n",
       "          ...,\n",
       "          [0.30711794],\n",
       "          [0.30711794],\n",
       "          [0.2687282 ]],\n",
       "\n",
       "         [[1.4972    ],\n",
       "          [1.3820307 ],\n",
       "          [1.2284718 ],\n",
       "          ...,\n",
       "          [0.2687282 ],\n",
       "          [0.2687282 ],\n",
       "          [0.23033847]],\n",
       "\n",
       "         ...,\n",
       "\n",
       "         [[1.0749128 ],\n",
       "          [1.0749128 ],\n",
       "          [1.0749128 ],\n",
       "          ...,\n",
       "          [0.        ],\n",
       "          [0.        ],\n",
       "          [0.        ]],\n",
       "\n",
       "         [[1.0749128 ],\n",
       "          [1.0749128 ],\n",
       "          [1.0749128 ],\n",
       "          ...,\n",
       "          [0.        ],\n",
       "          [0.        ],\n",
       "          [0.        ]],\n",
       "\n",
       "         [[1.0749128 ],\n",
       "          [1.0749128 ],\n",
       "          [1.0365231 ],\n",
       "          ...,\n",
       "          [0.        ],\n",
       "          [0.        ],\n",
       "          [9.789385  ]]]],\n",
       "\n",
       "\n",
       "\n",
       "       [[[[1.46119   ],\n",
       "          [1.46119   ],\n",
       "          [1.4237236 ],\n",
       "          ...,\n",
       "          [0.636929  ],\n",
       "          [0.8617274 ],\n",
       "          [0.7493282 ]],\n",
       "\n",
       "         [[1.46119   ],\n",
       "          [1.46119   ],\n",
       "          [1.4237236 ],\n",
       "          ...,\n",
       "          [0.7493282 ],\n",
       "          [0.7867946 ],\n",
       "          [0.56199616]],\n",
       "\n",
       "         [[1.3113244 ],\n",
       "          [1.3113244 ],\n",
       "          [1.3113244 ],\n",
       "          ...,\n",
       "          [0.52452976],\n",
       "          [0.7118618 ],\n",
       "          [0.        ]],\n",
       "\n",
       "         ...,\n",
       "\n",
       "         [[0.8991938 ],\n",
       "          [0.8991938 ],\n",
       "          [0.8991938 ],\n",
       "          ...,\n",
       "          [0.07493282],\n",
       "          [0.03746641],\n",
       "          [0.03746641]],\n",
       "\n",
       "         [[0.8991938 ],\n",
       "          [0.8991938 ],\n",
       "          [0.8991938 ],\n",
       "          ...,\n",
       "          [0.03746641],\n",
       "          [0.03746641],\n",
       "          [0.03746641]],\n",
       "\n",
       "         [[0.8991938 ],\n",
       "          [0.8991938 ],\n",
       "          [0.8991938 ],\n",
       "          ...,\n",
       "          [0.03746641],\n",
       "          [0.03746641],\n",
       "          [0.        ]]],\n",
       "\n",
       "\n",
       "        [[[1.46119   ],\n",
       "          [1.46119   ],\n",
       "          [1.4237236 ],\n",
       "          ...,\n",
       "          [0.7118618 ],\n",
       "          [0.7867946 ],\n",
       "          [0.59946257]],\n",
       "\n",
       "         [[1.3113244 ],\n",
       "          [1.3113244 ],\n",
       "          [1.3113244 ],\n",
       "          ...,\n",
       "          [0.7493282 ],\n",
       "          [0.8991938 ],\n",
       "          [0.636929  ]],\n",
       "\n",
       "         [[1.3113244 ],\n",
       "          [1.3113244 ],\n",
       "          [1.3113244 ],\n",
       "          ...,\n",
       "          [0.48706332],\n",
       "          [0.7867946 ],\n",
       "          [0.        ]],\n",
       "\n",
       "         ...,\n",
       "\n",
       "         [[1.0115931 ],\n",
       "          [1.0115931 ],\n",
       "          [0.8617274 ],\n",
       "          ...,\n",
       "          [0.07493282],\n",
       "          [0.03746641],\n",
       "          [0.03746641]],\n",
       "\n",
       "         [[1.0115931 ],\n",
       "          [1.0115931 ],\n",
       "          [0.8991938 ],\n",
       "          ...,\n",
       "          [0.07493282],\n",
       "          [0.03746641],\n",
       "          [0.03746641]],\n",
       "\n",
       "         [[1.0865259 ],\n",
       "          [1.0865259 ],\n",
       "          [0.8991938 ],\n",
       "          ...,\n",
       "          [0.07493282],\n",
       "          [0.03746641],\n",
       "          [0.        ]]],\n",
       "\n",
       "\n",
       "        [[[1.3487908 ],\n",
       "          [1.3487908 ],\n",
       "          [1.3113244 ],\n",
       "          ...,\n",
       "          [0.6743954 ],\n",
       "          [0.7118618 ],\n",
       "          [0.636929  ]],\n",
       "\n",
       "         [[1.3487908 ],\n",
       "          [1.3487908 ],\n",
       "          [1.3113244 ],\n",
       "          ...,\n",
       "          [0.52452976],\n",
       "          [0.7118618 ],\n",
       "          [0.59946257]],\n",
       "\n",
       "         [[1.3487908 ],\n",
       "          [1.3487908 ],\n",
       "          [1.3487908 ],\n",
       "          ...,\n",
       "          [0.48706332],\n",
       "          [0.636929  ],\n",
       "          [0.07493282]],\n",
       "\n",
       "         ...,\n",
       "\n",
       "         [[1.0115931 ],\n",
       "          [1.0115931 ],\n",
       "          [0.93666023],\n",
       "          ...,\n",
       "          [0.07493282],\n",
       "          [0.03746641],\n",
       "          [0.03746641]],\n",
       "\n",
       "         [[0.97412664],\n",
       "          [0.97412664],\n",
       "          [0.8991938 ],\n",
       "          ...,\n",
       "          [0.03746641],\n",
       "          [0.03746641],\n",
       "          [0.03746641]],\n",
       "\n",
       "         [[1.0115931 ],\n",
       "          [1.0115931 ],\n",
       "          [0.8991938 ],\n",
       "          ...,\n",
       "          [0.03746641],\n",
       "          [0.03746641],\n",
       "          [0.        ]]],\n",
       "\n",
       "\n",
       "        ...,\n",
       "\n",
       "\n",
       "        [[[1.46119   ],\n",
       "          [1.46119   ],\n",
       "          [1.3862572 ],\n",
       "          ...,\n",
       "          [0.636929  ],\n",
       "          [0.7118618 ],\n",
       "          [9.29167   ]],\n",
       "\n",
       "         [[1.46119   ],\n",
       "          [1.46119   ],\n",
       "          [1.3862572 ],\n",
       "          ...,\n",
       "          [0.52452976],\n",
       "          [0.29973128],\n",
       "          [8.767139  ]],\n",
       "\n",
       "         [[1.3113244 ],\n",
       "          [1.3113244 ],\n",
       "          [1.273858  ],\n",
       "          ...,\n",
       "          [9.441535  ],\n",
       "          [9.441535  ],\n",
       "          [9.141804  ]],\n",
       "\n",
       "         ...,\n",
       "\n",
       "         [[0.8991938 ],\n",
       "          [0.8991938 ],\n",
       "          [0.8991938 ],\n",
       "          ...,\n",
       "          [0.11239923],\n",
       "          [0.03746641],\n",
       "          [0.        ]],\n",
       "\n",
       "         [[0.8991938 ],\n",
       "          [0.8991938 ],\n",
       "          [0.8991938 ],\n",
       "          ...,\n",
       "          [0.07493282],\n",
       "          [0.        ],\n",
       "          [9.553934  ]],\n",
       "\n",
       "         [[0.8991938 ],\n",
       "          [0.8991938 ],\n",
       "          [0.8991938 ],\n",
       "          ...,\n",
       "          [0.03746641],\n",
       "          [9.553934  ],\n",
       "          [9.516468  ]]],\n",
       "\n",
       "\n",
       "        [[[1.46119   ],\n",
       "          [1.46119   ],\n",
       "          [1.3862572 ],\n",
       "          ...,\n",
       "          [0.59946257],\n",
       "          [0.8991938 ],\n",
       "          [9.329136  ]],\n",
       "\n",
       "         [[1.46119   ],\n",
       "          [1.46119   ],\n",
       "          [1.3113244 ],\n",
       "          ...,\n",
       "          [0.52452976],\n",
       "          [0.4495969 ],\n",
       "          [8.579808  ]],\n",
       "\n",
       "         [[1.3487908 ],\n",
       "          [1.3487908 ],\n",
       "          [1.273858  ],\n",
       "          ...,\n",
       "          [0.        ],\n",
       "          [9.441535  ],\n",
       "          [9.029405  ]],\n",
       "\n",
       "         ...,\n",
       "\n",
       "         [[0.93666023],\n",
       "          [0.8991938 ],\n",
       "          [0.8991938 ],\n",
       "          ...,\n",
       "          [0.11239923],\n",
       "          [0.07493282],\n",
       "          [0.03746641]],\n",
       "\n",
       "         [[0.93666023],\n",
       "          [0.8991938 ],\n",
       "          [0.8991938 ],\n",
       "          ...,\n",
       "          [0.11239923],\n",
       "          [0.03746641],\n",
       "          [0.        ]],\n",
       "\n",
       "         [[0.93666023],\n",
       "          [0.8991938 ],\n",
       "          [0.8991938 ],\n",
       "          ...,\n",
       "          [0.07493282],\n",
       "          [0.        ],\n",
       "          [9.553934  ]]],\n",
       "\n",
       "\n",
       "        [[[0.        ],\n",
       "          [0.        ],\n",
       "          [0.        ],\n",
       "          ...,\n",
       "          [0.        ],\n",
       "          [0.        ],\n",
       "          [0.        ]],\n",
       "\n",
       "         [[0.        ],\n",
       "          [0.        ],\n",
       "          [0.        ],\n",
       "          ...,\n",
       "          [0.        ],\n",
       "          [0.        ],\n",
       "          [0.        ]],\n",
       "\n",
       "         [[0.        ],\n",
       "          [0.        ],\n",
       "          [0.        ],\n",
       "          ...,\n",
       "          [0.        ],\n",
       "          [0.        ],\n",
       "          [0.        ]],\n",
       "\n",
       "         ...,\n",
       "\n",
       "         [[0.        ],\n",
       "          [0.        ],\n",
       "          [0.        ],\n",
       "          ...,\n",
       "          [0.        ],\n",
       "          [0.        ],\n",
       "          [0.        ]],\n",
       "\n",
       "         [[0.        ],\n",
       "          [0.        ],\n",
       "          [0.        ],\n",
       "          ...,\n",
       "          [0.        ],\n",
       "          [0.        ],\n",
       "          [0.        ]],\n",
       "\n",
       "         [[0.        ],\n",
       "          [0.        ],\n",
       "          [0.        ],\n",
       "          ...,\n",
       "          [0.        ],\n",
       "          [0.        ],\n",
       "          [0.        ]]]]], dtype=float32)"
      ]
     },
     "execution_count": 17,
     "metadata": {},
     "output_type": "execute_result"
    }
   ],
   "source": [
    "val = sample.next();val[0]"
   ]
  },
  {
   "cell_type": "code",
   "execution_count": 18,
   "id": "18e8e431",
   "metadata": {
    "execution": {
     "iopub.execute_input": "2024-02-24T11:55:11.547442Z",
     "iopub.status.busy": "2024-02-24T11:55:11.547120Z",
     "iopub.status.idle": "2024-02-24T11:55:11.559556Z",
     "shell.execute_reply": "2024-02-24T11:55:11.557770Z"
    },
    "papermill": {
     "duration": 0.029508,
     "end_time": "2024-02-24T11:55:11.561885",
     "exception": false,
     "start_time": "2024-02-24T11:55:11.532377",
     "status": "completed"
    },
    "tags": []
   },
   "outputs": [],
   "source": [
    "from tensorflow.keras.models import Sequential\n",
    "from tensorflow.keras.layers import Conv3D, LSTM, Dense, Dropout, Bidirectional, MaxPool3D,Activation, Reshape, SpatialDropout3D, BatchNormalization, TimeDistributed, Flatten\n",
    "from tensorflow.keras.optimizers import Adam\n",
    "from tensorflow.keras.callbacks import ModelCheckpoint, LearningRateScheduler"
   ]
  },
  {
   "cell_type": "code",
   "execution_count": 19,
   "id": "d135b00c",
   "metadata": {
    "execution": {
     "iopub.execute_input": "2024-02-24T11:55:11.590221Z",
     "iopub.status.busy": "2024-02-24T11:55:11.589455Z",
     "iopub.status.idle": "2024-02-24T11:55:12.673587Z",
     "shell.execute_reply": "2024-02-24T11:55:12.672615Z"
    },
    "papermill": {
     "duration": 1.101057,
     "end_time": "2024-02-24T11:55:12.675701",
     "exception": false,
     "start_time": "2024-02-24T11:55:11.574644",
     "status": "completed"
    },
    "tags": []
   },
   "outputs": [
    {
     "data": {
      "text/plain": [
       "(75, 46, 140, 1)"
      ]
     },
     "execution_count": 19,
     "metadata": {},
     "output_type": "execute_result"
    }
   ],
   "source": [
    "data.as_numpy_iterator().next()[0][0].shape"
   ]
  },
  {
   "cell_type": "code",
   "execution_count": 20,
   "id": "a3d37a89",
   "metadata": {
    "execution": {
     "iopub.execute_input": "2024-02-24T11:55:12.702344Z",
     "iopub.status.busy": "2024-02-24T11:55:12.702050Z",
     "iopub.status.idle": "2024-02-24T11:55:15.166027Z",
     "shell.execute_reply": "2024-02-24T11:55:15.164975Z"
    },
    "papermill": {
     "duration": 2.479934,
     "end_time": "2024-02-24T11:55:15.168459",
     "exception": false,
     "start_time": "2024-02-24T11:55:12.688525",
     "status": "completed"
    },
    "tags": []
   },
   "outputs": [],
   "source": [
    "from tensorflow.keras.models import Sequential\n",
    "from tensorflow.keras.layers import Conv3D, Activation, MaxPool3D, TimeDistributed, Flatten, Bidirectional, LSTM, Dropout, Dense, BatchNormalization\n",
    "\n",
    "model = Sequential()\n",
    "model.add(Conv3D(128, 3, input_shape=(75, 46, 140, 1), padding='same'))\n",
    "model.add(Activation('relu'))\n",
    "model.add(MaxPool3D((1, 2, 2)))\n",
    "\n",
    "model.add(Conv3D(256, 3, padding='same'))\n",
    "model.add(Activation('relu'))\n",
    "model.add(MaxPool3D((1, 2, 2)))\n",
    "\n",
    "model.add(Conv3D(75, 3, padding='same'))\n",
    "model.add(Activation('relu'))\n",
    "model.add(MaxPool3D((1, 2, 2)))\n",
    "\n",
    "model.add(TimeDistributed(Flatten()))\n",
    "\n",
    "model.add(Bidirectional(LSTM(128, kernel_initializer='Orthogonal', return_sequences=True)))\n",
    "model.add(BatchNormalization())\n",
    "model.add(Dropout(0.5))\n",
    "\n",
    "model.add(Bidirectional(LSTM(128, kernel_initializer='Orthogonal', return_sequences=True)))\n",
    "model.add(BatchNormalization())\n",
    "model.add(Dropout(0.5))\n",
    "\n",
    "model.add(Dense(char_to_num.vocabulary_size() + 1, kernel_initializer='he_normal', activation='softmax'))\n"
   ]
  },
  {
   "cell_type": "code",
   "execution_count": 21,
   "id": "acbc0a9b",
   "metadata": {
    "execution": {
     "iopub.execute_input": "2024-02-24T11:55:15.195859Z",
     "iopub.status.busy": "2024-02-24T11:55:15.195228Z",
     "iopub.status.idle": "2024-02-24T11:55:15.246981Z",
     "shell.execute_reply": "2024-02-24T11:55:15.246059Z"
    },
    "papermill": {
     "duration": 0.078499,
     "end_time": "2024-02-24T11:55:15.260173",
     "exception": false,
     "start_time": "2024-02-24T11:55:15.181674",
     "status": "completed"
    },
    "tags": []
   },
   "outputs": [
    {
     "name": "stdout",
     "output_type": "stream",
     "text": [
      "Model: \"sequential\"\n",
      "_________________________________________________________________\n",
      " Layer (type)                Output Shape              Param #   \n",
      "=================================================================\n",
      " conv3d (Conv3D)             (None, 75, 46, 140, 128   3584      \n",
      "                             )                                   \n",
      "                                                                 \n",
      " activation (Activation)     (None, 75, 46, 140, 128   0         \n",
      "                             )                                   \n",
      "                                                                 \n",
      " max_pooling3d (MaxPooling3  (None, 75, 23, 70, 128)   0         \n",
      " D)                                                              \n",
      "                                                                 \n",
      " conv3d_1 (Conv3D)           (None, 75, 23, 70, 256)   884992    \n",
      "                                                                 \n",
      " activation_1 (Activation)   (None, 75, 23, 70, 256)   0         \n",
      "                                                                 \n",
      " max_pooling3d_1 (MaxPoolin  (None, 75, 11, 35, 256)   0         \n",
      " g3D)                                                            \n",
      "                                                                 \n",
      " conv3d_2 (Conv3D)           (None, 75, 11, 35, 75)    518475    \n",
      "                                                                 \n",
      " activation_2 (Activation)   (None, 75, 11, 35, 75)    0         \n",
      "                                                                 \n",
      " max_pooling3d_2 (MaxPoolin  (None, 75, 5, 17, 75)     0         \n",
      " g3D)                                                            \n",
      "                                                                 \n",
      " time_distributed (TimeDist  (None, 75, 6375)          0         \n",
      " ributed)                                                        \n",
      "                                                                 \n",
      " bidirectional (Bidirection  (None, 75, 256)           6660096   \n",
      " al)                                                             \n",
      "                                                                 \n",
      " batch_normalization (Batch  (None, 75, 256)           1024      \n",
      " Normalization)                                                  \n",
      "                                                                 \n",
      " dropout (Dropout)           (None, 75, 256)           0         \n",
      "                                                                 \n",
      " bidirectional_1 (Bidirecti  (None, 75, 256)           394240    \n",
      " onal)                                                           \n",
      "                                                                 \n",
      " batch_normalization_1 (Bat  (None, 75, 256)           1024      \n",
      " chNormalization)                                                \n",
      "                                                                 \n",
      " dropout_1 (Dropout)         (None, 75, 256)           0         \n",
      "                                                                 \n",
      " dense (Dense)               (None, 75, 55)            14135     \n",
      "                                                                 \n",
      "=================================================================\n",
      "Total params: 8477570 (32.34 MB)\n",
      "Trainable params: 8476546 (32.34 MB)\n",
      "Non-trainable params: 1024 (4.00 KB)\n",
      "_________________________________________________________________\n"
     ]
    }
   ],
   "source": [
    "model.summary()"
   ]
  },
  {
   "cell_type": "code",
   "execution_count": 22,
   "id": "d5c0d49d",
   "metadata": {
    "execution": {
     "iopub.execute_input": "2024-02-24T11:55:15.294267Z",
     "iopub.status.busy": "2024-02-24T11:55:15.293759Z",
     "iopub.status.idle": "2024-02-24T11:55:21.188966Z",
     "shell.execute_reply": "2024-02-24T11:55:21.187805Z"
    },
    "papermill": {
     "duration": 5.91482,
     "end_time": "2024-02-24T11:55:21.191396",
     "exception": false,
     "start_time": "2024-02-24T11:55:15.276576",
     "status": "completed"
    },
    "tags": []
   },
   "outputs": [
    {
     "name": "stdout",
     "output_type": "stream",
     "text": [
      "1/1 [==============================] - 6s 6s/step\n"
     ]
    }
   ],
   "source": [
    "yhat = model.predict(val[0])"
   ]
  },
  {
   "cell_type": "code",
   "execution_count": 23,
   "id": "fb11f9af",
   "metadata": {
    "execution": {
     "iopub.execute_input": "2024-02-24T11:55:21.229788Z",
     "iopub.status.busy": "2024-02-24T11:55:21.229463Z",
     "iopub.status.idle": "2024-02-24T11:55:21.234183Z",
     "shell.execute_reply": "2024-02-24T11:55:21.233304Z"
    },
    "papermill": {
     "duration": 0.025246,
     "end_time": "2024-02-24T11:55:21.236031",
     "exception": false,
     "start_time": "2024-02-24T11:55:21.210785",
     "status": "completed"
    },
    "tags": []
   },
   "outputs": [],
   "source": [
    "def scheduler(epoch, lr):\n",
    "    if epoch < 30:\n",
    "        return lr\n",
    "    else:\n",
    "        return lr * tf.math.exp(-0.1)"
   ]
  },
  {
   "cell_type": "code",
   "execution_count": 24,
   "id": "c083f674",
   "metadata": {
    "execution": {
     "iopub.execute_input": "2024-02-24T11:55:21.271274Z",
     "iopub.status.busy": "2024-02-24T11:55:21.270514Z",
     "iopub.status.idle": "2024-02-24T11:55:21.278267Z",
     "shell.execute_reply": "2024-02-24T11:55:21.277423Z"
    },
    "papermill": {
     "duration": 0.027114,
     "end_time": "2024-02-24T11:55:21.280281",
     "exception": false,
     "start_time": "2024-02-24T11:55:21.253167",
     "status": "completed"
    },
    "tags": []
   },
   "outputs": [],
   "source": [
    "class ProduceExample(tf.keras.callbacks.Callback): \n",
    "    def __init__(self, dataset) -> None: \n",
    "        self.dataset = dataset.as_numpy_iterator()\n",
    "    \n",
    "    def on_epoch_end(self, epoch, logs=None) -> None:\n",
    "        data = self.dataset.next()\n",
    "        yhat = self.model.predict(data[0])\n",
    "        decoded = tf.keras.backend.ctc_decode(yhat, [75,75], greedy=False)[0][0].numpy()\n",
    "        for x in range(len(yhat)):           \n",
    "            print('Original:', tf.strings.reduce_join(num_to_char(data[1][x])).numpy().decode('utf-8'))\n",
    "            print('Prediction:', tf.strings.reduce_join(num_to_char(decoded[x])).numpy().decode('utf-8'))\n",
    "            print('~'*100)"
   ]
  },
  {
   "cell_type": "code",
   "execution_count": null,
   "id": "92926a35",
   "metadata": {
    "papermill": {
     "duration": 0.016798,
     "end_time": "2024-02-24T11:55:21.313606",
     "exception": false,
     "start_time": "2024-02-24T11:55:21.296808",
     "status": "completed"
    },
    "tags": []
   },
   "outputs": [],
   "source": []
  },
  {
   "cell_type": "code",
   "execution_count": 25,
   "id": "5063c2a7",
   "metadata": {
    "execution": {
     "iopub.execute_input": "2024-02-24T11:55:21.388579Z",
     "iopub.status.busy": "2024-02-24T11:55:21.387971Z",
     "iopub.status.idle": "2024-02-24T11:55:21.394424Z",
     "shell.execute_reply": "2024-02-24T11:55:21.393544Z"
    },
    "papermill": {
     "duration": 0.026444,
     "end_time": "2024-02-24T11:55:21.396410",
     "exception": false,
     "start_time": "2024-02-24T11:55:21.369966",
     "status": "completed"
    },
    "tags": []
   },
   "outputs": [],
   "source": [
    "def CTCLoss(y_true, y_pred):\n",
    "    batch_len = tf.cast(tf.shape(y_true)[0], dtype=\"int64\")\n",
    "    input_length = tf.cast(tf.shape(y_pred)[1], dtype=\"int64\")\n",
    "    label_length = tf.cast(tf.shape(y_true)[1], dtype=\"int64\")\n",
    "\n",
    "    input_length = input_length * tf.ones(shape=(batch_len, 1), dtype=\"int64\")\n",
    "    label_length = label_length * tf.ones(shape=(batch_len, 1), dtype=\"int64\")\n",
    "\n",
    "    loss = tf.keras.backend.ctc_batch_cost(y_true, y_pred, input_length, label_length)\n",
    "    return loss"
   ]
  },
  {
   "cell_type": "code",
   "execution_count": 26,
   "id": "687fb86f",
   "metadata": {
    "execution": {
     "iopub.execute_input": "2024-02-24T11:55:21.431012Z",
     "iopub.status.busy": "2024-02-24T11:55:21.430736Z",
     "iopub.status.idle": "2024-02-24T11:55:21.460220Z",
     "shell.execute_reply": "2024-02-24T11:55:21.459304Z"
    },
    "papermill": {
     "duration": 0.049041,
     "end_time": "2024-02-24T11:55:21.462460",
     "exception": false,
     "start_time": "2024-02-24T11:55:21.413419",
     "status": "completed"
    },
    "tags": []
   },
   "outputs": [],
   "source": [
    "model.compile(optimizer=Adam(learning_rate=0.0001), loss=CTCLoss)\n",
    "checkpoint_callback = ModelCheckpoint(os.path.join('models','checkpoint'), monitor='loss', save_weights_only=True) \n",
    "schedule_callback = LearningRateScheduler(scheduler)\n",
    "example_callback = ProduceExample(test)"
   ]
  },
  {
   "cell_type": "code",
   "execution_count": null,
   "id": "4805b0e8",
   "metadata": {
    "papermill": {
     "duration": 0.017243,
     "end_time": "2024-02-24T11:55:21.497641",
     "exception": false,
     "start_time": "2024-02-24T11:55:21.480398",
     "status": "completed"
    },
    "tags": []
   },
   "outputs": [],
   "source": []
  },
  {
   "cell_type": "code",
   "execution_count": null,
   "id": "58383f98",
   "metadata": {
    "papermill": {
     "duration": 0.016565,
     "end_time": "2024-02-24T11:55:21.530817",
     "exception": false,
     "start_time": "2024-02-24T11:55:21.514252",
     "status": "completed"
    },
    "tags": []
   },
   "outputs": [],
   "source": []
  },
  {
   "cell_type": "code",
   "execution_count": 27,
   "id": "db4842b3",
   "metadata": {
    "execution": {
     "iopub.execute_input": "2024-02-24T11:55:21.565900Z",
     "iopub.status.busy": "2024-02-24T11:55:21.565597Z",
     "iopub.status.idle": "2024-02-24T20:56:23.026412Z",
     "shell.execute_reply": "2024-02-24T20:56:23.025397Z"
    },
    "papermill": {
     "duration": 32463.272153,
     "end_time": "2024-02-24T20:56:24.819746",
     "exception": false,
     "start_time": "2024-02-24T11:55:21.547593",
     "status": "completed"
    },
    "tags": []
   },
   "outputs": [
    {
     "name": "stdout",
     "output_type": "stream",
     "text": [
      "Epoch 1/50\n"
     ]
    },
    {
     "name": "stderr",
     "output_type": "stream",
     "text": [
      "WARNING: All log messages before absl::InitializeLog() is called are written to STDERR\n",
      "I0000 00:00:1708775731.671152      72 device_compiler.h:186] Compiled cluster using XLA!  This line is logged at most once for the lifetime of the process.\n"
     ]
    },
    {
     "name": "stdout",
     "output_type": "stream",
     "text": [
      "145/450 [========>.....................] - ETA: 4:44 - loss: 192.0644"
     ]
    },
    {
     "name": "stderr",
     "output_type": "stream",
     "text": [
      "[mpeg1video @ 0x7f4858042000] ac-tex damaged at 22 17\n",
      "[mpeg1video @ 0x7f4858042000] Warning MVs not available\n"
     ]
    },
    {
     "name": "stdout",
     "output_type": "stream",
     "text": [
      "450/450 [==============================] - ETA: 0s - loss: 144.2360"
     ]
    },
    {
     "name": "stderr",
     "output_type": "stream",
     "text": [
      "[mpeg1video @ 0x7f485805c140] ac-tex damaged at 22 17\n",
      "[mpeg1video @ 0x7f485805c140] Warning MVs not available\n",
      "[mpeg1video @ 0x7f44118525c0] ac-tex damaged at 22 17\n",
      "[mpeg1video @ 0x7f44118525c0] Warning MVs not available\n"
     ]
    },
    {
     "name": "stdout",
     "output_type": "stream",
     "text": [
      "1/1 [==============================] - 2s 2s/step\n",
      "Original: setblueithhsixno\n",
      "Prediction: lsaeeenn\n",
      "~~~~~~~~~~~~~~~~~~~~~~~~~~~~~~~~~~~~~~~~~~~~~~~~~~~~~~~~~~~~~~~~~~~~~~~~~~~~~~~~~~~~~~~~~~~~~~~~~~~~\n",
      "Original: placeredithxsixno\n",
      "Prediction: lsaeennn\n",
      "~~~~~~~~~~~~~~~~~~~~~~~~~~~~~~~~~~~~~~~~~~~~~~~~~~~~~~~~~~~~~~~~~~~~~~~~~~~~~~~~~~~~~~~~~~~~~~~~~~~~\n",
      "450/450 [==============================] - 884s 2s/step - loss: 144.2360 - val_loss: 97.8175 - lr: 1.0000e-04\n",
      "Epoch 2/50\n",
      "123/450 [=======>......................] - ETA: 5:01 - loss: 108.1066"
     ]
    },
    {
     "name": "stderr",
     "output_type": "stream",
     "text": [
      "[mpeg1video @ 0x7f48400bf5c0] ac-tex damaged at 22 17\n",
      "[mpeg1video @ 0x7f48400bf5c0] Warning MVs not available\n"
     ]
    },
    {
     "name": "stdout",
     "output_type": "stream",
     "text": [
      "450/450 [==============================] - ETA: 0s - loss: 103.9832"
     ]
    },
    {
     "name": "stderr",
     "output_type": "stream",
     "text": [
      "[mpeg1video @ 0x7f4954013740] ac-tex damaged at 22 17\n",
      "[mpeg1video @ 0x7f4954013740] Warning MVs not available\n"
     ]
    },
    {
     "name": "stdout",
     "output_type": "stream",
     "text": [
      "1/1 [==============================] - 0s 196ms/step\n",
      "Original: placehiteithqeightno\n",
      "Prediction: saeii\n",
      "~~~~~~~~~~~~~~~~~~~~~~~~~~~~~~~~~~~~~~~~~~~~~~~~~~~~~~~~~~~~~~~~~~~~~~~~~~~~~~~~~~~~~~~~~~~~~~~~~~~~\n",
      "Original: placegreenithesevensoon\n",
      "Prediction: piaeiiii\n",
      "~~~~~~~~~~~~~~~~~~~~~~~~~~~~~~~~~~~~~~~~~~~~~~~~~~~~~~~~~~~~~~~~~~~~~~~~~~~~~~~~~~~~~~~~~~~~~~~~~~~~\n",
      "450/450 [==============================] - 645s 1s/step - loss: 103.9832 - val_loss: 90.8811 - lr: 1.0000e-04\n",
      "Epoch 3/50\n",
      " 16/450 [>.............................] - ETA: 6:37 - loss: 95.9181"
     ]
    },
    {
     "name": "stderr",
     "output_type": "stream",
     "text": [
      "[mpeg1video @ 0x7f48180d3080] ac-tex damaged at 22 17\n",
      "[mpeg1video @ 0x7f48180d3080] Warning MVs not available\n"
     ]
    },
    {
     "name": "stdout",
     "output_type": "stream",
     "text": [
      "450/450 [==============================] - ETA: 0s - loss: 95.5452"
     ]
    },
    {
     "name": "stderr",
     "output_type": "stream",
     "text": [
      "[mpeg1video @ 0x7f48680955c0] ac-tex damaged at 22 17\n",
      "[mpeg1video @ 0x7f48680955c0] Warning MVs not available\n"
     ]
    },
    {
     "name": "stdout",
     "output_type": "stream",
     "text": [
      "1/1 [==============================] - 0s 188ms/step\n",
      "Original: placebluebyveightplease\n",
      "Prediction: siaennn\n",
      "~~~~~~~~~~~~~~~~~~~~~~~~~~~~~~~~~~~~~~~~~~~~~~~~~~~~~~~~~~~~~~~~~~~~~~~~~~~~~~~~~~~~~~~~~~~~~~~~~~~~\n",
      "Original: setredinaeightplease\n",
      "Prediction: siaen\n",
      "~~~~~~~~~~~~~~~~~~~~~~~~~~~~~~~~~~~~~~~~~~~~~~~~~~~~~~~~~~~~~~~~~~~~~~~~~~~~~~~~~~~~~~~~~~~~~~~~~~~~\n",
      "450/450 [==============================] - 644s 1s/step - loss: 95.5452 - val_loss: 89.9187 - lr: 1.0000e-04\n",
      "Epoch 4/50\n",
      "389/450 [========================>.....] - ETA: 55s - loss: 91.0897"
     ]
    },
    {
     "name": "stderr",
     "output_type": "stream",
     "text": [
      "[mpeg1video @ 0x7f447802e840] ac-tex damaged at 22 17\n",
      "[mpeg1video @ 0x7f447802e840] Warning MVs not available\n"
     ]
    },
    {
     "name": "stdout",
     "output_type": "stream",
     "text": [
      "450/450 [==============================] - ETA: 0s - loss: 91.0829"
     ]
    },
    {
     "name": "stderr",
     "output_type": "stream",
     "text": [
      "[mpeg1video @ 0x7f483011d940] ac-tex damaged at 22 17\n",
      "[mpeg1video @ 0x7f483011d940] Warning MVs not available\n"
     ]
    },
    {
     "name": "stdout",
     "output_type": "stream",
     "text": [
      "1/1 [==============================] - 0s 192ms/step\n",
      "Original: setredithvthreeagain\n",
      "Prediction: biaeeeeeiene\n",
      "~~~~~~~~~~~~~~~~~~~~~~~~~~~~~~~~~~~~~~~~~~~~~~~~~~~~~~~~~~~~~~~~~~~~~~~~~~~~~~~~~~~~~~~~~~~~~~~~~~~~\n",
      "Original: layhiteinloneagain\n",
      "Prediction: biaeeieieieieaeae\n",
      "~~~~~~~~~~~~~~~~~~~~~~~~~~~~~~~~~~~~~~~~~~~~~~~~~~~~~~~~~~~~~~~~~~~~~~~~~~~~~~~~~~~~~~~~~~~~~~~~~~~~\n",
      "450/450 [==============================] - 642s 1s/step - loss: 91.0829 - val_loss: 93.6714 - lr: 1.0000e-04\n",
      "Epoch 5/50\n",
      "338/450 [=====================>........] - ETA: 1:42 - loss: 87.8326"
     ]
    },
    {
     "name": "stderr",
     "output_type": "stream",
     "text": [
      "[mpeg1video @ 0x7f4988081580] ac-tex damaged at 22 17\n",
      "[mpeg1video @ 0x7f4988081580] Warning MVs not available\n"
     ]
    },
    {
     "name": "stdout",
     "output_type": "stream",
     "text": [
      "450/450 [==============================] - ETA: 0s - loss: 87.8111"
     ]
    },
    {
     "name": "stderr",
     "output_type": "stream",
     "text": [
      "[mpeg1video @ 0x7f481e5f9f80] ac-tex damaged at 22 17\n",
      "[mpeg1video @ 0x7f481e5f9f80] Warning MVs not available\n"
     ]
    },
    {
     "name": "stdout",
     "output_type": "stream",
     "text": [
      "1/1 [==============================] - 0s 195ms/step\n",
      "Original: placegreeninjninesoon\n",
      "Prediction: blne\n",
      "~~~~~~~~~~~~~~~~~~~~~~~~~~~~~~~~~~~~~~~~~~~~~~~~~~~~~~~~~~~~~~~~~~~~~~~~~~~~~~~~~~~~~~~~~~~~~~~~~~~~\n",
      "Original: layredithzsptono\n",
      "Prediction: blne\n",
      "~~~~~~~~~~~~~~~~~~~~~~~~~~~~~~~~~~~~~~~~~~~~~~~~~~~~~~~~~~~~~~~~~~~~~~~~~~~~~~~~~~~~~~~~~~~~~~~~~~~~\n",
      "450/450 [==============================] - 643s 1s/step - loss: 87.8111 - val_loss: 102.9268 - lr: 1.0000e-04\n",
      "Epoch 6/50\n",
      "166/450 [==========>...................] - ETA: 4:19 - loss: 85.1253"
     ]
    },
    {
     "name": "stderr",
     "output_type": "stream",
     "text": [
      "[mpeg1video @ 0x7f48b4086f40] ac-tex damaged at 22 17\n",
      "[mpeg1video @ 0x7f48b4086f40] Warning MVs not available\n"
     ]
    },
    {
     "name": "stdout",
     "output_type": "stream",
     "text": [
      "450/450 [==============================] - ETA: 0s - loss: 84.3948"
     ]
    },
    {
     "name": "stderr",
     "output_type": "stream",
     "text": [
      "[mpeg1video @ 0x7f44780514c0] ac-tex damaged at 22 17\n",
      "[mpeg1video @ 0x7f44780514c0] Warning MVs not available\n"
     ]
    },
    {
     "name": "stdout",
     "output_type": "stream",
     "text": [
      "1/1 [==============================] - 0s 195ms/step\n",
      "Original: binblueinzzerono\n",
      "Prediction: plaeeiieeaen\n",
      "~~~~~~~~~~~~~~~~~~~~~~~~~~~~~~~~~~~~~~~~~~~~~~~~~~~~~~~~~~~~~~~~~~~~~~~~~~~~~~~~~~~~~~~~~~~~~~~~~~~~\n",
      "Original: placehiteinjfourplease\n",
      "Prediction: plaeeieiieeaen\n",
      "~~~~~~~~~~~~~~~~~~~~~~~~~~~~~~~~~~~~~~~~~~~~~~~~~~~~~~~~~~~~~~~~~~~~~~~~~~~~~~~~~~~~~~~~~~~~~~~~~~~~\n",
      "450/450 [==============================] - 640s 1s/step - loss: 84.3948 - val_loss: 83.6611 - lr: 1.0000e-04\n",
      "Epoch 7/50\n",
      "204/450 [============>.................] - ETA: 3:43 - loss: 80.2767"
     ]
    },
    {
     "name": "stderr",
     "output_type": "stream",
     "text": [
      "[mpeg1video @ 0x7f4858075f80] ac-tex damaged at 22 17\n",
      "[mpeg1video @ 0x7f4858075f80] Warning MVs not available\n"
     ]
    },
    {
     "name": "stdout",
     "output_type": "stream",
     "text": [
      "450/450 [==============================] - ETA: 0s - loss: 77.3060"
     ]
    },
    {
     "name": "stderr",
     "output_type": "stream",
     "text": [
      "[mpeg1video @ 0x7f49800a8600] ac-tex damaged at 22 17\n",
      "[mpeg1video @ 0x7f49800a8600] Warning MVs not available\n"
     ]
    },
    {
     "name": "stdout",
     "output_type": "stream",
     "text": [
      "1/1 [==============================] - 0s 187ms/step\n",
      "Original: bingreeninnzerono\n",
      "Prediction: slae\n",
      "~~~~~~~~~~~~~~~~~~~~~~~~~~~~~~~~~~~~~~~~~~~~~~~~~~~~~~~~~~~~~~~~~~~~~~~~~~~~~~~~~~~~~~~~~~~~~~~~~~~~\n",
      "Original: sethiteinbfourplease\n",
      "Prediction: slae\n",
      "~~~~~~~~~~~~~~~~~~~~~~~~~~~~~~~~~~~~~~~~~~~~~~~~~~~~~~~~~~~~~~~~~~~~~~~~~~~~~~~~~~~~~~~~~~~~~~~~~~~~\n",
      "450/450 [==============================] - 639s 1s/step - loss: 77.3060 - val_loss: 75.3185 - lr: 1.0000e-04\n",
      "Epoch 8/50\n",
      "174/450 [==========>...................] - ETA: 4:11 - loss: 71.6731"
     ]
    },
    {
     "name": "stderr",
     "output_type": "stream",
     "text": [
      "[mpeg1video @ 0x7f482c0a7b00] ac-tex damaged at 22 17\n",
      "[mpeg1video @ 0x7f482c0a7b00] Warning MVs not available\n"
     ]
    },
    {
     "name": "stdout",
     "output_type": "stream",
     "text": [
      "450/450 [==============================] - ETA: 0s - loss: 70.2395"
     ]
    },
    {
     "name": "stderr",
     "output_type": "stream",
     "text": [
      "[mpeg1video @ 0x7f48b406e540] ac-tex damaged at 22 17\n",
      "[mpeg1video @ 0x7f48b406e540] Warning MVs not available\n"
     ]
    },
    {
     "name": "stdout",
     "output_type": "stream",
     "text": [
      "1/1 [==============================] - 0s 184ms/step\n",
      "Original: placegreeninjeightno\n",
      "Prediction: slaeye\n",
      "~~~~~~~~~~~~~~~~~~~~~~~~~~~~~~~~~~~~~~~~~~~~~~~~~~~~~~~~~~~~~~~~~~~~~~~~~~~~~~~~~~~~~~~~~~~~~~~~~~~~\n",
      "Original: setredbyusevensoon\n",
      "Prediction: slaeyee\n",
      "~~~~~~~~~~~~~~~~~~~~~~~~~~~~~~~~~~~~~~~~~~~~~~~~~~~~~~~~~~~~~~~~~~~~~~~~~~~~~~~~~~~~~~~~~~~~~~~~~~~~\n",
      "450/450 [==============================] - 637s 1s/step - loss: 70.2395 - val_loss: 60.1989 - lr: 1.0000e-04\n",
      "Epoch 9/50\n",
      " 58/450 [==>...........................] - ETA: 5:55 - loss: 66.6757"
     ]
    },
    {
     "name": "stderr",
     "output_type": "stream",
     "text": [
      "[mpeg1video @ 0x7f48080ba080] ac-tex damaged at 22 17\n",
      "[mpeg1video @ 0x7f48080ba080] Warning MVs not available\n"
     ]
    },
    {
     "name": "stdout",
     "output_type": "stream",
     "text": [
      "450/450 [==============================] - ETA: 0s - loss: 64.6321"
     ]
    },
    {
     "name": "stderr",
     "output_type": "stream",
     "text": [
      "[mpeg1video @ 0x7f485402a040] ac-tex damaged at 22 17\n",
      "[mpeg1video @ 0x7f485402a040] Warning MVs not available\n"
     ]
    },
    {
     "name": "stdout",
     "output_type": "stream",
     "text": [
      "1/1 [==============================] - 0s 185ms/step\n",
      "Original: setgreenatieightplease\n",
      "Prediction: slaetreteen\n",
      "~~~~~~~~~~~~~~~~~~~~~~~~~~~~~~~~~~~~~~~~~~~~~~~~~~~~~~~~~~~~~~~~~~~~~~~~~~~~~~~~~~~~~~~~~~~~~~~~~~~~\n",
      "Original: placehitebykonesoon\n",
      "Prediction: plaetreteo\n",
      "~~~~~~~~~~~~~~~~~~~~~~~~~~~~~~~~~~~~~~~~~~~~~~~~~~~~~~~~~~~~~~~~~~~~~~~~~~~~~~~~~~~~~~~~~~~~~~~~~~~~\n",
      "450/450 [==============================] - 635s 1s/step - loss: 64.6321 - val_loss: 56.4846 - lr: 1.0000e-04\n",
      "Epoch 10/50\n",
      "141/450 [========>.....................] - ETA: 4:40 - loss: 63.1395"
     ]
    },
    {
     "name": "stderr",
     "output_type": "stream",
     "text": [
      "[mpeg1video @ 0x7f499007a680] ac-tex damaged at 22 17\n",
      "[mpeg1video @ 0x7f499007a680] Warning MVs not available\n"
     ]
    },
    {
     "name": "stdout",
     "output_type": "stream",
     "text": [
      "450/450 [==============================] - ETA: 0s - loss: 62.2460"
     ]
    },
    {
     "name": "stderr",
     "output_type": "stream",
     "text": [
      "[mpeg1video @ 0x7f48184200c0] ac-tex damaged at 22 17\n",
      "[mpeg1video @ 0x7f48184200c0] Warning MVs not available\n"
     ]
    },
    {
     "name": "stdout",
     "output_type": "stream",
     "text": [
      "1/1 [==============================] - 0s 202ms/step\n",
      "Original: placeredatjthreeagain\n",
      "Prediction: plaeyreieeaea\n",
      "~~~~~~~~~~~~~~~~~~~~~~~~~~~~~~~~~~~~~~~~~~~~~~~~~~~~~~~~~~~~~~~~~~~~~~~~~~~~~~~~~~~~~~~~~~~~~~~~~~~~\n",
      "Original: setgreenbyceightplease\n",
      "Prediction: plaeyreieea\n",
      "~~~~~~~~~~~~~~~~~~~~~~~~~~~~~~~~~~~~~~~~~~~~~~~~~~~~~~~~~~~~~~~~~~~~~~~~~~~~~~~~~~~~~~~~~~~~~~~~~~~~\n",
      "450/450 [==============================] - 635s 1s/step - loss: 62.2460 - val_loss: 54.2495 - lr: 1.0000e-04\n",
      "Epoch 11/50\n",
      "166/450 [==========>...................] - ETA: 4:16 - loss: 60.1752"
     ]
    },
    {
     "name": "stderr",
     "output_type": "stream",
     "text": [
      "[mpeg1video @ 0x7f48b4072800] ac-tex damaged at 22 17\n",
      "[mpeg1video @ 0x7f48b4072800] Warning MVs not available\n"
     ]
    },
    {
     "name": "stdout",
     "output_type": "stream",
     "text": [
      "450/450 [==============================] - ETA: 0s - loss: 59.6745"
     ]
    },
    {
     "name": "stderr",
     "output_type": "stream",
     "text": [
      "[mpeg1video @ 0x7f448004ae40] ac-tex damaged at 22 17\n",
      "[mpeg1video @ 0x7f448004ae40] Warning MVs not available\n"
     ]
    },
    {
     "name": "stdout",
     "output_type": "stream",
     "text": [
      "1/1 [==============================] - 0s 185ms/step\n",
      "Original: layhitebyzfourno\n",
      "Prediction: laeybeie\n",
      "~~~~~~~~~~~~~~~~~~~~~~~~~~~~~~~~~~~~~~~~~~~~~~~~~~~~~~~~~~~~~~~~~~~~~~~~~~~~~~~~~~~~~~~~~~~~~~~~~~~~\n",
      "Original: laybluebyqeightno\n",
      "Prediction: slaenree\n",
      "~~~~~~~~~~~~~~~~~~~~~~~~~~~~~~~~~~~~~~~~~~~~~~~~~~~~~~~~~~~~~~~~~~~~~~~~~~~~~~~~~~~~~~~~~~~~~~~~~~~~\n",
      "450/450 [==============================] - 632s 1s/step - loss: 59.6745 - val_loss: 56.5066 - lr: 1.0000e-04\n",
      "Epoch 12/50\n",
      " 52/450 [==>...........................] - ETA: 6:00 - loss: 58.8147"
     ]
    },
    {
     "name": "stderr",
     "output_type": "stream",
     "text": [
      "[mpeg1video @ 0x7f4860091bc0] ac-tex damaged at 22 17\n",
      "[mpeg1video @ 0x7f4860091bc0] Warning MVs not available\n"
     ]
    },
    {
     "name": "stdout",
     "output_type": "stream",
     "text": [
      "450/450 [==============================] - ETA: 0s - loss: 57.4883"
     ]
    },
    {
     "name": "stderr",
     "output_type": "stream",
     "text": [
      "[mpeg1video @ 0x7f49900dce00] ac-tex damaged at 22 17\n",
      "[mpeg1video @ 0x7f49900dce00] Warning MVs not available\n"
     ]
    },
    {
     "name": "stdout",
     "output_type": "stream",
     "text": [
      "1/1 [==============================] - 0s 182ms/step\n",
      "Original: placegreeninqfourplease\n",
      "Prediction: blaetreieeae\n",
      "~~~~~~~~~~~~~~~~~~~~~~~~~~~~~~~~~~~~~~~~~~~~~~~~~~~~~~~~~~~~~~~~~~~~~~~~~~~~~~~~~~~~~~~~~~~~~~~~~~~~\n",
      "Original: sethitebyifourno\n",
      "Prediction: blaeretioo\n",
      "~~~~~~~~~~~~~~~~~~~~~~~~~~~~~~~~~~~~~~~~~~~~~~~~~~~~~~~~~~~~~~~~~~~~~~~~~~~~~~~~~~~~~~~~~~~~~~~~~~~~\n",
      "450/450 [==============================] - 633s 1s/step - loss: 57.4883 - val_loss: 51.9407 - lr: 1.0000e-04\n",
      "Epoch 13/50\n",
      " 13/450 [..............................] - ETA: 6:33 - loss: 53.1858"
     ]
    },
    {
     "name": "stderr",
     "output_type": "stream",
     "text": [
      "[mpeg1video @ 0x7f482c053700] ac-tex damaged at 22 17\n",
      "[mpeg1video @ 0x7f482c053700] Warning MVs not available\n"
     ]
    },
    {
     "name": "stdout",
     "output_type": "stream",
     "text": [
      "450/450 [==============================] - ETA: 0s - loss: 54.6414"
     ]
    },
    {
     "name": "stderr",
     "output_type": "stream",
     "text": [
      "[mpeg1video @ 0x7f48a4006180] ac-tex damaged at 22 17\n",
      "[mpeg1video @ 0x7f48a4006180] Warning MVs not available\n"
     ]
    },
    {
     "name": "stdout",
     "output_type": "stream",
     "text": [
      "1/1 [==============================] - 0s 188ms/step\n",
      "Original: placegreenindsixplease\n",
      "Prediction: laitretnnn\n",
      "~~~~~~~~~~~~~~~~~~~~~~~~~~~~~~~~~~~~~~~~~~~~~~~~~~~~~~~~~~~~~~~~~~~~~~~~~~~~~~~~~~~~~~~~~~~~~~~~~~~~\n",
      "Original: setredinhthreeagain\n",
      "Prediction: blaitrenneean\n",
      "~~~~~~~~~~~~~~~~~~~~~~~~~~~~~~~~~~~~~~~~~~~~~~~~~~~~~~~~~~~~~~~~~~~~~~~~~~~~~~~~~~~~~~~~~~~~~~~~~~~~\n",
      "450/450 [==============================] - 634s 1s/step - loss: 54.6414 - val_loss: 49.2960 - lr: 1.0000e-04\n",
      "Epoch 14/50\n",
      "243/450 [===============>..............] - ETA: 3:08 - loss: 52.0993"
     ]
    },
    {
     "name": "stderr",
     "output_type": "stream",
     "text": [
      "[mpeg1video @ 0x7f440c01b300] ac-tex damaged at 22 17\n",
      "[mpeg1video @ 0x7f440c01b300] Warning MVs not available\n"
     ]
    },
    {
     "name": "stdout",
     "output_type": "stream",
     "text": [
      "450/450 [==============================] - ETA: 0s - loss: 51.9980"
     ]
    },
    {
     "name": "stderr",
     "output_type": "stream",
     "text": [
      "[mpeg1video @ 0x7f485809d8c0] ac-tex damaged at 22 17\n",
      "[mpeg1video @ 0x7f485809d8c0] Warning MVs not available\n"
     ]
    },
    {
     "name": "stdout",
     "output_type": "stream",
     "text": [
      "1/1 [==============================] - 0s 183ms/step\n",
      "Original: placeredinvfivesoon\n",
      "Prediction: bsaetreteo\n",
      "~~~~~~~~~~~~~~~~~~~~~~~~~~~~~~~~~~~~~~~~~~~~~~~~~~~~~~~~~~~~~~~~~~~~~~~~~~~~~~~~~~~~~~~~~~~~~~~~~~~~\n",
      "Original: setblueatasevenagain\n",
      "Prediction: laiyreieasi\n",
      "~~~~~~~~~~~~~~~~~~~~~~~~~~~~~~~~~~~~~~~~~~~~~~~~~~~~~~~~~~~~~~~~~~~~~~~~~~~~~~~~~~~~~~~~~~~~~~~~~~~~\n",
      "450/450 [==============================] - 635s 1s/step - loss: 51.9980 - val_loss: 49.0297 - lr: 1.0000e-04\n",
      "Epoch 15/50\n",
      "186/450 [===========>..................] - ETA: 3:59 - loss: 50.2032"
     ]
    },
    {
     "name": "stderr",
     "output_type": "stream",
     "text": [
      "[mpeg1video @ 0x7f4480083dc0] ac-tex damaged at 22 17\n",
      "[mpeg1video @ 0x7f4480083dc0] Warning MVs not available\n"
     ]
    },
    {
     "name": "stdout",
     "output_type": "stream",
     "text": [
      "450/450 [==============================] - ETA: 0s - loss: 49.7841"
     ]
    },
    {
     "name": "stderr",
     "output_type": "stream",
     "text": [
      "[mpeg1video @ 0x7f4830056080] ac-tex damaged at 22 17\n",
      "[mpeg1video @ 0x7f4830056080] Warning MVs not available\n"
     ]
    },
    {
     "name": "stdout",
     "output_type": "stream",
     "text": [
      "1/1 [==============================] - 0s 188ms/step\n",
      "Original: sethiteinhnineagain\n",
      "Prediction: bsinreitiean\n",
      "~~~~~~~~~~~~~~~~~~~~~~~~~~~~~~~~~~~~~~~~~~~~~~~~~~~~~~~~~~~~~~~~~~~~~~~~~~~~~~~~~~~~~~~~~~~~~~~~~~~~\n",
      "Original: setblueatteightplease\n",
      "Prediction: bsinretteean\n",
      "~~~~~~~~~~~~~~~~~~~~~~~~~~~~~~~~~~~~~~~~~~~~~~~~~~~~~~~~~~~~~~~~~~~~~~~~~~~~~~~~~~~~~~~~~~~~~~~~~~~~\n",
      "450/450 [==============================] - 636s 1s/step - loss: 49.7841 - val_loss: 45.1762 - lr: 1.0000e-04\n",
      "Epoch 16/50\n",
      "209/450 [============>.................] - ETA: 3:37 - loss: 47.4019"
     ]
    },
    {
     "name": "stderr",
     "output_type": "stream",
     "text": [
      "[mpeg1video @ 0x7f497c0427c0] ac-tex damaged at 22 17\n",
      "[mpeg1video @ 0x7f497c0427c0] Warning MVs not available\n"
     ]
    },
    {
     "name": "stdout",
     "output_type": "stream",
     "text": [
      "450/450 [==============================] - ETA: 0s - loss: 47.0293"
     ]
    },
    {
     "name": "stderr",
     "output_type": "stream",
     "text": [
      "[mpeg1video @ 0x7f4814016e00] ac-tex damaged at 22 17\n",
      "[mpeg1video @ 0x7f4814016e00] Warning MVs not available\n"
     ]
    },
    {
     "name": "stdout",
     "output_type": "stream",
     "text": [
      "1/1 [==============================] - 0s 184ms/step\n",
      "Original: sethiteithcsevenagain\n",
      "Prediction: binhieboeea\n",
      "~~~~~~~~~~~~~~~~~~~~~~~~~~~~~~~~~~~~~~~~~~~~~~~~~~~~~~~~~~~~~~~~~~~~~~~~~~~~~~~~~~~~~~~~~~~~~~~~~~~~\n",
      "Original: placehitebydsevensoon\n",
      "Prediction: binleiseo\n",
      "~~~~~~~~~~~~~~~~~~~~~~~~~~~~~~~~~~~~~~~~~~~~~~~~~~~~~~~~~~~~~~~~~~~~~~~~~~~~~~~~~~~~~~~~~~~~~~~~~~~~\n",
      "450/450 [==============================] - 633s 1s/step - loss: 47.0293 - val_loss: 45.6693 - lr: 1.0000e-04\n",
      "Epoch 17/50\n",
      "250/450 [===============>..............] - ETA: 3:00 - loss: 44.8284"
     ]
    },
    {
     "name": "stderr",
     "output_type": "stream",
     "text": [
      "[mpeg1video @ 0x7f48600b4f80] ac-tex damaged at 22 17\n",
      "[mpeg1video @ 0x7f48600b4f80] Warning MVs not available\n"
     ]
    },
    {
     "name": "stdout",
     "output_type": "stream",
     "text": [
      "450/450 [==============================] - ETA: 0s - loss: 44.4547"
     ]
    },
    {
     "name": "stderr",
     "output_type": "stream",
     "text": [
      "[mpeg1video @ 0x5c1bc3d15180] ac-tex damaged at 22 17\n",
      "[mpeg1video @ 0x5c1bc3d15180] Warning MVs not available\n"
     ]
    },
    {
     "name": "stdout",
     "output_type": "stream",
     "text": [
      "1/1 [==============================] - 0s 183ms/step\n",
      "Original: binblueineninesoon\n",
      "Prediction: binlieinon\n",
      "~~~~~~~~~~~~~~~~~~~~~~~~~~~~~~~~~~~~~~~~~~~~~~~~~~~~~~~~~~~~~~~~~~~~~~~~~~~~~~~~~~~~~~~~~~~~~~~~~~~~\n",
      "Original: placehiteinpsixno\n",
      "Prediction: laiyhieiiinon\n",
      "~~~~~~~~~~~~~~~~~~~~~~~~~~~~~~~~~~~~~~~~~~~~~~~~~~~~~~~~~~~~~~~~~~~~~~~~~~~~~~~~~~~~~~~~~~~~~~~~~~~~\n",
      "450/450 [==============================] - 629s 1s/step - loss: 44.4547 - val_loss: 39.5008 - lr: 1.0000e-04\n",
      "Epoch 18/50\n",
      "125/450 [=======>......................] - ETA: 4:55 - loss: 40.9818"
     ]
    },
    {
     "name": "stderr",
     "output_type": "stream",
     "text": [
      "[mpeg1video @ 0x7f48380b43c0] ac-tex damaged at 22 17\n",
      "[mpeg1video @ 0x7f48380b43c0] Warning MVs not available\n"
     ]
    },
    {
     "name": "stdout",
     "output_type": "stream",
     "text": [
      "450/450 [==============================] - ETA: 0s - loss: 41.3580"
     ]
    },
    {
     "name": "stderr",
     "output_type": "stream",
     "text": [
      "[mpeg1video @ 0x7f497401de00] ac-tex damaged at 22 17\n",
      "[mpeg1video @ 0x7f497401de00] Warning MVs not available\n"
     ]
    },
    {
     "name": "stdout",
     "output_type": "stream",
     "text": [
      "1/1 [==============================] - 0s 190ms/step\n",
      "Original: placeredbypeightno\n",
      "Prediction: slaereasin\n",
      "~~~~~~~~~~~~~~~~~~~~~~~~~~~~~~~~~~~~~~~~~~~~~~~~~~~~~~~~~~~~~~~~~~~~~~~~~~~~~~~~~~~~~~~~~~~~~~~~~~~~\n",
      "Original: binblueatleightplease\n",
      "Prediction: binreiheease\n",
      "~~~~~~~~~~~~~~~~~~~~~~~~~~~~~~~~~~~~~~~~~~~~~~~~~~~~~~~~~~~~~~~~~~~~~~~~~~~~~~~~~~~~~~~~~~~~~~~~~~~~\n",
      "450/450 [==============================] - 634s 1s/step - loss: 41.3580 - val_loss: 38.8840 - lr: 1.0000e-04\n",
      "Epoch 19/50\n",
      "184/450 [===========>..................] - ETA: 3:59 - loss: 38.5090"
     ]
    },
    {
     "name": "stderr",
     "output_type": "stream",
     "text": [
      "[mpeg1video @ 0x7f482c053040] ac-tex damaged at 22 17\n",
      "[mpeg1video @ 0x7f482c053040] Warning MVs not available\n"
     ]
    },
    {
     "name": "stdout",
     "output_type": "stream",
     "text": [
      "450/450 [==============================] - ETA: 0s - loss: 38.6233"
     ]
    },
    {
     "name": "stderr",
     "output_type": "stream",
     "text": [
      "[mpeg1video @ 0x7f48640948c0] ac-tex damaged at 22 17\n",
      "[mpeg1video @ 0x7f48640948c0] Warning MVs not available\n"
     ]
    },
    {
     "name": "stdout",
     "output_type": "stream",
     "text": [
      "1/1 [==============================] - 0s 183ms/step\n",
      "Original: bingreenatuoneagain\n",
      "Prediction: bieretoeag\n",
      "~~~~~~~~~~~~~~~~~~~~~~~~~~~~~~~~~~~~~~~~~~~~~~~~~~~~~~~~~~~~~~~~~~~~~~~~~~~~~~~~~~~~~~~~~~~~~~~~~~~~\n",
      "Original: laygreeninsoneagain\n",
      "Prediction: layretoeas\n",
      "~~~~~~~~~~~~~~~~~~~~~~~~~~~~~~~~~~~~~~~~~~~~~~~~~~~~~~~~~~~~~~~~~~~~~~~~~~~~~~~~~~~~~~~~~~~~~~~~~~~~\n",
      "450/450 [==============================] - 633s 1s/step - loss: 38.6233 - val_loss: 32.6731 - lr: 1.0000e-04\n",
      "Epoch 20/50\n",
      "192/450 [===========>..................] - ETA: 3:52 - loss: 36.0950"
     ]
    },
    {
     "name": "stderr",
     "output_type": "stream",
     "text": [
      "[mpeg1video @ 0x7f4814099880] ac-tex damaged at 22 17\n",
      "[mpeg1video @ 0x7f4814099880] Warning MVs not available\n"
     ]
    },
    {
     "name": "stdout",
     "output_type": "stream",
     "text": [
      "450/450 [==============================] - ETA: 0s - loss: 35.6358"
     ]
    },
    {
     "name": "stderr",
     "output_type": "stream",
     "text": [
      "[mpeg1video @ 0x7f484c0a45c0] ac-tex damaged at 22 17\n",
      "[mpeg1video @ 0x7f484c0a45c0] Warning MVs not available\n"
     ]
    },
    {
     "name": "stdout",
     "output_type": "stream",
     "text": [
      "1/1 [==============================] - 0s 185ms/step\n",
      "Original: binredinmoneagain\n",
      "Prediction: binrteinieain\n",
      "~~~~~~~~~~~~~~~~~~~~~~~~~~~~~~~~~~~~~~~~~~~~~~~~~~~~~~~~~~~~~~~~~~~~~~~~~~~~~~~~~~~~~~~~~~~~~~~~~~~~\n",
      "Original: binbluebyfsixno\n",
      "Prediction: binbluebio\n",
      "~~~~~~~~~~~~~~~~~~~~~~~~~~~~~~~~~~~~~~~~~~~~~~~~~~~~~~~~~~~~~~~~~~~~~~~~~~~~~~~~~~~~~~~~~~~~~~~~~~~~\n",
      "450/450 [==============================] - 632s 1s/step - loss: 35.6358 - val_loss: 28.7485 - lr: 1.0000e-04\n",
      "Epoch 21/50\n",
      "320/450 [====================>.........] - ETA: 1:57 - loss: 32.7071"
     ]
    },
    {
     "name": "stderr",
     "output_type": "stream",
     "text": [
      "[mpeg1video @ 0x7f499007b3c0] ac-tex damaged at 22 17\n",
      "[mpeg1video @ 0x7f499007b3c0] Warning MVs not available\n"
     ]
    },
    {
     "name": "stdout",
     "output_type": "stream",
     "text": [
      "450/450 [==============================] - ETA: 0s - loss: 32.6630"
     ]
    },
    {
     "name": "stderr",
     "output_type": "stream",
     "text": [
      "[mpeg1video @ 0x7f48188fcb00] ac-tex damaged at 22 17\n",
      "[mpeg1video @ 0x7f48188fcb00] Warning MVs not available\n"
     ]
    },
    {
     "name": "stdout",
     "output_type": "stream",
     "text": [
      "1/1 [==============================] - 0s 182ms/step\n",
      "Original: layblueinxfivesoon\n",
      "Prediction: laygieino\n",
      "~~~~~~~~~~~~~~~~~~~~~~~~~~~~~~~~~~~~~~~~~~~~~~~~~~~~~~~~~~~~~~~~~~~~~~~~~~~~~~~~~~~~~~~~~~~~~~~~~~~~\n",
      "Original: placegreenatytoplease\n",
      "Prediction: placereitopease\n",
      "~~~~~~~~~~~~~~~~~~~~~~~~~~~~~~~~~~~~~~~~~~~~~~~~~~~~~~~~~~~~~~~~~~~~~~~~~~~~~~~~~~~~~~~~~~~~~~~~~~~~\n",
      "450/450 [==============================] - 633s 1s/step - loss: 32.6630 - val_loss: 30.4668 - lr: 1.0000e-04\n",
      "Epoch 22/50\n",
      "303/450 [===================>..........] - ETA: 2:12 - loss: 30.3280"
     ]
    },
    {
     "name": "stderr",
     "output_type": "stream",
     "text": [
      "[mpeg1video @ 0x7f49780247c0] ac-tex damaged at 22 17\n",
      "[mpeg1video @ 0x7f49780247c0] Warning MVs not available\n"
     ]
    },
    {
     "name": "stdout",
     "output_type": "stream",
     "text": [
      "450/450 [==============================] - ETA: 0s - loss: 30.2810"
     ]
    },
    {
     "name": "stderr",
     "output_type": "stream",
     "text": [
      "[mpeg1video @ 0x7f4478032dc0] ac-tex damaged at 22 17\n",
      "[mpeg1video @ 0x7f4478032dc0] Warning MVs not available\n"
     ]
    },
    {
     "name": "stdout",
     "output_type": "stream",
     "text": [
      "1/1 [==============================] - 0s 190ms/step\n",
      "Original: binhiteithnnineagain\n",
      "Prediction: binrieyneao\n",
      "~~~~~~~~~~~~~~~~~~~~~~~~~~~~~~~~~~~~~~~~~~~~~~~~~~~~~~~~~~~~~~~~~~~~~~~~~~~~~~~~~~~~~~~~~~~~~~~~~~~~\n",
      "Original: setredatutono\n",
      "Prediction: setrebttoo\n",
      "~~~~~~~~~~~~~~~~~~~~~~~~~~~~~~~~~~~~~~~~~~~~~~~~~~~~~~~~~~~~~~~~~~~~~~~~~~~~~~~~~~~~~~~~~~~~~~~~~~~~\n",
      "450/450 [==============================] - 631s 1s/step - loss: 30.2810 - val_loss: 25.8446 - lr: 1.0000e-04\n",
      "Epoch 23/50\n",
      "381/450 [========================>.....] - ETA: 1:01 - loss: 28.3940"
     ]
    },
    {
     "name": "stderr",
     "output_type": "stream",
     "text": [
      "[mpeg1video @ 0x7f48640948c0] ac-tex damaged at 22 17\n",
      "[mpeg1video @ 0x7f48640948c0] Warning MVs not available\n"
     ]
    },
    {
     "name": "stdout",
     "output_type": "stream",
     "text": [
      "450/450 [==============================] - ETA: 0s - loss: 28.3438"
     ]
    },
    {
     "name": "stderr",
     "output_type": "stream",
     "text": [
      "[mpeg1video @ 0x7f4980030f40] ac-tex damaged at 22 17\n",
      "[mpeg1video @ 0x7f4980030f40] Warning MVs not available\n"
     ]
    },
    {
     "name": "stdout",
     "output_type": "stream",
     "text": [
      "1/1 [==============================] - 0s 182ms/step\n",
      "Original: setgreenatisixno\n",
      "Prediction: setgrteatixo\n",
      "~~~~~~~~~~~~~~~~~~~~~~~~~~~~~~~~~~~~~~~~~~~~~~~~~~~~~~~~~~~~~~~~~~~~~~~~~~~~~~~~~~~~~~~~~~~~~~~~~~~~\n",
      "Original: setgreenatponesoon\n",
      "Prediction: setgrenitthrson\n",
      "~~~~~~~~~~~~~~~~~~~~~~~~~~~~~~~~~~~~~~~~~~~~~~~~~~~~~~~~~~~~~~~~~~~~~~~~~~~~~~~~~~~~~~~~~~~~~~~~~~~~\n",
      "450/450 [==============================] - 627s 1s/step - loss: 28.3438 - val_loss: 22.3645 - lr: 1.0000e-04\n",
      "Epoch 24/50\n",
      "188/450 [===========>..................] - ETA: 3:54 - loss: 25.6418"
     ]
    },
    {
     "name": "stderr",
     "output_type": "stream",
     "text": [
      "[mpeg1video @ 0x7f48200221c0] ac-tex damaged at 22 17\n",
      "[mpeg1video @ 0x7f48200221c0] Warning MVs not available\n"
     ]
    },
    {
     "name": "stdout",
     "output_type": "stream",
     "text": [
      "450/450 [==============================] - ETA: 0s - loss: 25.6743"
     ]
    },
    {
     "name": "stderr",
     "output_type": "stream",
     "text": [
      "[mpeg1video @ 0x7f495409eb40] ac-tex damaged at 22 17\n",
      "[mpeg1video @ 0x7f495409eb40] Warning MVs not available\n"
     ]
    },
    {
     "name": "stdout",
     "output_type": "stream",
     "text": [
      "1/1 [==============================] - 0s 179ms/step\n",
      "Original: placehitebykthreeagain\n",
      "Prediction: lacehitedbyyhreain\n",
      "~~~~~~~~~~~~~~~~~~~~~~~~~~~~~~~~~~~~~~~~~~~~~~~~~~~~~~~~~~~~~~~~~~~~~~~~~~~~~~~~~~~~~~~~~~~~~~~~~~~~\n",
      "Original: layblueatdnineagain\n",
      "Prediction: layblueitnegain\n",
      "~~~~~~~~~~~~~~~~~~~~~~~~~~~~~~~~~~~~~~~~~~~~~~~~~~~~~~~~~~~~~~~~~~~~~~~~~~~~~~~~~~~~~~~~~~~~~~~~~~~~\n",
      "450/450 [==============================] - 633s 1s/step - loss: 25.6743 - val_loss: 19.4610 - lr: 1.0000e-04\n",
      "Epoch 25/50\n",
      "450/450 [==============================] - ETA: 0s - loss: 23.4782"
     ]
    },
    {
     "name": "stderr",
     "output_type": "stream",
     "text": [
      "[mpeg1video @ 0x7f485402bc40] ac-tex damaged at 22 17\n",
      "[mpeg1video @ 0x7f485402bc40] Warning MVs not available\n"
     ]
    },
    {
     "name": "stdout",
     "output_type": "stream",
     "text": [
      "1/1 [==============================] - 0s 183ms/step\n",
      "Original: sethitebyvfiveagain\n",
      "Prediction: sethitebyyfiveagain\n",
      "~~~~~~~~~~~~~~~~~~~~~~~~~~~~~~~~~~~~~~~~~~~~~~~~~~~~~~~~~~~~~~~~~~~~~~~~~~~~~~~~~~~~~~~~~~~~~~~~~~~~\n",
      "Original: placegreenithesixno\n",
      "Prediction: layrenitix\n",
      "~~~~~~~~~~~~~~~~~~~~~~~~~~~~~~~~~~~~~~~~~~~~~~~~~~~~~~~~~~~~~~~~~~~~~~~~~~~~~~~~~~~~~~~~~~~~~~~~~~~~\n",
      "450/450 [==============================] - 635s 1s/step - loss: 23.4782 - val_loss: 17.7957 - lr: 1.0000e-04\n",
      "Epoch 26/50\n",
      "240/450 [===============>..............] - ETA: 3:08 - loss: 21.1062"
     ]
    },
    {
     "name": "stderr",
     "output_type": "stream",
     "text": [
      "[mpeg1video @ 0x5c1bc381e600] ac-tex damaged at 22 17\n",
      "[mpeg1video @ 0x5c1bc381e600] Warning MVs not available\n"
     ]
    },
    {
     "name": "stdout",
     "output_type": "stream",
     "text": [
      "450/450 [==============================] - ETA: 0s - loss: 21.4313"
     ]
    },
    {
     "name": "stderr",
     "output_type": "stream",
     "text": [
      "[mpeg1video @ 0x7f482c00adc0] ac-tex damaged at 22 17\n",
      "[mpeg1video @ 0x7f482c00adc0] Warning MVs not available\n"
     ]
    },
    {
     "name": "stdout",
     "output_type": "stream",
     "text": [
      "1/1 [==============================] - 0s 183ms/step\n",
      "Original: binblueatsonesoon\n",
      "Prediction: binblueitseson\n",
      "~~~~~~~~~~~~~~~~~~~~~~~~~~~~~~~~~~~~~~~~~~~~~~~~~~~~~~~~~~~~~~~~~~~~~~~~~~~~~~~~~~~~~~~~~~~~~~~~~~~~\n",
      "Original: layhitespbyfthreesoon\n",
      "Prediction: layhitebythreson\n",
      "~~~~~~~~~~~~~~~~~~~~~~~~~~~~~~~~~~~~~~~~~~~~~~~~~~~~~~~~~~~~~~~~~~~~~~~~~~~~~~~~~~~~~~~~~~~~~~~~~~~~\n",
      "450/450 [==============================] - 631s 1s/step - loss: 21.4313 - val_loss: 15.5255 - lr: 1.0000e-04\n",
      "Epoch 27/50\n",
      "450/450 [==============================] - ETA: 0s - loss: 19.3673"
     ]
    },
    {
     "name": "stderr",
     "output_type": "stream",
     "text": [
      "[mpeg1video @ 0x7f4808022140] ac-tex damaged at 22 17\n",
      "[mpeg1video @ 0x7f4808022140] Warning MVs not available\n"
     ]
    },
    {
     "name": "stdout",
     "output_type": "stream",
     "text": [
      "1/1 [==============================] - 0s 186ms/step\n",
      "Original: placeredbyxfiveagain\n",
      "Prediction: placegredbyyfiheagain\n",
      "~~~~~~~~~~~~~~~~~~~~~~~~~~~~~~~~~~~~~~~~~~~~~~~~~~~~~~~~~~~~~~~~~~~~~~~~~~~~~~~~~~~~~~~~~~~~~~~~~~~~\n",
      "Original: laygreeninfthreeagain\n",
      "Prediction: laygreninkhreain\n",
      "~~~~~~~~~~~~~~~~~~~~~~~~~~~~~~~~~~~~~~~~~~~~~~~~~~~~~~~~~~~~~~~~~~~~~~~~~~~~~~~~~~~~~~~~~~~~~~~~~~~~\n",
      "450/450 [==============================] - 629s 1s/step - loss: 19.3673 - val_loss: 14.7509 - lr: 1.0000e-04\n",
      "Epoch 28/50\n",
      " 37/450 [=>............................] - ETA: 6:09 - loss: 18.1799"
     ]
    },
    {
     "name": "stderr",
     "output_type": "stream",
     "text": [
      "[mpeg1video @ 0x7f48640211c0] ac-tex damaged at 22 17\n",
      "[mpeg1video @ 0x7f48640211c0] Warning MVs not available\n"
     ]
    },
    {
     "name": "stdout",
     "output_type": "stream",
     "text": [
      "450/450 [==============================] - ETA: 0s - loss: 18.0132"
     ]
    },
    {
     "name": "stderr",
     "output_type": "stream",
     "text": [
      "[mpeg1video @ 0x7f498808ff00] ac-tex damaged at 22 17\n",
      "[mpeg1video @ 0x7f498808ff00] Warning MVs not available\n"
     ]
    },
    {
     "name": "stdout",
     "output_type": "stream",
     "text": [
      "1/1 [==============================] - 0s 190ms/step\n",
      "Original: placeblueinueightno\n",
      "Prediction: placeblueinnihtnon\n",
      "~~~~~~~~~~~~~~~~~~~~~~~~~~~~~~~~~~~~~~~~~~~~~~~~~~~~~~~~~~~~~~~~~~~~~~~~~~~~~~~~~~~~~~~~~~~~~~~~~~~~\n",
      "Original: laygreenatfsixplease\n",
      "Prediction: laygrenayysixplese\n",
      "~~~~~~~~~~~~~~~~~~~~~~~~~~~~~~~~~~~~~~~~~~~~~~~~~~~~~~~~~~~~~~~~~~~~~~~~~~~~~~~~~~~~~~~~~~~~~~~~~~~~\n",
      "450/450 [==============================] - 629s 1s/step - loss: 18.0132 - val_loss: 12.3832 - lr: 1.0000e-04\n",
      "Epoch 29/50\n",
      " 92/450 [=====>........................] - ETA: 5:22 - loss: 16.4598"
     ]
    },
    {
     "name": "stderr",
     "output_type": "stream",
     "text": [
      "[mpeg1video @ 0x7f4838022640] ac-tex damaged at 22 17\n",
      "[mpeg1video @ 0x7f4838022640] Warning MVs not available\n"
     ]
    },
    {
     "name": "stdout",
     "output_type": "stream",
     "text": [
      "450/450 [==============================] - ETA: 0s - loss: 16.2453"
     ]
    },
    {
     "name": "stderr",
     "output_type": "stream",
     "text": [
      "[mpeg1video @ 0x7f497403d840] ac-tex damaged at 22 17\n",
      "[mpeg1video @ 0x7f497403d840] Warning MVs not available\n"
     ]
    },
    {
     "name": "stdout",
     "output_type": "stream",
     "text": [
      "1/1 [==============================] - 0s 182ms/step\n",
      "Original: placeblueithjtono\n",
      "Prediction: placeblueithtono\n",
      "~~~~~~~~~~~~~~~~~~~~~~~~~~~~~~~~~~~~~~~~~~~~~~~~~~~~~~~~~~~~~~~~~~~~~~~~~~~~~~~~~~~~~~~~~~~~~~~~~~~~\n",
      "Original: binblueatsthreeagain\n",
      "Prediction: binblueatthreain\n",
      "~~~~~~~~~~~~~~~~~~~~~~~~~~~~~~~~~~~~~~~~~~~~~~~~~~~~~~~~~~~~~~~~~~~~~~~~~~~~~~~~~~~~~~~~~~~~~~~~~~~~\n",
      "450/450 [==============================] - 633s 1s/step - loss: 16.2453 - val_loss: 12.0435 - lr: 1.0000e-04\n",
      "Epoch 30/50\n",
      "401/450 [=========================>....] - ETA: 44s - loss: 14.4610"
     ]
    },
    {
     "name": "stderr",
     "output_type": "stream",
     "text": [
      "[mpeg1video @ 0x7f48181a5940] ac-tex damaged at 22 17\n",
      "[mpeg1video @ 0x7f48181a5940] Warning MVs not available\n"
     ]
    },
    {
     "name": "stdout",
     "output_type": "stream",
     "text": [
      "450/450 [==============================] - ETA: 0s - loss: 14.4942"
     ]
    },
    {
     "name": "stderr",
     "output_type": "stream",
     "text": [
      "[mpeg1video @ 0x7f4858036b80] ac-tex damaged at 22 17\n",
      "[mpeg1video @ 0x7f4858036b80] Warning MVs not available\n"
     ]
    },
    {
     "name": "stdout",
     "output_type": "stream",
     "text": [
      "1/1 [==============================] - 0s 187ms/step\n",
      "Original: placegreenbyefiveagain\n",
      "Prediction: placegrenbyvviveagain\n",
      "~~~~~~~~~~~~~~~~~~~~~~~~~~~~~~~~~~~~~~~~~~~~~~~~~~~~~~~~~~~~~~~~~~~~~~~~~~~~~~~~~~~~~~~~~~~~~~~~~~~~\n",
      "Original: layhiteinrthreesoon\n",
      "Prediction: layhiteinrthreson\n",
      "~~~~~~~~~~~~~~~~~~~~~~~~~~~~~~~~~~~~~~~~~~~~~~~~~~~~~~~~~~~~~~~~~~~~~~~~~~~~~~~~~~~~~~~~~~~~~~~~~~~~\n",
      "450/450 [==============================] - 635s 1s/step - loss: 14.4942 - val_loss: 9.7951 - lr: 1.0000e-04\n",
      "Epoch 31/50\n",
      " 82/450 [====>.........................] - ETA: 5:30 - loss: 13.3573"
     ]
    },
    {
     "name": "stderr",
     "output_type": "stream",
     "text": [
      "[mpeg1video @ 0x7f4480041b00] ac-tex damaged at 22 17\n",
      "[mpeg1video @ 0x7f4480041b00] Warning MVs not available\n"
     ]
    },
    {
     "name": "stdout",
     "output_type": "stream",
     "text": [
      "450/450 [==============================] - ETA: 0s - loss: 13.1552"
     ]
    },
    {
     "name": "stderr",
     "output_type": "stream",
     "text": [
      "[mpeg1video @ 0x7f485807f8c0] ac-tex damaged at 22 17\n",
      "[mpeg1video @ 0x7f485807f8c0] Warning MVs not available\n"
     ]
    },
    {
     "name": "stdout",
     "output_type": "stream",
     "text": [
      "1/1 [==============================] - 0s 182ms/step\n",
      "Original: binblueithtoneagain\n",
      "Prediction: binblueithtonagain\n",
      "~~~~~~~~~~~~~~~~~~~~~~~~~~~~~~~~~~~~~~~~~~~~~~~~~~~~~~~~~~~~~~~~~~~~~~~~~~~~~~~~~~~~~~~~~~~~~~~~~~~~\n",
      "Original: layhiteatfoneagain\n",
      "Prediction: layhiteatfoneagain\n",
      "~~~~~~~~~~~~~~~~~~~~~~~~~~~~~~~~~~~~~~~~~~~~~~~~~~~~~~~~~~~~~~~~~~~~~~~~~~~~~~~~~~~~~~~~~~~~~~~~~~~~\n",
      "450/450 [==============================] - 632s 1s/step - loss: 13.1552 - val_loss: 7.6945 - lr: 9.0484e-05\n",
      "Epoch 32/50\n",
      "348/450 [======================>.......] - ETA: 1:31 - loss: 11.5301"
     ]
    },
    {
     "name": "stderr",
     "output_type": "stream",
     "text": [
      "[mpeg1video @ 0x7f44780c5800] ac-tex damaged at 22 17\n",
      "[mpeg1video @ 0x7f44780c5800] Warning MVs not available\n"
     ]
    },
    {
     "name": "stdout",
     "output_type": "stream",
     "text": [
      "450/450 [==============================] - ETA: 0s - loss: 11.5253"
     ]
    },
    {
     "name": "stderr",
     "output_type": "stream",
     "text": [
      "[mpeg1video @ 0x7f44115ccc40] ac-tex damaged at 22 17\n",
      "[mpeg1video @ 0x7f44115ccc40] Warning MVs not available\n"
     ]
    },
    {
     "name": "stdout",
     "output_type": "stream",
     "text": [
      "1/1 [==============================] - 0s 182ms/step\n",
      "Original: placeblueithpeightplease\n",
      "Prediction: placeblueithpeightplease\n",
      "~~~~~~~~~~~~~~~~~~~~~~~~~~~~~~~~~~~~~~~~~~~~~~~~~~~~~~~~~~~~~~~~~~~~~~~~~~~~~~~~~~~~~~~~~~~~~~~~~~~~\n",
      "Original: placeblueithpsixno\n",
      "Prediction: placeblueithpsixno\n",
      "~~~~~~~~~~~~~~~~~~~~~~~~~~~~~~~~~~~~~~~~~~~~~~~~~~~~~~~~~~~~~~~~~~~~~~~~~~~~~~~~~~~~~~~~~~~~~~~~~~~~\n",
      "450/450 [==============================] - 631s 1s/step - loss: 11.5253 - val_loss: 7.4483 - lr: 8.1873e-05\n",
      "Epoch 33/50\n",
      "209/450 [============>.................] - ETA: 3:36 - loss: 10.4807"
     ]
    },
    {
     "name": "stderr",
     "output_type": "stream",
     "text": [
      "[mpeg1video @ 0x7f49780a4b40] ac-tex damaged at 22 17\n",
      "[mpeg1video @ 0x7f49780a4b40] Warning MVs not available\n"
     ]
    },
    {
     "name": "stdout",
     "output_type": "stream",
     "text": [
      "450/450 [==============================] - ETA: 0s - loss: 10.3668"
     ]
    },
    {
     "name": "stderr",
     "output_type": "stream",
     "text": [
      "[mpeg1video @ 0x7f4808065c40] ac-tex damaged at 22 17\n",
      "[mpeg1video @ 0x7f4808065c40] Warning MVs not available\n"
     ]
    },
    {
     "name": "stdout",
     "output_type": "stream",
     "text": [
      "1/1 [==============================] - 0s 180ms/step\n",
      "Original: binredatsnineagain\n",
      "Prediction: binredatsnagain\n",
      "~~~~~~~~~~~~~~~~~~~~~~~~~~~~~~~~~~~~~~~~~~~~~~~~~~~~~~~~~~~~~~~~~~~~~~~~~~~~~~~~~~~~~~~~~~~~~~~~~~~~\n",
      "Original: layredatyfivesoon\n",
      "Prediction: layredayyfiveson\n",
      "~~~~~~~~~~~~~~~~~~~~~~~~~~~~~~~~~~~~~~~~~~~~~~~~~~~~~~~~~~~~~~~~~~~~~~~~~~~~~~~~~~~~~~~~~~~~~~~~~~~~\n",
      "450/450 [==============================] - 630s 1s/step - loss: 10.3668 - val_loss: 5.7673 - lr: 7.4082e-05\n",
      "Epoch 34/50\n",
      "414/450 [==========================>...] - ETA: 32s - loss: 9.1988"
     ]
    },
    {
     "name": "stderr",
     "output_type": "stream",
     "text": [
      "[mpeg1video @ 0x7f486808b140] ac-tex damaged at 22 17\n",
      "[mpeg1video @ 0x7f486808b140] Warning MVs not available\n"
     ]
    },
    {
     "name": "stdout",
     "output_type": "stream",
     "text": [
      "450/450 [==============================] - ETA: 0s - loss: 9.2376"
     ]
    },
    {
     "name": "stderr",
     "output_type": "stream",
     "text": [
      "[mpeg1video @ 0x7f49880eb440] ac-tex damaged at 22 17\n",
      "[mpeg1video @ 0x7f49880eb440] Warning MVs not available\n"
     ]
    },
    {
     "name": "stdout",
     "output_type": "stream",
     "text": [
      "1/1 [==============================] - 0s 196ms/step\n",
      "Original: sethiteithpthreesoon\n",
      "Prediction: sethiteithhthreson\n",
      "~~~~~~~~~~~~~~~~~~~~~~~~~~~~~~~~~~~~~~~~~~~~~~~~~~~~~~~~~~~~~~~~~~~~~~~~~~~~~~~~~~~~~~~~~~~~~~~~~~~~\n",
      "Original: bingreeninnonesoon\n",
      "Prediction: bingreninnoeon\n",
      "~~~~~~~~~~~~~~~~~~~~~~~~~~~~~~~~~~~~~~~~~~~~~~~~~~~~~~~~~~~~~~~~~~~~~~~~~~~~~~~~~~~~~~~~~~~~~~~~~~~~\n",
      "450/450 [==============================] - 629s 1s/step - loss: 9.2376 - val_loss: 5.3606 - lr: 6.7032e-05\n",
      "Epoch 35/50\n",
      "346/450 [======================>.......] - ETA: 1:33 - loss: 8.2807"
     ]
    },
    {
     "name": "stderr",
     "output_type": "stream",
     "text": [
      "[mpeg1video @ 0x7f48280ac400] ac-tex damaged at 22 17\n",
      "[mpeg1video @ 0x7f48280ac400] Warning MVs not available\n"
     ]
    },
    {
     "name": "stdout",
     "output_type": "stream",
     "text": [
      "450/450 [==============================] - ETA: 0s - loss: 8.2484"
     ]
    },
    {
     "name": "stderr",
     "output_type": "stream",
     "text": [
      "[mpeg1video @ 0x7f4974064f80] ac-tex damaged at 22 17\n",
      "[mpeg1video @ 0x7f4974064f80] Warning MVs not available\n"
     ]
    },
    {
     "name": "stdout",
     "output_type": "stream",
     "text": [
      "1/1 [==============================] - 0s 185ms/step\n",
      "Original: setgreenithjfivesoon\n",
      "Prediction: setgrenithjfiveson\n",
      "~~~~~~~~~~~~~~~~~~~~~~~~~~~~~~~~~~~~~~~~~~~~~~~~~~~~~~~~~~~~~~~~~~~~~~~~~~~~~~~~~~~~~~~~~~~~~~~~~~~~\n",
      "Original: binhitebyasevenagain\n",
      "Prediction: binhitebaseveagain\n",
      "~~~~~~~~~~~~~~~~~~~~~~~~~~~~~~~~~~~~~~~~~~~~~~~~~~~~~~~~~~~~~~~~~~~~~~~~~~~~~~~~~~~~~~~~~~~~~~~~~~~~\n",
      "450/450 [==============================] - 632s 1s/step - loss: 8.2484 - val_loss: 4.3242 - lr: 6.0653e-05\n",
      "Epoch 36/50\n",
      "400/450 [=========================>....] - ETA: 45s - loss: 7.4950"
     ]
    },
    {
     "name": "stderr",
     "output_type": "stream",
     "text": [
      "[mpeg1video @ 0x7f44114d1dc0] ac-tex damaged at 22 17\n",
      "[mpeg1video @ 0x7f44114d1dc0] Warning MVs not available\n"
     ]
    },
    {
     "name": "stdout",
     "output_type": "stream",
     "text": [
      "450/450 [==============================] - ETA: 0s - loss: 7.4468"
     ]
    },
    {
     "name": "stderr",
     "output_type": "stream",
     "text": [
      "[mpeg1video @ 0x7f4860080980] ac-tex damaged at 22 17\n",
      "[mpeg1video @ 0x7f4860080980] Warning MVs not available\n"
     ]
    },
    {
     "name": "stdout",
     "output_type": "stream",
     "text": [
      "1/1 [==============================] - 0s 181ms/step\n",
      "Original: layhiteithmthreeagain\n",
      "Prediction: layhiteithmthreagain\n",
      "~~~~~~~~~~~~~~~~~~~~~~~~~~~~~~~~~~~~~~~~~~~~~~~~~~~~~~~~~~~~~~~~~~~~~~~~~~~~~~~~~~~~~~~~~~~~~~~~~~~~\n",
      "Original: sethiteatvoneagain\n",
      "Prediction: sethiteatvneain\n",
      "~~~~~~~~~~~~~~~~~~~~~~~~~~~~~~~~~~~~~~~~~~~~~~~~~~~~~~~~~~~~~~~~~~~~~~~~~~~~~~~~~~~~~~~~~~~~~~~~~~~~\n",
      "450/450 [==============================] - 636s 1s/step - loss: 7.4468 - val_loss: 3.8261 - lr: 5.4881e-05\n",
      "Epoch 37/50\n",
      "136/450 [========>.....................] - ETA: 4:43 - loss: 6.6329"
     ]
    },
    {
     "name": "stderr",
     "output_type": "stream",
     "text": [
      "[mpeg1video @ 0x7f480c096440] ac-tex damaged at 22 17\n",
      "[mpeg1video @ 0x7f480c096440] Warning MVs not available\n"
     ]
    },
    {
     "name": "stdout",
     "output_type": "stream",
     "text": [
      "450/450 [==============================] - ETA: 0s - loss: 6.7886"
     ]
    },
    {
     "name": "stderr",
     "output_type": "stream",
     "text": [
      "[mpeg1video @ 0x7f48401cd700] ac-tex damaged at 22 17\n",
      "[mpeg1video @ 0x7f48401cd700] Warning MVs not available\n"
     ]
    },
    {
     "name": "stdout",
     "output_type": "stream",
     "text": [
      "1/1 [==============================] - 0s 181ms/step\n",
      "Original: layblueinqthreeagain\n",
      "Prediction: layblueinnqthreagain\n",
      "~~~~~~~~~~~~~~~~~~~~~~~~~~~~~~~~~~~~~~~~~~~~~~~~~~~~~~~~~~~~~~~~~~~~~~~~~~~~~~~~~~~~~~~~~~~~~~~~~~~~\n",
      "Original: setredbyueightplease\n",
      "Prediction: setredbyueightplease\n",
      "~~~~~~~~~~~~~~~~~~~~~~~~~~~~~~~~~~~~~~~~~~~~~~~~~~~~~~~~~~~~~~~~~~~~~~~~~~~~~~~~~~~~~~~~~~~~~~~~~~~~\n",
      "450/450 [==============================] - 632s 1s/step - loss: 6.7886 - val_loss: 3.1729 - lr: 4.9659e-05\n",
      "Epoch 38/50\n",
      "401/450 [=========================>....] - ETA: 44s - loss: 6.4141"
     ]
    },
    {
     "name": "stderr",
     "output_type": "stream",
     "text": [
      "[mpeg1video @ 0x7f497c074080] ac-tex damaged at 22 17\n",
      "[mpeg1video @ 0x7f497c074080] Warning MVs not available\n"
     ]
    },
    {
     "name": "stdout",
     "output_type": "stream",
     "text": [
      "450/450 [==============================] - ETA: 0s - loss: 6.3814"
     ]
    },
    {
     "name": "stderr",
     "output_type": "stream",
     "text": [
      "[mpeg1video @ 0x7f481e4d0680] ac-tex damaged at 22 17\n",
      "[mpeg1video @ 0x7f481e4d0680] Warning MVs not available\n"
     ]
    },
    {
     "name": "stdout",
     "output_type": "stream",
     "text": [
      "1/1 [==============================] - 0s 186ms/step\n",
      "Original: placeredatpfourno\n",
      "Prediction: placeredatpfourno\n",
      "~~~~~~~~~~~~~~~~~~~~~~~~~~~~~~~~~~~~~~~~~~~~~~~~~~~~~~~~~~~~~~~~~~~~~~~~~~~~~~~~~~~~~~~~~~~~~~~~~~~~\n",
      "Original: setredbybfivesoon\n",
      "Prediction: setredbybfiveson\n",
      "~~~~~~~~~~~~~~~~~~~~~~~~~~~~~~~~~~~~~~~~~~~~~~~~~~~~~~~~~~~~~~~~~~~~~~~~~~~~~~~~~~~~~~~~~~~~~~~~~~~~\n",
      "450/450 [==============================] - 633s 1s/step - loss: 6.3814 - val_loss: 2.5818 - lr: 4.4933e-05\n",
      "Epoch 39/50\n",
      "391/450 [=========================>....] - ETA: 53s - loss: 5.6886"
     ]
    },
    {
     "name": "stderr",
     "output_type": "stream",
     "text": [
      "[mpeg1video @ 0x7f486806e4c0] ac-tex damaged at 22 17\n",
      "[mpeg1video @ 0x7f486806e4c0] Warning MVs not available\n"
     ]
    },
    {
     "name": "stdout",
     "output_type": "stream",
     "text": [
      "450/450 [==============================] - ETA: 0s - loss: 5.6376"
     ]
    },
    {
     "name": "stderr",
     "output_type": "stream",
     "text": [
      "[mpeg1video @ 0x5c1bc45c6840] ac-tex damaged at 22 17\n",
      "[mpeg1video @ 0x5c1bc45c6840] Warning MVs not available\n"
     ]
    },
    {
     "name": "stdout",
     "output_type": "stream",
     "text": [
      "1/1 [==============================] - 0s 181ms/step\n",
      "Original: setblueatnfiveagain\n",
      "Prediction: setblueatnfiveagain\n",
      "~~~~~~~~~~~~~~~~~~~~~~~~~~~~~~~~~~~~~~~~~~~~~~~~~~~~~~~~~~~~~~~~~~~~~~~~~~~~~~~~~~~~~~~~~~~~~~~~~~~~\n",
      "Original: bingreenithusevensoon\n",
      "Prediction: bingrenithusevenson\n",
      "~~~~~~~~~~~~~~~~~~~~~~~~~~~~~~~~~~~~~~~~~~~~~~~~~~~~~~~~~~~~~~~~~~~~~~~~~~~~~~~~~~~~~~~~~~~~~~~~~~~~\n",
      "450/450 [==============================] - 629s 1s/step - loss: 5.6376 - val_loss: 2.5670 - lr: 4.0657e-05\n",
      "Epoch 40/50\n",
      "215/450 [=============>................] - ETA: 3:30 - loss: 4.9953"
     ]
    },
    {
     "name": "stderr",
     "output_type": "stream",
     "text": [
      "[mpeg1video @ 0x7f4858067100] ac-tex damaged at 22 17\n",
      "[mpeg1video @ 0x7f4858067100] Warning MVs not available\n"
     ]
    },
    {
     "name": "stdout",
     "output_type": "stream",
     "text": [
      "450/450 [==============================] - ETA: 0s - loss: 5.0977"
     ]
    },
    {
     "name": "stderr",
     "output_type": "stream",
     "text": [
      "[mpeg1video @ 0x7f497c042a40] ac-tex damaged at 22 17\n",
      "[mpeg1video @ 0x7f497c042a40] Warning MVs not available\n"
     ]
    },
    {
     "name": "stdout",
     "output_type": "stream",
     "text": [
      "1/1 [==============================] - 0s 183ms/step\n",
      "Original: placehiteatxsevenagain\n",
      "Prediction: placehiteatxsevenagain\n",
      "~~~~~~~~~~~~~~~~~~~~~~~~~~~~~~~~~~~~~~~~~~~~~~~~~~~~~~~~~~~~~~~~~~~~~~~~~~~~~~~~~~~~~~~~~~~~~~~~~~~~\n",
      "Original: sethiteinhsevensoon\n",
      "Prediction: sethiteinhsevenson\n",
      "~~~~~~~~~~~~~~~~~~~~~~~~~~~~~~~~~~~~~~~~~~~~~~~~~~~~~~~~~~~~~~~~~~~~~~~~~~~~~~~~~~~~~~~~~~~~~~~~~~~~\n",
      "450/450 [==============================] - 629s 1s/step - loss: 5.0977 - val_loss: 1.9742 - lr: 3.6788e-05\n",
      "Epoch 41/50\n",
      "450/450 [==============================] - ETA: 0s - loss: 4.8382"
     ]
    },
    {
     "name": "stderr",
     "output_type": "stream",
     "text": [
      "[mpeg1video @ 0x7f486805bd80] ac-tex damaged at 22 17\n",
      "[mpeg1video @ 0x7f486805bd80] Warning MVs not available\n"
     ]
    },
    {
     "name": "stdout",
     "output_type": "stream",
     "text": [
      "1/1 [==============================] - 0s 187ms/step\n",
      "Original: setgreenbyveightno\n",
      "Prediction: setgrenbyveightno\n",
      "~~~~~~~~~~~~~~~~~~~~~~~~~~~~~~~~~~~~~~~~~~~~~~~~~~~~~~~~~~~~~~~~~~~~~~~~~~~~~~~~~~~~~~~~~~~~~~~~~~~~\n",
      "Original: setredatbtoplease\n",
      "Prediction: setredatbtoplease\n",
      "~~~~~~~~~~~~~~~~~~~~~~~~~~~~~~~~~~~~~~~~~~~~~~~~~~~~~~~~~~~~~~~~~~~~~~~~~~~~~~~~~~~~~~~~~~~~~~~~~~~~\n",
      "450/450 [==============================] - 632s 1s/step - loss: 4.8382 - val_loss: 1.9415 - lr: 3.3287e-05\n",
      "Epoch 42/50\n",
      "339/450 [=====================>........] - ETA: 1:39 - loss: 4.4180"
     ]
    },
    {
     "name": "stderr",
     "output_type": "stream",
     "text": [
      "[mpeg1video @ 0x7f4814028400] ac-tex damaged at 22 17\n",
      "[mpeg1video @ 0x7f4814028400] Warning MVs not available\n"
     ]
    },
    {
     "name": "stdout",
     "output_type": "stream",
     "text": [
      "450/450 [==============================] - ETA: 0s - loss: 4.4253"
     ]
    },
    {
     "name": "stderr",
     "output_type": "stream",
     "text": [
      "[mpeg1video @ 0x7f48540b3700] ac-tex damaged at 22 17\n",
      "[mpeg1video @ 0x7f48540b3700] Warning MVs not available\n"
     ]
    },
    {
     "name": "stdout",
     "output_type": "stream",
     "text": [
      "1/1 [==============================] - 0s 181ms/step\n",
      "Original: placeblueinionesoon\n",
      "Prediction: placeblueinioneson\n",
      "~~~~~~~~~~~~~~~~~~~~~~~~~~~~~~~~~~~~~~~~~~~~~~~~~~~~~~~~~~~~~~~~~~~~~~~~~~~~~~~~~~~~~~~~~~~~~~~~~~~~\n",
      "Original: bingreenbyhsevenagain\n",
      "Prediction: bingrenbyhsevenagain\n",
      "~~~~~~~~~~~~~~~~~~~~~~~~~~~~~~~~~~~~~~~~~~~~~~~~~~~~~~~~~~~~~~~~~~~~~~~~~~~~~~~~~~~~~~~~~~~~~~~~~~~~\n",
      "450/450 [==============================] - 632s 1s/step - loss: 4.4253 - val_loss: 1.3865 - lr: 3.0119e-05\n",
      "Epoch 43/50\n",
      "170/450 [==========>...................] - ETA: 4:11 - loss: 4.1783"
     ]
    },
    {
     "name": "stderr",
     "output_type": "stream",
     "text": [
      "[mpeg1video @ 0x7f49900d5d40] ac-tex damaged at 22 17\n",
      "[mpeg1video @ 0x7f49900d5d40] Warning MVs not available\n"
     ]
    },
    {
     "name": "stdout",
     "output_type": "stream",
     "text": [
      "450/450 [==============================] - ETA: 0s - loss: 4.1481"
     ]
    },
    {
     "name": "stderr",
     "output_type": "stream",
     "text": [
      "[mpeg1video @ 0x7f4820096240] ac-tex damaged at 22 17\n",
      "[mpeg1video @ 0x7f4820096240] Warning MVs not available\n"
     ]
    },
    {
     "name": "stdout",
     "output_type": "stream",
     "text": [
      "1/1 [==============================] - 0s 186ms/step\n",
      "Original: placehiteithkfourno\n",
      "Prediction: placehiteithkfourno\n",
      "~~~~~~~~~~~~~~~~~~~~~~~~~~~~~~~~~~~~~~~~~~~~~~~~~~~~~~~~~~~~~~~~~~~~~~~~~~~~~~~~~~~~~~~~~~~~~~~~~~~~\n",
      "Original: placeredbyxfourplease\n",
      "Prediction: placeredbyxfourplease\n",
      "~~~~~~~~~~~~~~~~~~~~~~~~~~~~~~~~~~~~~~~~~~~~~~~~~~~~~~~~~~~~~~~~~~~~~~~~~~~~~~~~~~~~~~~~~~~~~~~~~~~~\n",
      "450/450 [==============================] - 632s 1s/step - loss: 4.1481 - val_loss: 1.5962 - lr: 2.7253e-05\n",
      "Epoch 44/50\n",
      "215/450 [=============>................] - ETA: 3:31 - loss: 3.7599"
     ]
    },
    {
     "name": "stderr",
     "output_type": "stream",
     "text": [
      "[mpeg1video @ 0x7f495405be80] ac-tex damaged at 22 17\n",
      "[mpeg1video @ 0x7f495405be80] Warning MVs not available\n"
     ]
    },
    {
     "name": "stdout",
     "output_type": "stream",
     "text": [
      "450/450 [==============================] - ETA: 0s - loss: 3.7670"
     ]
    },
    {
     "name": "stderr",
     "output_type": "stream",
     "text": [
      "[mpeg1video @ 0x7f480c0952c0] ac-tex damaged at 22 17\n",
      "[mpeg1video @ 0x7f480c0952c0] Warning MVs not available\n"
     ]
    },
    {
     "name": "stdout",
     "output_type": "stream",
     "text": [
      "1/1 [==============================] - 0s 187ms/step\n",
      "Original: binblueithtzeroplease\n",
      "Prediction: binblueithtzeroplease\n",
      "~~~~~~~~~~~~~~~~~~~~~~~~~~~~~~~~~~~~~~~~~~~~~~~~~~~~~~~~~~~~~~~~~~~~~~~~~~~~~~~~~~~~~~~~~~~~~~~~~~~~\n",
      "Original: layhiteateeightno\n",
      "Prediction: layhiteateeightno\n",
      "~~~~~~~~~~~~~~~~~~~~~~~~~~~~~~~~~~~~~~~~~~~~~~~~~~~~~~~~~~~~~~~~~~~~~~~~~~~~~~~~~~~~~~~~~~~~~~~~~~~~\n",
      "450/450 [==============================] - 630s 1s/step - loss: 3.7670 - val_loss: 1.3052 - lr: 2.4660e-05\n",
      "Epoch 45/50\n",
      "312/450 [===================>..........] - ETA: 2:03 - loss: 3.6530"
     ]
    },
    {
     "name": "stderr",
     "output_type": "stream",
     "text": [
      "[mpeg1video @ 0x7f4860061e40] ac-tex damaged at 22 17\n",
      "[mpeg1video @ 0x7f4860061e40] Warning MVs not available\n"
     ]
    },
    {
     "name": "stdout",
     "output_type": "stream",
     "text": [
      "450/450 [==============================] - ETA: 0s - loss: 3.6624"
     ]
    },
    {
     "name": "stderr",
     "output_type": "stream",
     "text": [
      "[mpeg1video @ 0x7f4478053300] ac-tex damaged at 22 17\n",
      "[mpeg1video @ 0x7f4478053300] Warning MVs not available\n"
     ]
    },
    {
     "name": "stdout",
     "output_type": "stream",
     "text": [
      "1/1 [==============================] - 0s 183ms/step\n",
      "Original: sethitebyifivesoon\n",
      "Prediction: sethitebyifiveson\n",
      "~~~~~~~~~~~~~~~~~~~~~~~~~~~~~~~~~~~~~~~~~~~~~~~~~~~~~~~~~~~~~~~~~~~~~~~~~~~~~~~~~~~~~~~~~~~~~~~~~~~~\n",
      "Original: placegreenbykeightplease\n",
      "Prediction: placegrenbykeightplease\n",
      "~~~~~~~~~~~~~~~~~~~~~~~~~~~~~~~~~~~~~~~~~~~~~~~~~~~~~~~~~~~~~~~~~~~~~~~~~~~~~~~~~~~~~~~~~~~~~~~~~~~~\n",
      "450/450 [==============================] - 625s 1s/step - loss: 3.6624 - val_loss: 1.8870 - lr: 2.2313e-05\n",
      "Epoch 46/50\n",
      " 14/450 [..............................] - ETA: 6:24 - loss: 3.8344"
     ]
    },
    {
     "name": "stderr",
     "output_type": "stream",
     "text": [
      "[mpeg1video @ 0x7f484c098140] ac-tex damaged at 22 17\n",
      "[mpeg1video @ 0x7f484c098140] Warning MVs not available\n"
     ]
    },
    {
     "name": "stdout",
     "output_type": "stream",
     "text": [
      "450/450 [==============================] - ETA: 0s - loss: 3.4783"
     ]
    },
    {
     "name": "stderr",
     "output_type": "stream",
     "text": [
      "[mpeg1video @ 0x7f497404cd80] ac-tex damaged at 22 17\n",
      "[mpeg1video @ 0x7f497404cd80] Warning MVs not available\n"
     ]
    },
    {
     "name": "stdout",
     "output_type": "stream",
     "text": [
      "1/1 [==============================] - 0s 181ms/step\n",
      "Original: layhitespinefourno\n",
      "Prediction: layhitespinefourno\n",
      "~~~~~~~~~~~~~~~~~~~~~~~~~~~~~~~~~~~~~~~~~~~~~~~~~~~~~~~~~~~~~~~~~~~~~~~~~~~~~~~~~~~~~~~~~~~~~~~~~~~~\n",
      "Original: bingreenbyhfivesoon\n",
      "Prediction: bingrenbyhfiveson\n",
      "~~~~~~~~~~~~~~~~~~~~~~~~~~~~~~~~~~~~~~~~~~~~~~~~~~~~~~~~~~~~~~~~~~~~~~~~~~~~~~~~~~~~~~~~~~~~~~~~~~~~\n",
      "450/450 [==============================] - 631s 1s/step - loss: 3.4783 - val_loss: 1.1209 - lr: 2.0190e-05\n",
      "Epoch 47/50\n",
      "276/450 [=================>............] - ETA: 2:36 - loss: 3.1807"
     ]
    },
    {
     "name": "stderr",
     "output_type": "stream",
     "text": [
      "[mpeg1video @ 0x7f481e4aacc0] ac-tex damaged at 22 17\n",
      "[mpeg1video @ 0x7f481e4aacc0] Warning MVs not available\n"
     ]
    },
    {
     "name": "stdout",
     "output_type": "stream",
     "text": [
      "450/450 [==============================] - ETA: 0s - loss: 3.1706"
     ]
    },
    {
     "name": "stderr",
     "output_type": "stream",
     "text": [
      "[mpeg1video @ 0x7f486801cac0] ac-tex damaged at 22 17\n",
      "[mpeg1video @ 0x7f486801cac0] Warning MVs not available\n"
     ]
    },
    {
     "name": "stdout",
     "output_type": "stream",
     "text": [
      "1/1 [==============================] - 0s 181ms/step\n",
      "Original: placeblueinuninesoon\n",
      "Prediction: placeblueinunineson\n",
      "~~~~~~~~~~~~~~~~~~~~~~~~~~~~~~~~~~~~~~~~~~~~~~~~~~~~~~~~~~~~~~~~~~~~~~~~~~~~~~~~~~~~~~~~~~~~~~~~~~~~\n",
      "Original: setblueingsixplease\n",
      "Prediction: setblueingsixplease\n",
      "~~~~~~~~~~~~~~~~~~~~~~~~~~~~~~~~~~~~~~~~~~~~~~~~~~~~~~~~~~~~~~~~~~~~~~~~~~~~~~~~~~~~~~~~~~~~~~~~~~~~\n",
      "450/450 [==============================] - 631s 1s/step - loss: 3.1706 - val_loss: 1.0448 - lr: 1.8268e-05\n",
      "Epoch 48/50\n",
      " 53/450 [==>...........................] - ETA: 5:55 - loss: 2.9823"
     ]
    },
    {
     "name": "stderr",
     "output_type": "stream",
     "text": [
      "[mpeg1video @ 0x7f4478014540] ac-tex damaged at 22 17\n",
      "[mpeg1video @ 0x7f4478014540] Warning MVs not available\n"
     ]
    },
    {
     "name": "stdout",
     "output_type": "stream",
     "text": [
      "450/450 [==============================] - ETA: 0s - loss: 3.0431"
     ]
    },
    {
     "name": "stderr",
     "output_type": "stream",
     "text": [
      "[mpeg1video @ 0x7f4838048980] ac-tex damaged at 22 17\n",
      "[mpeg1video @ 0x7f4838048980] Warning MVs not available\n"
     ]
    },
    {
     "name": "stdout",
     "output_type": "stream",
     "text": [
      "1/1 [==============================] - 0s 178ms/step\n",
      "Original: placehiteatjeightplease\n",
      "Prediction: placehiteatjeightplease\n",
      "~~~~~~~~~~~~~~~~~~~~~~~~~~~~~~~~~~~~~~~~~~~~~~~~~~~~~~~~~~~~~~~~~~~~~~~~~~~~~~~~~~~~~~~~~~~~~~~~~~~~\n",
      "Original: binredinfsixplease\n",
      "Prediction: binredinfsixplease\n",
      "~~~~~~~~~~~~~~~~~~~~~~~~~~~~~~~~~~~~~~~~~~~~~~~~~~~~~~~~~~~~~~~~~~~~~~~~~~~~~~~~~~~~~~~~~~~~~~~~~~~~\n",
      "450/450 [==============================] - 629s 1s/step - loss: 3.0431 - val_loss: 0.9709 - lr: 1.6530e-05\n",
      "Epoch 49/50\n",
      "413/450 [==========================>...] - ETA: 33s - loss: 2.8774"
     ]
    },
    {
     "name": "stderr",
     "output_type": "stream",
     "text": [
      "[mpeg1video @ 0x7f497c0a5240] ac-tex damaged at 22 17\n",
      "[mpeg1video @ 0x7f497c0a5240] Warning MVs not available\n"
     ]
    },
    {
     "name": "stdout",
     "output_type": "stream",
     "text": [
      "450/450 [==============================] - ETA: 0s - loss: 2.8620"
     ]
    },
    {
     "name": "stderr",
     "output_type": "stream",
     "text": [
      "[mpeg1video @ 0x7f4818228cc0] ac-tex damaged at 22 17\n",
      "[mpeg1video @ 0x7f4818228cc0] Warning MVs not available\n"
     ]
    },
    {
     "name": "stdout",
     "output_type": "stream",
     "text": [
      "1/1 [==============================] - 0s 177ms/step\n",
      "Original: layblueinxsevenagain\n",
      "Prediction: layblueinxsevenagain\n",
      "~~~~~~~~~~~~~~~~~~~~~~~~~~~~~~~~~~~~~~~~~~~~~~~~~~~~~~~~~~~~~~~~~~~~~~~~~~~~~~~~~~~~~~~~~~~~~~~~~~~~\n",
      "Original: sethiteinbtono\n",
      "Prediction: sethiteinbtono\n",
      "~~~~~~~~~~~~~~~~~~~~~~~~~~~~~~~~~~~~~~~~~~~~~~~~~~~~~~~~~~~~~~~~~~~~~~~~~~~~~~~~~~~~~~~~~~~~~~~~~~~~\n",
      "450/450 [==============================] - 631s 1s/step - loss: 2.8620 - val_loss: 0.7583 - lr: 1.4957e-05\n",
      "Epoch 50/50\n",
      "348/450 [======================>.......] - ETA: 1:32 - loss: 2.8337"
     ]
    },
    {
     "name": "stderr",
     "output_type": "stream",
     "text": [
      "[mpeg1video @ 0x7f48a4008940] ac-tex damaged at 22 17\n",
      "[mpeg1video @ 0x7f48a4008940] Warning MVs not available\n"
     ]
    },
    {
     "name": "stdout",
     "output_type": "stream",
     "text": [
      "450/450 [==============================] - ETA: 0s - loss: 2.8075"
     ]
    },
    {
     "name": "stderr",
     "output_type": "stream",
     "text": [
      "[mpeg1video @ 0x7f4480072ec0] ac-tex damaged at 22 17\n",
      "[mpeg1video @ 0x7f4480072ec0] Warning MVs not available\n"
     ]
    },
    {
     "name": "stdout",
     "output_type": "stream",
     "text": [
      "1/1 [==============================] - 0s 179ms/step\n",
      "Original: bingreenithunineagain\n",
      "Prediction: bingrenithunineagain\n",
      "~~~~~~~~~~~~~~~~~~~~~~~~~~~~~~~~~~~~~~~~~~~~~~~~~~~~~~~~~~~~~~~~~~~~~~~~~~~~~~~~~~~~~~~~~~~~~~~~~~~~\n",
      "Original: placegreenatdninesoon\n",
      "Prediction: placegrenatdnineson\n",
      "~~~~~~~~~~~~~~~~~~~~~~~~~~~~~~~~~~~~~~~~~~~~~~~~~~~~~~~~~~~~~~~~~~~~~~~~~~~~~~~~~~~~~~~~~~~~~~~~~~~~\n",
      "450/450 [==============================] - 632s 1s/step - loss: 2.8075 - val_loss: 0.7619 - lr: 1.3534e-05\n"
     ]
    }
   ],
   "source": [
    "history = model.fit(train, validation_data=test, epochs=50, callbacks=[checkpoint_callback, schedule_callback, example_callback])"
   ]
  },
  {
   "cell_type": "code",
   "execution_count": 28,
   "id": "5af3a08f",
   "metadata": {
    "execution": {
     "iopub.execute_input": "2024-02-24T20:56:28.472078Z",
     "iopub.status.busy": "2024-02-24T20:56:28.470865Z",
     "iopub.status.idle": "2024-02-24T20:56:28.684954Z",
     "shell.execute_reply": "2024-02-24T20:56:28.684111Z"
    },
    "papermill": {
     "duration": 2.031759,
     "end_time": "2024-02-24T20:56:28.686963",
     "exception": false,
     "start_time": "2024-02-24T20:56:26.655204",
     "status": "completed"
    },
    "tags": []
   },
   "outputs": [
    {
     "data": {
      "image/png": "[encoded data removed]",
      "text/plain": [
       "<Figure size 640x480 with 1 Axes>"
      ]
     },
     "metadata": {},
     "output_type": "display_data"
    }
   ],
   "source": [
    "\n",
    "from matplotlib import pyplot as plt\n",
    "# Plot training & validation loss values\n",
    "plt.plot(history.history['loss'], label='Training Loss')\n",
    "if 'val_loss' in history.history:\n",
    "    plt.plot(history.history['val_loss'], label='Validation Loss')\n",
    "\n",
    "plt.title('Model Loss')\n",
    "plt.xlabel('Epoch')\n",
    "plt.ylabel('Loss')\n",
    "plt.legend()\n",
    "plt.show()\n"
   ]
  },
  {
   "cell_type": "code",
   "execution_count": 29,
   "id": "07010b45",
   "metadata": {
    "execution": {
     "iopub.execute_input": "2024-02-24T20:56:32.407771Z",
     "iopub.status.busy": "2024-02-24T20:56:32.407385Z",
     "iopub.status.idle": "2024-02-24T20:56:32.412591Z",
     "shell.execute_reply": "2024-02-24T20:56:32.411740Z"
    },
    "papermill": {
     "duration": 1.811645,
     "end_time": "2024-02-24T20:56:32.414616",
     "exception": false,
     "start_time": "2024-02-24T20:56:30.602971",
     "status": "completed"
    },
    "tags": []
   },
   "outputs": [],
   "source": [
    "# class AccuracyMetrics(tf.keras.callbacks.Callback):\n",
    "#     def __init__(self, dataset) -> None:\n",
    "#         self.dataset = dataset.as_numpy_iterator()\n",
    "#         self.predictions = []\n",
    "#         self.ground_truth = []\n",
    "#         self.accuracies = []  # Store accuracies at each epoch\n",
    "\n",
    "#     def on_epoch_end(self, epoch, logs=None) -> None:\n",
    "#         data = self.dataset.next()\n",
    "#         yhat = self.model.predict(data[0])\n",
    "#         decoded = tf.keras.backend.ctc_decode(yhat, [75, 75], greedy=False)[0][0].numpy()\n",
    "#         self.predictions.extend(decoded)\n",
    "#         self.ground_truth.extend(data[1])\n",
    "\n",
    "# # ... (your previous code)\n",
    "\n",
    "# accuracy_metrics = AccuracyMetrics(test)  # Create an instance of AccuracyMetrics\n",
    "\n",
    "# model.fit(train, validation_data=test, epochs=50, callbacks=[checkpoint_callback, schedule_callback, accuracy_metrics])\n",
    "\n",
    "# # After training, compute accuracy or any other metric using predictions and ground truth\n",
    "# predictions = accuracy_metrics.predictions\n",
    "# ground_truth = accuracy_metrics.ground_truth\n",
    "\n",
    "# # Compute accuracy (or any other suitable metric) here\n",
    "# # For example, using sequence_accuracy from Levenshtein distance:\n",
    "# from nltk.metrics.distance import edit_distance\n",
    "\n",
    "# def compute_accuracy(preds, truths):\n",
    "#     acc = sum(edit_distance(pred, truth) for pred, truth in zip(preds, truths)) / len(preds)\n",
    "#     return 1 - acc\n",
    "\n",
    "# accuracy = compute_accuracy(predictions, ground_truth)\n",
    "# print(\"Accuracy:\", accuracy)"
   ]
  },
  {
   "cell_type": "code",
   "execution_count": 30,
   "id": "f7898e26",
   "metadata": {
    "execution": {
     "iopub.execute_input": "2024-02-24T20:56:36.154687Z",
     "iopub.status.busy": "2024-02-24T20:56:36.154321Z",
     "iopub.status.idle": "2024-02-24T20:56:36.158477Z",
     "shell.execute_reply": "2024-02-24T20:56:36.157667Z"
    },
    "papermill": {
     "duration": 1.821156,
     "end_time": "2024-02-24T20:56:36.160394",
     "exception": false,
     "start_time": "2024-02-24T20:56:34.339238",
     "status": "completed"
    },
    "tags": []
   },
   "outputs": [],
   "source": [
    "# After training, plot the accuracy over epochs\n",
    "# plt.plot(history.history['val_loss'], label='Validation Loss')\n",
    "# plt.plot(history.history['loss'], label='Training Loss')\n",
    "# plt.plot(accuracy_metrics.accuracies, label='Accuracy')\n",
    "# plt.xlabel('Epoch')\n",
    "# plt.legend()\n",
    "# plt.show()"
   ]
  },
  {
   "cell_type": "code",
   "execution_count": 31,
   "id": "75e21b52",
   "metadata": {
    "execution": {
     "iopub.execute_input": "2024-02-24T20:56:39.914721Z",
     "iopub.status.busy": "2024-02-24T20:56:39.914336Z",
     "iopub.status.idle": "2024-02-24T20:56:40.310188Z",
     "shell.execute_reply": "2024-02-24T20:56:40.309367Z"
    },
    "papermill": {
     "duration": 2.322222,
     "end_time": "2024-02-24T20:56:40.312397",
     "exception": false,
     "start_time": "2024-02-24T20:56:37.990175",
     "status": "completed"
    },
    "tags": []
   },
   "outputs": [],
   "source": [
    "# Save the model in the native Keras format\n",
    "from tensorflow.keras.models import save_model\n",
    "save_model(model, 'models/my_model.keras')\n"
   ]
  },
  {
   "cell_type": "markdown",
   "id": "63945055",
   "metadata": {
    "papermill": {
     "duration": 1.962801,
     "end_time": "2024-02-24T20:56:44.103172",
     "exception": false,
     "start_time": "2024-02-24T20:56:42.140371",
     "status": "completed"
    },
    "tags": []
   },
   "source": [
    "الحمد الله "
   ]
  }
 ],
 "metadata": {
  "kaggle": {
   "accelerator": "nvidiaTeslaT4",
   "dataSources": [
    {
     "sourceId": 125089096,
     "sourceType": "kernelVersion"
    },
    {
     "datasetId": 3504929,
     "sourceId": 6115667,
     "sourceType": "datasetVersion"
    }
   ],
   "dockerImageVersionId": 30648,
   "isGpuEnabled": true,
   "isInternetEnabled": true,
   "language": "python",
   "sourceType": "notebook"
  },
  "kernelspec": {
   "display_name": "Python 3",
   "language": "python",
   "name": "python3"
  },
  "language_info": {
   "codemirror_mode": {
    "name": "ipython",
    "version": 3
   },
   "file_extension": ".py",
   "mimetype": "text/x-python",
   "name": "python",
   "nbconvert_exporter": "python",
   "pygments_lexer": "ipython3",
   "version": "3.10.13"
  },
  "papermill": {
   "default_parameters": {},
   "duration": 32528.681682,
   "end_time": "2024-02-24T20:56:48.781549",
   "environment_variables": {},
   "exception": null,
   "input_path": "__notebook__.ipynb",
   "output_path": "__notebook__.ipynb",
   "parameters": {},
   "start_time": "2024-02-24T11:54:40.099867",
   "version": "2.4.0"
  }
 },
 "nbformat": 4,
 "nbformat_minor": 5
}
