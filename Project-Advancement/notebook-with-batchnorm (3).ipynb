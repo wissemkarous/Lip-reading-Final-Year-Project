{
 "cells": [
  {
   "cell_type": "code",
   "execution_count": 1,
   "id": "4eaab613",
   "metadata": {
    "execution": {
     "iopub.execute_input": "2024-03-02T22:14:59.685370Z",
     "iopub.status.busy": "2024-03-02T22:14:59.684599Z",
     "iopub.status.idle": "2024-03-02T22:15:12.153799Z",
     "shell.execute_reply": "2024-03-02T22:15:12.152984Z"
    },
    "papermill": {
     "duration": 12.482923,
     "end_time": "2024-03-02T22:15:12.156169",
     "exception": false,
     "start_time": "2024-03-02T22:14:59.673246",
     "status": "completed"
    },
    "tags": []
   },
   "outputs": [
    {
     "name": "stderr",
     "output_type": "stream",
     "text": [
      "2024-03-02 22:15:01.321452: E external/local_xla/xla/stream_executor/cuda/cuda_dnn.cc:9261] Unable to register cuDNN factory: Attempting to register factory for plugin cuDNN when one has already been registered\n",
      "2024-03-02 22:15:01.321636: E external/local_xla/xla/stream_executor/cuda/cuda_fft.cc:607] Unable to register cuFFT factory: Attempting to register factory for plugin cuFFT when one has already been registered\n",
      "2024-03-02 22:15:01.429074: E external/local_xla/xla/stream_executor/cuda/cuda_blas.cc:1515] Unable to register cuBLAS factory: Attempting to register factory for plugin cuBLAS when one has already been registered\n"
     ]
    }
   ],
   "source": [
    "import os\n",
    "import cv2\n",
    "import tensorflow as tf\n",
    "import numpy as np\n",
    "from typing import List\n",
    "from matplotlib import pyplot as plt\n",
    "import imageio"
   ]
  },
  {
   "cell_type": "code",
   "execution_count": 2,
   "id": "e804b548",
   "metadata": {
    "execution": {
     "iopub.execute_input": "2024-03-02T22:15:12.177359Z",
     "iopub.status.busy": "2024-03-02T22:15:12.176773Z",
     "iopub.status.idle": "2024-03-02T22:15:12.184028Z",
     "shell.execute_reply": "2024-03-02T22:15:12.182975Z"
    },
    "papermill": {
     "duration": 0.019826,
     "end_time": "2024-03-02T22:15:12.186002",
     "exception": false,
     "start_time": "2024-03-02T22:15:12.166176",
     "status": "completed"
    },
    "tags": []
   },
   "outputs": [],
   "source": [
    "def load_video(path:str) -> List[float]:\n",
    "    cap=cv2.VideoCapture(path)\n",
    "    frames=[]\n",
    "    for _ in range(int(cap.get(cv2.CAP_PROP_FRAME_COUNT))):\n",
    "        ret, frame = cap.read()\n",
    "        frame=tf.image.rgb_to_grayscale(frame)\n",
    "        frames.append(frame[190:236,80:220,:])\n",
    "    cap.release()\n",
    "    \n",
    "    mean=tf.math.reduce_mean(frames)\n",
    "    std=tf.math.reduce_std(tf.cast(frames,tf.float32))\n",
    "    return tf.cast((frames-mean),tf.float32)/std"
   ]
  },
  {
   "cell_type": "code",
   "execution_count": 3,
   "id": "293bdadd",
   "metadata": {
    "execution": {
     "iopub.execute_input": "2024-03-02T22:15:12.206288Z",
     "iopub.status.busy": "2024-03-02T22:15:12.206023Z",
     "iopub.status.idle": "2024-03-02T22:15:14.346593Z",
     "shell.execute_reply": "2024-03-02T22:15:14.345689Z"
    },
    "papermill": {
     "duration": 2.152752,
     "end_time": "2024-03-02T22:15:14.348605",
     "exception": false,
     "start_time": "2024-03-02T22:15:12.195853",
     "status": "completed"
    },
    "tags": []
   },
   "outputs": [
    {
     "data": {
      "text/plain": [
       "<tf.Tensor: shape=(75, 46, 140, 1), dtype=float32, numpy=\n",
       "array([[[[1.4991664 ],\n",
       "         [1.4991664 ],\n",
       "         [1.4616872 ],\n",
       "         ...,\n",
       "         [0.41227075],\n",
       "         [0.41227075],\n",
       "         [0.41227075]],\n",
       "\n",
       "        [[1.4991664 ],\n",
       "         [1.4991664 ],\n",
       "         [1.4616872 ],\n",
       "         ...,\n",
       "         [0.41227075],\n",
       "         [0.41227075],\n",
       "         [0.41227075]],\n",
       "\n",
       "        [[1.4616872 ],\n",
       "         [1.4616872 ],\n",
       "         [1.4991664 ],\n",
       "         ...,\n",
       "         [0.33731243],\n",
       "         [0.33731243],\n",
       "         [0.33731243]],\n",
       "\n",
       "        ...,\n",
       "\n",
       "        [[1.0494164 ],\n",
       "         [1.0494164 ],\n",
       "         [1.0119373 ],\n",
       "         ...,\n",
       "         [0.11243747],\n",
       "         [0.11243747],\n",
       "         [0.07495832]],\n",
       "\n",
       "        [[1.0494164 ],\n",
       "         [1.0494164 ],\n",
       "         [1.0119373 ],\n",
       "         ...,\n",
       "         [0.11243747],\n",
       "         [0.07495832],\n",
       "         [0.07495832]],\n",
       "\n",
       "        [[1.0494164 ],\n",
       "         [1.0494164 ],\n",
       "         [1.0119373 ],\n",
       "         ...,\n",
       "         [0.07495832],\n",
       "         [0.07495832],\n",
       "         [0.03747916]]],\n",
       "\n",
       "\n",
       "       [[[1.424208  ],\n",
       "         [1.424208  ],\n",
       "         [1.424208  ],\n",
       "         ...,\n",
       "         [0.33731243],\n",
       "         [0.33731243],\n",
       "         [0.33731243]],\n",
       "\n",
       "        [[1.424208  ],\n",
       "         [1.424208  ],\n",
       "         [1.424208  ],\n",
       "         ...,\n",
       "         [0.33731243],\n",
       "         [0.33731243],\n",
       "         [0.33731243]],\n",
       "\n",
       "        [[1.424208  ],\n",
       "         [1.424208  ],\n",
       "         [1.424208  ],\n",
       "         ...,\n",
       "         [0.29983327],\n",
       "         [0.29983327],\n",
       "         [0.29983327]],\n",
       "\n",
       "        ...,\n",
       "\n",
       "        [[1.0494164 ],\n",
       "         [1.0494164 ],\n",
       "         [1.0119373 ],\n",
       "         ...,\n",
       "         [0.11243747],\n",
       "         [0.11243747],\n",
       "         [0.07495832]],\n",
       "\n",
       "        [[1.0494164 ],\n",
       "         [1.0494164 ],\n",
       "         [1.0119373 ],\n",
       "         ...,\n",
       "         [0.11243747],\n",
       "         [0.07495832],\n",
       "         [0.07495832]],\n",
       "\n",
       "        [[1.0494164 ],\n",
       "         [1.0494164 ],\n",
       "         [1.0119373 ],\n",
       "         ...,\n",
       "         [0.07495832],\n",
       "         [0.07495832],\n",
       "         [0.03747916]]],\n",
       "\n",
       "\n",
       "       [[[1.3492497 ],\n",
       "         [1.3492497 ],\n",
       "         [1.3492497 ],\n",
       "         ...,\n",
       "         [0.33731243],\n",
       "         [0.33731243],\n",
       "         [0.33731243]],\n",
       "\n",
       "        [[1.3492497 ],\n",
       "         [1.3492497 ],\n",
       "         [1.3492497 ],\n",
       "         ...,\n",
       "         [0.33731243],\n",
       "         [0.33731243],\n",
       "         [0.33731243]],\n",
       "\n",
       "        [[1.424208  ],\n",
       "         [1.424208  ],\n",
       "         [1.3867289 ],\n",
       "         ...,\n",
       "         [0.2623541 ],\n",
       "         [0.29983327],\n",
       "         [0.29983327]],\n",
       "\n",
       "        ...,\n",
       "\n",
       "        [[0.9744581 ],\n",
       "         [0.9744581 ],\n",
       "         [0.93697894],\n",
       "         ...,\n",
       "         [0.11243747],\n",
       "         [0.11243747],\n",
       "         [0.07495832]],\n",
       "\n",
       "        [[0.9744581 ],\n",
       "         [0.9744581 ],\n",
       "         [0.93697894],\n",
       "         ...,\n",
       "         [0.11243747],\n",
       "         [0.07495832],\n",
       "         [0.07495832]],\n",
       "\n",
       "        [[0.9744581 ],\n",
       "         [0.9744581 ],\n",
       "         [0.93697894],\n",
       "         ...,\n",
       "         [0.07495832],\n",
       "         [0.07495832],\n",
       "         [0.03747916]]],\n",
       "\n",
       "\n",
       "       ...,\n",
       "\n",
       "\n",
       "       [[[1.4991664 ],\n",
       "         [1.4991664 ],\n",
       "         [1.4991664 ],\n",
       "         ...,\n",
       "         [0.29983327],\n",
       "         [0.29983327],\n",
       "         [0.29983327]],\n",
       "\n",
       "        [[1.424208  ],\n",
       "         [1.424208  ],\n",
       "         [1.424208  ],\n",
       "         ...,\n",
       "         [0.29983327],\n",
       "         [0.29983327],\n",
       "         [0.29983327]],\n",
       "\n",
       "        [[1.4616872 ],\n",
       "         [1.4616872 ],\n",
       "         [1.424208  ],\n",
       "         ...,\n",
       "         [0.29983327],\n",
       "         [0.2623541 ],\n",
       "         [0.2623541 ]],\n",
       "\n",
       "        ...,\n",
       "\n",
       "        [[1.0868956 ],\n",
       "         [1.0494164 ],\n",
       "         [1.0494164 ],\n",
       "         ...,\n",
       "         [0.07495832],\n",
       "         [0.07495832],\n",
       "         [0.07495832]],\n",
       "\n",
       "        [[1.0494164 ],\n",
       "         [1.0494164 ],\n",
       "         [1.0494164 ],\n",
       "         ...,\n",
       "         [0.07495832],\n",
       "         [0.07495832],\n",
       "         [0.07495832]],\n",
       "\n",
       "        [[1.0494164 ],\n",
       "         [1.0494164 ],\n",
       "         [1.0494164 ],\n",
       "         ...,\n",
       "         [0.07495832],\n",
       "         [0.07495832],\n",
       "         [0.03747916]]],\n",
       "\n",
       "\n",
       "       [[[1.4991664 ],\n",
       "         [1.4991664 ],\n",
       "         [1.5366455 ],\n",
       "         ...,\n",
       "         [0.33731243],\n",
       "         [0.29983327],\n",
       "         [0.29983327]],\n",
       "\n",
       "        [[1.424208  ],\n",
       "         [1.424208  ],\n",
       "         [1.4616872 ],\n",
       "         ...,\n",
       "         [0.33731243],\n",
       "         [0.29983327],\n",
       "         [0.29983327]],\n",
       "\n",
       "        [[1.4616872 ],\n",
       "         [1.4616872 ],\n",
       "         [1.424208  ],\n",
       "         ...,\n",
       "         [0.2623541 ],\n",
       "         [0.29983327],\n",
       "         [0.29983327]],\n",
       "\n",
       "        ...,\n",
       "\n",
       "        [[1.0494164 ],\n",
       "         [1.0119373 ],\n",
       "         [1.0119373 ],\n",
       "         ...,\n",
       "         [0.03747916],\n",
       "         [0.03747916],\n",
       "         [0.03747916]],\n",
       "\n",
       "        [[1.0494164 ],\n",
       "         [1.0119373 ],\n",
       "         [1.0119373 ],\n",
       "         ...,\n",
       "         [0.03747916],\n",
       "         [0.03747916],\n",
       "         [0.03747916]],\n",
       "\n",
       "        [[1.0119373 ],\n",
       "         [1.0119373 ],\n",
       "         [0.9744581 ],\n",
       "         ...,\n",
       "         [0.03747916],\n",
       "         [0.03747916],\n",
       "         [0.        ]]],\n",
       "\n",
       "\n",
       "       [[[1.4616872 ],\n",
       "         [1.4616872 ],\n",
       "         [1.4616872 ],\n",
       "         ...,\n",
       "         [0.29983327],\n",
       "         [0.29983327],\n",
       "         [0.29983327]],\n",
       "\n",
       "        [[1.4616872 ],\n",
       "         [1.4616872 ],\n",
       "         [1.4616872 ],\n",
       "         ...,\n",
       "         [0.29983327],\n",
       "         [0.29983327],\n",
       "         [0.29983327]],\n",
       "\n",
       "        [[1.424208  ],\n",
       "         [1.424208  ],\n",
       "         [1.3867289 ],\n",
       "         ...,\n",
       "         [0.29983327],\n",
       "         [0.29983327],\n",
       "         [0.29983327]],\n",
       "\n",
       "        ...,\n",
       "\n",
       "        [[1.0494164 ],\n",
       "         [1.0119373 ],\n",
       "         [1.0119373 ],\n",
       "         ...,\n",
       "         [0.03747916],\n",
       "         [0.03747916],\n",
       "         [0.03747916]],\n",
       "\n",
       "        [[0.9744581 ],\n",
       "         [0.93697894],\n",
       "         [0.9744581 ],\n",
       "         ...,\n",
       "         [0.03747916],\n",
       "         [0.03747916],\n",
       "         [0.03747916]],\n",
       "\n",
       "        [[0.9744581 ],\n",
       "         [0.93697894],\n",
       "         [0.9744581 ],\n",
       "         ...,\n",
       "         [0.03747916],\n",
       "         [0.03747916],\n",
       "         [0.        ]]]], dtype=float32)>"
      ]
     },
     "execution_count": 3,
     "metadata": {},
     "output_type": "execute_result"
    }
   ],
   "source": [
    "path=\"/kaggle/input/lipreading/data/s1/bbaf2n.mpg\"\n",
    "value=load_video(path)\n",
    "value"
   ]
  },
  {
   "cell_type": "code",
   "execution_count": 4,
   "id": "3e97cab1",
   "metadata": {
    "execution": {
     "iopub.execute_input": "2024-03-02T22:15:14.369899Z",
     "iopub.status.busy": "2024-03-02T22:15:14.369600Z",
     "iopub.status.idle": "2024-03-02T22:15:14.375725Z",
     "shell.execute_reply": "2024-03-02T22:15:14.374777Z"
    },
    "papermill": {
     "duration": 0.019056,
     "end_time": "2024-03-02T22:15:14.377599",
     "exception": false,
     "start_time": "2024-03-02T22:15:14.358543",
     "status": "completed"
    },
    "tags": []
   },
   "outputs": [],
   "source": [
    "#ADDITIONAL FUNCTION I MADE TO GET vocab WHICH IS A PARAMETER FOR THE CHAR_TO_NUM FUNCTION\n",
    "def get_vocab():\n",
    "    vocab=[]\n",
    "    \n",
    "    directory=\"/kaggle/input/lipreading/data/alignments/s1\"\n",
    "    for file in os.listdir(directory):\n",
    "        file_path = os.path.join(directory, file)\n",
    "        with open(file_path, 'r') as f:\n",
    "            lines=f.readlines()\n",
    "            for line in lines:\n",
    "                line=line.split()\n",
    "                vocab.append(line[2])\n",
    "    return vocab  "
   ]
  },
  {
   "cell_type": "code",
   "execution_count": 5,
   "id": "f5291db2",
   "metadata": {
    "execution": {
     "iopub.execute_input": "2024-03-02T22:15:14.398364Z",
     "iopub.status.busy": "2024-03-02T22:15:14.397891Z",
     "iopub.status.idle": "2024-03-02T22:15:17.037754Z",
     "shell.execute_reply": "2024-03-02T22:15:17.036921Z"
    },
    "papermill": {
     "duration": 2.652875,
     "end_time": "2024-03-02T22:15:17.040123",
     "exception": false,
     "start_time": "2024-03-02T22:15:14.387248",
     "status": "completed"
    },
    "tags": []
   },
   "outputs": [],
   "source": [
    "vocab=np.unique(get_vocab())"
   ]
  },
  {
   "cell_type": "code",
   "execution_count": 6,
   "id": "7bb2fb69",
   "metadata": {
    "execution": {
     "iopub.execute_input": "2024-03-02T22:15:17.062017Z",
     "iopub.status.busy": "2024-03-02T22:15:17.061514Z",
     "iopub.status.idle": "2024-03-02T22:15:17.197375Z",
     "shell.execute_reply": "2024-03-02T22:15:17.196615Z"
    },
    "papermill": {
     "duration": 0.148887,
     "end_time": "2024-03-02T22:15:17.199604",
     "exception": false,
     "start_time": "2024-03-02T22:15:17.050717",
     "status": "completed"
    },
    "tags": []
   },
   "outputs": [],
   "source": [
    "char_to_num= tf.keras.layers.StringLookup(vocabulary=vocab, oov_token=\"\")\n",
    "num_to_char=tf.keras.layers.StringLookup(vocabulary=char_to_num.get_vocabulary(), oov_token=\"\",invert=True)"
   ]
  },
  {
   "cell_type": "code",
   "execution_count": 7,
   "id": "b875fb3f",
   "metadata": {
    "execution": {
     "iopub.execute_input": "2024-03-02T22:15:17.221703Z",
     "iopub.status.busy": "2024-03-02T22:15:17.221418Z",
     "iopub.status.idle": "2024-03-02T22:15:17.227336Z",
     "shell.execute_reply": "2024-03-02T22:15:17.226506Z"
    },
    "papermill": {
     "duration": 0.018669,
     "end_time": "2024-03-02T22:15:17.229204",
     "exception": false,
     "start_time": "2024-03-02T22:15:17.210535",
     "status": "completed"
    },
    "tags": []
   },
   "outputs": [],
   "source": [
    "def load_alignments(path:str) -> List[str]:\n",
    "    with open(path, 'r') as f:\n",
    "        lines=f.readlines()\n",
    "        \n",
    "            \n",
    "        \n",
    "    tokens=[]\n",
    "    for line in lines:\n",
    "        line=line.split()\n",
    "        if line[2]!= 'sil':\n",
    "            tokens= [*tokens,' ',line[2]]\n",
    "        \n",
    "    return char_to_num(tf.reshape(tf.strings.unicode_split(tokens,input_encoding='UTF-8'),(-1)))[1:]"
   ]
  },
  {
   "cell_type": "code",
   "execution_count": 8,
   "id": "29e16341",
   "metadata": {
    "execution": {
     "iopub.execute_input": "2024-03-02T22:15:17.249965Z",
     "iopub.status.busy": "2024-03-02T22:15:17.249281Z",
     "iopub.status.idle": "2024-03-02T22:15:17.287776Z",
     "shell.execute_reply": "2024-03-02T22:15:17.286887Z"
    },
    "papermill": {
     "duration": 0.050925,
     "end_time": "2024-03-02T22:15:17.289840",
     "exception": false,
     "start_time": "2024-03-02T22:15:17.238915",
     "status": "completed"
    },
    "tags": []
   },
   "outputs": [
    {
     "data": {
      "text/plain": [
       "<tf.Tensor: shape=(21,), dtype=int64, numpy=\n",
       "array([ 4, 18, 25,  0,  4, 22, 46, 10,  0,  1, 43,  0, 12,  0, 43,  0, 28,\n",
       "        0, 25, 28,  0])>"
      ]
     },
     "execution_count": 8,
     "metadata": {},
     "output_type": "execute_result"
    }
   ],
   "source": [
    "path=\"/kaggle/input/lipreading/data/alignments/s1/bbaf2n.align\"\n",
    "load_alignments(path)"
   ]
  },
  {
   "cell_type": "code",
   "execution_count": 9,
   "id": "714e4600",
   "metadata": {
    "execution": {
     "iopub.execute_input": "2024-03-02T22:15:17.310998Z",
     "iopub.status.busy": "2024-03-02T22:15:17.310728Z",
     "iopub.status.idle": "2024-03-02T22:15:17.316251Z",
     "shell.execute_reply": "2024-03-02T22:15:17.315439Z"
    },
    "papermill": {
     "duration": 0.018008,
     "end_time": "2024-03-02T22:15:17.318099",
     "exception": false,
     "start_time": "2024-03-02T22:15:17.300091",
     "status": "completed"
    },
    "tags": []
   },
   "outputs": [],
   "source": [
    "def load_data(path:str):\n",
    "    path=bytes.decode(path.numpy())\n",
    "    file_name=path.split('/')[-1].split('.')[0]\n",
    "    video_path=os.path.join('/kaggle/input/lipreading/data','s1',f'{file_name}.mpg')\n",
    "    alignment_path=os.path.join('/kaggle/input/lipreading/data','alignments','s1',f'{file_name}.align')\n",
    "    frames=load_video(video_path)\n",
    "    alignments=load_alignments(alignment_path)\n",
    "    \n",
    "    return frames,alignments"
   ]
  },
  {
   "cell_type": "code",
   "execution_count": 10,
   "id": "2daca592",
   "metadata": {
    "execution": {
     "iopub.execute_input": "2024-03-02T22:15:17.338468Z",
     "iopub.status.busy": "2024-03-02T22:15:17.338164Z",
     "iopub.status.idle": "2024-03-02T22:15:17.569754Z",
     "shell.execute_reply": "2024-03-02T22:15:17.568825Z"
    },
    "papermill": {
     "duration": 0.246318,
     "end_time": "2024-03-02T22:15:17.574014",
     "exception": false,
     "start_time": "2024-03-02T22:15:17.327696",
     "status": "completed"
    },
    "tags": []
   },
   "outputs": [
    {
     "name": "stdout",
     "output_type": "stream",
     "text": [
      "frames: tf.Tensor(\n",
      "[[[[1.4991664 ]\n",
      "   [1.4991664 ]\n",
      "   [1.4616872 ]\n",
      "   ...\n",
      "   [0.41227075]\n",
      "   [0.41227075]\n",
      "   [0.41227075]]\n",
      "\n",
      "  [[1.4991664 ]\n",
      "   [1.4991664 ]\n",
      "   [1.4616872 ]\n",
      "   ...\n",
      "   [0.41227075]\n",
      "   [0.41227075]\n",
      "   [0.41227075]]\n",
      "\n",
      "  [[1.4616872 ]\n",
      "   [1.4616872 ]\n",
      "   [1.4991664 ]\n",
      "   ...\n",
      "   [0.33731243]\n",
      "   [0.33731243]\n",
      "   [0.33731243]]\n",
      "\n",
      "  ...\n",
      "\n",
      "  [[1.0494164 ]\n",
      "   [1.0494164 ]\n",
      "   [1.0119373 ]\n",
      "   ...\n",
      "   [0.11243747]\n",
      "   [0.11243747]\n",
      "   [0.07495832]]\n",
      "\n",
      "  [[1.0494164 ]\n",
      "   [1.0494164 ]\n",
      "   [1.0119373 ]\n",
      "   ...\n",
      "   [0.11243747]\n",
      "   [0.07495832]\n",
      "   [0.07495832]]\n",
      "\n",
      "  [[1.0494164 ]\n",
      "   [1.0494164 ]\n",
      "   [1.0119373 ]\n",
      "   ...\n",
      "   [0.07495832]\n",
      "   [0.07495832]\n",
      "   [0.03747916]]]\n",
      "\n",
      "\n",
      " [[[1.424208  ]\n",
      "   [1.424208  ]\n",
      "   [1.424208  ]\n",
      "   ...\n",
      "   [0.33731243]\n",
      "   [0.33731243]\n",
      "   [0.33731243]]\n",
      "\n",
      "  [[1.424208  ]\n",
      "   [1.424208  ]\n",
      "   [1.424208  ]\n",
      "   ...\n",
      "   [0.33731243]\n",
      "   [0.33731243]\n",
      "   [0.33731243]]\n",
      "\n",
      "  [[1.424208  ]\n",
      "   [1.424208  ]\n",
      "   [1.424208  ]\n",
      "   ...\n",
      "   [0.29983327]\n",
      "   [0.29983327]\n",
      "   [0.29983327]]\n",
      "\n",
      "  ...\n",
      "\n",
      "  [[1.0494164 ]\n",
      "   [1.0494164 ]\n",
      "   [1.0119373 ]\n",
      "   ...\n",
      "   [0.11243747]\n",
      "   [0.11243747]\n",
      "   [0.07495832]]\n",
      "\n",
      "  [[1.0494164 ]\n",
      "   [1.0494164 ]\n",
      "   [1.0119373 ]\n",
      "   ...\n",
      "   [0.11243747]\n",
      "   [0.07495832]\n",
      "   [0.07495832]]\n",
      "\n",
      "  [[1.0494164 ]\n",
      "   [1.0494164 ]\n",
      "   [1.0119373 ]\n",
      "   ...\n",
      "   [0.07495832]\n",
      "   [0.07495832]\n",
      "   [0.03747916]]]\n",
      "\n",
      "\n",
      " [[[1.3492497 ]\n",
      "   [1.3492497 ]\n",
      "   [1.3492497 ]\n",
      "   ...\n",
      "   [0.33731243]\n",
      "   [0.33731243]\n",
      "   [0.33731243]]\n",
      "\n",
      "  [[1.3492497 ]\n",
      "   [1.3492497 ]\n",
      "   [1.3492497 ]\n",
      "   ...\n",
      "   [0.33731243]\n",
      "   [0.33731243]\n",
      "   [0.33731243]]\n",
      "\n",
      "  [[1.424208  ]\n",
      "   [1.424208  ]\n",
      "   [1.3867289 ]\n",
      "   ...\n",
      "   [0.2623541 ]\n",
      "   [0.29983327]\n",
      "   [0.29983327]]\n",
      "\n",
      "  ...\n",
      "\n",
      "  [[0.9744581 ]\n",
      "   [0.9744581 ]\n",
      "   [0.93697894]\n",
      "   ...\n",
      "   [0.11243747]\n",
      "   [0.11243747]\n",
      "   [0.07495832]]\n",
      "\n",
      "  [[0.9744581 ]\n",
      "   [0.9744581 ]\n",
      "   [0.93697894]\n",
      "   ...\n",
      "   [0.11243747]\n",
      "   [0.07495832]\n",
      "   [0.07495832]]\n",
      "\n",
      "  [[0.9744581 ]\n",
      "   [0.9744581 ]\n",
      "   [0.93697894]\n",
      "   ...\n",
      "   [0.07495832]\n",
      "   [0.07495832]\n",
      "   [0.03747916]]]\n",
      "\n",
      "\n",
      " ...\n",
      "\n",
      "\n",
      " [[[1.4991664 ]\n",
      "   [1.4991664 ]\n",
      "   [1.4991664 ]\n",
      "   ...\n",
      "   [0.29983327]\n",
      "   [0.29983327]\n",
      "   [0.29983327]]\n",
      "\n",
      "  [[1.424208  ]\n",
      "   [1.424208  ]\n",
      "   [1.424208  ]\n",
      "   ...\n",
      "   [0.29983327]\n",
      "   [0.29983327]\n",
      "   [0.29983327]]\n",
      "\n",
      "  [[1.4616872 ]\n",
      "   [1.4616872 ]\n",
      "   [1.424208  ]\n",
      "   ...\n",
      "   [0.29983327]\n",
      "   [0.2623541 ]\n",
      "   [0.2623541 ]]\n",
      "\n",
      "  ...\n",
      "\n",
      "  [[1.0868956 ]\n",
      "   [1.0494164 ]\n",
      "   [1.0494164 ]\n",
      "   ...\n",
      "   [0.07495832]\n",
      "   [0.07495832]\n",
      "   [0.07495832]]\n",
      "\n",
      "  [[1.0494164 ]\n",
      "   [1.0494164 ]\n",
      "   [1.0494164 ]\n",
      "   ...\n",
      "   [0.07495832]\n",
      "   [0.07495832]\n",
      "   [0.07495832]]\n",
      "\n",
      "  [[1.0494164 ]\n",
      "   [1.0494164 ]\n",
      "   [1.0494164 ]\n",
      "   ...\n",
      "   [0.07495832]\n",
      "   [0.07495832]\n",
      "   [0.03747916]]]\n",
      "\n",
      "\n",
      " [[[1.4991664 ]\n",
      "   [1.4991664 ]\n",
      "   [1.5366455 ]\n",
      "   ...\n",
      "   [0.33731243]\n",
      "   [0.29983327]\n",
      "   [0.29983327]]\n",
      "\n",
      "  [[1.424208  ]\n",
      "   [1.424208  ]\n",
      "   [1.4616872 ]\n",
      "   ...\n",
      "   [0.33731243]\n",
      "   [0.29983327]\n",
      "   [0.29983327]]\n",
      "\n",
      "  [[1.4616872 ]\n",
      "   [1.4616872 ]\n",
      "   [1.424208  ]\n",
      "   ...\n",
      "   [0.2623541 ]\n",
      "   [0.29983327]\n",
      "   [0.29983327]]\n",
      "\n",
      "  ...\n",
      "\n",
      "  [[1.0494164 ]\n",
      "   [1.0119373 ]\n",
      "   [1.0119373 ]\n",
      "   ...\n",
      "   [0.03747916]\n",
      "   [0.03747916]\n",
      "   [0.03747916]]\n",
      "\n",
      "  [[1.0494164 ]\n",
      "   [1.0119373 ]\n",
      "   [1.0119373 ]\n",
      "   ...\n",
      "   [0.03747916]\n",
      "   [0.03747916]\n",
      "   [0.03747916]]\n",
      "\n",
      "  [[1.0119373 ]\n",
      "   [1.0119373 ]\n",
      "   [0.9744581 ]\n",
      "   ...\n",
      "   [0.03747916]\n",
      "   [0.03747916]\n",
      "   [0.        ]]]\n",
      "\n",
      "\n",
      " [[[1.4616872 ]\n",
      "   [1.4616872 ]\n",
      "   [1.4616872 ]\n",
      "   ...\n",
      "   [0.29983327]\n",
      "   [0.29983327]\n",
      "   [0.29983327]]\n",
      "\n",
      "  [[1.4616872 ]\n",
      "   [1.4616872 ]\n",
      "   [1.4616872 ]\n",
      "   ...\n",
      "   [0.29983327]\n",
      "   [0.29983327]\n",
      "   [0.29983327]]\n",
      "\n",
      "  [[1.424208  ]\n",
      "   [1.424208  ]\n",
      "   [1.3867289 ]\n",
      "   ...\n",
      "   [0.29983327]\n",
      "   [0.29983327]\n",
      "   [0.29983327]]\n",
      "\n",
      "  ...\n",
      "\n",
      "  [[1.0494164 ]\n",
      "   [1.0119373 ]\n",
      "   [1.0119373 ]\n",
      "   ...\n",
      "   [0.03747916]\n",
      "   [0.03747916]\n",
      "   [0.03747916]]\n",
      "\n",
      "  [[0.9744581 ]\n",
      "   [0.93697894]\n",
      "   [0.9744581 ]\n",
      "   ...\n",
      "   [0.03747916]\n",
      "   [0.03747916]\n",
      "   [0.03747916]]\n",
      "\n",
      "  [[0.9744581 ]\n",
      "   [0.93697894]\n",
      "   [0.9744581 ]\n",
      "   ...\n",
      "   [0.03747916]\n",
      "   [0.03747916]\n",
      "   [0.        ]]]], shape=(75, 46, 140, 1), dtype=float32)\n",
      "alignments: tf.Tensor([ 4 18 25  0  4 22 46 10  0  1 43  0 12  0 43  0 28  0 25 28  0], shape=(21,), dtype=int64)\n"
     ]
    }
   ],
   "source": [
    "#TESTING THE OUTPUT FOR A SAMPLE FILE\n",
    "path=\"/kaggle/input/lipreading/data/s1/bbaf2n.mpg\"\n",
    "frames, alignments=load_data(tf.convert_to_tensor(path))\n",
    "print(\"frames:\",frames)\n",
    "print(\"alignments:\",alignments)"
   ]
  },
  {
   "cell_type": "code",
   "execution_count": 11,
   "id": "3e8351d6",
   "metadata": {
    "execution": {
     "iopub.execute_input": "2024-03-02T22:15:17.597303Z",
     "iopub.status.busy": "2024-03-02T22:15:17.596997Z",
     "iopub.status.idle": "2024-03-02T22:15:17.800142Z",
     "shell.execute_reply": "2024-03-02T22:15:17.799222Z"
    },
    "papermill": {
     "duration": 0.216291,
     "end_time": "2024-03-02T22:15:17.802156",
     "exception": false,
     "start_time": "2024-03-02T22:15:17.585865",
     "status": "completed"
    },
    "tags": []
   },
   "outputs": [
    {
     "data": {
      "text/plain": [
       "<matplotlib.image.AxesImage at 0x7e16f8158760>"
      ]
     },
     "execution_count": 11,
     "metadata": {},
     "output_type": "execute_result"
    },
    {
     "data": {
      "image/png": "[encoded data removed]",
      "text/plain": [
       "<Figure size 640x480 with 1 Axes>"
      ]
     },
     "metadata": {},
     "output_type": "display_data"
    }
   ],
   "source": [
    "plt.imshow(frames[40])"
   ]
  },
  {
   "cell_type": "code",
   "execution_count": 12,
   "id": "d4366366",
   "metadata": {
    "execution": {
     "iopub.execute_input": "2024-03-02T22:15:17.824770Z",
     "iopub.status.busy": "2024-03-02T22:15:17.824474Z",
     "iopub.status.idle": "2024-03-02T22:15:17.829012Z",
     "shell.execute_reply": "2024-03-02T22:15:17.828187Z"
    },
    "papermill": {
     "duration": 0.01797,
     "end_time": "2024-03-02T22:15:17.830894",
     "exception": false,
     "start_time": "2024-03-02T22:15:17.812924",
     "status": "completed"
    },
    "tags": []
   },
   "outputs": [],
   "source": [
    "def mappable_function(path:str) ->List[str]:\n",
    "    result = tf.py_function(load_data, [path], (tf.float32, tf.int64))\n",
    "    return result"
   ]
  },
  {
   "cell_type": "code",
   "execution_count": 13,
   "id": "2fdfc8cc",
   "metadata": {
    "execution": {
     "iopub.execute_input": "2024-03-02T22:15:17.853166Z",
     "iopub.status.busy": "2024-03-02T22:15:17.852926Z",
     "iopub.status.idle": "2024-03-02T22:15:18.535502Z",
     "shell.execute_reply": "2024-03-02T22:15:18.534664Z"
    },
    "papermill": {
     "duration": 0.696227,
     "end_time": "2024-03-02T22:15:18.537786",
     "exception": false,
     "start_time": "2024-03-02T22:15:17.841559",
     "status": "completed"
    },
    "tags": []
   },
   "outputs": [],
   "source": [
    "data = tf.data.Dataset.list_files('/kaggle/input/lipreading/data/s1/*.mpg')\n",
    "data = data.shuffle(500, reshuffle_each_iteration=False)\n",
    "data = data.map(mappable_function)\n",
    "\n",
    "# Division des données en ensembles d'entraînement et de test\n",
    "train_size = 450\n",
    "train_data = data.take(train_size)\n",
    "test_data = data.skip(train_size)\n",
    "\n",
    "# Création des lots (batches) de données\n",
    "train_data = train_data.padded_batch(2, padded_shapes=([75, None, None, None], [40]))\n",
    "test_data = test_data.padded_batch(2, padded_shapes=([75, None, None, None], [40]))\n",
    "\n",
    "# Préchargement des données\n",
    "train_data = train_data.prefetch(tf.data.AUTOTUNE)\n",
    "test_data = test_data.prefetch(tf.data.AUTOTUNE)\n"
   ]
  },
  {
   "cell_type": "code",
   "execution_count": 14,
   "id": "59aee370",
   "metadata": {
    "execution": {
     "iopub.execute_input": "2024-03-02T22:15:18.560702Z",
     "iopub.status.busy": "2024-03-02T22:15:18.560370Z",
     "iopub.status.idle": "2024-03-02T22:15:18.564262Z",
     "shell.execute_reply": "2024-03-02T22:15:18.563446Z"
    },
    "papermill": {
     "duration": 0.017385,
     "end_time": "2024-03-02T22:15:18.566213",
     "exception": false,
     "start_time": "2024-03-02T22:15:18.548828",
     "status": "completed"
    },
    "tags": []
   },
   "outputs": [],
   "source": [
    "# data = tf.data.Dataset.list_files('/kaggle/input/lipreading/data/s1/*.mpg')\n",
    "# data = data.shuffle(500,reshuffle_each_iteration=False)\n",
    "# data = data.map(mappable_function)\n",
    "# data = data.padded_batch(2, padded_shapes=([75,None,None,None],[40]))\n",
    "# data = data.prefetch(tf.data.AUTOTUNE)\n",
    "# # # ADDED DOR SPLIT\n",
    "# train = data.take(450)\n",
    "# test = data.skip(450)"
   ]
  },
  {
   "cell_type": "code",
   "execution_count": 15,
   "id": "cb8eab1f",
   "metadata": {
    "execution": {
     "iopub.execute_input": "2024-03-02T22:15:18.589041Z",
     "iopub.status.busy": "2024-03-02T22:15:18.588736Z",
     "iopub.status.idle": "2024-03-02T22:15:18.592651Z",
     "shell.execute_reply": "2024-03-02T22:15:18.591802Z"
    },
    "papermill": {
     "duration": 0.017662,
     "end_time": "2024-03-02T22:15:18.594534",
     "exception": false,
     "start_time": "2024-03-02T22:15:18.576872",
     "status": "completed"
    },
    "tags": []
   },
   "outputs": [],
   "source": [
    "# frames, alighnments = data.as_numpy_iterator().next()"
   ]
  },
  {
   "cell_type": "code",
   "execution_count": 16,
   "id": "972eb7ff",
   "metadata": {
    "execution": {
     "iopub.execute_input": "2024-03-02T22:15:18.616551Z",
     "iopub.status.busy": "2024-03-02T22:15:18.616289Z",
     "iopub.status.idle": "2024-03-02T22:15:18.656113Z",
     "shell.execute_reply": "2024-03-02T22:15:18.655270Z"
    },
    "papermill": {
     "duration": 0.053082,
     "end_time": "2024-03-02T22:15:18.658198",
     "exception": false,
     "start_time": "2024-03-02T22:15:18.605116",
     "status": "completed"
    },
    "tags": []
   },
   "outputs": [],
   "source": [
    "sample = data.as_numpy_iterator()"
   ]
  },
  {
   "cell_type": "code",
   "execution_count": 17,
   "id": "317eaa7a",
   "metadata": {
    "execution": {
     "iopub.execute_input": "2024-03-02T22:15:18.681642Z",
     "iopub.status.busy": "2024-03-02T22:15:18.680971Z",
     "iopub.status.idle": "2024-03-02T22:15:18.915008Z",
     "shell.execute_reply": "2024-03-02T22:15:18.913823Z"
    },
    "papermill": {
     "duration": 0.24985,
     "end_time": "2024-03-02T22:15:18.919172",
     "exception": false,
     "start_time": "2024-03-02T22:15:18.669322",
     "status": "completed"
    },
    "tags": []
   },
   "outputs": [
    {
     "data": {
      "text/plain": [
       "array([[[[1.4628371 ],\n",
       "         [1.3858457 ],\n",
       "         [1.4243413 ],\n",
       "         ...,\n",
       "         [0.3079657 ],\n",
       "         [0.34646142],\n",
       "         [0.34646142]],\n",
       "\n",
       "        [[1.3858457 ],\n",
       "         [1.4628371 ],\n",
       "         [1.3473499 ],\n",
       "         ...,\n",
       "         [0.3079657 ],\n",
       "         [0.34646142],\n",
       "         [0.34646142]],\n",
       "\n",
       "        [[1.5783242 ],\n",
       "         [1.5783242 ],\n",
       "         [1.5398285 ],\n",
       "         ...,\n",
       "         [0.34646142],\n",
       "         [0.3079657 ],\n",
       "         [0.3079657 ]],\n",
       "\n",
       "        ...,\n",
       "\n",
       "        [[1.0778799 ],\n",
       "         [1.0778799 ],\n",
       "         [1.0778799 ],\n",
       "         ...,\n",
       "         [0.03849571],\n",
       "         [0.03849571],\n",
       "         [0.03849571]],\n",
       "\n",
       "        [[1.0393842 ],\n",
       "         [1.0393842 ],\n",
       "         [1.0393842 ],\n",
       "         ...,\n",
       "         [0.03849571],\n",
       "         [0.03849571],\n",
       "         [0.03849571]],\n",
       "\n",
       "        [[1.0393842 ],\n",
       "         [1.0393842 ],\n",
       "         [1.0393842 ],\n",
       "         ...,\n",
       "         [0.03849571],\n",
       "         [0.03849571],\n",
       "         [0.        ]]],\n",
       "\n",
       "\n",
       "       [[[1.5013328 ],\n",
       "         [1.4628371 ],\n",
       "         [1.4243413 ],\n",
       "         ...,\n",
       "         [0.34646142],\n",
       "         [0.23097427],\n",
       "         [0.23097427]],\n",
       "\n",
       "        [[1.6168199 ],\n",
       "         [1.5398285 ],\n",
       "         [1.3088542 ],\n",
       "         ...,\n",
       "         [0.34646142],\n",
       "         [0.23097427],\n",
       "         [0.23097427]],\n",
       "\n",
       "        [[1.5783242 ],\n",
       "         [1.5783242 ],\n",
       "         [1.5398285 ],\n",
       "         ...,\n",
       "         [0.3079657 ],\n",
       "         [0.26946998],\n",
       "         [0.26946998]],\n",
       "\n",
       "        ...,\n",
       "\n",
       "        [[1.0778799 ],\n",
       "         [1.0778799 ],\n",
       "         [1.0778799 ],\n",
       "         ...,\n",
       "         [0.03849571],\n",
       "         [0.03849571],\n",
       "         [0.        ]],\n",
       "\n",
       "        [[1.0393842 ],\n",
       "         [1.0393842 ],\n",
       "         [1.0393842 ],\n",
       "         ...,\n",
       "         [0.03849571],\n",
       "         [0.        ],\n",
       "         [0.        ]],\n",
       "\n",
       "        [[1.0393842 ],\n",
       "         [1.0393842 ],\n",
       "         [1.0393842 ],\n",
       "         ...,\n",
       "         [0.        ],\n",
       "         [0.        ],\n",
       "         [0.        ]]],\n",
       "\n",
       "\n",
       "       [[[1.5398285 ],\n",
       "         [1.5013328 ],\n",
       "         [1.4243413 ],\n",
       "         ...,\n",
       "         [0.34646142],\n",
       "         [0.26946998],\n",
       "         [0.26946998]],\n",
       "\n",
       "        [[1.6168199 ],\n",
       "         [1.5398285 ],\n",
       "         [1.2703584 ],\n",
       "         ...,\n",
       "         [0.34646142],\n",
       "         [0.26946998],\n",
       "         [0.26946998]],\n",
       "\n",
       "        [[1.5398285 ],\n",
       "         [1.5398285 ],\n",
       "         [1.5398285 ],\n",
       "         ...,\n",
       "         [0.34646142],\n",
       "         [0.3079657 ],\n",
       "         [0.3079657 ]],\n",
       "\n",
       "        ...,\n",
       "\n",
       "        [[1.0778799 ],\n",
       "         [1.0778799 ],\n",
       "         [1.0778799 ],\n",
       "         ...,\n",
       "         [0.03849571],\n",
       "         [0.        ],\n",
       "         [0.        ]],\n",
       "\n",
       "        [[1.0393842 ],\n",
       "         [1.0393842 ],\n",
       "         [1.0393842 ],\n",
       "         ...,\n",
       "         [0.        ],\n",
       "         [0.        ],\n",
       "         [0.        ]],\n",
       "\n",
       "        [[1.0393842 ],\n",
       "         [1.0393842 ],\n",
       "         [1.0393842 ],\n",
       "         ...,\n",
       "         [0.        ],\n",
       "         [0.        ],\n",
       "         [9.816406  ]]],\n",
       "\n",
       "\n",
       "       ...,\n",
       "\n",
       "\n",
       "       [[[1.3473499 ],\n",
       "         [1.3088542 ],\n",
       "         [0.9623928 ],\n",
       "         ...,\n",
       "         [0.34646142],\n",
       "         [0.3079657 ],\n",
       "         [0.3079657 ]],\n",
       "\n",
       "        [[1.3858457 ],\n",
       "         [1.3473499 ],\n",
       "         [0.84690565],\n",
       "         ...,\n",
       "         [0.34646142],\n",
       "         [0.3079657 ],\n",
       "         [0.3079657 ]],\n",
       "\n",
       "        [[1.4243413 ],\n",
       "         [1.4243413 ],\n",
       "         [1.3088542 ],\n",
       "         ...,\n",
       "         [0.26946998],\n",
       "         [0.26946998],\n",
       "         [0.26946998]],\n",
       "\n",
       "        ...,\n",
       "\n",
       "        [[1.0778799 ],\n",
       "         [1.0778799 ],\n",
       "         [1.0778799 ],\n",
       "         ...,\n",
       "         [0.        ],\n",
       "         [0.        ],\n",
       "         [0.        ]],\n",
       "\n",
       "        [[1.0778799 ],\n",
       "         [1.0778799 ],\n",
       "         [1.0778799 ],\n",
       "         ...,\n",
       "         [0.        ],\n",
       "         [0.        ],\n",
       "         [9.816406  ]],\n",
       "\n",
       "        [[1.0778799 ],\n",
       "         [1.0778799 ],\n",
       "         [1.0393842 ],\n",
       "         ...,\n",
       "         [0.        ],\n",
       "         [9.816406  ],\n",
       "         [9.816406  ]]],\n",
       "\n",
       "\n",
       "       [[[1.4243413 ],\n",
       "         [1.4628371 ],\n",
       "         [0.9238971 ],\n",
       "         ...,\n",
       "         [0.34646142],\n",
       "         [0.3079657 ],\n",
       "         [0.3079657 ]],\n",
       "\n",
       "        [[1.3858457 ],\n",
       "         [1.3858457 ],\n",
       "         [0.9623928 ],\n",
       "         ...,\n",
       "         [0.34646142],\n",
       "         [0.3079657 ],\n",
       "         [0.3079657 ]],\n",
       "\n",
       "        [[1.4628371 ],\n",
       "         [1.4243413 ],\n",
       "         [1.2703584 ],\n",
       "         ...,\n",
       "         [0.26946998],\n",
       "         [0.26946998],\n",
       "         [0.26946998]],\n",
       "\n",
       "        ...,\n",
       "\n",
       "        [[1.0778799 ],\n",
       "         [1.0778799 ],\n",
       "         [1.0778799 ],\n",
       "         ...,\n",
       "         [0.        ],\n",
       "         [0.        ],\n",
       "         [0.        ]],\n",
       "\n",
       "        [[1.0778799 ],\n",
       "         [1.0778799 ],\n",
       "         [1.0778799 ],\n",
       "         ...,\n",
       "         [0.        ],\n",
       "         [0.        ],\n",
       "         [9.816406  ]],\n",
       "\n",
       "        [[1.0778799 ],\n",
       "         [1.0778799 ],\n",
       "         [1.0393842 ],\n",
       "         ...,\n",
       "         [0.        ],\n",
       "         [9.816406  ],\n",
       "         [9.816406  ]]],\n",
       "\n",
       "\n",
       "       [[[1.3473499 ],\n",
       "         [1.4243413 ],\n",
       "         [0.9623928 ],\n",
       "         ...,\n",
       "         [0.34646142],\n",
       "         [0.34646142],\n",
       "         [0.34646142]],\n",
       "\n",
       "        [[1.3858457 ],\n",
       "         [1.3858457 ],\n",
       "         [0.9238971 ],\n",
       "         ...,\n",
       "         [0.34646142],\n",
       "         [0.34646142],\n",
       "         [0.34646142]],\n",
       "\n",
       "        [[1.4628371 ],\n",
       "         [1.3473499 ],\n",
       "         [1.2703584 ],\n",
       "         ...,\n",
       "         [0.3079657 ],\n",
       "         [0.3079657 ],\n",
       "         [0.26946998]],\n",
       "\n",
       "        ...,\n",
       "\n",
       "        [[1.0778799 ],\n",
       "         [1.0778799 ],\n",
       "         [1.0778799 ],\n",
       "         ...,\n",
       "         [0.        ],\n",
       "         [0.        ],\n",
       "         [9.816406  ]],\n",
       "\n",
       "        [[1.0778799 ],\n",
       "         [1.0778799 ],\n",
       "         [1.0393842 ],\n",
       "         ...,\n",
       "         [0.        ],\n",
       "         [9.816406  ],\n",
       "         [9.816406  ]],\n",
       "\n",
       "        [[1.0393842 ],\n",
       "         [1.0393842 ],\n",
       "         [1.0393842 ],\n",
       "         ...,\n",
       "         [9.816406  ],\n",
       "         [9.816406  ],\n",
       "         [9.816406  ]]]], dtype=float32)"
      ]
     },
     "execution_count": 17,
     "metadata": {},
     "output_type": "execute_result"
    }
   ],
   "source": [
    "val = sample.next();val[0]"
   ]
  },
  {
   "cell_type": "code",
   "execution_count": 18,
   "id": "09504e45",
   "metadata": {
    "execution": {
     "iopub.execute_input": "2024-03-02T22:15:18.952153Z",
     "iopub.status.busy": "2024-03-02T22:15:18.951810Z",
     "iopub.status.idle": "2024-03-02T22:15:18.964015Z",
     "shell.execute_reply": "2024-03-02T22:15:18.962896Z"
    },
    "papermill": {
     "duration": 0.03219,
     "end_time": "2024-03-02T22:15:18.966960",
     "exception": false,
     "start_time": "2024-03-02T22:15:18.934770",
     "status": "completed"
    },
    "tags": []
   },
   "outputs": [],
   "source": [
    "from tensorflow.keras.models import Sequential\n",
    "from tensorflow.keras.layers import Conv3D, LSTM, Dense, Dropout, Bidirectional, MaxPool3D,Activation, Reshape, SpatialDropout3D, BatchNormalization, TimeDistributed, Flatten\n",
    "from tensorflow.keras.optimizers import Adam\n",
    "from tensorflow.keras.callbacks import ModelCheckpoint, LearningRateScheduler"
   ]
  },
  {
   "cell_type": "code",
   "execution_count": 19,
   "id": "cc5f5f92",
   "metadata": {
    "execution": {
     "iopub.execute_input": "2024-03-02T22:15:19.001822Z",
     "iopub.status.busy": "2024-03-02T22:15:19.001411Z",
     "iopub.status.idle": "2024-03-02T22:15:19.008180Z",
     "shell.execute_reply": "2024-03-02T22:15:19.006142Z"
    },
    "papermill": {
     "duration": 0.025569,
     "end_time": "2024-03-02T22:15:19.010670",
     "exception": false,
     "start_time": "2024-03-02T22:15:18.985101",
     "status": "completed"
    },
    "tags": []
   },
   "outputs": [],
   "source": [
    "def scheduler(epoch,lr):\n",
    "    if epoch < 30:\n",
    "        return lr\n",
    "    else:\n",
    "        return lr * tf.math.exp(-0.1)"
   ]
  },
  {
   "cell_type": "code",
   "execution_count": 20,
   "id": "c1c174d0",
   "metadata": {
    "execution": {
     "iopub.execute_input": "2024-03-02T22:15:19.042613Z",
     "iopub.status.busy": "2024-03-02T22:15:19.042185Z",
     "iopub.status.idle": "2024-03-02T22:15:19.049097Z",
     "shell.execute_reply": "2024-03-02T22:15:19.046982Z"
    },
    "papermill": {
     "duration": 0.02322,
     "end_time": "2024-03-02T22:15:19.051505",
     "exception": false,
     "start_time": "2024-03-02T22:15:19.028285",
     "status": "completed"
    },
    "tags": []
   },
   "outputs": [],
   "source": [
    "# class ProduceExample(tf.keras.callbacks.Callback):\n",
    "#     def __init__(self, dataset) -> None:\n",
    "#         self.dataset = dataset.as_numpy_iterator()\n",
    "#     def on_epoch_end(self, epoch, logs=None) -> None:\n",
    "#         data = self.dataset.next()\n",
    "#         yhat = self.model.predict(data[0])\n",
    "#         decoded = tf.keras.backend.ctc_decode(yhat, [75,75], greedy=False)[0][0].numpy()\n",
    "#         for x in range(len(yhat)):\n",
    "#             print('Original:', tf.strings.reduce_join(num_to_char(data[1][x])).numpy().decode('utf-8'))\n",
    "#             print('Prediction:', tf.strings.reduce_join(num_to_char(decoded[x])).numpy().decode('utf-8'))\n",
    "#             print('~'*100)"
   ]
  },
  {
   "cell_type": "code",
   "execution_count": 21,
   "id": "342474c6",
   "metadata": {
    "execution": {
     "iopub.execute_input": "2024-03-02T22:15:19.076089Z",
     "iopub.status.busy": "2024-03-02T22:15:19.075777Z",
     "iopub.status.idle": "2024-03-02T22:15:19.082860Z",
     "shell.execute_reply": "2024-03-02T22:15:19.081994Z"
    },
    "papermill": {
     "duration": 0.021895,
     "end_time": "2024-03-02T22:15:19.085003",
     "exception": false,
     "start_time": "2024-03-02T22:15:19.063108",
     "status": "completed"
    },
    "tags": []
   },
   "outputs": [],
   "source": [
    "def CTCLoss(y_true,y_pred):\n",
    "    batch_len = tf.cast(tf.shape(y_true)[0], dtype=\"int64\")\n",
    "    input_length = tf.cast(tf.shape(y_pred)[1],dtype=\"int64\")\n",
    "    label_length = tf.cast(tf.shape(y_true)[1],dtype=\"int64\")\n",
    "    input_length = input_length * tf.ones(shape=(batch_len, 1), dtype=\"int64\")\n",
    "    label_length = label_length * tf.ones(shape=(batch_len, 1), dtype=\"int64\")\n",
    "    loss = tf.keras.backend.ctc_batch_cost(y_true, y_pred, input_length, label_length)\n",
    "    return loss"
   ]
  },
  {
   "cell_type": "code",
   "execution_count": 22,
   "id": "f2414b75",
   "metadata": {
    "execution": {
     "iopub.execute_input": "2024-03-02T22:15:19.108500Z",
     "iopub.status.busy": "2024-03-02T22:15:19.108197Z",
     "iopub.status.idle": "2024-03-02T22:15:21.658964Z",
     "shell.execute_reply": "2024-03-02T22:15:21.657897Z"
    },
    "papermill": {
     "duration": 2.565382,
     "end_time": "2024-03-02T22:15:21.661474",
     "exception": false,
     "start_time": "2024-03-02T22:15:19.096092",
     "status": "completed"
    },
    "tags": []
   },
   "outputs": [],
   "source": [
    "from tensorflow.keras.models import Sequential\n",
    "from tensorflow.keras.layers import Conv3D, Activation, MaxPool3D, TimeDistributed, Flatten, Bidirectional, LSTM, Dropout, Dense, BatchNormalization\n",
    "\n",
    "model = Sequential()\n",
    "model.add(Conv3D(128, 3, input_shape=(75, 46, 140, 1), padding='same'))\n",
    "model.add(Activation('relu'))\n",
    "model.add(MaxPool3D((1, 2, 2)))\n",
    "\n",
    "model.add(Conv3D(256, 3, padding='same'))\n",
    "model.add(Activation('relu'))\n",
    "model.add(MaxPool3D((1, 2, 2)))\n",
    "\n",
    "model.add(Conv3D(75, 3, padding='same'))\n",
    "model.add(Activation('relu'))\n",
    "model.add(MaxPool3D((1, 2, 2)))\n",
    "\n",
    "model.add(TimeDistributed(Flatten()))\n",
    "\n",
    "model.add(Bidirectional(LSTM(128, kernel_initializer='Orthogonal', return_sequences=True)))\n",
    "model.add(Dropout(0.2))\n",
    "model.add(BatchNormalization())\n",
    "\n",
    "\n",
    "model.add(Bidirectional(LSTM(128, kernel_initializer='Orthogonal', return_sequences=True)))\n",
    "model.add(BatchNormalization())\n",
    "model.add(Dropout(0.4))\n",
    "\n",
    "model.add(Dense(char_to_num.vocabulary_size() + 1, kernel_initializer='he_normal', activation='softmax'))\n"
   ]
  },
  {
   "cell_type": "code",
   "execution_count": 23,
   "id": "f8c571d3",
   "metadata": {
    "execution": {
     "iopub.execute_input": "2024-03-02T22:15:21.685361Z",
     "iopub.status.busy": "2024-03-02T22:15:21.685011Z",
     "iopub.status.idle": "2024-03-02T22:15:21.689566Z",
     "shell.execute_reply": "2024-03-02T22:15:21.688782Z"
    },
    "papermill": {
     "duration": 0.018316,
     "end_time": "2024-03-02T22:15:21.691439",
     "exception": false,
     "start_time": "2024-03-02T22:15:21.673123",
     "status": "completed"
    },
    "tags": []
   },
   "outputs": [],
   "source": [
    "checkpoint_callback = ModelCheckpoint(os.path.join('models','checkpoint'), monitor='loss', save_weights_only=True)\n",
    "schedule_callback = LearningRateScheduler(scheduler)\n"
   ]
  },
  {
   "cell_type": "code",
   "execution_count": 24,
   "id": "23001552",
   "metadata": {
    "execution": {
     "iopub.execute_input": "2024-03-02T22:15:21.714940Z",
     "iopub.status.busy": "2024-03-02T22:15:21.714646Z",
     "iopub.status.idle": "2024-03-02T22:15:21.733731Z",
     "shell.execute_reply": "2024-03-02T22:15:21.733018Z"
    },
    "papermill": {
     "duration": 0.032991,
     "end_time": "2024-03-02T22:15:21.735641",
     "exception": false,
     "start_time": "2024-03-02T22:15:21.702650",
     "status": "completed"
    },
    "tags": []
   },
   "outputs": [],
   "source": [
    "model.compile(optimizer=Adam(learning_rate=0.0001), loss=CTCLoss)"
   ]
  },
  {
   "cell_type": "code",
   "execution_count": 25,
   "id": "8c2decaf",
   "metadata": {
    "execution": {
     "iopub.execute_input": "2024-03-02T22:15:21.758609Z",
     "iopub.status.busy": "2024-03-02T22:15:21.758306Z",
     "iopub.status.idle": "2024-03-03T08:36:08.662901Z",
     "shell.execute_reply": "2024-03-03T08:36:08.661810Z"
    },
    "papermill": {
     "duration": 37248.620761,
     "end_time": "2024-03-03T08:36:10.367473",
     "exception": false,
     "start_time": "2024-03-02T22:15:21.746712",
     "status": "completed"
    },
    "tags": []
   },
   "outputs": [
    {
     "name": "stdout",
     "output_type": "stream",
     "text": [
      "Epoch 1/90\n"
     ]
    },
    {
     "name": "stderr",
     "output_type": "stream",
     "text": [
      "WARNING: All log messages before absl::InitializeLog() is called are written to STDERR\n",
      "I0000 00:00:1709417733.868163      69 device_compiler.h:186] Compiled cluster using XLA!  This line is logged at most once for the lifetime of the process.\n"
     ]
    },
    {
     "name": "stdout",
     "output_type": "stream",
     "text": [
      "197/225 [=========================>....] - ETA: 20s - loss: 168.1185"
     ]
    },
    {
     "name": "stderr",
     "output_type": "stream",
     "text": [
      "[mpeg1video @ 0x7e12781e3300] ac-tex damaged at 22 17\n",
      "[mpeg1video @ 0x7e12781e3300] Warning MVs not available\n"
     ]
    },
    {
     "name": "stdout",
     "output_type": "stream",
     "text": [
      "225/225 [==============================] - ETA: 0s - loss: 162.3196"
     ]
    },
    {
     "name": "stderr",
     "output_type": "stream",
     "text": [
      "[mpeg1video @ 0x7e16a4001780] ac-tex damaged at 22 17\n",
      "[mpeg1video @ 0x7e16a4001780] Warning MVs not available\n"
     ]
    },
    {
     "name": "stdout",
     "output_type": "stream",
     "text": [
      "225/225 [==============================] - 432s 2s/step - loss: 162.3196 - val_loss: 122.7576 - lr: 1.0000e-04\n",
      "Epoch 2/90\n",
      " 92/225 [===========>..................] - ETA: 1:35 - loss: 118.4369"
     ]
    },
    {
     "name": "stderr",
     "output_type": "stream",
     "text": [
      "[mpeg1video @ 0x7e17d4070b00] ac-tex damaged at 22 17\n",
      "[mpeg1video @ 0x7e17d4070b00] Warning MVs not available\n"
     ]
    },
    {
     "name": "stdout",
     "output_type": "stream",
     "text": [
      "225/225 [==============================] - ETA: 0s - loss: 110.8193"
     ]
    },
    {
     "name": "stderr",
     "output_type": "stream",
     "text": [
      "[mpeg1video @ 0x7e1270075c40] ac-tex damaged at 22 17\n",
      "[mpeg1video @ 0x7e1270075c40] Warning MVs not available\n"
     ]
    },
    {
     "name": "stdout",
     "output_type": "stream",
     "text": [
      "225/225 [==============================] - 408s 2s/step - loss: 110.8193 - val_loss: 97.7105 - lr: 1.0000e-04\n",
      "Epoch 3/90\n",
      "225/225 [==============================] - ETA: 0s - loss: 99.7114"
     ]
    },
    {
     "name": "stderr",
     "output_type": "stream",
     "text": [
      "[mpeg1video @ 0x7e16f4076d40] ac-tex damaged at 22 17\n",
      "[mpeg1video @ 0x7e16f4076d40] Warning MVs not available\n"
     ]
    },
    {
     "name": "stdout",
     "output_type": "stream",
     "text": [
      "225/225 [==============================] - 404s 2s/step - loss: 99.7114 - val_loss: 94.7193 - lr: 1.0000e-04\n",
      "Epoch 4/90\n",
      "225/225 [==============================] - ETA: 0s - loss: 95.6346"
     ]
    },
    {
     "name": "stderr",
     "output_type": "stream",
     "text": [
      "[mpeg1video @ 0x7e1278002740] ac-tex damaged at 22 17\n",
      "[mpeg1video @ 0x7e1278002740] Warning MVs not available\n"
     ]
    },
    {
     "name": "stdout",
     "output_type": "stream",
     "text": [
      "225/225 [==============================] - 402s 2s/step - loss: 95.6346 - val_loss: 99.6531 - lr: 1.0000e-04\n",
      "Epoch 5/90\n",
      "207/225 [==========================>...] - ETA: 12s - loss: 91.8013"
     ]
    },
    {
     "name": "stderr",
     "output_type": "stream",
     "text": [
      "[mpeg1video @ 0x7e11ec6b1080] ac-tex damaged at 22 17\n",
      "[mpeg1video @ 0x7e11ec6b1080] Warning MVs not available\n"
     ]
    },
    {
     "name": "stdout",
     "output_type": "stream",
     "text": [
      "225/225 [==============================] - ETA: 0s - loss: 92.1582"
     ]
    },
    {
     "name": "stderr",
     "output_type": "stream",
     "text": [
      "[mpeg1video @ 0x7e17080dde40] ac-tex damaged at 22 17\n",
      "[mpeg1video @ 0x7e17080dde40] Warning MVs not available\n"
     ]
    },
    {
     "name": "stdout",
     "output_type": "stream",
     "text": [
      "225/225 [==============================] - 401s 2s/step - loss: 92.1582 - val_loss: 82.0434 - lr: 1.0000e-04\n",
      "Epoch 6/90\n",
      " 98/225 [============>.................] - ETA: 1:28 - loss: 92.1217"
     ]
    },
    {
     "name": "stderr",
     "output_type": "stream",
     "text": [
      "[mpeg1video @ 0x7e17d4005940] ac-tex damaged at 22 17\n",
      "[mpeg1video @ 0x7e17d4005940] Warning MVs not available\n"
     ]
    },
    {
     "name": "stdout",
     "output_type": "stream",
     "text": [
      "225/225 [==============================] - ETA: 0s - loss: 89.4161"
     ]
    },
    {
     "name": "stderr",
     "output_type": "stream",
     "text": [
      "[mpeg1video @ 0x7e1274040b80] ac-tex damaged at 22 17\n",
      "[mpeg1video @ 0x7e1274040b80] Warning MVs not available\n"
     ]
    },
    {
     "name": "stdout",
     "output_type": "stream",
     "text": [
      "225/225 [==============================] - 400s 2s/step - loss: 89.4161 - val_loss: 79.8107 - lr: 1.0000e-04\n",
      "Epoch 7/90\n",
      "216/225 [===========================>..] - ETA: 6s - loss: 86.3618"
     ]
    },
    {
     "name": "stderr",
     "output_type": "stream",
     "text": [
      "[mpeg1video @ 0x7e11ec914bc0] ac-tex damaged at 22 17\n",
      "[mpeg1video @ 0x7e11ec914bc0] Warning MVs not available\n"
     ]
    },
    {
     "name": "stdout",
     "output_type": "stream",
     "text": [
      "225/225 [==============================] - ETA: 0s - loss: 86.1726"
     ]
    },
    {
     "name": "stderr",
     "output_type": "stream",
     "text": [
      "[mpeg1video @ 0x7e16b807e100] ac-tex damaged at 22 17\n",
      "[mpeg1video @ 0x7e16b807e100] Warning MVs not available\n"
     ]
    },
    {
     "name": "stdout",
     "output_type": "stream",
     "text": [
      "225/225 [==============================] - 402s 2s/step - loss: 86.1726 - val_loss: 78.7816 - lr: 1.0000e-04\n",
      "Epoch 8/90\n",
      "225/225 [==============================] - ETA: 0s - loss: 85.3295"
     ]
    },
    {
     "name": "stderr",
     "output_type": "stream",
     "text": [
      "[mpeg1video @ 0x7e1278021dc0] ac-tex damaged at 22 17\n",
      "[mpeg1video @ 0x7e1278021dc0] Warning MVs not available\n"
     ]
    },
    {
     "name": "stdout",
     "output_type": "stream",
     "text": [
      "225/225 [==============================] - 400s 2s/step - loss: 85.3295 - val_loss: 78.2214 - lr: 1.0000e-04\n",
      "Epoch 9/90\n",
      "154/225 [===================>..........] - ETA: 50s - loss: 84.5098"
     ]
    },
    {
     "name": "stderr",
     "output_type": "stream",
     "text": [
      "[mpeg1video @ 0x7e1679902600] ac-tex damaged at 22 17\n",
      "[mpeg1video @ 0x7e1679902600] Warning MVs not available\n"
     ]
    },
    {
     "name": "stdout",
     "output_type": "stream",
     "text": [
      "225/225 [==============================] - ETA: 0s - loss: 83.1874"
     ]
    },
    {
     "name": "stderr",
     "output_type": "stream",
     "text": [
      "[mpeg1video @ 0x7e16b0056c00] ac-tex damaged at 22 17\n",
      "[mpeg1video @ 0x7e16b0056c00] Warning MVs not available\n"
     ]
    },
    {
     "name": "stdout",
     "output_type": "stream",
     "text": [
      "225/225 [==============================] - 398s 2s/step - loss: 83.1874 - val_loss: 77.2460 - lr: 1.0000e-04\n",
      "Epoch 10/90\n",
      "162/225 [====================>.........] - ETA: 44s - loss: 82.5920"
     ]
    },
    {
     "name": "stderr",
     "output_type": "stream",
     "text": [
      "[mpeg1video @ 0x7e17d8023f40] ac-tex damaged at 22 17\n",
      "[mpeg1video @ 0x7e17d8023f40] Warning MVs not available\n"
     ]
    },
    {
     "name": "stdout",
     "output_type": "stream",
     "text": [
      "225/225 [==============================] - ETA: 0s - loss: 82.1068"
     ]
    },
    {
     "name": "stderr",
     "output_type": "stream",
     "text": [
      "[mpeg1video @ 0x7e12700b5a00] ac-tex damaged at 22 17\n",
      "[mpeg1video @ 0x7e12700b5a00] Warning MVs not available\n"
     ]
    },
    {
     "name": "stdout",
     "output_type": "stream",
     "text": [
      "225/225 [==============================] - 397s 2s/step - loss: 82.1068 - val_loss: 74.5188 - lr: 1.0000e-04\n",
      "Epoch 11/90\n",
      "214/225 [===========================>..] - ETA: 7s - loss: 80.9825"
     ]
    },
    {
     "name": "stderr",
     "output_type": "stream",
     "text": [
      "[mpeg1video @ 0x7e16866f5540] ac-tex damaged at 22 17\n",
      "[mpeg1video @ 0x7e16866f5540] Warning MVs not available\n"
     ]
    },
    {
     "name": "stdout",
     "output_type": "stream",
     "text": [
      "225/225 [==============================] - ETA: 0s - loss: 80.5856"
     ]
    },
    {
     "name": "stderr",
     "output_type": "stream",
     "text": [
      "[mpeg1video @ 0x7e16b80a3200] ac-tex damaged at 22 17\n",
      "[mpeg1video @ 0x7e16b80a3200] Warning MVs not available\n"
     ]
    },
    {
     "name": "stdout",
     "output_type": "stream",
     "text": [
      "225/225 [==============================] - 398s 2s/step - loss: 80.5856 - val_loss: 74.1659 - lr: 1.0000e-04\n",
      "Epoch 12/90\n",
      "199/225 [=========================>....] - ETA: 18s - loss: 78.1444"
     ]
    },
    {
     "name": "stderr",
     "output_type": "stream",
     "text": [
      "[mpeg1video @ 0x7e17d80296c0] ac-tex damaged at 22 17\n",
      "[mpeg1video @ 0x7e17d80296c0] Warning MVs not available\n"
     ]
    },
    {
     "name": "stdout",
     "output_type": "stream",
     "text": [
      "225/225 [==============================] - ETA: 0s - loss: 77.4892"
     ]
    },
    {
     "name": "stderr",
     "output_type": "stream",
     "text": [
      "[mpeg1video @ 0x7e166c00ab00] ac-tex damaged at 22 17\n",
      "[mpeg1video @ 0x7e166c00ab00] Warning MVs not available\n"
     ]
    },
    {
     "name": "stdout",
     "output_type": "stream",
     "text": [
      "225/225 [==============================] - 399s 2s/step - loss: 77.4892 - val_loss: 67.0237 - lr: 1.0000e-04\n",
      "Epoch 13/90\n",
      "205/225 [==========================>...] - ETA: 14s - loss: 70.3357"
     ]
    },
    {
     "name": "stderr",
     "output_type": "stream",
     "text": [
      "[mpeg1video @ 0x7e1679b8ea80] ac-tex damaged at 22 17\n",
      "[mpeg1video @ 0x7e1679b8ea80] Warning MVs not available\n"
     ]
    },
    {
     "name": "stdout",
     "output_type": "stream",
     "text": [
      "225/225 [==============================] - ETA: 0s - loss: 70.0882"
     ]
    },
    {
     "name": "stderr",
     "output_type": "stream",
     "text": [
      "[mpeg1video @ 0x7e16b8097ec0] ac-tex damaged at 22 17\n",
      "[mpeg1video @ 0x7e16b8097ec0] Warning MVs not available\n"
     ]
    },
    {
     "name": "stdout",
     "output_type": "stream",
     "text": [
      "225/225 [==============================] - 399s 2s/step - loss: 70.0882 - val_loss: 62.1149 - lr: 1.0000e-04\n",
      "Epoch 14/90\n",
      "119/225 [==============>...............] - ETA: 1:14 - loss: 67.4615"
     ]
    },
    {
     "name": "stderr",
     "output_type": "stream",
     "text": [
      "[mpeg1video @ 0x7e17c803b040] ac-tex damaged at 22 17\n",
      "[mpeg1video @ 0x7e17c803b040] Warning MVs not available\n"
     ]
    },
    {
     "name": "stdout",
     "output_type": "stream",
     "text": [
      "225/225 [==============================] - ETA: 0s - loss: 66.3508"
     ]
    },
    {
     "name": "stderr",
     "output_type": "stream",
     "text": [
      "[mpeg1video @ 0x7e166c00a7c0] ac-tex damaged at 22 17\n",
      "[mpeg1video @ 0x7e166c00a7c0] Warning MVs not available\n"
     ]
    },
    {
     "name": "stdout",
     "output_type": "stream",
     "text": [
      "225/225 [==============================] - 397s 2s/step - loss: 66.3508 - val_loss: 64.2571 - lr: 1.0000e-04\n",
      "Epoch 15/90\n",
      "151/225 [===================>..........] - ETA: 51s - loss: 63.8720"
     ]
    },
    {
     "name": "stderr",
     "output_type": "stream",
     "text": [
      "[mpeg1video @ 0x7e167990f040] ac-tex damaged at 22 17\n",
      "[mpeg1video @ 0x7e167990f040] Warning MVs not available\n"
     ]
    },
    {
     "name": "stdout",
     "output_type": "stream",
     "text": [
      "225/225 [==============================] - ETA: 0s - loss: 63.3165"
     ]
    },
    {
     "name": "stderr",
     "output_type": "stream",
     "text": [
      "[mpeg1video @ 0x7e16b8060640] ac-tex damaged at 22 17\n",
      "[mpeg1video @ 0x7e16b8060640] Warning MVs not available\n"
     ]
    },
    {
     "name": "stdout",
     "output_type": "stream",
     "text": [
      "225/225 [==============================] - 397s 2s/step - loss: 63.3165 - val_loss: 57.2096 - lr: 1.0000e-04\n",
      "Epoch 16/90\n",
      "225/225 [==============================] - ETA: 0s - loss: 60.7959"
     ]
    },
    {
     "name": "stderr",
     "output_type": "stream",
     "text": [
      "[mpeg1video @ 0x7e127408c5c0] ac-tex damaged at 22 17\n",
      "[mpeg1video @ 0x7e127408c5c0] Warning MVs not available\n"
     ]
    },
    {
     "name": "stdout",
     "output_type": "stream",
     "text": [
      "225/225 [==============================] - 398s 2s/step - loss: 60.7959 - val_loss: 57.0761 - lr: 1.0000e-04\n",
      "Epoch 17/90\n",
      "102/225 [============>.................] - ETA: 1:26 - loss: 59.9289"
     ]
    },
    {
     "name": "stderr",
     "output_type": "stream",
     "text": [
      "[mpeg1video @ 0x7e1686507600] ac-tex damaged at 22 17\n",
      "[mpeg1video @ 0x7e1686507600] Warning MVs not available\n"
     ]
    },
    {
     "name": "stdout",
     "output_type": "stream",
     "text": [
      "225/225 [==============================] - ETA: 0s - loss: 58.7119"
     ]
    },
    {
     "name": "stderr",
     "output_type": "stream",
     "text": [
      "[mpeg1video @ 0x7e1708104800] ac-tex damaged at 22 17\n",
      "[mpeg1video @ 0x7e1708104800] Warning MVs not available\n"
     ]
    },
    {
     "name": "stdout",
     "output_type": "stream",
     "text": [
      "225/225 [==============================] - 398s 2s/step - loss: 58.7119 - val_loss: 53.3446 - lr: 1.0000e-04\n",
      "Epoch 18/90\n",
      " 79/225 [=========>....................] - ETA: 1:41 - loss: 57.8401"
     ]
    },
    {
     "name": "stderr",
     "output_type": "stream",
     "text": [
      "[mpeg1video @ 0x7e17d0036c80] ac-tex damaged at 22 17\n",
      "[mpeg1video @ 0x7e17d0036c80] Warning MVs not available\n"
     ]
    },
    {
     "name": "stdout",
     "output_type": "stream",
     "text": [
      "225/225 [==============================] - ETA: 0s - loss: 57.9242"
     ]
    },
    {
     "name": "stderr",
     "output_type": "stream",
     "text": [
      "[mpeg1video @ 0x7e12740570c0] ac-tex damaged at 22 17\n",
      "[mpeg1video @ 0x7e12740570c0] Warning MVs not available\n"
     ]
    },
    {
     "name": "stdout",
     "output_type": "stream",
     "text": [
      "225/225 [==============================] - 396s 2s/step - loss: 57.9242 - val_loss: 53.9241 - lr: 1.0000e-04\n",
      "Epoch 19/90\n",
      "225/225 [==============================] - ETA: 0s - loss: 55.3816"
     ]
    },
    {
     "name": "stderr",
     "output_type": "stream",
     "text": [
      "[mpeg1video @ 0x7e1708062dc0] ac-tex damaged at 22 17\n",
      "[mpeg1video @ 0x7e1708062dc0] Warning MVs not available\n"
     ]
    },
    {
     "name": "stdout",
     "output_type": "stream",
     "text": [
      "225/225 [==============================] - 400s 2s/step - loss: 55.3816 - val_loss: 48.9518 - lr: 1.0000e-04\n",
      "Epoch 20/90\n",
      "225/225 [==============================] - ETA: 0s - loss: 53.0190"
     ]
    },
    {
     "name": "stderr",
     "output_type": "stream",
     "text": [
      "[mpeg1video @ 0x7e1278074bc0] ac-tex damaged at 22 17\n",
      "[mpeg1video @ 0x7e1278074bc0] Warning MVs not available\n"
     ]
    },
    {
     "name": "stdout",
     "output_type": "stream",
     "text": [
      "225/225 [==============================] - 402s 2s/step - loss: 53.0190 - val_loss: 47.2274 - lr: 1.0000e-04\n",
      "Epoch 21/90\n",
      "136/225 [=================>............] - ETA: 1:03 - loss: 51.0117"
     ]
    },
    {
     "name": "stderr",
     "output_type": "stream",
     "text": [
      "[mpeg1video @ 0x7e16863151c0] ac-tex damaged at 22 17\n",
      "[mpeg1video @ 0x7e16863151c0] Warning MVs not available\n"
     ]
    },
    {
     "name": "stdout",
     "output_type": "stream",
     "text": [
      "225/225 [==============================] - ETA: 0s - loss: 51.1352"
     ]
    },
    {
     "name": "stderr",
     "output_type": "stream",
     "text": [
      "[mpeg1video @ 0x7e17080315c0] ac-tex damaged at 22 17\n",
      "[mpeg1video @ 0x7e17080315c0] Warning MVs not available\n"
     ]
    },
    {
     "name": "stdout",
     "output_type": "stream",
     "text": [
      "225/225 [==============================] - 411s 2s/step - loss: 51.1352 - val_loss: 46.3632 - lr: 1.0000e-04\n",
      "Epoch 22/90\n",
      "225/225 [==============================] - ETA: 0s - loss: 48.9054"
     ]
    },
    {
     "name": "stderr",
     "output_type": "stream",
     "text": [
      "[mpeg1video @ 0x7e1274001800] ac-tex damaged at 22 17\n",
      "[mpeg1video @ 0x7e1274001800] Warning MVs not available\n"
     ]
    },
    {
     "name": "stdout",
     "output_type": "stream",
     "text": [
      "225/225 [==============================] - 405s 2s/step - loss: 48.9054 - val_loss: 42.1424 - lr: 1.0000e-04\n",
      "Epoch 23/90\n",
      "158/225 [====================>.........] - ETA: 48s - loss: 45.9011"
     ]
    },
    {
     "name": "stderr",
     "output_type": "stream",
     "text": [
      "[mpeg1video @ 0x7e1686203200] ac-tex damaged at 22 17\n",
      "[mpeg1video @ 0x7e1686203200] Warning MVs not available\n"
     ]
    },
    {
     "name": "stdout",
     "output_type": "stream",
     "text": [
      "225/225 [==============================] - ETA: 0s - loss: 45.7633"
     ]
    },
    {
     "name": "stderr",
     "output_type": "stream",
     "text": [
      "[mpeg1video @ 0x7e17080218c0] ac-tex damaged at 22 17\n",
      "[mpeg1video @ 0x7e17080218c0] Warning MVs not available\n"
     ]
    },
    {
     "name": "stdout",
     "output_type": "stream",
     "text": [
      "225/225 [==============================] - 406s 2s/step - loss: 45.7633 - val_loss: 41.3596 - lr: 1.0000e-04\n",
      "Epoch 24/90\n",
      "225/225 [==============================] - ETA: 0s - loss: 43.5432"
     ]
    },
    {
     "name": "stderr",
     "output_type": "stream",
     "text": [
      "[mpeg1video @ 0x7e1274091940] ac-tex damaged at 22 17\n",
      "[mpeg1video @ 0x7e1274091940] Warning MVs not available\n"
     ]
    },
    {
     "name": "stdout",
     "output_type": "stream",
     "text": [
      "225/225 [==============================] - 402s 2s/step - loss: 43.5432 - val_loss: 39.6686 - lr: 1.0000e-04\n",
      "Epoch 25/90\n",
      "225/225 [==============================] - ETA: 0s - loss: 40.8938"
     ]
    },
    {
     "name": "stderr",
     "output_type": "stream",
     "text": [
      "[mpeg1video @ 0x7e1708014c40] ac-tex damaged at 22 17\n",
      "[mpeg1video @ 0x7e1708014c40] Warning MVs not available\n"
     ]
    },
    {
     "name": "stdout",
     "output_type": "stream",
     "text": [
      "225/225 [==============================] - 400s 2s/step - loss: 40.8938 - val_loss: 35.7290 - lr: 1.0000e-04\n",
      "Epoch 26/90\n",
      " 22/225 [=>............................] - ETA: 2:22 - loss: 39.3414"
     ]
    },
    {
     "name": "stderr",
     "output_type": "stream",
     "text": [
      "[mpeg1video @ 0x7e17d801ee40] ac-tex damaged at 22 17\n",
      "[mpeg1video @ 0x7e17d801ee40] Warning MVs not available\n"
     ]
    },
    {
     "name": "stdout",
     "output_type": "stream",
     "text": [
      "225/225 [==============================] - ETA: 0s - loss: 38.5861"
     ]
    },
    {
     "name": "stderr",
     "output_type": "stream",
     "text": [
      "[mpeg1video @ 0x7e1274014ac0] ac-tex damaged at 22 17\n",
      "[mpeg1video @ 0x7e1274014ac0] Warning MVs not available\n"
     ]
    },
    {
     "name": "stdout",
     "output_type": "stream",
     "text": [
      "225/225 [==============================] - 401s 2s/step - loss: 38.5861 - val_loss: 32.3905 - lr: 1.0000e-04\n",
      "Epoch 27/90\n",
      " 16/225 [=>............................] - ETA: 2:27 - loss: 38.1484"
     ]
    },
    {
     "name": "stderr",
     "output_type": "stream",
     "text": [
      "[mpeg1video @ 0x7e1686666f80] ac-tex damaged at 22 17\n",
      "[mpeg1video @ 0x7e1686666f80] Warning MVs not available\n"
     ]
    },
    {
     "name": "stdout",
     "output_type": "stream",
     "text": [
      "225/225 [==============================] - ETA: 0s - loss: 36.4993"
     ]
    },
    {
     "name": "stderr",
     "output_type": "stream",
     "text": [
      "[mpeg1video @ 0x7e16b806ed00] ac-tex damaged at 22 17\n",
      "[mpeg1video @ 0x7e16b806ed00] Warning MVs not available\n"
     ]
    },
    {
     "name": "stdout",
     "output_type": "stream",
     "text": [
      "225/225 [==============================] - 400s 2s/step - loss: 36.4993 - val_loss: 29.6987 - lr: 1.0000e-04\n",
      "Epoch 28/90\n",
      " 66/225 [=======>......................] - ETA: 1:51 - loss: 34.3060"
     ]
    },
    {
     "name": "stderr",
     "output_type": "stream",
     "text": [
      "[mpeg1video @ 0x7e17c8030800] ac-tex damaged at 22 17\n",
      "[mpeg1video @ 0x7e17c8030800] Warning MVs not available\n"
     ]
    },
    {
     "name": "stdout",
     "output_type": "stream",
     "text": [
      "225/225 [==============================] - ETA: 0s - loss: 34.7430"
     ]
    },
    {
     "name": "stderr",
     "output_type": "stream",
     "text": [
      "[mpeg1video @ 0x7e127806be00] ac-tex damaged at 22 17\n",
      "[mpeg1video @ 0x7e127806be00] Warning MVs not available\n"
     ]
    },
    {
     "name": "stdout",
     "output_type": "stream",
     "text": [
      "225/225 [==============================] - 397s 2s/step - loss: 34.7430 - val_loss: 29.7339 - lr: 1.0000e-04\n",
      "Epoch 29/90\n",
      "225/225 [==============================] - ETA: 0s - loss: 33.2366"
     ]
    },
    {
     "name": "stderr",
     "output_type": "stream",
     "text": [
      "[mpeg1video @ 0x7e16b00af100] ac-tex damaged at 22 17\n",
      "[mpeg1video @ 0x7e16b00af100] Warning MVs not available\n"
     ]
    },
    {
     "name": "stdout",
     "output_type": "stream",
     "text": [
      "225/225 [==============================] - 403s 2s/step - loss: 33.2366 - val_loss: 25.5361 - lr: 1.0000e-04\n",
      "Epoch 30/90\n",
      "225/225 [==============================] - ETA: 0s - loss: 31.1308"
     ]
    },
    {
     "name": "stderr",
     "output_type": "stream",
     "text": [
      "[mpeg1video @ 0x7e12780857c0] ac-tex damaged at 22 17\n",
      "[mpeg1video @ 0x7e12780857c0] Warning MVs not available\n"
     ]
    },
    {
     "name": "stdout",
     "output_type": "stream",
     "text": [
      "225/225 [==============================] - 403s 2s/step - loss: 31.1308 - val_loss: 25.1291 - lr: 1.0000e-04\n",
      "Epoch 31/90\n",
      " 33/225 [===>..........................] - ETA: 2:17 - loss: 29.2191"
     ]
    },
    {
     "name": "stderr",
     "output_type": "stream",
     "text": [
      "[mpeg1video @ 0x7e11ec718880] ac-tex damaged at 22 17\n",
      "[mpeg1video @ 0x7e11ec718880] Warning MVs not available\n"
     ]
    },
    {
     "name": "stdout",
     "output_type": "stream",
     "text": [
      "225/225 [==============================] - ETA: 0s - loss: 28.8386"
     ]
    },
    {
     "name": "stderr",
     "output_type": "stream",
     "text": [
      "[mpeg1video @ 0x7e17cc021380] ac-tex damaged at 22 17\n",
      "[mpeg1video @ 0x7e17cc021380] Warning MVs not available\n"
     ]
    },
    {
     "name": "stdout",
     "output_type": "stream",
     "text": [
      "225/225 [==============================] - 405s 2s/step - loss: 28.8386 - val_loss: 23.3796 - lr: 9.0484e-05\n",
      "Epoch 32/90\n",
      "144/225 [==================>...........] - ETA: 58s - loss: 27.0894"
     ]
    },
    {
     "name": "stderr",
     "output_type": "stream",
     "text": [
      "[mpeg1video @ 0x7e17dc0960c0] ac-tex damaged at 22 17\n",
      "[mpeg1video @ 0x7e17dc0960c0] Warning MVs not available\n"
     ]
    },
    {
     "name": "stdout",
     "output_type": "stream",
     "text": [
      "225/225 [==============================] - ETA: 0s - loss: 27.1153"
     ]
    },
    {
     "name": "stderr",
     "output_type": "stream",
     "text": [
      "[mpeg1video @ 0x7e167400d9c0] ac-tex damaged at 22 17\n",
      "[mpeg1video @ 0x7e167400d9c0] Warning MVs not available\n"
     ]
    },
    {
     "name": "stdout",
     "output_type": "stream",
     "text": [
      "225/225 [==============================] - 406s 2s/step - loss: 27.1153 - val_loss: 21.1802 - lr: 8.1873e-05\n",
      "Epoch 33/90\n",
      "225/225 [==============================] - ETA: 0s - loss: 26.2139"
     ]
    },
    {
     "name": "stderr",
     "output_type": "stream",
     "text": [
      "[mpeg1video @ 0x7e17cc037c00] ac-tex damaged at 22 17\n",
      "[mpeg1video @ 0x7e17cc037c00] Warning MVs not available\n"
     ]
    },
    {
     "name": "stdout",
     "output_type": "stream",
     "text": [
      "225/225 [==============================] - 406s 2s/step - loss: 26.2139 - val_loss: 21.2458 - lr: 7.4082e-05\n",
      "Epoch 34/90\n",
      "225/225 [==============================] - ETA: 0s - loss: 23.8347"
     ]
    },
    {
     "name": "stderr",
     "output_type": "stream",
     "text": [
      "[mpeg1video @ 0x7e12219adb40] ac-tex damaged at 22 17\n",
      "[mpeg1video @ 0x7e12219adb40] Warning MVs not available\n"
     ]
    },
    {
     "name": "stdout",
     "output_type": "stream",
     "text": [
      "225/225 [==============================] - 404s 2s/step - loss: 23.8347 - val_loss: 18.5310 - lr: 6.7032e-05\n",
      "Epoch 35/90\n",
      "225/225 [==============================] - ETA: 0s - loss: 22.9167"
     ]
    },
    {
     "name": "stderr",
     "output_type": "stream",
     "text": [
      "[mpeg1video @ 0x7e17cc099b00] ac-tex damaged at 22 17\n",
      "[mpeg1video @ 0x7e17cc099b00] Warning MVs not available\n"
     ]
    },
    {
     "name": "stdout",
     "output_type": "stream",
     "text": [
      "225/225 [==============================] - 399s 2s/step - loss: 22.9167 - val_loss: 17.7338 - lr: 6.0653e-05\n",
      "Epoch 36/90\n",
      "225/225 [==============================] - ETA: 0s - loss: 21.7615"
     ]
    },
    {
     "name": "stderr",
     "output_type": "stream",
     "text": [
      "[mpeg1video @ 0x7e1221989440] ac-tex damaged at 22 17\n",
      "[mpeg1video @ 0x7e1221989440] Warning MVs not available\n"
     ]
    },
    {
     "name": "stdout",
     "output_type": "stream",
     "text": [
      "225/225 [==============================] - 397s 2s/step - loss: 21.7615 - val_loss: 16.6664 - lr: 5.4881e-05\n",
      "Epoch 37/90\n",
      "225/225 [==============================] - ETA: 0s - loss: 20.4279"
     ]
    },
    {
     "name": "stderr",
     "output_type": "stream",
     "text": [
      "[mpeg1video @ 0x7e17d4041700] ac-tex damaged at 22 17\n",
      "[mpeg1video @ 0x7e17d4041700] Warning MVs not available\n"
     ]
    },
    {
     "name": "stdout",
     "output_type": "stream",
     "text": [
      "225/225 [==============================] - 405s 2s/step - loss: 20.4279 - val_loss: 14.7773 - lr: 4.9659e-05\n",
      "Epoch 38/90\n",
      "225/225 [==============================] - ETA: 0s - loss: 19.6780"
     ]
    },
    {
     "name": "stderr",
     "output_type": "stream",
     "text": [
      "[mpeg1video @ 0x7e11ec2cdd80] ac-tex damaged at 22 17\n",
      "[mpeg1video @ 0x7e11ec2cdd80] Warning MVs not available\n"
     ]
    },
    {
     "name": "stdout",
     "output_type": "stream",
     "text": [
      "225/225 [==============================] - 423s 2s/step - loss: 19.6780 - val_loss: 13.9698 - lr: 4.4933e-05\n",
      "Epoch 39/90\n",
      "102/225 [============>.................] - ETA: 1:30 - loss: 18.5024"
     ]
    },
    {
     "name": "stderr",
     "output_type": "stream",
     "text": [
      "[mpeg1video @ 0x7e16a4105300] ac-tex damaged at 22 17\n",
      "[mpeg1video @ 0x7e16a4105300] Warning MVs not available\n"
     ]
    },
    {
     "name": "stdout",
     "output_type": "stream",
     "text": [
      "225/225 [==============================] - ETA: 0s - loss: 18.4815"
     ]
    },
    {
     "name": "stderr",
     "output_type": "stream",
     "text": [
      "[mpeg1video @ 0x7e17cc0bb1c0] ac-tex damaged at 22 17\n",
      "[mpeg1video @ 0x7e17cc0bb1c0] Warning MVs not available\n"
     ]
    },
    {
     "name": "stdout",
     "output_type": "stream",
     "text": [
      "225/225 [==============================] - 417s 2s/step - loss: 18.4815 - val_loss: 13.4557 - lr: 4.0657e-05\n",
      "Epoch 40/90\n",
      "225/225 [==============================] - ETA: 0s - loss: 17.8535"
     ]
    },
    {
     "name": "stderr",
     "output_type": "stream",
     "text": [
      "[mpeg1video @ 0x7e11ec783480] ac-tex damaged at 22 17\n",
      "[mpeg1video @ 0x7e11ec783480] Warning MVs not available\n"
     ]
    },
    {
     "name": "stdout",
     "output_type": "stream",
     "text": [
      "225/225 [==============================] - 422s 2s/step - loss: 17.8535 - val_loss: 12.3394 - lr: 3.6788e-05\n",
      "Epoch 41/90\n",
      "225/225 [==============================] - ETA: 0s - loss: 16.6217"
     ]
    },
    {
     "name": "stderr",
     "output_type": "stream",
     "text": [
      "[mpeg1video @ 0x7e17d006d400] ac-tex damaged at 22 17\n",
      "[mpeg1video @ 0x7e17d006d400] Warning MVs not available\n"
     ]
    },
    {
     "name": "stdout",
     "output_type": "stream",
     "text": [
      "225/225 [==============================] - 424s 2s/step - loss: 16.6217 - val_loss: 11.9494 - lr: 3.3287e-05\n",
      "Epoch 42/90\n",
      "225/225 [==============================] - ETA: 0s - loss: 16.0872"
     ]
    },
    {
     "name": "stderr",
     "output_type": "stream",
     "text": [
      "[mpeg1video @ 0x7e1679901180] ac-tex damaged at 22 17\n",
      "[mpeg1video @ 0x7e1679901180] Warning MVs not available\n"
     ]
    },
    {
     "name": "stdout",
     "output_type": "stream",
     "text": [
      "225/225 [==============================] - 425s 2s/step - loss: 16.0872 - val_loss: 11.1957 - lr: 3.0119e-05\n",
      "Epoch 43/90\n",
      "225/225 [==============================] - ETA: 0s - loss: 15.8660"
     ]
    },
    {
     "name": "stderr",
     "output_type": "stream",
     "text": [
      "[mpeg1video @ 0x7e17d4056b00] ac-tex damaged at 22 17\n",
      "[mpeg1video @ 0x7e17d4056b00] Warning MVs not available\n"
     ]
    },
    {
     "name": "stdout",
     "output_type": "stream",
     "text": [
      "225/225 [==============================] - 424s 2s/step - loss: 15.8660 - val_loss: 10.6781 - lr: 2.7253e-05\n",
      "Epoch 44/90\n",
      "163/225 [====================>.........] - ETA: 45s - loss: 14.8771"
     ]
    },
    {
     "name": "stderr",
     "output_type": "stream",
     "text": [
      "[mpeg1video @ 0x577b6d760400] ac-tex damaged at 22 17\n",
      "[mpeg1video @ 0x577b6d760400] Warning MVs not available\n"
     ]
    },
    {
     "name": "stdout",
     "output_type": "stream",
     "text": [
      "225/225 [==============================] - ETA: 0s - loss: 14.9304"
     ]
    },
    {
     "name": "stderr",
     "output_type": "stream",
     "text": [
      "[mpeg1video @ 0x7e1679b8ee40] ac-tex damaged at 22 17\n",
      "[mpeg1video @ 0x7e1679b8ee40] Warning MVs not available\n"
     ]
    },
    {
     "name": "stdout",
     "output_type": "stream",
     "text": [
      "225/225 [==============================] - 427s 2s/step - loss: 14.9304 - val_loss: 10.1036 - lr: 2.4660e-05\n",
      "Epoch 45/90\n",
      "225/225 [==============================] - ETA: 0s - loss: 14.4539"
     ]
    },
    {
     "name": "stderr",
     "output_type": "stream",
     "text": [
      "[mpeg1video @ 0x7e17c808f140] ac-tex damaged at 22 17\n",
      "[mpeg1video @ 0x7e17c808f140] Warning MVs not available\n"
     ]
    },
    {
     "name": "stdout",
     "output_type": "stream",
     "text": [
      "225/225 [==============================] - 423s 2s/step - loss: 14.4539 - val_loss: 9.6445 - lr: 2.2313e-05\n",
      "Epoch 46/90\n",
      "224/225 [============================>.] - ETA: 0s - loss: 14.0112"
     ]
    },
    {
     "name": "stderr",
     "output_type": "stream",
     "text": [
      "[mpeg1video @ 0x7e125c0b9940] ac-tex damaged at 22 17\n",
      "[mpeg1video @ 0x7e125c0b9940] Warning MVs not available\n"
     ]
    },
    {
     "name": "stdout",
     "output_type": "stream",
     "text": [
      "225/225 [==============================] - ETA: 0s - loss: 14.0341"
     ]
    },
    {
     "name": "stderr",
     "output_type": "stream",
     "text": [
      "[mpeg1video @ 0x7e1679b4e500] ac-tex damaged at 22 17\n",
      "[mpeg1video @ 0x7e1679b4e500] Warning MVs not available\n"
     ]
    },
    {
     "name": "stdout",
     "output_type": "stream",
     "text": [
      "225/225 [==============================] - 426s 2s/step - loss: 14.0341 - val_loss: 9.0085 - lr: 2.0190e-05\n",
      "Epoch 47/90\n",
      " 80/225 [=========>....................] - ETA: 1:45 - loss: 13.0115"
     ]
    },
    {
     "name": "stderr",
     "output_type": "stream",
     "text": [
      "[mpeg1video @ 0x7e16a0075240] ac-tex damaged at 22 17\n",
      "[mpeg1video @ 0x7e16a0075240] Warning MVs not available\n"
     ]
    },
    {
     "name": "stdout",
     "output_type": "stream",
     "text": [
      "225/225 [==============================] - ETA: 0s - loss: 13.6170"
     ]
    },
    {
     "name": "stderr",
     "output_type": "stream",
     "text": [
      "[mpeg1video @ 0x7e17d007e100] ac-tex damaged at 22 17\n",
      "[mpeg1video @ 0x7e17d007e100] Warning MVs not available\n"
     ]
    },
    {
     "name": "stdout",
     "output_type": "stream",
     "text": [
      "225/225 [==============================] - 422s 2s/step - loss: 13.6170 - val_loss: 9.3151 - lr: 1.8268e-05\n",
      "Epoch 48/90\n",
      " 74/225 [========>.....................] - ETA: 1:51 - loss: 13.8079"
     ]
    },
    {
     "name": "stderr",
     "output_type": "stream",
     "text": [
      "[mpeg1video @ 0x7e17e408eb00] ac-tex damaged at 22 17\n",
      "[mpeg1video @ 0x7e17e408eb00] Warning MVs not available\n"
     ]
    },
    {
     "name": "stdout",
     "output_type": "stream",
     "text": [
      "225/225 [==============================] - ETA: 0s - loss: 13.6282"
     ]
    },
    {
     "name": "stderr",
     "output_type": "stream",
     "text": [
      "[mpeg1video @ 0x7e167408e7c0] ac-tex damaged at 22 17\n",
      "[mpeg1video @ 0x7e167408e7c0] Warning MVs not available\n"
     ]
    },
    {
     "name": "stdout",
     "output_type": "stream",
     "text": [
      "225/225 [==============================] - 423s 2s/step - loss: 13.6282 - val_loss: 8.6064 - lr: 1.6530e-05\n",
      "Epoch 49/90\n",
      "225/225 [==============================] - ETA: 0s - loss: 12.7240"
     ]
    },
    {
     "name": "stderr",
     "output_type": "stream",
     "text": [
      "[mpeg1video @ 0x7e17cc03e380] ac-tex damaged at 22 17\n",
      "[mpeg1video @ 0x7e17cc03e380] Warning MVs not available\n"
     ]
    },
    {
     "name": "stdout",
     "output_type": "stream",
     "text": [
      "225/225 [==============================] - 422s 2s/step - loss: 12.7240 - val_loss: 8.3731 - lr: 1.4957e-05\n",
      "Epoch 50/90\n",
      "225/225 [==============================] - ETA: 0s - loss: 12.7230"
     ]
    },
    {
     "name": "stderr",
     "output_type": "stream",
     "text": [
      "[mpeg1video @ 0x7e1679bdbc80] ac-tex damaged at 22 17\n",
      "[mpeg1video @ 0x7e1679bdbc80] Warning MVs not available\n"
     ]
    },
    {
     "name": "stdout",
     "output_type": "stream",
     "text": [
      "225/225 [==============================] - 425s 2s/step - loss: 12.7230 - val_loss: 7.9652 - lr: 1.3534e-05\n",
      "Epoch 51/90\n",
      " 43/225 [====>.........................] - ETA: 2:13 - loss: 12.4975"
     ]
    },
    {
     "name": "stderr",
     "output_type": "stream",
     "text": [
      "[mpeg1video @ 0x7e16a402f8c0] ac-tex damaged at 22 17\n",
      "[mpeg1video @ 0x7e16a402f8c0] Warning MVs not available\n"
     ]
    },
    {
     "name": "stdout",
     "output_type": "stream",
     "text": [
      "225/225 [==============================] - ETA: 0s - loss: 12.2640"
     ]
    },
    {
     "name": "stderr",
     "output_type": "stream",
     "text": [
      "[mpeg1video @ 0x7e17d00295c0] ac-tex damaged at 22 17\n",
      "[mpeg1video @ 0x7e17d00295c0] Warning MVs not available\n"
     ]
    },
    {
     "name": "stdout",
     "output_type": "stream",
     "text": [
      "225/225 [==============================] - 423s 2s/step - loss: 12.2640 - val_loss: 7.8127 - lr: 1.2246e-05\n",
      "Epoch 52/90\n",
      "225/225 [==============================] - ETA: 0s - loss: 11.9269"
     ]
    },
    {
     "name": "stderr",
     "output_type": "stream",
     "text": [
      "[mpeg1video @ 0x7e11ec886c00] ac-tex damaged at 22 17\n",
      "[mpeg1video @ 0x7e11ec886c00] Warning MVs not available\n"
     ]
    },
    {
     "name": "stdout",
     "output_type": "stream",
     "text": [
      "225/225 [==============================] - 425s 2s/step - loss: 11.9269 - val_loss: 7.3658 - lr: 1.1080e-05\n",
      "Epoch 53/90\n",
      "103/225 [============>.................] - ETA: 1:29 - loss: 11.9820"
     ]
    },
    {
     "name": "stderr",
     "output_type": "stream",
     "text": [
      "[mpeg1video @ 0x7e16a4011640] ac-tex damaged at 22 17\n",
      "[mpeg1video @ 0x7e16a4011640] Warning MVs not available\n"
     ]
    },
    {
     "name": "stdout",
     "output_type": "stream",
     "text": [
      "225/225 [==============================] - ETA: 0s - loss: 11.9745"
     ]
    },
    {
     "name": "stderr",
     "output_type": "stream",
     "text": [
      "[mpeg1video @ 0x7e17c80d3b80] ac-tex damaged at 22 17\n",
      "[mpeg1video @ 0x7e17c80d3b80] Warning MVs not available\n"
     ]
    },
    {
     "name": "stdout",
     "output_type": "stream",
     "text": [
      "225/225 [==============================] - 422s 2s/step - loss: 11.9745 - val_loss: 7.5485 - lr: 1.0026e-05\n",
      "Epoch 54/90\n",
      "127/225 [===============>..............] - ETA: 1:12 - loss: 11.6887"
     ]
    },
    {
     "name": "stderr",
     "output_type": "stream",
     "text": [
      "[mpeg1video @ 0x7e125402eb40] ac-tex damaged at 22 17\n",
      "[mpeg1video @ 0x7e125402eb40] Warning MVs not available\n"
     ]
    },
    {
     "name": "stdout",
     "output_type": "stream",
     "text": [
      "225/225 [==============================] - ETA: 0s - loss: 11.5945"
     ]
    },
    {
     "name": "stderr",
     "output_type": "stream",
     "text": [
      "[mpeg1video @ 0x7e1674025b00] ac-tex damaged at 22 17\n",
      "[mpeg1video @ 0x7e1674025b00] Warning MVs not available\n"
     ]
    },
    {
     "name": "stdout",
     "output_type": "stream",
     "text": [
      "225/225 [==============================] - 422s 2s/step - loss: 11.5945 - val_loss: 7.1657 - lr: 9.0718e-06\n",
      "Epoch 55/90\n",
      "225/225 [==============================] - ETA: 0s - loss: 11.5658"
     ]
    },
    {
     "name": "stderr",
     "output_type": "stream",
     "text": [
      "[mpeg1video @ 0x7e17d408ad40] ac-tex damaged at 22 17\n",
      "[mpeg1video @ 0x7e17d408ad40] Warning MVs not available\n"
     ]
    },
    {
     "name": "stdout",
     "output_type": "stream",
     "text": [
      "225/225 [==============================] - 420s 2s/step - loss: 11.5658 - val_loss: 7.0695 - lr: 8.2085e-06\n",
      "Epoch 56/90\n",
      " 89/225 [==========>...................] - ETA: 1:41 - loss: 11.5622"
     ]
    },
    {
     "name": "stderr",
     "output_type": "stream",
     "text": [
      "[mpeg1video @ 0x7e125c0ccf40] ac-tex damaged at 22 17\n",
      "[mpeg1video @ 0x7e125c0ccf40] Warning MVs not available\n"
     ]
    },
    {
     "name": "stdout",
     "output_type": "stream",
     "text": [
      "225/225 [==============================] - ETA: 0s - loss: 11.2929"
     ]
    },
    {
     "name": "stderr",
     "output_type": "stream",
     "text": [
      "[mpeg1video @ 0x7e1679bccc00] ac-tex damaged at 22 17\n",
      "[mpeg1video @ 0x7e1679bccc00] Warning MVs not available\n"
     ]
    },
    {
     "name": "stdout",
     "output_type": "stream",
     "text": [
      "225/225 [==============================] - 425s 2s/step - loss: 11.2929 - val_loss: 6.9584 - lr: 7.4273e-06\n",
      "Epoch 57/90\n",
      "225/225 [==============================] - ETA: 0s - loss: 11.1238"
     ]
    },
    {
     "name": "stderr",
     "output_type": "stream",
     "text": [
      "[mpeg1video @ 0x7e17d405e0c0] ac-tex damaged at 22 17\n",
      "[mpeg1video @ 0x7e17d405e0c0] Warning MVs not available\n"
     ]
    },
    {
     "name": "stdout",
     "output_type": "stream",
     "text": [
      "225/225 [==============================] - 418s 2s/step - loss: 11.1238 - val_loss: 6.9375 - lr: 6.7205e-06\n",
      "Epoch 58/90\n",
      "225/225 [==============================] - ETA: 0s - loss: 10.9878"
     ]
    },
    {
     "name": "stderr",
     "output_type": "stream",
     "text": [
      "[mpeg1video @ 0x7e16799c2ec0] ac-tex damaged at 22 17\n",
      "[mpeg1video @ 0x7e16799c2ec0] Warning MVs not available\n"
     ]
    },
    {
     "name": "stdout",
     "output_type": "stream",
     "text": [
      "225/225 [==============================] - 423s 2s/step - loss: 10.9878 - val_loss: 6.8216 - lr: 6.0810e-06\n",
      "Epoch 59/90\n",
      "180/225 [=======================>......] - ETA: 33s - loss: 10.8689"
     ]
    },
    {
     "name": "stderr",
     "output_type": "stream",
     "text": [
      "[mpeg1video @ 0x7e16a4002c80] ac-tex damaged at 22 17\n",
      "[mpeg1video @ 0x7e16a4002c80] Warning MVs not available\n"
     ]
    },
    {
     "name": "stdout",
     "output_type": "stream",
     "text": [
      "225/225 [==============================] - ETA: 0s - loss: 10.8422"
     ]
    },
    {
     "name": "stderr",
     "output_type": "stream",
     "text": [
      "[mpeg1video @ 0x7e17d00340c0] ac-tex damaged at 22 17\n",
      "[mpeg1video @ 0x7e17d00340c0] Warning MVs not available\n"
     ]
    },
    {
     "name": "stdout",
     "output_type": "stream",
     "text": [
      "225/225 [==============================] - 425s 2s/step - loss: 10.8422 - val_loss: 6.2218 - lr: 5.5023e-06\n",
      "Epoch 60/90\n",
      "225/225 [==============================] - ETA: 0s - loss: 11.1048"
     ]
    },
    {
     "name": "stderr",
     "output_type": "stream",
     "text": [
      "[mpeg1video @ 0x7e1679c5a100] ac-tex damaged at 22 17\n",
      "[mpeg1video @ 0x7e1679c5a100] Warning MVs not available\n"
     ]
    },
    {
     "name": "stdout",
     "output_type": "stream",
     "text": [
      "225/225 [==============================] - 428s 2s/step - loss: 11.1048 - val_loss: 6.5365 - lr: 4.9787e-06\n",
      "Epoch 61/90\n",
      " 34/225 [===>..........................] - ETA: 2:20 - loss: 11.6258"
     ]
    },
    {
     "name": "stderr",
     "output_type": "stream",
     "text": [
      "[mpeg1video @ 0x7e16a009f500] ac-tex damaged at 22 17\n",
      "[mpeg1video @ 0x7e16a009f500] Warning MVs not available\n"
     ]
    },
    {
     "name": "stdout",
     "output_type": "stream",
     "text": [
      "225/225 [==============================] - ETA: 0s - loss: 10.9825"
     ]
    },
    {
     "name": "stderr",
     "output_type": "stream",
     "text": [
      "[mpeg1video @ 0x7e17d005f300] ac-tex damaged at 22 17\n",
      "[mpeg1video @ 0x7e17d005f300] Warning MVs not available\n"
     ]
    },
    {
     "name": "stdout",
     "output_type": "stream",
     "text": [
      "225/225 [==============================] - 422s 2s/step - loss: 10.9825 - val_loss: 6.2760 - lr: 4.5049e-06\n",
      "Epoch 62/90\n",
      "225/225 [==============================] - ETA: 0s - loss: 10.8103"
     ]
    },
    {
     "name": "stderr",
     "output_type": "stream",
     "text": [
      "[mpeg1video @ 0x7e1679999dc0] ac-tex damaged at 22 17\n",
      "[mpeg1video @ 0x7e1679999dc0] Warning MVs not available\n"
     ]
    },
    {
     "name": "stdout",
     "output_type": "stream",
     "text": [
      "225/225 [==============================] - 425s 2s/step - loss: 10.8103 - val_loss: 6.4060 - lr: 4.0762e-06\n",
      "Epoch 63/90\n",
      "156/225 [===================>..........] - ETA: 50s - loss: 10.4886"
     ]
    },
    {
     "name": "stderr",
     "output_type": "stream",
     "text": [
      "[mpeg1video @ 0x7e16b4050780] ac-tex damaged at 22 17\n",
      "[mpeg1video @ 0x7e16b4050780] Warning MVs not available\n"
     ]
    },
    {
     "name": "stdout",
     "output_type": "stream",
     "text": [
      "225/225 [==============================] - ETA: 0s - loss: 10.5984"
     ]
    },
    {
     "name": "stderr",
     "output_type": "stream",
     "text": [
      "[mpeg1video @ 0x7e17d00bea80] ac-tex damaged at 22 17\n",
      "[mpeg1video @ 0x7e17d00bea80] Warning MVs not available\n"
     ]
    },
    {
     "name": "stdout",
     "output_type": "stream",
     "text": [
      "225/225 [==============================] - 422s 2s/step - loss: 10.5984 - val_loss: 6.3053 - lr: 3.6883e-06\n",
      "Epoch 64/90\n",
      "225/225 [==============================] - ETA: 0s - loss: 10.3088"
     ]
    },
    {
     "name": "stderr",
     "output_type": "stream",
     "text": [
      "[mpeg1video @ 0x7e1679c602c0] ac-tex damaged at 22 17\n",
      "[mpeg1video @ 0x7e1679c602c0] Warning MVs not available\n"
     ]
    },
    {
     "name": "stdout",
     "output_type": "stream",
     "text": [
      "225/225 [==============================] - 426s 2s/step - loss: 10.3088 - val_loss: 6.2303 - lr: 3.3373e-06\n",
      "Epoch 65/90\n",
      "225/225 [==============================] - ETA: 0s - loss: 10.4060"
     ]
    },
    {
     "name": "stderr",
     "output_type": "stream",
     "text": [
      "[mpeg1video @ 0x7e17c804b780] ac-tex damaged at 22 17\n",
      "[mpeg1video @ 0x7e17c804b780] Warning MVs not available\n"
     ]
    },
    {
     "name": "stdout",
     "output_type": "stream",
     "text": [
      "225/225 [==============================] - 422s 2s/step - loss: 10.4060 - val_loss: 6.0367 - lr: 3.0197e-06\n",
      "Epoch 66/90\n",
      "225/225 [==============================] - ETA: 0s - loss: 10.6197"
     ]
    },
    {
     "name": "stderr",
     "output_type": "stream",
     "text": [
      "[mpeg1video @ 0x7e167403f480] ac-tex damaged at 22 17\n",
      "[mpeg1video @ 0x7e167403f480] Warning MVs not available\n"
     ]
    },
    {
     "name": "stdout",
     "output_type": "stream",
     "text": [
      "225/225 [==============================] - 423s 2s/step - loss: 10.6197 - val_loss: 6.1303 - lr: 2.7324e-06\n",
      "Epoch 67/90\n",
      "225/225 [==============================] - ETA: 0s - loss: 10.1769"
     ]
    },
    {
     "name": "stderr",
     "output_type": "stream",
     "text": [
      "[mpeg1video @ 0x7e17d4051080] ac-tex damaged at 22 17\n",
      "[mpeg1video @ 0x7e17d4051080] Warning MVs not available\n"
     ]
    },
    {
     "name": "stdout",
     "output_type": "stream",
     "text": [
      "225/225 [==============================] - 420s 2s/step - loss: 10.1769 - val_loss: 6.0748 - lr: 2.4723e-06\n",
      "Epoch 68/90\n",
      "225/225 [==============================] - ETA: 0s - loss: 10.0854"
     ]
    },
    {
     "name": "stderr",
     "output_type": "stream",
     "text": [
      "[mpeg1video @ 0x7e1679a77940] ac-tex damaged at 22 17\n",
      "[mpeg1video @ 0x7e1679a77940] Warning MVs not available\n"
     ]
    },
    {
     "name": "stdout",
     "output_type": "stream",
     "text": [
      "225/225 [==============================] - 423s 2s/step - loss: 10.0854 - val_loss: 5.8673 - lr: 2.2371e-06\n",
      "Epoch 69/90\n"
     ]
    },
    {
     "name": "stderr",
     "output_type": "stream",
     "text": [
      "[mpeg1video @ 0x7e16a4019240] ac-tex damaged at 22 17\n",
      "[mpeg1video @ 0x7e16a4019240] Warning MVs not available\n"
     ]
    },
    {
     "name": "stdout",
     "output_type": "stream",
     "text": [
      "225/225 [==============================] - ETA: 0s - loss: 10.3099"
     ]
    },
    {
     "name": "stderr",
     "output_type": "stream",
     "text": [
      "[mpeg1video @ 0x7e17c8037ac0] ac-tex damaged at 22 17\n",
      "[mpeg1video @ 0x7e17c8037ac0] Warning MVs not available\n"
     ]
    },
    {
     "name": "stdout",
     "output_type": "stream",
     "text": [
      "225/225 [==============================] - 416s 2s/step - loss: 10.3099 - val_loss: 6.0029 - lr: 2.0242e-06\n",
      "Epoch 70/90\n",
      "225/225 [==============================] - ETA: 0s - loss: 10.0604"
     ]
    },
    {
     "name": "stderr",
     "output_type": "stream",
     "text": [
      "[mpeg1video @ 0x7e1673efde00] ac-tex damaged at 22 17\n",
      "[mpeg1video @ 0x7e1673efde00] Warning MVs not available\n"
     ]
    },
    {
     "name": "stdout",
     "output_type": "stream",
     "text": [
      "225/225 [==============================] - 414s 2s/step - loss: 10.0604 - val_loss: 5.8543 - lr: 1.8316e-06\n",
      "Epoch 71/90\n",
      " 48/225 [=====>........................] - ETA: 2:07 - loss: 10.5936"
     ]
    },
    {
     "name": "stderr",
     "output_type": "stream",
     "text": [
      "[mpeg1video @ 0x7e16a00bf440] ac-tex damaged at 22 17\n",
      "[mpeg1video @ 0x7e16a00bf440] Warning MVs not available\n"
     ]
    },
    {
     "name": "stdout",
     "output_type": "stream",
     "text": [
      "225/225 [==============================] - ETA: 0s - loss: 10.3480"
     ]
    },
    {
     "name": "stderr",
     "output_type": "stream",
     "text": [
      "[mpeg1video @ 0x7e17d00720c0] ac-tex damaged at 22 17\n",
      "[mpeg1video @ 0x7e17d00720c0] Warning MVs not available\n"
     ]
    },
    {
     "name": "stdout",
     "output_type": "stream",
     "text": [
      "225/225 [==============================] - 416s 2s/step - loss: 10.3480 - val_loss: 6.0232 - lr: 1.6573e-06\n",
      "Epoch 72/90\n",
      " 53/225 [======>.......................] - ETA: 2:05 - loss: 9.7528"
     ]
    },
    {
     "name": "stderr",
     "output_type": "stream",
     "text": [
      "[mpeg1video @ 0x7e12540d2900] ac-tex damaged at 22 17\n",
      "[mpeg1video @ 0x7e12540d2900] Warning MVs not available\n"
     ]
    },
    {
     "name": "stdout",
     "output_type": "stream",
     "text": [
      "225/225 [==============================] - ETA: 0s - loss: 9.9232"
     ]
    },
    {
     "name": "stderr",
     "output_type": "stream",
     "text": [
      "[mpeg1video @ 0x7e11ec7634c0] ac-tex damaged at 22 17\n",
      "[mpeg1video @ 0x7e11ec7634c0] Warning MVs not available\n"
     ]
    },
    {
     "name": "stdout",
     "output_type": "stream",
     "text": [
      "225/225 [==============================] - 417s 2s/step - loss: 9.9232 - val_loss: 5.9187 - lr: 1.4996e-06\n",
      "Epoch 73/90\n",
      "225/225 [==============================] - ETA: 0s - loss: 10.1213"
     ]
    },
    {
     "name": "stderr",
     "output_type": "stream",
     "text": [
      "[mpeg1video @ 0x7e17d0036d00] ac-tex damaged at 22 17\n",
      "[mpeg1video @ 0x7e17d0036d00] Warning MVs not available\n"
     ]
    },
    {
     "name": "stdout",
     "output_type": "stream",
     "text": [
      "225/225 [==============================] - 415s 2s/step - loss: 10.1213 - val_loss: 5.9441 - lr: 1.3569e-06\n",
      "Epoch 74/90\n",
      "197/225 [=========================>....] - ETA: 20s - loss: 10.0416"
     ]
    },
    {
     "name": "stderr",
     "output_type": "stream",
     "text": [
      "[mpeg1video @ 0x7e17e408d380] ac-tex damaged at 22 17\n",
      "[mpeg1video @ 0x7e17e408d380] Warning MVs not available\n"
     ]
    },
    {
     "name": "stdout",
     "output_type": "stream",
     "text": [
      "225/225 [==============================] - ETA: 0s - loss: 10.0434"
     ]
    },
    {
     "name": "stderr",
     "output_type": "stream",
     "text": [
      "[mpeg1video @ 0x7e1679a74e40] ac-tex damaged at 22 17\n",
      "[mpeg1video @ 0x7e1679a74e40] Warning MVs not available\n"
     ]
    },
    {
     "name": "stdout",
     "output_type": "stream",
     "text": [
      "225/225 [==============================] - 417s 2s/step - loss: 10.0434 - val_loss: 5.8000 - lr: 1.2277e-06\n",
      "Epoch 75/90\n",
      "225/225 [==============================] - ETA: 0s - loss: 9.9178"
     ]
    },
    {
     "name": "stderr",
     "output_type": "stream",
     "text": [
      "[mpeg1video @ 0x7e17d0062580] ac-tex damaged at 22 17\n",
      "[mpeg1video @ 0x7e17d0062580] Warning MVs not available\n"
     ]
    },
    {
     "name": "stdout",
     "output_type": "stream",
     "text": [
      "225/225 [==============================] - 416s 2s/step - loss: 9.9178 - val_loss: 5.8667 - lr: 1.1109e-06\n",
      "Epoch 76/90\n",
      "225/225 [==============================] - ETA: 0s - loss: 9.8818"
     ]
    },
    {
     "name": "stderr",
     "output_type": "stream",
     "text": [
      "[mpeg1video @ 0x7e11ec99bbc0] ac-tex damaged at 22 17\n",
      "[mpeg1video @ 0x7e11ec99bbc0] Warning MVs not available\n"
     ]
    },
    {
     "name": "stdout",
     "output_type": "stream",
     "text": [
      "225/225 [==============================] - 418s 2s/step - loss: 9.8818 - val_loss: 5.7932 - lr: 1.0052e-06\n",
      "Epoch 77/90\n",
      "225/225 [==============================] - ETA: 0s - loss: 9.8630"
     ]
    },
    {
     "name": "stderr",
     "output_type": "stream",
     "text": [
      "[mpeg1video @ 0x7e17cc0a24c0] ac-tex damaged at 22 17\n",
      "[mpeg1video @ 0x7e17cc0a24c0] Warning MVs not available\n"
     ]
    },
    {
     "name": "stdout",
     "output_type": "stream",
     "text": [
      "225/225 [==============================] - 416s 2s/step - loss: 9.8630 - val_loss: 5.6607 - lr: 9.0953e-07\n",
      "Epoch 78/90\n",
      "136/225 [=================>............] - ETA: 1:04 - loss: 10.0018"
     ]
    },
    {
     "name": "stderr",
     "output_type": "stream",
     "text": [
      "[mpeg1video @ 0x7e1254000900] ac-tex damaged at 22 17\n",
      "[mpeg1video @ 0x7e1254000900] Warning MVs not available\n"
     ]
    },
    {
     "name": "stdout",
     "output_type": "stream",
     "text": [
      "225/225 [==============================] - ETA: 0s - loss: 9.8964"
     ]
    },
    {
     "name": "stderr",
     "output_type": "stream",
     "text": [
      "[mpeg1video @ 0x7e1679736b40] ac-tex damaged at 22 17\n",
      "[mpeg1video @ 0x7e1679736b40] Warning MVs not available\n"
     ]
    },
    {
     "name": "stdout",
     "output_type": "stream",
     "text": [
      "225/225 [==============================] - 421s 2s/step - loss: 9.8964 - val_loss: 5.8583 - lr: 8.2297e-07\n",
      "Epoch 79/90\n",
      "225/225 [==============================] - ETA: 0s - loss: 10.1917"
     ]
    },
    {
     "name": "stderr",
     "output_type": "stream",
     "text": [
      "[mpeg1video @ 0x7e17c8078f40] ac-tex damaged at 22 17\n",
      "[mpeg1video @ 0x7e17c8078f40] Warning MVs not available\n"
     ]
    },
    {
     "name": "stdout",
     "output_type": "stream",
     "text": [
      "225/225 [==============================] - 422s 2s/step - loss: 10.1917 - val_loss: 5.8017 - lr: 7.4466e-07\n",
      "Epoch 80/90\n",
      "225/225 [==============================] - ETA: 0s - loss: 9.7433"
     ]
    },
    {
     "name": "stderr",
     "output_type": "stream",
     "text": [
      "[mpeg1video @ 0x7e122188c140] ac-tex damaged at 22 17\n",
      "[mpeg1video @ 0x7e122188c140] Warning MVs not available\n"
     ]
    },
    {
     "name": "stdout",
     "output_type": "stream",
     "text": [
      "225/225 [==============================] - 424s 2s/step - loss: 9.7433 - val_loss: 5.7739 - lr: 6.7379e-07\n",
      "Epoch 81/90\n",
      "225/225 [==============================] - ETA: 0s - loss: 9.9094"
     ]
    },
    {
     "name": "stderr",
     "output_type": "stream",
     "text": [
      "[mpeg1video @ 0x7e17cc088040] ac-tex damaged at 22 17\n",
      "[mpeg1video @ 0x7e17cc088040] Warning MVs not available\n"
     ]
    },
    {
     "name": "stdout",
     "output_type": "stream",
     "text": [
      "225/225 [==============================] - 421s 2s/step - loss: 9.9094 - val_loss: 5.6770 - lr: 6.0967e-07\n",
      "Epoch 82/90\n",
      " 84/225 [==========>...................] - ETA: 1:43 - loss: 9.6022"
     ]
    },
    {
     "name": "stderr",
     "output_type": "stream",
     "text": [
      "[mpeg1video @ 0x7e125c03e240] ac-tex damaged at 22 17\n",
      "[mpeg1video @ 0x7e125c03e240] Warning MVs not available\n"
     ]
    },
    {
     "name": "stdout",
     "output_type": "stream",
     "text": [
      "225/225 [==============================] - ETA: 0s - loss: 9.7133"
     ]
    },
    {
     "name": "stderr",
     "output_type": "stream",
     "text": [
      "[mpeg1video @ 0x7e1221b057c0] ac-tex damaged at 22 17\n",
      "[mpeg1video @ 0x7e1221b057c0] Warning MVs not available\n"
     ]
    },
    {
     "name": "stdout",
     "output_type": "stream",
     "text": [
      "225/225 [==============================] - 423s 2s/step - loss: 9.7133 - val_loss: 5.7458 - lr: 5.5165e-07\n",
      "Epoch 83/90\n",
      "  6/225 [..............................] - ETA: 2:37 - loss: 9.2810"
     ]
    },
    {
     "name": "stderr",
     "output_type": "stream",
     "text": [
      "[mpeg1video @ 0x7e16b40985c0] ac-tex damaged at 22 17\n",
      "[mpeg1video @ 0x7e16b40985c0] Warning MVs not available\n"
     ]
    },
    {
     "name": "stdout",
     "output_type": "stream",
     "text": [
      "225/225 [==============================] - ETA: 0s - loss: 9.8573"
     ]
    },
    {
     "name": "stderr",
     "output_type": "stream",
     "text": [
      "[mpeg1video @ 0x7e17d0083940] ac-tex damaged at 22 17\n",
      "[mpeg1video @ 0x7e17d0083940] Warning MVs not available\n"
     ]
    },
    {
     "name": "stdout",
     "output_type": "stream",
     "text": [
      "225/225 [==============================] - 424s 2s/step - loss: 9.8573 - val_loss: 5.5578 - lr: 4.9916e-07\n",
      "Epoch 84/90\n",
      "225/225 [==============================] - ETA: 0s - loss: 10.1042"
     ]
    },
    {
     "name": "stderr",
     "output_type": "stream",
     "text": [
      "[mpeg1video @ 0x7e1673f046c0] ac-tex damaged at 22 17\n",
      "[mpeg1video @ 0x7e1673f046c0] Warning MVs not available\n"
     ]
    },
    {
     "name": "stdout",
     "output_type": "stream",
     "text": [
      "225/225 [==============================] - 427s 2s/step - loss: 10.1042 - val_loss: 5.6458 - lr: 4.5166e-07\n",
      "Epoch 85/90\n",
      " 13/225 [>.............................] - ETA: 2:36 - loss: 9.5743"
     ]
    },
    {
     "name": "stderr",
     "output_type": "stream",
     "text": [
      "[mpeg1video @ 0x7e16a0063080] ac-tex damaged at 22 17\n",
      "[mpeg1video @ 0x7e16a0063080] Warning MVs not available\n"
     ]
    },
    {
     "name": "stdout",
     "output_type": "stream",
     "text": [
      "225/225 [==============================] - ETA: 0s - loss: 9.7373"
     ]
    },
    {
     "name": "stderr",
     "output_type": "stream",
     "text": [
      "[mpeg1video @ 0x7e17c8055900] ac-tex damaged at 22 17\n",
      "[mpeg1video @ 0x7e17c8055900] Warning MVs not available\n"
     ]
    },
    {
     "name": "stdout",
     "output_type": "stream",
     "text": [
      "225/225 [==============================] - 419s 2s/step - loss: 9.7373 - val_loss: 5.7623 - lr: 4.0868e-07\n",
      "Epoch 86/90\n",
      "225/225 [==============================] - ETA: 0s - loss: 9.7785"
     ]
    },
    {
     "name": "stderr",
     "output_type": "stream",
     "text": [
      "[mpeg1video @ 0x7e1674058440] ac-tex damaged at 22 17\n",
      "[mpeg1video @ 0x7e1674058440] Warning MVs not available\n"
     ]
    },
    {
     "name": "stdout",
     "output_type": "stream",
     "text": [
      "225/225 [==============================] - 427s 2s/step - loss: 9.7785 - val_loss: 5.7778 - lr: 3.6979e-07\n",
      "Epoch 87/90\n",
      "206/225 [==========================>...] - ETA: 14s - loss: 9.7156"
     ]
    },
    {
     "name": "stderr",
     "output_type": "stream",
     "text": [
      "[mpeg1video @ 0x7e1688078280] ac-tex damaged at 22 17\n",
      "[mpeg1video @ 0x7e1688078280] Warning MVs not available\n"
     ]
    },
    {
     "name": "stdout",
     "output_type": "stream",
     "text": [
      "225/225 [==============================] - ETA: 0s - loss: 9.7746"
     ]
    },
    {
     "name": "stderr",
     "output_type": "stream",
     "text": [
      "[mpeg1video @ 0x7e17d00c5900] ac-tex damaged at 22 17\n",
      "[mpeg1video @ 0x7e17d00c5900] Warning MVs not available\n"
     ]
    },
    {
     "name": "stdout",
     "output_type": "stream",
     "text": [
      "225/225 [==============================] - 424s 2s/step - loss: 9.7746 - val_loss: 5.7664 - lr: 3.3460e-07\n",
      "Epoch 88/90\n",
      "225/225 [==============================] - ETA: 0s - loss: 9.5512"
     ]
    },
    {
     "name": "stderr",
     "output_type": "stream",
     "text": [
      "[mpeg1video @ 0x7e1679bc5800] ac-tex damaged at 22 17\n",
      "[mpeg1video @ 0x7e1679bc5800] Warning MVs not available\n"
     ]
    },
    {
     "name": "stdout",
     "output_type": "stream",
     "text": [
      "225/225 [==============================] - 428s 2s/step - loss: 9.5512 - val_loss: 5.6258 - lr: 3.0275e-07\n",
      "Epoch 89/90\n",
      "225/225 [==============================] - ETA: 0s - loss: 9.6397"
     ]
    },
    {
     "name": "stderr",
     "output_type": "stream",
     "text": [
      "[mpeg1video @ 0x7e17d0039540] ac-tex damaged at 22 17\n",
      "[mpeg1video @ 0x7e17d0039540] Warning MVs not available\n"
     ]
    },
    {
     "name": "stdout",
     "output_type": "stream",
     "text": [
      "225/225 [==============================] - 423s 2s/step - loss: 9.6397 - val_loss: 5.7954 - lr: 2.7394e-07\n",
      "Epoch 90/90\n",
      "225/225 [==============================] - ETA: 0s - loss: 9.9532"
     ]
    },
    {
     "name": "stderr",
     "output_type": "stream",
     "text": [
      "[mpeg1video @ 0x7e1679b49100] ac-tex damaged at 22 17\n",
      "[mpeg1video @ 0x7e1679b49100] Warning MVs not available\n"
     ]
    },
    {
     "name": "stdout",
     "output_type": "stream",
     "text": [
      "225/225 [==============================] - 425s 2s/step - loss: 9.9532 - val_loss: 5.7120 - lr: 2.4787e-07\n"
     ]
    }
   ],
   "source": [
    "history=model.fit(train_data,validation_data=test_data,epochs=90,callbacks=[checkpoint_callback,schedule_callback])"
   ]
  },
  {
   "cell_type": "code",
   "execution_count": 26,
   "id": "2c342c7c",
   "metadata": {
    "execution": {
     "iopub.execute_input": "2024-03-03T08:36:13.971184Z",
     "iopub.status.busy": "2024-03-03T08:36:13.970820Z",
     "iopub.status.idle": "2024-03-03T08:36:14.221809Z",
     "shell.execute_reply": "2024-03-03T08:36:14.220792Z"
    },
    "papermill": {
     "duration": 2.017825,
     "end_time": "2024-03-03T08:36:14.224157",
     "exception": false,
     "start_time": "2024-03-03T08:36:12.206332",
     "status": "completed"
    },
    "tags": []
   },
   "outputs": [
    {
     "data": {
      "image/png": "[encoded data removed]",
      "text/plain": [
       "<Figure size 640x480 with 1 Axes>"
      ]
     },
     "metadata": {},
     "output_type": "display_data"
    }
   ],
   "source": [
    "from matplotlib import pyplot as plt\n",
    "# Plot training & validation loss values\n",
    "plt.plot(history.history['loss'], label='Training Loss')\n",
    "if 'val_loss' in history.history:\n",
    "    plt.plot(history.history['val_loss'], label='Validation Loss')\n",
    "\n",
    "plt.title('Model Loss')\n",
    "plt.xlabel('Epoch')\n",
    "plt.ylabel('Loss')\n",
    "plt.legend()\n",
    "plt.show()"
   ]
  }
 ],
 "metadata": {
  "kaggle": {
   "accelerator": "gpu",
   "dataSources": [
    {
     "datasetId": 3504929,
     "sourceId": 6115667,
     "sourceType": "datasetVersion"
    },
    {
     "sourceId": 151552210,
     "sourceType": "kernelVersion"
    }
   ],
   "dockerImageVersionId": 30648,
   "isGpuEnabled": true,
   "isInternetEnabled": true,
   "language": "python",
   "sourceType": "notebook"
  },
  "kernelspec": {
   "display_name": "Python 3",
   "language": "python",
   "name": "python3"
  },
  "language_info": {
   "codemirror_mode": {
    "name": "ipython",
    "version": 3
   },
   "file_extension": ".py",
   "mimetype": "text/x-python",
   "name": "python",
   "nbconvert_exporter": "python",
   "pygments_lexer": "ipython3",
   "version": "3.10.13"
  },
  "papermill": {
   "default_parameters": {},
   "duration": 37306.459033,
   "end_time": "2024-03-03T08:36:43.426256",
   "environment_variables": {},
   "exception": null,
   "input_path": "__notebook__.ipynb",
   "output_path": "__notebook__.ipynb",
   "parameters": {},
   "start_time": "2024-03-02T22:14:56.967223",
   "version": "2.5.0"
  }
 },
 "nbformat": 4,
 "nbformat_minor": 5
}
